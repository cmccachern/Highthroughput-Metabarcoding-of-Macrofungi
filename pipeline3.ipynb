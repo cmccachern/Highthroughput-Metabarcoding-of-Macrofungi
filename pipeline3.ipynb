{
 "cells": [
  {
   "cell_type": "markdown",
   "metadata": {},
   "source": [
    "# Pipeline 3: amplicon clustering with DADA2\n",
    "\n",
    "Of the various OTU clustering amplicon pipelines out there (many! plenty of them good!), this one looked thoughtful and up-to-date to me. \n",
    "\n",
    "Description from the softwar help section:\n",
    "\"Accurate, high-resolution sample inference from\n",
    "amplicon sequencing data\n",
    "Description:            The dada2 package infers exact amplicon\n",
    "sequence variants (ASVs) from high-throughput\n",
    "amplicon sequencing data, replacing the coarser\n",
    "and less accurate OTU clustering approach. The\n",
    "dada2 pipeline takes as input demultiplexed\n",
    "fastq files, and outputs the sequence variants\n",
    "and their sample-wise abundances after removing\n",
    "substitution and chimera errors. Taxonomic\n",
    "classification is available via a native\n",
    "implementation of the RDP naive Bayesian\n",
    "classifier, and species-level assignment to 16S\n",
    "rRNA gene fragments by exact matching.\"\n",
    "\n",
    "<br>\n",
    "I'll base my work flow here on software creators' tutorial pipeline:<br>\n",
    "https://benjjneb.github.io/dada2/tutorial.html<br>\n",
    "I don't plan to exactly do everything they do (our data set & goals are different), but largely working off their recommendations. <br>\n",
    "Also useful and part of this work is the dada2 ITS specific work flow (keeping both open throughout!)<br>\n",
    "https://benjjneb.github.io/dada2/ITS_workflow.html\n",
    "\n",
    "jeezy pete R code makes me nauseous.\n",
    "\n",
    "Work log\n",
    " - 2/8/2021 got this code started, spent more time with dada manual, figured some stuff out, planned some steps\n",
    " - 2/9/2021 trying to make steady progress, code up one step (cutadapt)"
   ]
  },
  {
   "cell_type": "markdown",
   "metadata": {},
   "source": [
    "## -1. Set up tools and figure some stuff out"
   ]
  },
  {
   "cell_type": "code",
   "execution_count": 29,
   "metadata": {},
   "outputs": [],
   "source": [
    "#Load python packages\n",
    "import subprocess\n",
    "import os\n",
    "from Bio import Seq\n",
    "from tqdm import tqdm"
   ]
  },
  {
   "cell_type": "code",
   "execution_count": 25,
   "metadata": {},
   "outputs": [],
   "source": [
    "#Set a variable for project paths\n",
    "basepath = \"/Users/jessie/Dropbox/jessie/russula_illumina/\""
   ]
  },
  {
   "cell_type": "markdown",
   "metadata": {},
   "source": [
    "### Run an R script from here?\n",
    "I like using python for sequence manipulation because I have more memorized, but it's a little funny because this pipeline's main tools will be in R. Run as R scripts through command line here. Long term, might be better to do this as an R markdown. Trying first here to get my feet wet, then can reconsider. Another way to handle it would be to run analyses in python and pipeline in R in separate parallel notebooks. Upside is that writing R scripts for now will make it easy to convert to R markdown if needed (code the same).  \n",
    "\n",
    "First up, learn how to run an R script. Here's an example:\n",
    "https://stackoverflow.com/questions/18306362/run-r-script-from-command-line\n"
   ]
  },
  {
   "cell_type": "code",
   "execution_count": 19,
   "metadata": {},
   "outputs": [
    {
     "name": "stdout",
     "output_type": "stream",
     "text": [
      "Rscript testscript.r\n",
      "\n",
      "[1] \"hello\"\n"
     ]
    }
   ],
   "source": [
    "#This is also awkward, but write their example R script to file here \n",
    "#(easier to write separately, but curious how how I can get content all in this document)\n",
    "testscript = \"sayHello <- function(){\\n\\\n",
    "                print('hello')\\n\\\n",
    "                }\\n\\\n",
    "                sayHello()\\n\"\n",
    "\n",
    "with open(\"testscript.r\", \"w\") as outhandle:\n",
    "    outhandle.write(testscript)\n",
    "\n",
    "#Try running it\n",
    "#Save stdout to a file along the way\n",
    "with open(\"test_output.txt\", \"w\") as stdouthandle:\n",
    "    \n",
    "    #Compose command\n",
    "    cmd = f\"Rscript testscript.r\"\n",
    "    print(cmd+\"\\n\")\n",
    "\n",
    "    #Run command\n",
    "    subprocess.call(cmd, stdin=None, stdout=stdouthandle, stderr=subprocess.STDOUT, shell=True)        \n",
    "\n",
    "#See results\n",
    "with open(\"test_output.txt\", \"r\") as check:\n",
    "    for line in check:\n",
    "        print(line.strip())\n"
   ]
  },
  {
   "cell_type": "markdown",
   "metadata": {},
   "source": [
    "Sweet, that part's not hard. "
   ]
  },
  {
   "cell_type": "markdown",
   "metadata": {},
   "source": [
    "## Install dada2\n",
    "https://benjjneb.github.io/dada2/dada-installation.html\n",
    "Requires at least R 4.0.0.\n",
    "\n",
    "### Update R\n",
    "Is my R up to date? In terminal, launch R (type R). 3.6.0. \n",
    "No. Update!\n",
    "To update, I'm downloading latest from here:\n",
    "https://cloud.r-project.org/bin/macosx/\n",
    "my mac is currently running 10.13.6, which is fine for latest R, which is 4.0.3.\n",
    "click to launch installer. \n",
    "Check in fresh terminal window, R, now 4.0.3.\n",
    "\n",
    "### Run dada2 installation R code\n",
    "following:\n",
    "https://benjjneb.github.io/dada2/dada-installation.html\n",
    "except that it references previous bioconductor (changed for latest).\n",
    "https://www.bioconductor.org/install/\n",
    "and i needed to set a a cran mirror when running outside of R studio\n",
    "https://stackoverflow.com/questions/33969024/install-packages-fails-in-knitr-document-trying-to-use-cran-without-setting-a\n",
    "\n",
    "Saved install commands to: install_dada2.r\n"
   ]
  },
  {
   "cell_type": "code",
   "execution_count": 20,
   "metadata": {},
   "outputs": [
    {
     "name": "stdout",
     "output_type": "stream",
     "text": [
      "\n",
      "\n",
      "if (!requireNamespace(\"BiocManager\", quietly = TRUE))\n",
      "install.packages(\"BiocManager\", repos = \"http://cran.us.r-project.org\")\n",
      "BiocManager::install(version = \"3.12\")\n",
      "\n",
      "if (!requireNamespace(\"BiocManager\", quietly = TRUE))\n",
      "install.packages(\"BiocManager\", repos = \"http://cran.us.r-project.org\")\n",
      "BiocManager::install(\"dada2\", version = \"3.12\")\n"
     ]
    }
   ],
   "source": [
    "#Here's what it looks like\n",
    "with open(\"install_dada2.r\", \"r\") as handle:\n",
    "    for line in handle:\n",
    "        print(line.strip())"
   ]
  },
  {
   "cell_type": "code",
   "execution_count": 17,
   "metadata": {},
   "outputs": [
    {
     "name": "stdout",
     "output_type": "stream",
     "text": [
      "Rscript install_dada2.r\n",
      "trying URL 'http://cran.us.r-project.org/bin/macosx/contrib/4.0/BiocManager_1.30.10.tgz'\n",
      "\n",
      "Content type 'application/x-gzip' length 94809 bytes (92 KB)\n",
      "\n",
      "==================================================\n",
      "\n",
      "downloaded 92 KB\n",
      "\n",
      "\n",
      "\n",
      "\n",
      "\n",
      "The downloaded binary packages are in\n",
      "\n",
      "\t/var/folders/8t/5vjtqgs165v6456qttd8glhw0000gn/T//RtmpwShuoT/downloaded_packages\n",
      "\n",
      "Bioconductor version 3.12 (BiocManager 1.30.10), R 4.0.3 (2020-10-10)\n",
      "\n",
      "Installing package(s) 'BiocVersion'\n",
      "\n",
      "trying URL 'https://bioconductor.org/packages/3.12/bioc/bin/macosx/contrib/4.0/BiocVersion_3.12.0.tgz'\n",
      "\n",
      "Content type 'application/x-gzip' length 5527 bytes\n",
      "\n",
      "==================================================\n",
      "\n",
      "downloaded 5527 bytes\n",
      "\n",
      "\n",
      "\n",
      "\n",
      "\n",
      "The downloaded binary packages are in\n",
      "\n",
      "\t/var/folders/8t/5vjtqgs165v6456qttd8glhw0000gn/T//RtmpwShuoT/downloaded_packages\n",
      "\n",
      "Old packages: 'boot', 'class', 'codetools', 'foreign', 'KernSmooth', 'Matrix',\n",
      "\n",
      "  'nlme', 'nnet', 'spatial'\n",
      "\n",
      "Bioconductor version 3.12 (BiocManager 1.30.10), R 4.0.3 (2020-10-10)\n",
      "\n",
      "Installing package(s) 'dada2'\n",
      "\n",
      "also installing the dependencies ‘prettyunits’, ‘rprojroot’, ‘pkgbuild’, ‘rstudioapi’, ‘diffobj’, ‘rematch2’, ‘formatR’, ‘matrixStats’, ‘brio’, ‘callr’, ‘desc’, ‘evaluate’, ‘jsonlite’, ‘pkgload’, ‘praise’, ‘processx’, ‘ps’, ‘waldo’, ‘colorspace’, ‘assertthat’, ‘utf8’, ‘lambda.r’, ‘futile.options’, ‘MatrixGenerics’, ‘DelayedArray’, ‘testthat’, ‘farver’, ‘labeling’, ‘lifecycle’, ‘munsell’, ‘R6’, ‘RColorBrewer’, ‘viridisLite’, ‘cli’, ‘ellipsis’, ‘fansi’, ‘magrittr’, ‘pillar’, ‘pkgconfig’, ‘vctrs’, ‘stringi’, ‘futile.logger’, ‘snow’, ‘BH’, ‘bitops’, ‘SummarizedExperiment’, ‘RCurl’, ‘GenomeInfoDbData’, ‘png’, ‘jpeg’, ‘S4Vectors’, ‘crayon’, ‘digest’, ‘glue’, ‘gtable’, ‘isoband’, ‘rlang’, ‘scales’, ‘tibble’, ‘withr’, ‘plyr’, ‘stringr’, ‘BiocParallel’, ‘Rsamtools’, ‘GenomicAlignments’, ‘Biobase’, ‘GenomeInfoDb’, ‘GenomicRanges’, ‘hwriter’, ‘zlibbioc’, ‘latticeExtra’, ‘Rhtslib’, ‘Rcpp’, ‘Biostrings’, ‘ggplot2’, ‘reshape2’, ‘ShortRead’, ‘RcppParallel’, ‘IRanges’, ‘XVector’, ‘BiocGenerics’\n",
      "\n",
      "\n",
      "\n",
      "\n",
      "\n",
      "  There is a binary version available but the source version is later:\n",
      "\n",
      "       binary source needs_compilation\n",
      "\n",
      "crayon  1.4.0  1.4.1             FALSE\n",
      "\n",
      "\n",
      "\n",
      "trying URL 'https://cran.rstudio.com/bin/macosx/contrib/4.0/prettyunits_1.1.1.tgz'\n",
      "\n",
      "Content type 'application/x-gzip' length 34704 bytes (33 KB)\n",
      "\n",
      "==================================================\n",
      "\n",
      "downloaded 33 KB\n",
      "\n",
      "\n",
      "\n",
      "trying URL 'https://cran.rstudio.com/bin/macosx/contrib/4.0/rprojroot_2.0.2.tgz'\n",
      "\n",
      "Content type 'application/x-gzip' length 96290 bytes (94 KB)\n",
      "\n",
      "==================================================\n",
      "\n",
      "downloaded 94 KB\n",
      "\n",
      "\n",
      "\n",
      "trying URL 'https://cran.rstudio.com/bin/macosx/contrib/4.0/pkgbuild_1.2.0.tgz'\n",
      "\n",
      "Content type 'application/x-gzip' length 140593 bytes (137 KB)\n",
      "\n",
      "==================================================\n",
      "\n",
      "downloaded 137 KB\n",
      "\n",
      "\n",
      "\n",
      "trying URL 'https://cran.rstudio.com/bin/macosx/contrib/4.0/rstudioapi_0.13.tgz'\n",
      "\n",
      "Content type 'application/x-gzip' length 271959 bytes (265 KB)\n",
      "\n",
      "==================================================\n",
      "\n",
      "downloaded 265 KB\n",
      "\n",
      "\n",
      "\n",
      "trying URL 'https://cran.rstudio.com/bin/macosx/contrib/4.0/diffobj_0.3.3.tgz'\n",
      "\n",
      "Content type 'application/x-gzip' length 992982 bytes (969 KB)\n",
      "\n",
      "==================================================\n",
      "\n",
      "downloaded 969 KB\n",
      "\n",
      "\n",
      "\n",
      "trying URL 'https://cran.rstudio.com/bin/macosx/contrib/4.0/rematch2_2.1.2.tgz'\n",
      "\n",
      "Content type 'application/x-gzip' length 44807 bytes (43 KB)\n",
      "\n",
      "==================================================\n",
      "\n",
      "downloaded 43 KB\n",
      "\n",
      "\n",
      "\n",
      "trying URL 'https://cran.rstudio.com/bin/macosx/contrib/4.0/formatR_1.7.tgz'\n",
      "\n",
      "Content type 'application/x-gzip' length 147329 bytes (143 KB)\n",
      "\n",
      "==================================================\n",
      "\n",
      "downloaded 143 KB\n",
      "\n",
      "\n",
      "\n",
      "trying URL 'https://cran.rstudio.com/bin/macosx/contrib/4.0/matrixStats_0.58.0.tgz'\n",
      "\n",
      "Content type 'application/x-gzip' length 2019783 bytes (1.9 MB)\n",
      "\n",
      "==================================================\n",
      "\n",
      "downloaded 1.9 MB\n",
      "\n",
      "\n",
      "\n",
      "trying URL 'https://cran.rstudio.com/bin/macosx/contrib/4.0/brio_1.1.1.tgz'\n",
      "\n",
      "Content type 'application/x-gzip' length 36742 bytes (35 KB)\n",
      "\n",
      "==================================================\n",
      "\n",
      "downloaded 35 KB\n",
      "\n",
      "\n",
      "\n",
      "trying URL 'https://cran.rstudio.com/bin/macosx/contrib/4.0/callr_3.5.1.tgz'\n",
      "\n",
      "Content type 'application/x-gzip' length 385435 bytes (376 KB)\n",
      "\n",
      "==================================================\n",
      "\n",
      "downloaded 376 KB\n",
      "\n",
      "\n",
      "\n",
      "trying URL 'https://cran.rstudio.com/bin/macosx/contrib/4.0/desc_1.2.0.tgz'\n",
      "\n",
      "Content type 'application/x-gzip' length 285234 bytes (278 KB)\n",
      "\n",
      "==================================================\n",
      "\n",
      "downloaded 278 KB\n",
      "\n",
      "\n",
      "\n",
      "trying URL 'https://cran.rstudio.com/bin/macosx/contrib/4.0/evaluate_0.14.tgz'\n",
      "\n",
      "Content type 'application/x-gzip' length 74355 bytes (72 KB)\n",
      "\n",
      "==================================================\n",
      "\n",
      "downloaded 72 KB\n",
      "\n",
      "\n",
      "\n",
      "trying URL 'https://cran.rstudio.com/bin/macosx/contrib/4.0/jsonlite_1.7.2.tgz'\n",
      "\n",
      "Content type 'application/x-gzip' length 492071 bytes (480 KB)\n",
      "\n",
      "==================================================\n",
      "\n",
      "downloaded 480 KB\n",
      "\n",
      "\n",
      "\n",
      "trying URL 'https://cran.rstudio.com/bin/macosx/contrib/4.0/pkgload_1.1.0.tgz'\n",
      "\n",
      "Content type 'application/x-gzip' length 150877 bytes (147 KB)\n",
      "\n",
      "==================================================\n",
      "\n",
      "downloaded 147 KB\n",
      "\n",
      "\n",
      "\n",
      "trying URL 'https://cran.rstudio.com/bin/macosx/contrib/4.0/praise_1.0.0.tgz'\n",
      "\n",
      "Content type 'application/x-gzip' length 16137 bytes (15 KB)\n",
      "\n",
      "==================================================\n",
      "\n",
      "downloaded 15 KB\n",
      "\n",
      "\n",
      "\n",
      "trying URL 'https://cran.rstudio.com/bin/macosx/contrib/4.0/processx_3.4.5.tgz'\n",
      "\n",
      "Content type 'application/x-gzip' length 279427 bytes (272 KB)\n",
      "\n",
      "==================================================\n",
      "\n",
      "downloaded 272 KB\n",
      "\n",
      "\n",
      "\n",
      "trying URL 'https://cran.rstudio.com/bin/macosx/contrib/4.0/ps_1.5.0.tgz'\n",
      "\n",
      "Content type 'application/x-gzip' length 276257 bytes (269 KB)\n",
      "\n",
      "==================================================\n",
      "\n",
      "downloaded 269 KB\n",
      "\n",
      "\n",
      "\n",
      "trying URL 'https://cran.rstudio.com/bin/macosx/contrib/4.0/waldo_0.2.3.tgz'\n",
      "\n",
      "Content type 'application/x-gzip' length 70175 bytes (68 KB)\n",
      "\n",
      "==================================================\n",
      "\n",
      "downloaded 68 KB\n",
      "\n",
      "\n",
      "\n",
      "trying URL 'https://cran.rstudio.com/bin/macosx/contrib/4.0/colorspace_2.0-0.tgz'\n",
      "\n",
      "Content type 'application/x-gzip' length 2616761 bytes (2.5 MB)\n",
      "\n",
      "==================================================\n",
      "\n",
      "downloaded 2.5 MB\n",
      "\n",
      "\n",
      "\n",
      "trying URL 'https://cran.rstudio.com/bin/macosx/contrib/4.0/assertthat_0.2.1.tgz'\n",
      "\n",
      "Content type 'application/x-gzip' length 52572 bytes (51 KB)\n",
      "\n",
      "==================================================\n",
      "\n",
      "downloaded 51 KB\n",
      "\n",
      "\n",
      "\n",
      "trying URL 'https://cran.rstudio.com/bin/macosx/contrib/4.0/utf8_1.1.4.tgz'\n",
      "\n",
      "Content type 'application/x-gzip' length 195526 bytes (190 KB)\n",
      "\n",
      "==================================================\n",
      "\n",
      "downloaded 190 KB\n",
      "\n",
      "\n",
      "\n",
      "trying URL 'https://cran.rstudio.com/bin/macosx/contrib/4.0/lambda.r_1.2.4.tgz'\n",
      "\n",
      "Content type 'application/x-gzip' length 109965 bytes (107 KB)\n",
      "\n",
      "==================================================\n",
      "\n",
      "downloaded 107 KB\n",
      "\n",
      "\n",
      "\n",
      "trying URL 'https://cran.rstudio.com/bin/macosx/contrib/4.0/futile.options_1.0.1.tgz'\n",
      "\n",
      "Content type 'application/x-gzip' length 18102 bytes (17 KB)\n",
      "\n",
      "==================================================\n",
      "\n",
      "downloaded 17 KB\n",
      "\n",
      "\n",
      "\n",
      "trying URL 'https://bioconductor.org/packages/3.12/bioc/bin/macosx/contrib/4.0/MatrixGenerics_1.2.1.tgz'\n",
      "\n",
      "Content type 'application/x-gzip' length 290886 bytes (284 KB)\n",
      "\n",
      "==================================================\n",
      "\n",
      "downloaded 284 KB\n",
      "\n",
      "\n",
      "\n",
      "trying URL 'https://bioconductor.org/packages/3.12/bioc/bin/macosx/contrib/4.0/DelayedArray_0.16.1.tgz'\n",
      "\n",
      "Content type 'application/x-gzip' length 2307024 bytes (2.2 MB)\n",
      "\n",
      "==================================================\n",
      "\n",
      "downloaded 2.2 MB\n",
      "\n",
      "\n",
      "\n",
      "trying URL 'https://cran.rstudio.com/bin/macosx/contrib/4.0/testthat_3.0.1.tgz'\n",
      "\n",
      "Content type 'application/x-gzip' length 2898430 bytes (2.8 MB)\n",
      "\n",
      "==================================================\n",
      "\n",
      "downloaded 2.8 MB\n",
      "\n",
      "\n",
      "\n",
      "trying URL 'https://cran.rstudio.com/bin/macosx/contrib/4.0/farver_2.0.3.tgz'\n",
      "\n",
      "Content type 'application/x-gzip' length 1829409 bytes (1.7 MB)\n",
      "\n",
      "==================================================\n",
      "\n",
      "downloaded 1.7 MB\n",
      "\n",
      "\n",
      "\n",
      "trying URL 'https://cran.rstudio.com/bin/macosx/contrib/4.0/labeling_0.4.2.tgz'\n",
      "\n",
      "Content type 'application/x-gzip' length 60296 bytes (58 KB)\n",
      "\n",
      "==================================================\n",
      "\n",
      "downloaded 58 KB\n",
      "\n",
      "\n",
      "\n",
      "trying URL 'https://cran.rstudio.com/bin/macosx/contrib/4.0/lifecycle_0.2.0.tgz'\n",
      "\n",
      "Content type 'application/x-gzip' length 91596 bytes (89 KB)\n",
      "\n",
      "==================================================\n",
      "\n",
      "downloaded 89 KB\n",
      "\n",
      "\n",
      "\n",
      "trying URL 'https://cran.rstudio.com/bin/macosx/contrib/4.0/munsell_0.5.0.tgz'\n",
      "\n",
      "Content type 'application/x-gzip' length 241504 bytes (235 KB)\n",
      "\n",
      "==================================================\n",
      "\n",
      "downloaded 235 KB\n",
      "\n",
      "\n",
      "\n",
      "trying URL 'https://cran.rstudio.com/bin/macosx/contrib/4.0/R6_2.5.0.tgz'\n",
      "\n",
      "Content type 'application/x-gzip' length 82447 bytes (80 KB)\n",
      "\n",
      "==================================================\n",
      "\n",
      "downloaded 80 KB\n",
      "\n",
      "\n",
      "\n",
      "trying URL 'https://cran.rstudio.com/bin/macosx/contrib/4.0/RColorBrewer_1.1-2.tgz'\n",
      "\n",
      "Content type 'application/x-gzip' length 52944 bytes (51 KB)\n",
      "\n",
      "==================================================\n",
      "\n",
      "downloaded 51 KB\n",
      "\n",
      "\n",
      "\n",
      "trying URL 'https://cran.rstudio.com/bin/macosx/contrib/4.0/viridisLite_0.3.0.tgz'\n",
      "\n",
      "Content type 'application/x-gzip' length 57005 bytes (55 KB)\n",
      "\n",
      "==================================================\n",
      "\n",
      "downloaded 55 KB\n",
      "\n",
      "\n",
      "\n",
      "trying URL 'https://cran.rstudio.com/bin/macosx/contrib/4.0/cli_2.3.0.tgz'\n",
      "\n",
      "Content type 'application/x-gzip' length 469585 bytes (458 KB)\n",
      "\n",
      "==================================================\n",
      "\n",
      "downloaded 458 KB\n",
      "\n",
      "\n",
      "\n",
      "trying URL 'https://cran.rstudio.com/bin/macosx/contrib/4.0/ellipsis_0.3.1.tgz'\n",
      "\n",
      "Content type 'application/x-gzip' length 33497 bytes (32 KB)\n",
      "\n",
      "==================================================\n",
      "\n",
      "downloaded 32 KB\n",
      "\n",
      "\n",
      "\n",
      "trying URL 'https://cran.rstudio.com/bin/macosx/contrib/4.0/fansi_0.4.2.tgz'\n",
      "\n",
      "Content type 'application/x-gzip' length 212149 bytes (207 KB)\n",
      "\n",
      "==================================================\n",
      "\n",
      "downloaded 207 KB\n",
      "\n",
      "\n",
      "\n",
      "trying URL 'https://cran.rstudio.com/bin/macosx/contrib/4.0/magrittr_2.0.1.tgz'\n",
      "\n",
      "Content type 'application/x-gzip' length 224854 bytes (219 KB)\n",
      "\n",
      "==================================================\n",
      "\n",
      "downloaded 219 KB\n",
      "\n",
      "\n",
      "\n",
      "trying URL 'https://cran.rstudio.com/bin/macosx/contrib/4.0/pillar_1.4.7.tgz'\n",
      "\n",
      "Content type 'application/x-gzip' length 176337 bytes (172 KB)\n",
      "\n",
      "==================================================\n",
      "\n",
      "downloaded 172 KB\n",
      "\n",
      "\n",
      "\n",
      "trying URL 'https://cran.rstudio.com/bin/macosx/contrib/4.0/pkgconfig_2.0.3.tgz'\n",
      "\n",
      "Content type 'application/x-gzip' length 17738 bytes (17 KB)\n",
      "\n",
      "==================================================\n",
      "\n",
      "downloaded 17 KB\n",
      "\n",
      "\n",
      "\n",
      "trying URL 'https://cran.rstudio.com/bin/macosx/contrib/4.0/vctrs_0.3.6.tgz'\n",
      "\n",
      "Content type 'application/x-gzip' length 1403267 bytes (1.3 MB)\n",
      "\n",
      "==================================================\n",
      "\n",
      "downloaded 1.3 MB\n",
      "\n",
      "\n",
      "\n",
      "trying URL 'https://cran.rstudio.com/bin/macosx/contrib/4.0/stringi_1.5.3.tgz'\n",
      "\n",
      "Content type 'application/x-gzip' length 13641892 bytes (13.0 MB)\n",
      "\n",
      "==================================================\n",
      "\n",
      "downloaded 13.0 MB\n",
      "\n",
      "\n",
      "\n",
      "trying URL 'https://cran.rstudio.com/bin/macosx/contrib/4.0/futile.logger_1.4.3.tgz'\n",
      "\n",
      "Content type 'application/x-gzip' length 97296 bytes (95 KB)\n",
      "\n",
      "==================================================\n",
      "\n",
      "downloaded 95 KB\n",
      "\n",
      "\n",
      "\n",
      "trying URL 'https://cran.rstudio.com/bin/macosx/contrib/4.0/snow_0.4-3.tgz'\n",
      "\n",
      "Content type 'application/x-gzip' length 106483 bytes (103 KB)\n",
      "\n",
      "==================================================\n",
      "\n",
      "downloaded 103 KB\n",
      "\n",
      "\n",
      "\n",
      "trying URL 'https://cran.rstudio.com/bin/macosx/contrib/4.0/BH_1.75.0-0.tgz'\n",
      "\n",
      "Content type 'application/x-gzip' length 12149712 bytes (11.6 MB)\n",
      "\n",
      "==================================================\n",
      "\n",
      "downloaded 11.6 MB\n",
      "\n",
      "\n",
      "\n",
      "trying URL 'https://cran.rstudio.com/bin/macosx/contrib/4.0/bitops_1.0-6.tgz'\n",
      "\n",
      "Content type 'application/x-gzip' length 24529 bytes (23 KB)\n",
      "\n",
      "==================================================\n",
      "\n",
      "downloaded 23 KB\n",
      "\n",
      "\n",
      "\n",
      "trying URL 'https://bioconductor.org/packages/3.12/bioc/bin/macosx/contrib/4.0/SummarizedExperiment_1.20.0.tgz'\n",
      "\n",
      "Content type 'application/x-gzip' length 2792851 bytes (2.7 MB)\n",
      "\n",
      "==================================================\n",
      "\n",
      "downloaded 2.7 MB\n",
      "\n",
      "\n",
      "\n",
      "trying URL 'https://cran.rstudio.com/bin/macosx/contrib/4.0/RCurl_1.98-1.2.tgz'\n",
      "\n",
      "Content type 'application/x-gzip' length 1061896 bytes (1.0 MB)\n",
      "\n",
      "==================================================\n",
      "\n",
      "downloaded 1.0 MB\n",
      "\n",
      "\n",
      "\n",
      "trying URL 'https://cran.rstudio.com/bin/macosx/contrib/4.0/png_0.1-7.tgz'\n",
      "\n",
      "Content type 'application/x-gzip' length 369557 bytes (360 KB)\n",
      "\n",
      "==================================================\n",
      "\n",
      "downloaded 360 KB\n",
      "\n",
      "\n",
      "\n",
      "trying URL 'https://cran.rstudio.com/bin/macosx/contrib/4.0/jpeg_0.1-8.1.tgz'\n",
      "\n",
      "Content type 'application/x-gzip' length 416504 bytes (406 KB)\n",
      "\n",
      "==================================================\n",
      "\n",
      "downloaded 406 KB\n",
      "\n",
      "\n",
      "\n",
      "trying URL 'https://bioconductor.org/packages/3.12/bioc/bin/macosx/contrib/4.0/S4Vectors_0.28.1.tgz'\n",
      "\n",
      "Content type 'application/x-gzip' length 2072551 bytes (2.0 MB)\n",
      "\n",
      "==================================================\n",
      "\n",
      "downloaded 2.0 MB\n",
      "\n",
      "\n",
      "\n",
      "trying URL 'https://cran.rstudio.com/bin/macosx/contrib/4.0/digest_0.6.27.tgz'\n",
      "\n",
      "Content type 'application/x-gzip' length 300368 bytes (293 KB)\n",
      "\n",
      "==================================================\n",
      "\n",
      "downloaded 293 KB\n",
      "\n",
      "\n",
      "\n",
      "trying URL 'https://cran.rstudio.com/bin/macosx/contrib/4.0/glue_1.4.2.tgz'\n",
      "\n",
      "Content type 'application/x-gzip' length 139018 bytes (135 KB)\n",
      "\n",
      "==================================================\n",
      "\n",
      "downloaded 135 KB\n",
      "\n",
      "\n",
      "\n",
      "trying URL 'https://cran.rstudio.com/bin/macosx/contrib/4.0/gtable_0.3.0.tgz'\n",
      "\n",
      "Content type 'application/x-gzip' length 431500 bytes (421 KB)\n",
      "\n",
      "==================================================\n",
      "\n",
      "downloaded 421 KB\n",
      "\n",
      "\n",
      "\n",
      "trying URL 'https://cran.rstudio.com/bin/macosx/contrib/4.0/isoband_0.2.3.tgz'\n",
      "\n",
      "Content type 'application/x-gzip' length 3683481 bytes (3.5 MB)\n",
      "\n",
      "==================================================\n",
      "\n",
      "downloaded 3.5 MB\n",
      "\n",
      "\n",
      "\n",
      "trying URL 'https://cran.rstudio.com/bin/macosx/contrib/4.0/rlang_0.4.10.tgz'\n",
      "\n",
      "Content type 'application/x-gzip' length 1327903 bytes (1.3 MB)\n",
      "\n",
      "==================================================\n",
      "\n",
      "downloaded 1.3 MB\n",
      "\n",
      "\n",
      "\n",
      "trying URL 'https://cran.rstudio.com/bin/macosx/contrib/4.0/scales_1.1.1.tgz'\n",
      "\n",
      "Content type 'application/x-gzip' length 552885 bytes (539 KB)\n",
      "\n",
      "==================================================\n",
      "\n",
      "downloaded 539 KB\n",
      "\n",
      "\n",
      "\n",
      "trying URL 'https://cran.rstudio.com/bin/macosx/contrib/4.0/tibble_3.0.6.tgz'\n",
      "\n",
      "Content type 'application/x-gzip' length 816084 bytes (796 KB)\n",
      "\n",
      "==================================================\n",
      "\n",
      "downloaded 796 KB\n",
      "\n",
      "\n",
      "\n",
      "trying URL 'https://cran.rstudio.com/bin/macosx/contrib/4.0/withr_2.4.1.tgz'\n",
      "\n",
      "Content type 'application/x-gzip' length 205896 bytes (201 KB)\n",
      "\n",
      "==================================================\n",
      "\n",
      "downloaded 201 KB\n",
      "\n",
      "\n",
      "\n",
      "trying URL 'https://cran.rstudio.com/bin/macosx/contrib/4.0/plyr_1.8.6.tgz'\n",
      "\n",
      "Content type 'application/x-gzip' length 1012642 bytes (988 KB)\n",
      "\n",
      "==================================================\n",
      "\n",
      "downloaded 988 KB\n",
      "\n",
      "\n",
      "\n",
      "trying URL 'https://cran.rstudio.com/bin/macosx/contrib/4.0/stringr_1.4.0.tgz'\n",
      "\n",
      "Content type 'application/x-gzip' length 210650 bytes (205 KB)\n",
      "\n",
      "==================================================\n",
      "\n",
      "downloaded 205 KB\n",
      "\n",
      "\n",
      "\n",
      "trying URL 'https://bioconductor.org/packages/3.12/bioc/bin/macosx/contrib/4.0/BiocParallel_1.24.1.tgz'\n",
      "\n",
      "Content type 'application/x-gzip' length 1160613 bytes (1.1 MB)\n",
      "\n",
      "==================================================\n",
      "\n",
      "downloaded 1.1 MB\n",
      "\n",
      "\n",
      "\n",
      "trying URL 'https://bioconductor.org/packages/3.12/bioc/bin/macosx/contrib/4.0/Rsamtools_2.6.0.tgz'\n",
      "\n",
      "Content type 'application/x-gzip' length 3991025 bytes (3.8 MB)\n",
      "\n",
      "==================================================\n",
      "\n",
      "downloaded 3.8 MB\n",
      "\n",
      "\n",
      "\n",
      "trying URL 'https://bioconductor.org/packages/3.12/bioc/bin/macosx/contrib/4.0/GenomicAlignments_1.26.0.tgz'\n",
      "\n",
      "Content type 'application/x-gzip' length 2406687 bytes (2.3 MB)\n",
      "\n",
      "==================================================\n",
      "\n",
      "downloaded 2.3 MB\n",
      "\n",
      "\n",
      "\n",
      "trying URL 'https://bioconductor.org/packages/3.12/bioc/bin/macosx/contrib/4.0/Biobase_2.50.0.tgz'\n",
      "\n",
      "Content type 'application/x-gzip' length 2339386 bytes (2.2 MB)\n",
      "\n",
      "==================================================\n",
      "\n",
      "downloaded 2.2 MB\n",
      "\n",
      "\n",
      "\n",
      "trying URL 'https://bioconductor.org/packages/3.12/bioc/bin/macosx/contrib/4.0/GenomeInfoDb_1.26.2.tgz'\n",
      "\n",
      "Content type 'application/x-gzip' length 4025755 bytes (3.8 MB)\n",
      "\n",
      "==================================================\n",
      "\n",
      "downloaded 3.8 MB\n",
      "\n",
      "\n",
      "\n",
      "trying URL 'https://bioconductor.org/packages/3.12/bioc/bin/macosx/contrib/4.0/GenomicRanges_1.42.0.tgz'\n",
      "\n",
      "Content type 'application/x-gzip' length 2153543 bytes (2.1 MB)\n",
      "\n",
      "==================================================\n",
      "\n",
      "downloaded 2.1 MB\n",
      "\n",
      "\n",
      "\n",
      "trying URL 'https://cran.rstudio.com/bin/macosx/contrib/4.0/hwriter_1.3.2.tgz'\n",
      "\n",
      "Content type 'application/x-gzip' length 159889 bytes (156 KB)\n",
      "\n",
      "==================================================\n",
      "\n",
      "downloaded 156 KB\n",
      "\n",
      "\n",
      "\n",
      "trying URL 'https://bioconductor.org/packages/3.12/bioc/bin/macosx/contrib/4.0/zlibbioc_1.36.0.tgz'\n",
      "\n",
      "Content type 'application/x-gzip' length 126134 bytes (123 KB)\n",
      "\n",
      "==================================================\n",
      "\n",
      "downloaded 123 KB\n",
      "\n",
      "\n",
      "\n",
      "trying URL 'https://cran.rstudio.com/bin/macosx/contrib/4.0/latticeExtra_0.6-29.tgz'\n",
      "\n",
      "Content type 'application/x-gzip' length 2202360 bytes (2.1 MB)\n",
      "\n",
      "==================================================\n",
      "\n",
      "downloaded 2.1 MB\n",
      "\n",
      "\n",
      "\n",
      "trying URL 'https://bioconductor.org/packages/3.12/bioc/bin/macosx/contrib/4.0/Rhtslib_1.22.0.tgz'\n",
      "\n",
      "Content type 'application/x-gzip' length 2391062 bytes (2.3 MB)\n",
      "\n",
      "==================================================\n",
      "\n",
      "downloaded 2.3 MB\n",
      "\n",
      "\n",
      "\n",
      "trying URL 'https://cran.rstudio.com/bin/macosx/contrib/4.0/Rcpp_1.0.6.tgz'\n",
      "\n",
      "Content type 'application/x-gzip' length 3203922 bytes (3.1 MB)\n",
      "\n",
      "==================================================\n",
      "\n",
      "downloaded 3.1 MB\n",
      "\n",
      "\n",
      "\n",
      "trying URL 'https://bioconductor.org/packages/3.12/bioc/bin/macosx/contrib/4.0/Biostrings_2.58.0.tgz'\n",
      "\n",
      "Content type 'application/x-gzip' length 14182004 bytes (13.5 MB)\n",
      "\n",
      "==================================================\n",
      "\n",
      "downloaded 13.5 MB\n",
      "\n",
      "\n",
      "\n",
      "trying URL 'https://cran.rstudio.com/bin/macosx/contrib/4.0/ggplot2_3.3.3.tgz'\n",
      "\n",
      "Content type 'application/x-gzip' length 4068756 bytes (3.9 MB)\n",
      "\n",
      "==================================================\n",
      "\n",
      "downloaded 3.9 MB\n",
      "\n",
      "\n",
      "\n",
      "trying URL 'https://cran.rstudio.com/bin/macosx/contrib/4.0/reshape2_1.4.4.tgz'\n",
      "\n",
      "Content type 'application/x-gzip' length 332035 bytes (324 KB)\n",
      "\n",
      "==================================================\n",
      "\n",
      "downloaded 324 KB\n",
      "\n",
      "\n",
      "\n",
      "trying URL 'https://bioconductor.org/packages/3.12/bioc/bin/macosx/contrib/4.0/ShortRead_1.48.0.tgz'\n",
      "\n",
      "Content type 'application/x-gzip' length 5581510 bytes (5.3 MB)\n",
      "\n",
      "==================================================\n",
      "\n",
      "downloaded 5.3 MB\n",
      "\n",
      "\n",
      "\n",
      "trying URL 'https://cran.rstudio.com/bin/macosx/contrib/4.0/RcppParallel_5.0.2.tgz'\n",
      "\n",
      "Content type 'application/x-gzip' length 651573 bytes (636 KB)\n",
      "\n",
      "==================================================\n",
      "\n",
      "downloaded 636 KB\n",
      "\n",
      "\n",
      "\n",
      "trying URL 'https://bioconductor.org/packages/3.12/bioc/bin/macosx/contrib/4.0/IRanges_2.24.1.tgz'\n",
      "\n",
      "Content type 'application/x-gzip' length 2226415 bytes (2.1 MB)\n",
      "\n",
      "==================================================\n",
      "\n",
      "downloaded 2.1 MB\n",
      "\n",
      "\n",
      "\n",
      "trying URL 'https://bioconductor.org/packages/3.12/bioc/bin/macosx/contrib/4.0/XVector_0.30.0.tgz'\n",
      "\n",
      "Content type 'application/x-gzip' length 631376 bytes (616 KB)\n",
      "\n",
      "==================================================\n",
      "\n",
      "downloaded 616 KB\n",
      "\n",
      "\n",
      "\n",
      "trying URL 'https://bioconductor.org/packages/3.12/bioc/bin/macosx/contrib/4.0/BiocGenerics_0.36.0.tgz'\n",
      "\n",
      "Content type 'application/x-gzip' length 654291 bytes (638 KB)\n",
      "\n",
      "==================================================\n",
      "\n",
      "downloaded 638 KB\n",
      "\n",
      "\n",
      "\n",
      "trying URL 'https://bioconductor.org/packages/3.12/bioc/bin/macosx/contrib/4.0/dada2_1.18.0.tgz'\n",
      "\n",
      "Content type 'application/x-gzip' length 2266823 bytes (2.2 MB)\n",
      "\n",
      "==================================================\n",
      "\n",
      "downloaded 2.2 MB\n",
      "\n",
      "\n",
      "\n",
      "\n",
      "\n",
      "The downloaded binary packages are in\n",
      "\n",
      "\t/var/folders/8t/5vjtqgs165v6456qttd8glhw0000gn/T//RtmpwShuoT/downloaded_packages\n",
      "\n",
      "installing the source packages ‘GenomeInfoDbData’, ‘crayon’\n",
      "\n",
      "\n",
      "\n",
      "trying URL 'https://bioconductor.org/packages/3.12/data/annotation/src/contrib/GenomeInfoDbData_1.2.4.tar.gz'\n",
      "\n",
      "Content type 'application/x-gzip' length 10673545 bytes (10.2 MB)\n",
      "\n",
      "==================================================\n",
      "\n",
      "downloaded 10.2 MB\n",
      "\n",
      "\n",
      "\n",
      "trying URL 'https://cran.rstudio.com/src/contrib/crayon_1.4.1.tar.gz'\n",
      "\n",
      "Content type 'application/x-gzip' length 35769 bytes (34 KB)\n",
      "\n",
      "==================================================\n",
      "\n",
      "downloaded 34 KB\n",
      "\n",
      "\n",
      "\n",
      "* installing *source* package ‘GenomeInfoDbData’ ...\n",
      "\n",
      "** using staged installation\n",
      "\n",
      "** data\n",
      "\n",
      "** inst\n",
      "\n",
      "** help\n",
      "\n",
      "*** installing help indices\n",
      "\n",
      "** building package indices\n",
      "\n",
      "** testing if installed package can be loaded from temporary location\n",
      "\n",
      "** testing if installed package can be loaded from final location\n",
      "\n",
      "** testing if installed package keeps a record of temporary installation path\n",
      "\n",
      "* DONE (GenomeInfoDbData)\n",
      "\n",
      "* installing *source* package ‘crayon’ ...\n",
      "\n",
      "** package ‘crayon’ successfully unpacked and MD5 sums checked\n",
      "\n",
      "** using staged installation\n",
      "\n",
      "** R\n",
      "\n",
      "** byte-compile and prepare package for lazy loading\n",
      "\n",
      "** help\n",
      "\n",
      "*** installing help indices\n",
      "\n",
      "** building package indices\n",
      "\n",
      "** testing if installed package can be loaded from temporary location\n",
      "\n",
      "** testing if installed package can be loaded from final location\n",
      "\n",
      "** testing if installed package keeps a record of temporary installation path\n",
      "\n",
      "* DONE (crayon)\n",
      "\n",
      "\n",
      "\n",
      "The downloaded source packages are in\n",
      "\n",
      "\t‘/private/var/folders/8t/5vjtqgs165v6456qttd8glhw0000gn/T/RtmpwShuoT/downloaded_packages’\n",
      "\n",
      "Old packages: 'boot', 'class', 'codetools', 'foreign', 'KernSmooth', 'Matrix',\n",
      "\n",
      "  'nlme', 'nnet', 'spatial'\n",
      "\n"
     ]
    }
   ],
   "source": [
    "#Run install script - slow, lots of stuff in Bioconductor\n",
    "#Save stdout to a file along the way\n",
    "with open(\"install_dada2_stdout.txt\", \"w\") as stdouthandle:\n",
    "    #Compose command\n",
    "    cmd = f\"Rscript install_dada2.r\"\n",
    "    print(cmd)\n",
    "\n",
    "    #Run command\n",
    "    subprocess.call(cmd, stdin=None, stdout=stdouthandle, stderr=subprocess.STDOUT, shell=True)        \n",
    "\n",
    "#See results\n",
    "with open(\"install_dada2_stdout.txt\", \"r\") as check:\n",
    "    for line in check:\n",
    "        print(line.strip())"
   ]
  },
  {
   "cell_type": "code",
   "execution_count": 22,
   "metadata": {},
   "outputs": [
    {
     "name": "stdout",
     "output_type": "stream",
     "text": [
      "library(\"dada2\")\n",
      "sessionInfo()\n",
      "help(package=\"dada2\")\n",
      "Rscript check_dada2_installation.r\n",
      "Loading required package: Rcpp\n",
      "R version 4.0.3 (2020-10-10)\n",
      "Platform: x86_64-apple-darwin17.0 (64-bit)\n",
      "Running under: macOS High Sierra 10.13.6\n",
      "\n",
      "Matrix products: default\n",
      "BLAS:   /Library/Frameworks/R.framework/Versions/4.0/Resources/lib/libRblas.dylib\n",
      "LAPACK: /Library/Frameworks/R.framework/Versions/4.0/Resources/lib/libRlapack.dylib\n",
      "\n",
      "locale:\n",
      "[1] en_US.UTF-8/en_US.UTF-8/en_US.UTF-8/C/en_US.UTF-8/en_US.UTF-8\n",
      "\n",
      "attached base packages:\n",
      "[1] stats     graphics  grDevices utils     datasets  methods   base\n",
      "\n",
      "other attached packages:\n",
      "[1] dada2_1.18.0 Rcpp_1.0.6\n",
      "\n",
      "loaded via a namespace (and not attached):\n",
      "[1] plyr_1.8.6                  RColorBrewer_1.1-2\n",
      "[3] pillar_1.4.7                compiler_4.0.3\n",
      "[5] GenomeInfoDb_1.26.2         XVector_0.30.0\n",
      "[7] MatrixGenerics_1.2.1        bitops_1.0-6\n",
      "[9] tools_4.0.3                 zlibbioc_1.36.0\n",
      "[11] lattice_0.20-41             lifecycle_0.2.0\n",
      "[13] tibble_3.0.6                gtable_0.3.0\n",
      "[15] png_0.1-7                   pkgconfig_2.0.3\n",
      "[17] rlang_0.4.10                Matrix_1.2-18\n",
      "[19] DelayedArray_0.16.1         rstudioapi_0.13\n",
      "[21] parallel_4.0.3              GenomeInfoDbData_1.2.4\n",
      "[23] stringr_1.4.0               hwriter_1.3.2\n",
      "[25] Biostrings_2.58.0           S4Vectors_0.28.1\n",
      "[27] vctrs_0.3.6                 IRanges_2.24.1\n",
      "[29] stats4_4.0.3                grid_4.0.3\n",
      "[31] glue_1.4.2                  Biobase_2.50.0\n",
      "[33] R6_2.5.0                    jpeg_0.1-8.1\n",
      "[35] BiocParallel_1.24.1         latticeExtra_0.6-29\n",
      "[37] reshape2_1.4.4              ggplot2_3.3.3\n",
      "[39] magrittr_2.0.1              Rsamtools_2.6.0\n",
      "[41] scales_1.1.1                ellipsis_0.3.1\n",
      "[43] matrixStats_0.58.0          BiocGenerics_0.36.0\n",
      "[45] GenomicRanges_1.42.0        GenomicAlignments_1.26.0\n",
      "[47] ShortRead_1.48.0            SummarizedExperiment_1.20.0\n",
      "[49] colorspace_2.0-0            stringi_1.5.3\n",
      "[51] RCurl_1.98-1.2              RcppParallel_5.0.2\n",
      "[53] munsell_0.5.0               crayon_1.4.1\n",
      "\n",
      "Information on package ‘dada2’\n",
      "\n",
      "Description:\n",
      "\n",
      "Package:                dada2\n",
      "Type:                   Package\n",
      "Title:                  Accurate, high-resolution sample inference from\n",
      "amplicon sequencing data\n",
      "Description:            The dada2 package infers exact amplicon\n",
      "sequence variants (ASVs) from high-throughput\n",
      "amplicon sequencing data, replacing the coarser\n",
      "and less accurate OTU clustering approach. The\n",
      "dada2 pipeline takes as input demultiplexed\n",
      "fastq files, and outputs the sequence variants\n",
      "and their sample-wise abundances after removing\n",
      "substitution and chimera errors. Taxonomic\n",
      "classification is available via a native\n",
      "implementation of the RDP naive Bayesian\n",
      "classifier, and species-level assignment to 16S\n",
      "rRNA gene fragments by exact matching.\n",
      "Version:                1.18.0\n",
      "Date:                   2020-08-07\n",
      "Maintainer:             Benjamin Callahan\n",
      "<benjamin.j.callahan@gmail.com>\n",
      "Author:                 Benjamin Callahan\n",
      "<benjamin.j.callahan@gmail.com>, Paul McMurdie,\n",
      "Susan Holmes\n",
      "License:                LGPL-3\n",
      "LazyLoad:               yes\n",
      "Depends:                R (>= 3.4.0), Rcpp (>= 0.12.0), methods (>=\n",
      "3.4.0)\n",
      "Imports:                Biostrings (>= 2.42.1), ggplot2 (>= 2.1.0),\n",
      "reshape2 (>= 1.4.1), ShortRead (>= 1.32.0),\n",
      "RcppParallel (>= 4.3.0), parallel (>= 3.2.0),\n",
      "IRanges (>= 2.6.0), XVector (>= 0.16.0),\n",
      "BiocGenerics (>= 0.22.0)\n",
      "Suggests:               BiocStyle, knitr, rmarkdown\n",
      "LinkingTo:              Rcpp, RcppParallel\n",
      "SystemRequirements:     GNU make\n",
      "VignetteBuilder:        knitr\n",
      "biocViews:              ImmunoOncology, Microbiome, Sequencing,\n",
      "Classification, Metagenomics\n",
      "URL:                    http://benjjneb.github.io/dada2/\n",
      "BugReports:             https://github.com/benjjneb/dada2/issues\n",
      "LazyData:               true\n",
      "Collate:                'RcppExports.R' 'allClasses.R' 'allPackage.R'\n",
      "'chimeras.R' 'dada.R' 'errorModels.R'\n",
      "'filter.R' 'misc.R' 'multiSample.R' 'paired.R'\n",
      "'plot-methods.R' 'sequenceIO.R'\n",
      "'show-methods.R' 'taxonomy.R'\n",
      "RoxygenNote:            7.1.0\n",
      "git_url:                https://git.bioconductor.org/packages/dada2\n",
      "git_branch:             RELEASE_3_12\n",
      "git_last_commit:        a20a676\n",
      "git_last_commit_date:   2020-10-27\n",
      "Date/Publication:       2020-10-27\n",
      "NeedsCompilation:       yes\n",
      "Packaged:               2020-10-27 23:40:01 UTC; biocbuild\n",
      "Built:                  R 4.0.3; x86_64-apple-darwin17.0; 2020-10-28\n",
      "12:51:50 UTC; unix\n",
      "\n",
      "Index:\n",
      "\n",
      "PacBioErrfun            Estimate error rates from transition counts in\n",
      "PacBio CCS data.\n",
      "addSpecies              Add species-level annotation to a taxonomic\n",
      "table.\n",
      "assignSpecies           Taxonomic assignment to the species level by\n",
      "exact matching.\n",
      "assignTaxonomy          Classifies sequences against reference training\n",
      "dataset.\n",
      "c,dada-method           Change concatenation of dada-class objects to\n",
      "list construction.\n",
      "c,derep-method          Change concatenation of derep-class objects to\n",
      "list construction.\n",
      "collapseNoMismatch      Combine together sequences that are identical\n",
      "up to shifts and/or length.\n",
      "dada                    High resolution sample inference from amplicon\n",
      "data.\n",
      "dada-class              The object class returned by 'dada'\n",
      "dada2-package           DADA2 package\n",
      "derep-class             A class representing dereplicated sequences\n",
      "derepFastq              Read in and dereplicate a fastq file.\n",
      "errBalancedF            An empirical error matrix.\n",
      "errBalancedR            An empirical error matrix.\n",
      "fastqFilter             Filter and trim a fastq file.\n",
      "fastqPairedFilter       Filters and trims paired forward and reverse\n",
      "fastq files.\n",
      "filterAndTrim           Filter and trim fastq file(s).\n",
      "getDadaOpt              Get DADA options\n",
      "getErrors               Extract already computed error rates.\n",
      "getSequences            Get vector of sequences from input object.\n",
      "getUniques              Get the uniques-vector from the input object.\n",
      "inflateErr              Inflates an error rate matrix by a specified\n",
      "factor, while accounting for saturation.\n",
      "isBimera                Determine if input sequence is a bimera of\n",
      "putative parent sequences.\n",
      "isBimeraDenovo          Identify bimeras from collections of unique\n",
      "sequences.\n",
      "isBimeraDenovoTable     Identify bimeras in a sequence table.\n",
      "isPhiX                  Determine if input sequence(s) match the phiX\n",
      "genome.\n",
      "isShiftDenovo           Identify sequences that are identical to a more\n",
      "abundant sequence up to an overall shift.\n",
      "learnErrors             Learns the error rates from an input list, or\n",
      "vector, of file names or a list of\n",
      "'derep-class' objects.\n",
      "loessErrfun             Use a loess fit to estimate error rates from\n",
      "transition counts.\n",
      "makeSequenceTable       Construct a sample-by-sequence observation\n",
      "matrix.\n",
      "mergePairs              Merge denoised forward and reverse reads.\n",
      "mergeSequenceTables     Merge two or more sample-by-sequence\n",
      "observation matrices.\n",
      "names<-,dada,ANY-method\n",
      "Deactivate renaming of dada-class objects.\n",
      "names<-,derep,ANY-method\n",
      "Deactivate renaming of derep-class objects.\n",
      "noqualErrfun            Estimate error rates for each type of\n",
      "transition while ignoring quality scores.\n",
      "nwalign                 Needleman-Wunsch alignment.\n",
      "nwhamming               Hamming distance after Needlman-Wunsch\n",
      "alignment.\n",
      "plotComplexity          Plot sequence complexity profile of a fastq\n",
      "file.\n",
      "plotErrors              Plot observed and estimated error rates.\n",
      "plotQualityProfile      Plot quality profile of a fastq file.\n",
      "rc                      Reverse complement DNA sequences.\n",
      "removeBimeraDenovo      Remove bimeras from collections of unique\n",
      "sequences.\n",
      "removePrimers           Removes primers and orients reads in a\n",
      "consistent direction.\n",
      "seqComplexity           Determine if input sequence(s) are low\n",
      "complexity.\n",
      "setDadaOpt              Set DADA options\n",
      "show,derep-method       method extensions to show for dada2 objects.\n",
      "tperr1                  An empirical error matrix.\n",
      "uniques-vector          The named integer vector format used to\n",
      "represent collections of unique DNA sequences.\n",
      "uniquesToFasta          Write a uniques vector to a FASTA file\n",
      "writeFasta,character-method\n",
      "Writes a named character vector of DNA\n",
      "sequences to a fasta file. Values are the\n",
      "sequences, and names are used for the id lines.\n",
      "\n",
      "Further information is available in the following vignettes in\n",
      "directory\n",
      "‘/Library/Frameworks/R.framework/Versions/4.0/Resources/library/dada2/doc’:\n",
      "\n",
      "dada2-intro: Introduction to dada2 (source, pdf)\n",
      "\n"
     ]
    }
   ],
   "source": [
    "#Check dada2 installation with another little script\n",
    "\n",
    "#Here's what it looks like\n",
    "with open(\"check_dada2_installation.r\", \"r\") as handle:\n",
    "    for line in handle:\n",
    "        print(line.strip())\n",
    "        \n",
    "#Save stdout to a file along the way\n",
    "with open(\"check_dada2_installation_stdout.txt\", \"w\") as stdouthandle:\n",
    "    #Compose command\n",
    "    cmd = f\"Rscript check_dada2_installation.r\"\n",
    "    print(cmd)\n",
    "\n",
    "    #Run command\n",
    "    subprocess.call(cmd, stdin=None, stdout=stdouthandle, stderr=subprocess.STDOUT, shell=True)        \n",
    "\n",
    "#See results\n",
    "with open(\"check_dada2_installation_stdout.txt\", \"r\") as check:\n",
    "    for line in check:\n",
    "        print(line.strip())"
   ]
  },
  {
   "cell_type": "markdown",
   "metadata": {},
   "source": [
    "So we have dada2 version 1.18.0, excellent. "
   ]
  },
  {
   "cell_type": "markdown",
   "metadata": {},
   "source": [
    "## How to get data ready for pipeline\n",
    "\n",
    "From Tutorial:\n",
    "\"This workflow assumes that your sequencing data meets certain criteria:<br>\n",
    " - Samples have been demultiplexed, i.e. split into individual per-sample fastq files.\n",
    " - Non-biological nucleotides have been removed, e.g. primers, adapters, linkers, etc.\n",
    " - If paired-end sequencing data, the forward and reverse fastq files contain reads in matched order.<br>\n",
    "\n",
    "If these criteria are not true for your data (are you sure there aren’t any primers hanging around?) you need to remedy those issues before beginning this workflow. See the FAQ for recommendations for some common issues.\"\n",
    "\n",
    "From FAQ: cutadapt and trimmomatic suggested for more complicated primers like heterogeneity spacers (like ours). \n",
    "For this task I like cutadapt better, Trimmomatic has a clunky input and less control over processing.\n",
    "\n",
    "The pipeline includes its own quality filtering later, so we just need to nix primers and adapters first. The dada2 ITS pipeline example includes removal of all primers in all orientations as a failsafe, but cutadapt manual favors  a targeted approach (use all of what you know about sequences to guide trimming - some of those orientations are way more likely than others in different parts of the reads). \n",
    "\n",
    "Because 3' adapter readthrough artifacts are outside of primers, and cutadapt's main trim settings remove distal material to the targetd sequence, we can just run a simple primer removal with cutadapt and also take care of the smattering of those other errors. This would entail removing f primers from f and r primers from r reads (easy ones that are always present at start of read), but also the reverse complement of the reverse primer from forward reads and the reverse complement of forward primer from reverse reads, to account for occasional short-insert read through.  (that second part is what covers adapter readthrough artifacts, but is worthwhile on its own, too, since we want all primers gone and this is the second most likely way to get primers in the data).\n"
   ]
  },
  {
   "cell_type": "markdown",
   "metadata": {},
   "source": [
    "## 1. Remove primers (and adapters) from reads\n",
    "cutadapt<br>\n",
    "A read<br>\n",
    "--------><br>\n",
    "definitely has its own primer (f/f, r/r)<br>\n",
    "->-------<br>\n",
    "occasionally (short insert by nature or mistake) has complement of other primer, too<br>\n",
    "->------<-<br>\n",
    "\n",
    "Remove both of these cases. \n",
    "\n",
    "Cutadapt (default) will also remove upstream material, so we don't have to account for spacers (they are distal), or Illumina adapters (3' overhangs distal to 3' primer cut).<br>\n",
    "\n",
    "Cutadapt option choices:<br>\n",
    "https://cutadapt.readthedocs.io/en/stable/guide.html<br>\n",
    "-o f output<br>\n",
    "-p r output. run both pairs at once (makes sure if one of a pair tossed, other one is too, keeps dataset as all pairs)<br>\n",
    "\n",
    "Trimming parameters: <br>\n",
    "-g = remove given primer from 5' end of f read (forward primer) <br>\n",
    "-G = remove given primer from 5' end of r read (reverse primer) <br>\n",
    "-a = remove given primer from 3' end of f read (complement of reverse primer) <br>\n",
    "-A = remove given primer from 3' end of r read (complement of forward primer) <br>\n",
    "\n",
    "Post-processing: <br>\n",
    "-m = minimum length of sequence, discard reads shorter than value after trimming (200)<br>\n",
    "<br>\n",
    "Not saving --info-file - no time to get into details and want to save space. \n",
    "\n",
    "There's some complicated stuff about running cutadapt with multiple arguments and pair mode (finds best only, doesn't save info files, requires both adapters). So, to get full information and control, run serially. First remove f primer from f reads 5' end. Then, remove r primer from r reads 5' end. Then, remove complements from 3' ends. That way we can be sure all of the steps happen and make sure all the results data is produced. Slightly annoying. \n"
   ]
  },
  {
   "cell_type": "code",
   "execution_count": 41,
   "metadata": {},
   "outputs": [],
   "source": [
    "#Make a directory for files without primers, cutadapt pair mode results:\n",
    "if not os.path.exists(\"1_remove_primers/pair_mode\"):\n",
    "    os.system(\"mkdir 1_remove_primers/pair_mode\")\n"
   ]
  },
  {
   "cell_type": "code",
   "execution_count": 42,
   "metadata": {},
   "outputs": [
    {
     "name": "stdout",
     "output_type": "stream",
     "text": [
      "Found 196 forward files with 196 unique names, like /Users/jessie/Dropbox/jessie/russula_illumina/Russula_BC/DBG_016111_R1.fastq\n",
      "Found 196 forward files with 196 unique names, like /Users/jessie/Dropbox/jessie/russula_illumina/Russula_BC/DBG_016111_R2.fastq\n"
     ]
    }
   ],
   "source": [
    "#Locate raw input files (includes split replicates)\n",
    "allrawdir = os.listdir(basepath+'Russula_BC')\n",
    "forward_fastqs = []\n",
    "reverse_fastqs = []\n",
    "for file in allrawdir:\n",
    "    if file.endswith(\"_R1.fastq\"):\n",
    "        forward_fastqs.append(basepath+'Russula_BC/'+file)\n",
    "    elif file.endswith(\"_R2.fastq\"):\n",
    "        reverse_fastqs.append(basepath+'Russula_BC/'+file)\n",
    "\n",
    "#Sort to make sure pairs are in the same order in these lists\n",
    "forward_fastqs = sorted(forward_fastqs)\n",
    "reverse_fastqs = sorted(reverse_fastqs)\n",
    "\n",
    "#Report back on findings (and read to make sure sensible)\n",
    "print(f\"Found {len(forward_fastqs)} forward files with {len(set(forward_fastqs))} unique names, like {forward_fastqs[0]}\")\n",
    "print(f\"Found {len(reverse_fastqs)} forward files with {len(set(reverse_fastqs))} unique names, like {reverse_fastqs[0]}\")\n"
   ]
  },
  {
   "cell_type": "code",
   "execution_count": 43,
   "metadata": {},
   "outputs": [],
   "source": [
    "#Gather primer sequences\n",
    "\n",
    "#Forward primer - without spacer (on 5' end, distal to cuts), with R for degenerate base (cutadapt fine with that)\n",
    "forward_primer = Seq.Seq(\"GTGARTCATCGAATCTTTG\")#converting to sequence object for handy complementing\n",
    "forward_primer_complement = forward_primer.reverse_complement()\n",
    "#Reverse primer - without spacer (on 5' end) and without 5 Ns for barcode region (between spacer and primer). \n",
    "reverse_primer = Seq.Seq(\"TCCTCCGCTTATTGATATGC\")\n",
    "#Could run with precise primers (have mapping handy), but actually not doing much because on distal end of cuts.\n",
    "#Leaving Ns/barcodes out because they inflate proportion of matches - more even handling compared to f primer this way.\n",
    "reverse_primer_complement = reverse_primer.reverse_complement()\n"
   ]
  },
  {
   "cell_type": "code",
   "execution_count": 44,
   "metadata": {},
   "outputs": [
    {
     "name": "stderr",
     "output_type": "stream",
     "text": [
      "\r",
      "  0%|          | 0/196 [00:00<?, ?it/s]"
     ]
    },
    {
     "name": "stdout",
     "output_type": "stream",
     "text": [
      "cutadapt -g GTGARTCATCGAATCTTTG -G TCCTCCGCTTATTGATATGC                 -a GCATATCAATAAGCGGAGGA -A CAAAGATTCGATGAYTCAC                 -m 200 --info-file 1_remove_primers/pair_mode/DBG_016111_pair_mode_cutadapt_info_file.txt -o 1_remove_primers/pair_mode/DBG_016111_R1_pair_mode_primers_trimmed.fastq -p 1_remove_primers/pair_mode/DBG_016111_R2_pair_mode_primers_trimmed.fastq /Users/jessie/Dropbox/jessie/russula_illumina/Russula_BC/DBG_016111_R1.fastq /Users/jessie/Dropbox/jessie/russula_illumina/Russula_BC/DBG_016111_R2.fastq\n",
      "\n"
     ]
    },
    {
     "name": "stderr",
     "output_type": "stream",
     "text": [
      "\r",
      "  1%|          | 1/196 [00:01<05:31,  1.70s/it]"
     ]
    },
    {
     "name": "stdout",
     "output_type": "stream",
     "text": [
      "cutadapt -g GTGARTCATCGAATCTTTG -G TCCTCCGCTTATTGATATGC                 -a GCATATCAATAAGCGGAGGA -A CAAAGATTCGATGAYTCAC                 -m 200 --info-file 1_remove_primers/pair_mode/DBG_016192_pair_mode_cutadapt_info_file.txt -o 1_remove_primers/pair_mode/DBG_016192_R1_pair_mode_primers_trimmed.fastq -p 1_remove_primers/pair_mode/DBG_016192_R2_pair_mode_primers_trimmed.fastq /Users/jessie/Dropbox/jessie/russula_illumina/Russula_BC/DBG_016192_R1.fastq /Users/jessie/Dropbox/jessie/russula_illumina/Russula_BC/DBG_016192_R2.fastq\n",
      "\n"
     ]
    },
    {
     "name": "stderr",
     "output_type": "stream",
     "text": [
      "\r",
      "  1%|          | 2/196 [00:03<05:15,  1.63s/it]"
     ]
    },
    {
     "name": "stdout",
     "output_type": "stream",
     "text": [
      "cutadapt -g GTGARTCATCGAATCTTTG -G TCCTCCGCTTATTGATATGC                 -a GCATATCAATAAGCGGAGGA -A CAAAGATTCGATGAYTCAC                 -m 200 --info-file 1_remove_primers/pair_mode/DBG_016193_pair_mode_cutadapt_info_file.txt -o 1_remove_primers/pair_mode/DBG_016193_R1_pair_mode_primers_trimmed.fastq -p 1_remove_primers/pair_mode/DBG_016193_R2_pair_mode_primers_trimmed.fastq /Users/jessie/Dropbox/jessie/russula_illumina/Russula_BC/DBG_016193_R1.fastq /Users/jessie/Dropbox/jessie/russula_illumina/Russula_BC/DBG_016193_R2.fastq\n",
      "\n"
     ]
    },
    {
     "name": "stderr",
     "output_type": "stream",
     "text": [
      "\r",
      "  2%|▏         | 3/196 [00:06<06:26,  2.00s/it]"
     ]
    },
    {
     "name": "stdout",
     "output_type": "stream",
     "text": [
      "cutadapt -g GTGARTCATCGAATCTTTG -G TCCTCCGCTTATTGATATGC                 -a GCATATCAATAAGCGGAGGA -A CAAAGATTCGATGAYTCAC                 -m 200 --info-file 1_remove_primers/pair_mode/DBG_016195_pair_mode_cutadapt_info_file.txt -o 1_remove_primers/pair_mode/DBG_016195_R1_pair_mode_primers_trimmed.fastq -p 1_remove_primers/pair_mode/DBG_016195_R2_pair_mode_primers_trimmed.fastq /Users/jessie/Dropbox/jessie/russula_illumina/Russula_BC/DBG_016195_R1.fastq /Users/jessie/Dropbox/jessie/russula_illumina/Russula_BC/DBG_016195_R2.fastq\n",
      "\n"
     ]
    },
    {
     "name": "stderr",
     "output_type": "stream",
     "text": [
      "\r",
      "  2%|▏         | 4/196 [00:06<05:21,  1.68s/it]"
     ]
    },
    {
     "name": "stdout",
     "output_type": "stream",
     "text": [
      "cutadapt -g GTGARTCATCGAATCTTTG -G TCCTCCGCTTATTGATATGC                 -a GCATATCAATAAGCGGAGGA -A CAAAGATTCGATGAYTCAC                 -m 200 --info-file 1_remove_primers/pair_mode/DBG_016196_pair_mode_cutadapt_info_file.txt -o 1_remove_primers/pair_mode/DBG_016196_R1_pair_mode_primers_trimmed.fastq -p 1_remove_primers/pair_mode/DBG_016196_R2_pair_mode_primers_trimmed.fastq /Users/jessie/Dropbox/jessie/russula_illumina/Russula_BC/DBG_016196_R1.fastq /Users/jessie/Dropbox/jessie/russula_illumina/Russula_BC/DBG_016196_R2.fastq\n",
      "\n"
     ]
    },
    {
     "name": "stderr",
     "output_type": "stream",
     "text": [
      "\r",
      "  3%|▎         | 5/196 [00:07<04:09,  1.31s/it]"
     ]
    },
    {
     "name": "stdout",
     "output_type": "stream",
     "text": [
      "cutadapt -g GTGARTCATCGAATCTTTG -G TCCTCCGCTTATTGATATGC                 -a GCATATCAATAAGCGGAGGA -A CAAAGATTCGATGAYTCAC                 -m 200 --info-file 1_remove_primers/pair_mode/DBG_016197_pair_mode_cutadapt_info_file.txt -o 1_remove_primers/pair_mode/DBG_016197_R1_pair_mode_primers_trimmed.fastq -p 1_remove_primers/pair_mode/DBG_016197_R2_pair_mode_primers_trimmed.fastq /Users/jessie/Dropbox/jessie/russula_illumina/Russula_BC/DBG_016197_R1.fastq /Users/jessie/Dropbox/jessie/russula_illumina/Russula_BC/DBG_016197_R2.fastq\n",
      "\n"
     ]
    },
    {
     "name": "stderr",
     "output_type": "stream",
     "text": [
      "\r",
      "  3%|▎         | 6/196 [00:08<03:34,  1.13s/it]"
     ]
    },
    {
     "name": "stdout",
     "output_type": "stream",
     "text": [
      "cutadapt -g GTGARTCATCGAATCTTTG -G TCCTCCGCTTATTGATATGC                 -a GCATATCAATAAGCGGAGGA -A CAAAGATTCGATGAYTCAC                 -m 200 --info-file 1_remove_primers/pair_mode/DBG_016199_pair_mode_cutadapt_info_file.txt -o 1_remove_primers/pair_mode/DBG_016199_R1_pair_mode_primers_trimmed.fastq -p 1_remove_primers/pair_mode/DBG_016199_R2_pair_mode_primers_trimmed.fastq /Users/jessie/Dropbox/jessie/russula_illumina/Russula_BC/DBG_016199_R1.fastq /Users/jessie/Dropbox/jessie/russula_illumina/Russula_BC/DBG_016199_R2.fastq\n",
      "\n"
     ]
    },
    {
     "name": "stderr",
     "output_type": "stream",
     "text": [
      "\r",
      "  4%|▎         | 7/196 [00:09<03:20,  1.06s/it]"
     ]
    },
    {
     "name": "stdout",
     "output_type": "stream",
     "text": [
      "cutadapt -g GTGARTCATCGAATCTTTG -G TCCTCCGCTTATTGATATGC                 -a GCATATCAATAAGCGGAGGA -A CAAAGATTCGATGAYTCAC                 -m 200 --info-file 1_remove_primers/pair_mode/DBG_016212_pair_mode_cutadapt_info_file.txt -o 1_remove_primers/pair_mode/DBG_016212_R1_pair_mode_primers_trimmed.fastq -p 1_remove_primers/pair_mode/DBG_016212_R2_pair_mode_primers_trimmed.fastq /Users/jessie/Dropbox/jessie/russula_illumina/Russula_BC/DBG_016212_R1.fastq /Users/jessie/Dropbox/jessie/russula_illumina/Russula_BC/DBG_016212_R2.fastq\n",
      "\n"
     ]
    },
    {
     "name": "stderr",
     "output_type": "stream",
     "text": [
      "\r",
      "  4%|▍         | 8/196 [00:09<03:14,  1.03s/it]"
     ]
    },
    {
     "name": "stdout",
     "output_type": "stream",
     "text": [
      "cutadapt -g GTGARTCATCGAATCTTTG -G TCCTCCGCTTATTGATATGC                 -a GCATATCAATAAGCGGAGGA -A CAAAGATTCGATGAYTCAC                 -m 200 --info-file 1_remove_primers/pair_mode/DBG_016266_pair_mode_cutadapt_info_file.txt -o 1_remove_primers/pair_mode/DBG_016266_R1_pair_mode_primers_trimmed.fastq -p 1_remove_primers/pair_mode/DBG_016266_R2_pair_mode_primers_trimmed.fastq /Users/jessie/Dropbox/jessie/russula_illumina/Russula_BC/DBG_016266_R1.fastq /Users/jessie/Dropbox/jessie/russula_illumina/Russula_BC/DBG_016266_R2.fastq\n",
      "\n"
     ]
    },
    {
     "name": "stderr",
     "output_type": "stream",
     "text": [
      "\r",
      "  5%|▍         | 9/196 [00:11<03:29,  1.12s/it]"
     ]
    },
    {
     "name": "stdout",
     "output_type": "stream",
     "text": [
      "cutadapt -g GTGARTCATCGAATCTTTG -G TCCTCCGCTTATTGATATGC                 -a GCATATCAATAAGCGGAGGA -A CAAAGATTCGATGAYTCAC                 -m 200 --info-file 1_remove_primers/pair_mode/DBG_016268_pair_mode_cutadapt_info_file.txt -o 1_remove_primers/pair_mode/DBG_016268_R1_pair_mode_primers_trimmed.fastq -p 1_remove_primers/pair_mode/DBG_016268_R2_pair_mode_primers_trimmed.fastq /Users/jessie/Dropbox/jessie/russula_illumina/Russula_BC/DBG_016268_R1.fastq /Users/jessie/Dropbox/jessie/russula_illumina/Russula_BC/DBG_016268_R2.fastq\n",
      "\n"
     ]
    },
    {
     "name": "stderr",
     "output_type": "stream",
     "text": [
      "\r",
      "  5%|▌         | 10/196 [00:13<04:47,  1.54s/it]"
     ]
    },
    {
     "name": "stdout",
     "output_type": "stream",
     "text": [
      "cutadapt -g GTGARTCATCGAATCTTTG -G TCCTCCGCTTATTGATATGC                 -a GCATATCAATAAGCGGAGGA -A CAAAGATTCGATGAYTCAC                 -m 200 --info-file 1_remove_primers/pair_mode/DBG_016306_pair_mode_cutadapt_info_file.txt -o 1_remove_primers/pair_mode/DBG_016306_R1_pair_mode_primers_trimmed.fastq -p 1_remove_primers/pair_mode/DBG_016306_R2_pair_mode_primers_trimmed.fastq /Users/jessie/Dropbox/jessie/russula_illumina/Russula_BC/DBG_016306_R1.fastq /Users/jessie/Dropbox/jessie/russula_illumina/Russula_BC/DBG_016306_R2.fastq\n",
      "\n"
     ]
    },
    {
     "name": "stderr",
     "output_type": "stream",
     "text": [
      "\r",
      "  6%|▌         | 11/196 [00:15<05:06,  1.66s/it]"
     ]
    },
    {
     "name": "stdout",
     "output_type": "stream",
     "text": [
      "cutadapt -g GTGARTCATCGAATCTTTG -G TCCTCCGCTTATTGATATGC                 -a GCATATCAATAAGCGGAGGA -A CAAAGATTCGATGAYTCAC                 -m 200 --info-file 1_remove_primers/pair_mode/DBG_016951_pair_mode_cutadapt_info_file.txt -o 1_remove_primers/pair_mode/DBG_016951_R1_pair_mode_primers_trimmed.fastq -p 1_remove_primers/pair_mode/DBG_016951_R2_pair_mode_primers_trimmed.fastq /Users/jessie/Dropbox/jessie/russula_illumina/Russula_BC/DBG_016951_R1.fastq /Users/jessie/Dropbox/jessie/russula_illumina/Russula_BC/DBG_016951_R2.fastq\n",
      "\n"
     ]
    },
    {
     "name": "stderr",
     "output_type": "stream",
     "text": [
      "\r",
      "  6%|▌         | 12/196 [00:21<08:45,  2.86s/it]"
     ]
    },
    {
     "name": "stdout",
     "output_type": "stream",
     "text": [
      "cutadapt -g GTGARTCATCGAATCTTTG -G TCCTCCGCTTATTGATATGC                 -a GCATATCAATAAGCGGAGGA -A CAAAGATTCGATGAYTCAC                 -m 200 --info-file 1_remove_primers/pair_mode/DBG_017014_pair_mode_cutadapt_info_file.txt -o 1_remove_primers/pair_mode/DBG_017014_R1_pair_mode_primers_trimmed.fastq -p 1_remove_primers/pair_mode/DBG_017014_R2_pair_mode_primers_trimmed.fastq /Users/jessie/Dropbox/jessie/russula_illumina/Russula_BC/DBG_017014_R1.fastq /Users/jessie/Dropbox/jessie/russula_illumina/Russula_BC/DBG_017014_R2.fastq\n",
      "\n"
     ]
    },
    {
     "name": "stderr",
     "output_type": "stream",
     "text": [
      "\r",
      "  7%|▋         | 13/196 [00:22<07:10,  2.35s/it]"
     ]
    },
    {
     "name": "stdout",
     "output_type": "stream",
     "text": [
      "cutadapt -g GTGARTCATCGAATCTTTG -G TCCTCCGCTTATTGATATGC                 -a GCATATCAATAAGCGGAGGA -A CAAAGATTCGATGAYTCAC                 -m 200 --info-file 1_remove_primers/pair_mode/DBG_017202_pair_mode_cutadapt_info_file.txt -o 1_remove_primers/pair_mode/DBG_017202_R1_pair_mode_primers_trimmed.fastq -p 1_remove_primers/pair_mode/DBG_017202_R2_pair_mode_primers_trimmed.fastq /Users/jessie/Dropbox/jessie/russula_illumina/Russula_BC/DBG_017202_R1.fastq /Users/jessie/Dropbox/jessie/russula_illumina/Russula_BC/DBG_017202_R2.fastq\n",
      "\n"
     ]
    },
    {
     "name": "stderr",
     "output_type": "stream",
     "text": [
      "\r",
      "  7%|▋         | 14/196 [00:23<06:13,  2.05s/it]"
     ]
    },
    {
     "name": "stdout",
     "output_type": "stream",
     "text": [
      "cutadapt -g GTGARTCATCGAATCTTTG -G TCCTCCGCTTATTGATATGC                 -a GCATATCAATAAGCGGAGGA -A CAAAGATTCGATGAYTCAC                 -m 200 --info-file 1_remove_primers/pair_mode/DBG_017337_pair_mode_cutadapt_info_file.txt -o 1_remove_primers/pair_mode/DBG_017337_R1_pair_mode_primers_trimmed.fastq -p 1_remove_primers/pair_mode/DBG_017337_R2_pair_mode_primers_trimmed.fastq /Users/jessie/Dropbox/jessie/russula_illumina/Russula_BC/DBG_017337_R1.fastq /Users/jessie/Dropbox/jessie/russula_illumina/Russula_BC/DBG_017337_R2.fastq\n",
      "\n"
     ]
    },
    {
     "name": "stderr",
     "output_type": "stream",
     "text": [
      "\r",
      "  8%|▊         | 15/196 [00:26<06:36,  2.19s/it]"
     ]
    },
    {
     "name": "stdout",
     "output_type": "stream",
     "text": [
      "cutadapt -g GTGARTCATCGAATCTTTG -G TCCTCCGCTTATTGATATGC                 -a GCATATCAATAAGCGGAGGA -A CAAAGATTCGATGAYTCAC                 -m 200 --info-file 1_remove_primers/pair_mode/DBG_017457_pair_mode_cutadapt_info_file.txt -o 1_remove_primers/pair_mode/DBG_017457_R1_pair_mode_primers_trimmed.fastq -p 1_remove_primers/pair_mode/DBG_017457_R2_pair_mode_primers_trimmed.fastq /Users/jessie/Dropbox/jessie/russula_illumina/Russula_BC/DBG_017457_R1.fastq /Users/jessie/Dropbox/jessie/russula_illumina/Russula_BC/DBG_017457_R2.fastq\n",
      "\n"
     ]
    },
    {
     "name": "stderr",
     "output_type": "stream",
     "text": [
      "\r",
      "  8%|▊         | 16/196 [00:29<07:05,  2.36s/it]"
     ]
    },
    {
     "name": "stdout",
     "output_type": "stream",
     "text": [
      "cutadapt -g GTGARTCATCGAATCTTTG -G TCCTCCGCTTATTGATATGC                 -a GCATATCAATAAGCGGAGGA -A CAAAGATTCGATGAYTCAC                 -m 200 --info-file 1_remove_primers/pair_mode/DBG_017482_pair_mode_cutadapt_info_file.txt -o 1_remove_primers/pair_mode/DBG_017482_R1_pair_mode_primers_trimmed.fastq -p 1_remove_primers/pair_mode/DBG_017482_R2_pair_mode_primers_trimmed.fastq /Users/jessie/Dropbox/jessie/russula_illumina/Russula_BC/DBG_017482_R1.fastq /Users/jessie/Dropbox/jessie/russula_illumina/Russula_BC/DBG_017482_R2.fastq\n",
      "\n"
     ]
    },
    {
     "name": "stderr",
     "output_type": "stream",
     "text": [
      "\r",
      "  9%|▊         | 17/196 [00:31<06:31,  2.19s/it]"
     ]
    },
    {
     "name": "stdout",
     "output_type": "stream",
     "text": [
      "cutadapt -g GTGARTCATCGAATCTTTG -G TCCTCCGCTTATTGATATGC                 -a GCATATCAATAAGCGGAGGA -A CAAAGATTCGATGAYTCAC                 -m 200 --info-file 1_remove_primers/pair_mode/DBG_018320_pair_mode_cutadapt_info_file.txt -o 1_remove_primers/pair_mode/DBG_018320_R1_pair_mode_primers_trimmed.fastq -p 1_remove_primers/pair_mode/DBG_018320_R2_pair_mode_primers_trimmed.fastq /Users/jessie/Dropbox/jessie/russula_illumina/Russula_BC/DBG_018320_R1.fastq /Users/jessie/Dropbox/jessie/russula_illumina/Russula_BC/DBG_018320_R2.fastq\n",
      "\n"
     ]
    },
    {
     "name": "stderr",
     "output_type": "stream",
     "text": [
      "\r",
      "  9%|▉         | 18/196 [00:32<05:30,  1.86s/it]"
     ]
    },
    {
     "name": "stdout",
     "output_type": "stream",
     "text": [
      "cutadapt -g GTGARTCATCGAATCTTTG -G TCCTCCGCTTATTGATATGC                 -a GCATATCAATAAGCGGAGGA -A CAAAGATTCGATGAYTCAC                 -m 200 --info-file 1_remove_primers/pair_mode/DBG_018630_pair_mode_cutadapt_info_file.txt -o 1_remove_primers/pair_mode/DBG_018630_R1_pair_mode_primers_trimmed.fastq -p 1_remove_primers/pair_mode/DBG_018630_R2_pair_mode_primers_trimmed.fastq /Users/jessie/Dropbox/jessie/russula_illumina/Russula_BC/DBG_018630_R1.fastq /Users/jessie/Dropbox/jessie/russula_illumina/Russula_BC/DBG_018630_R2.fastq\n",
      "\n"
     ]
    },
    {
     "name": "stderr",
     "output_type": "stream",
     "text": [
      "\r",
      " 10%|▉         | 19/196 [00:34<05:36,  1.90s/it]"
     ]
    },
    {
     "name": "stdout",
     "output_type": "stream",
     "text": [
      "cutadapt -g GTGARTCATCGAATCTTTG -G TCCTCCGCTTATTGATATGC                 -a GCATATCAATAAGCGGAGGA -A CAAAGATTCGATGAYTCAC                 -m 200 --info-file 1_remove_primers/pair_mode/DBG_018718_pair_mode_cutadapt_info_file.txt -o 1_remove_primers/pair_mode/DBG_018718_R1_pair_mode_primers_trimmed.fastq -p 1_remove_primers/pair_mode/DBG_018718_R2_pair_mode_primers_trimmed.fastq /Users/jessie/Dropbox/jessie/russula_illumina/Russula_BC/DBG_018718_R1.fastq /Users/jessie/Dropbox/jessie/russula_illumina/Russula_BC/DBG_018718_R2.fastq\n",
      "\n"
     ]
    },
    {
     "name": "stderr",
     "output_type": "stream",
     "text": [
      "\r",
      " 10%|█         | 20/196 [00:35<05:11,  1.77s/it]"
     ]
    },
    {
     "name": "stdout",
     "output_type": "stream",
     "text": [
      "cutadapt -g GTGARTCATCGAATCTTTG -G TCCTCCGCTTATTGATATGC                 -a GCATATCAATAAGCGGAGGA -A CAAAGATTCGATGAYTCAC                 -m 200 --info-file 1_remove_primers/pair_mode/DBG_018809_pair_mode_cutadapt_info_file.txt -o 1_remove_primers/pair_mode/DBG_018809_R1_pair_mode_primers_trimmed.fastq -p 1_remove_primers/pair_mode/DBG_018809_R2_pair_mode_primers_trimmed.fastq /Users/jessie/Dropbox/jessie/russula_illumina/Russula_BC/DBG_018809_R1.fastq /Users/jessie/Dropbox/jessie/russula_illumina/Russula_BC/DBG_018809_R2.fastq\n",
      "\n"
     ]
    },
    {
     "name": "stderr",
     "output_type": "stream",
     "text": [
      "\r",
      " 11%|█         | 21/196 [00:36<04:33,  1.57s/it]"
     ]
    },
    {
     "name": "stdout",
     "output_type": "stream",
     "text": [
      "cutadapt -g GTGARTCATCGAATCTTTG -G TCCTCCGCTTATTGATATGC                 -a GCATATCAATAAGCGGAGGA -A CAAAGATTCGATGAYTCAC                 -m 200 --info-file 1_remove_primers/pair_mode/DBG_018964_pair_mode_cutadapt_info_file.txt -o 1_remove_primers/pair_mode/DBG_018964_R1_pair_mode_primers_trimmed.fastq -p 1_remove_primers/pair_mode/DBG_018964_R2_pair_mode_primers_trimmed.fastq /Users/jessie/Dropbox/jessie/russula_illumina/Russula_BC/DBG_018964_R1.fastq /Users/jessie/Dropbox/jessie/russula_illumina/Russula_BC/DBG_018964_R2.fastq\n",
      "\n"
     ]
    },
    {
     "name": "stderr",
     "output_type": "stream",
     "text": [
      "\r",
      " 11%|█         | 22/196 [00:37<04:03,  1.40s/it]"
     ]
    },
    {
     "name": "stdout",
     "output_type": "stream",
     "text": [
      "cutadapt -g GTGARTCATCGAATCTTTG -G TCCTCCGCTTATTGATATGC                 -a GCATATCAATAAGCGGAGGA -A CAAAGATTCGATGAYTCAC                 -m 200 --info-file 1_remove_primers/pair_mode/DBG_018974_pair_mode_cutadapt_info_file.txt -o 1_remove_primers/pair_mode/DBG_018974_R1_pair_mode_primers_trimmed.fastq -p 1_remove_primers/pair_mode/DBG_018974_R2_pair_mode_primers_trimmed.fastq /Users/jessie/Dropbox/jessie/russula_illumina/Russula_BC/DBG_018974_R1.fastq /Users/jessie/Dropbox/jessie/russula_illumina/Russula_BC/DBG_018974_R2.fastq\n",
      "\n"
     ]
    },
    {
     "name": "stderr",
     "output_type": "stream",
     "text": [
      "\r",
      " 12%|█▏        | 23/196 [00:39<04:16,  1.48s/it]"
     ]
    },
    {
     "name": "stdout",
     "output_type": "stream",
     "text": [
      "cutadapt -g GTGARTCATCGAATCTTTG -G TCCTCCGCTTATTGATATGC                 -a GCATATCAATAAGCGGAGGA -A CAAAGATTCGATGAYTCAC                 -m 200 --info-file 1_remove_primers/pair_mode/DBG_019005_pair_mode_cutadapt_info_file.txt -o 1_remove_primers/pair_mode/DBG_019005_R1_pair_mode_primers_trimmed.fastq -p 1_remove_primers/pair_mode/DBG_019005_R2_pair_mode_primers_trimmed.fastq /Users/jessie/Dropbox/jessie/russula_illumina/Russula_BC/DBG_019005_R1.fastq /Users/jessie/Dropbox/jessie/russula_illumina/Russula_BC/DBG_019005_R2.fastq\n",
      "\n"
     ]
    },
    {
     "name": "stderr",
     "output_type": "stream",
     "text": [
      "\r",
      " 12%|█▏        | 24/196 [00:40<04:20,  1.52s/it]"
     ]
    },
    {
     "name": "stdout",
     "output_type": "stream",
     "text": [
      "cutadapt -g GTGARTCATCGAATCTTTG -G TCCTCCGCTTATTGATATGC                 -a GCATATCAATAAGCGGAGGA -A CAAAGATTCGATGAYTCAC                 -m 200 --info-file 1_remove_primers/pair_mode/DBG_019598_pair_mode_cutadapt_info_file.txt -o 1_remove_primers/pair_mode/DBG_019598_R1_pair_mode_primers_trimmed.fastq -p 1_remove_primers/pair_mode/DBG_019598_R2_pair_mode_primers_trimmed.fastq /Users/jessie/Dropbox/jessie/russula_illumina/Russula_BC/DBG_019598_R1.fastq /Users/jessie/Dropbox/jessie/russula_illumina/Russula_BC/DBG_019598_R2.fastq\n",
      "\n"
     ]
    },
    {
     "name": "stderr",
     "output_type": "stream",
     "text": [
      "\r",
      " 13%|█▎        | 25/196 [00:42<04:36,  1.62s/it]"
     ]
    },
    {
     "name": "stdout",
     "output_type": "stream",
     "text": [
      "cutadapt -g GTGARTCATCGAATCTTTG -G TCCTCCGCTTATTGATATGC                 -a GCATATCAATAAGCGGAGGA -A CAAAGATTCGATGAYTCAC                 -m 200 --info-file 1_remove_primers/pair_mode/DBG_020319_pair_mode_cutadapt_info_file.txt -o 1_remove_primers/pair_mode/DBG_020319_R1_pair_mode_primers_trimmed.fastq -p 1_remove_primers/pair_mode/DBG_020319_R2_pair_mode_primers_trimmed.fastq /Users/jessie/Dropbox/jessie/russula_illumina/Russula_BC/DBG_020319_R1.fastq /Users/jessie/Dropbox/jessie/russula_illumina/Russula_BC/DBG_020319_R2.fastq\n",
      "\n"
     ]
    },
    {
     "name": "stderr",
     "output_type": "stream",
     "text": [
      "\r",
      " 13%|█▎        | 26/196 [00:44<04:47,  1.69s/it]"
     ]
    },
    {
     "name": "stdout",
     "output_type": "stream",
     "text": [
      "cutadapt -g GTGARTCATCGAATCTTTG -G TCCTCCGCTTATTGATATGC                 -a GCATATCAATAAGCGGAGGA -A CAAAGATTCGATGAYTCAC                 -m 200 --info-file 1_remove_primers/pair_mode/DBG_020348_pair_mode_cutadapt_info_file.txt -o 1_remove_primers/pair_mode/DBG_020348_R1_pair_mode_primers_trimmed.fastq -p 1_remove_primers/pair_mode/DBG_020348_R2_pair_mode_primers_trimmed.fastq /Users/jessie/Dropbox/jessie/russula_illumina/Russula_BC/DBG_020348_R1.fastq /Users/jessie/Dropbox/jessie/russula_illumina/Russula_BC/DBG_020348_R2.fastq\n",
      "\n"
     ]
    },
    {
     "name": "stderr",
     "output_type": "stream",
     "text": [
      "\r",
      " 14%|█▍        | 27/196 [00:45<04:03,  1.44s/it]"
     ]
    },
    {
     "name": "stdout",
     "output_type": "stream",
     "text": [
      "cutadapt -g GTGARTCATCGAATCTTTG -G TCCTCCGCTTATTGATATGC                 -a GCATATCAATAAGCGGAGGA -A CAAAGATTCGATGAYTCAC                 -m 200 --info-file 1_remove_primers/pair_mode/DBG_020374_pair_mode_cutadapt_info_file.txt -o 1_remove_primers/pair_mode/DBG_020374_R1_pair_mode_primers_trimmed.fastq -p 1_remove_primers/pair_mode/DBG_020374_R2_pair_mode_primers_trimmed.fastq /Users/jessie/Dropbox/jessie/russula_illumina/Russula_BC/DBG_020374_R1.fastq /Users/jessie/Dropbox/jessie/russula_illumina/Russula_BC/DBG_020374_R2.fastq\n",
      "\n"
     ]
    },
    {
     "name": "stderr",
     "output_type": "stream",
     "text": [
      "\r",
      " 14%|█▍        | 28/196 [00:46<03:54,  1.40s/it]"
     ]
    },
    {
     "name": "stdout",
     "output_type": "stream",
     "text": [
      "cutadapt -g GTGARTCATCGAATCTTTG -G TCCTCCGCTTATTGATATGC                 -a GCATATCAATAAGCGGAGGA -A CAAAGATTCGATGAYTCAC                 -m 200 --info-file 1_remove_primers/pair_mode/DBG_020577_pair_mode_cutadapt_info_file.txt -o 1_remove_primers/pair_mode/DBG_020577_R1_pair_mode_primers_trimmed.fastq -p 1_remove_primers/pair_mode/DBG_020577_R2_pair_mode_primers_trimmed.fastq /Users/jessie/Dropbox/jessie/russula_illumina/Russula_BC/DBG_020577_R1.fastq /Users/jessie/Dropbox/jessie/russula_illumina/Russula_BC/DBG_020577_R2.fastq\n",
      "\n"
     ]
    },
    {
     "name": "stderr",
     "output_type": "stream",
     "text": [
      "\r",
      " 15%|█▍        | 29/196 [00:48<03:57,  1.42s/it]"
     ]
    },
    {
     "name": "stdout",
     "output_type": "stream",
     "text": [
      "cutadapt -g GTGARTCATCGAATCTTTG -G TCCTCCGCTTATTGATATGC                 -a GCATATCAATAAGCGGAGGA -A CAAAGATTCGATGAYTCAC                 -m 200 --info-file 1_remove_primers/pair_mode/DBG_020593_pair_mode_cutadapt_info_file.txt -o 1_remove_primers/pair_mode/DBG_020593_R1_pair_mode_primers_trimmed.fastq -p 1_remove_primers/pair_mode/DBG_020593_R2_pair_mode_primers_trimmed.fastq /Users/jessie/Dropbox/jessie/russula_illumina/Russula_BC/DBG_020593_R1.fastq /Users/jessie/Dropbox/jessie/russula_illumina/Russula_BC/DBG_020593_R2.fastq\n",
      "\n"
     ]
    },
    {
     "name": "stderr",
     "output_type": "stream",
     "text": [
      "\r",
      " 15%|█▌        | 30/196 [00:49<04:01,  1.46s/it]"
     ]
    },
    {
     "name": "stdout",
     "output_type": "stream",
     "text": [
      "cutadapt -g GTGARTCATCGAATCTTTG -G TCCTCCGCTTATTGATATGC                 -a GCATATCAATAAGCGGAGGA -A CAAAGATTCGATGAYTCAC                 -m 200 --info-file 1_remove_primers/pair_mode/DBG_020673_pair_mode_cutadapt_info_file.txt -o 1_remove_primers/pair_mode/DBG_020673_R1_pair_mode_primers_trimmed.fastq -p 1_remove_primers/pair_mode/DBG_020673_R2_pair_mode_primers_trimmed.fastq /Users/jessie/Dropbox/jessie/russula_illumina/Russula_BC/DBG_020673_R1.fastq /Users/jessie/Dropbox/jessie/russula_illumina/Russula_BC/DBG_020673_R2.fastq\n",
      "\n"
     ]
    },
    {
     "name": "stderr",
     "output_type": "stream",
     "text": [
      "\r",
      " 16%|█▌        | 31/196 [00:52<05:07,  1.86s/it]"
     ]
    },
    {
     "name": "stdout",
     "output_type": "stream",
     "text": [
      "cutadapt -g GTGARTCATCGAATCTTTG -G TCCTCCGCTTATTGATATGC                 -a GCATATCAATAAGCGGAGGA -A CAAAGATTCGATGAYTCAC                 -m 200 --info-file 1_remove_primers/pair_mode/DBG_020674_pair_mode_cutadapt_info_file.txt -o 1_remove_primers/pair_mode/DBG_020674_R1_pair_mode_primers_trimmed.fastq -p 1_remove_primers/pair_mode/DBG_020674_R2_pair_mode_primers_trimmed.fastq /Users/jessie/Dropbox/jessie/russula_illumina/Russula_BC/DBG_020674_R1.fastq /Users/jessie/Dropbox/jessie/russula_illumina/Russula_BC/DBG_020674_R2.fastq\n",
      "\n"
     ]
    },
    {
     "name": "stderr",
     "output_type": "stream",
     "text": [
      "\r",
      " 16%|█▋        | 32/196 [00:55<05:36,  2.05s/it]"
     ]
    },
    {
     "name": "stdout",
     "output_type": "stream",
     "text": [
      "cutadapt -g GTGARTCATCGAATCTTTG -G TCCTCCGCTTATTGATATGC                 -a GCATATCAATAAGCGGAGGA -A CAAAGATTCGATGAYTCAC                 -m 200 --info-file 1_remove_primers/pair_mode/DBG_020675_pair_mode_cutadapt_info_file.txt -o 1_remove_primers/pair_mode/DBG_020675_R1_pair_mode_primers_trimmed.fastq -p 1_remove_primers/pair_mode/DBG_020675_R2_pair_mode_primers_trimmed.fastq /Users/jessie/Dropbox/jessie/russula_illumina/Russula_BC/DBG_020675_R1.fastq /Users/jessie/Dropbox/jessie/russula_illumina/Russula_BC/DBG_020675_R2.fastq\n",
      "\n"
     ]
    },
    {
     "name": "stderr",
     "output_type": "stream",
     "text": [
      "\r",
      " 17%|█▋        | 33/196 [00:56<05:23,  1.98s/it]"
     ]
    },
    {
     "name": "stdout",
     "output_type": "stream",
     "text": [
      "cutadapt -g GTGARTCATCGAATCTTTG -G TCCTCCGCTTATTGATATGC                 -a GCATATCAATAAGCGGAGGA -A CAAAGATTCGATGAYTCAC                 -m 200 --info-file 1_remove_primers/pair_mode/DBG_020676_pair_mode_cutadapt_info_file.txt -o 1_remove_primers/pair_mode/DBG_020676_R1_pair_mode_primers_trimmed.fastq -p 1_remove_primers/pair_mode/DBG_020676_R2_pair_mode_primers_trimmed.fastq /Users/jessie/Dropbox/jessie/russula_illumina/Russula_BC/DBG_020676_R1.fastq /Users/jessie/Dropbox/jessie/russula_illumina/Russula_BC/DBG_020676_R2.fastq\n",
      "\n"
     ]
    },
    {
     "name": "stderr",
     "output_type": "stream",
     "text": [
      "\r",
      " 17%|█▋        | 34/196 [01:00<06:13,  2.31s/it]"
     ]
    },
    {
     "name": "stdout",
     "output_type": "stream",
     "text": [
      "cutadapt -g GTGARTCATCGAATCTTTG -G TCCTCCGCTTATTGATATGC                 -a GCATATCAATAAGCGGAGGA -A CAAAGATTCGATGAYTCAC                 -m 200 --info-file 1_remove_primers/pair_mode/DBG_020679_pair_mode_cutadapt_info_file.txt -o 1_remove_primers/pair_mode/DBG_020679_R1_pair_mode_primers_trimmed.fastq -p 1_remove_primers/pair_mode/DBG_020679_R2_pair_mode_primers_trimmed.fastq /Users/jessie/Dropbox/jessie/russula_illumina/Russula_BC/DBG_020679_R1.fastq /Users/jessie/Dropbox/jessie/russula_illumina/Russula_BC/DBG_020679_R2.fastq\n",
      "\n"
     ]
    },
    {
     "name": "stderr",
     "output_type": "stream",
     "text": [
      "\r",
      " 18%|█▊        | 35/196 [01:01<05:39,  2.11s/it]"
     ]
    },
    {
     "name": "stdout",
     "output_type": "stream",
     "text": [
      "cutadapt -g GTGARTCATCGAATCTTTG -G TCCTCCGCTTATTGATATGC                 -a GCATATCAATAAGCGGAGGA -A CAAAGATTCGATGAYTCAC                 -m 200 --info-file 1_remove_primers/pair_mode/DBG_020759_pair_mode_cutadapt_info_file.txt -o 1_remove_primers/pair_mode/DBG_020759_R1_pair_mode_primers_trimmed.fastq -p 1_remove_primers/pair_mode/DBG_020759_R2_pair_mode_primers_trimmed.fastq /Users/jessie/Dropbox/jessie/russula_illumina/Russula_BC/DBG_020759_R1.fastq /Users/jessie/Dropbox/jessie/russula_illumina/Russula_BC/DBG_020759_R2.fastq\n",
      "\n"
     ]
    },
    {
     "name": "stderr",
     "output_type": "stream",
     "text": [
      "\r",
      " 18%|█▊        | 36/196 [01:03<05:29,  2.06s/it]"
     ]
    },
    {
     "name": "stdout",
     "output_type": "stream",
     "text": [
      "cutadapt -g GTGARTCATCGAATCTTTG -G TCCTCCGCTTATTGATATGC                 -a GCATATCAATAAGCGGAGGA -A CAAAGATTCGATGAYTCAC                 -m 200 --info-file 1_remove_primers/pair_mode/DBG_020760_pair_mode_cutadapt_info_file.txt -o 1_remove_primers/pair_mode/DBG_020760_R1_pair_mode_primers_trimmed.fastq -p 1_remove_primers/pair_mode/DBG_020760_R2_pair_mode_primers_trimmed.fastq /Users/jessie/Dropbox/jessie/russula_illumina/Russula_BC/DBG_020760_R1.fastq /Users/jessie/Dropbox/jessie/russula_illumina/Russula_BC/DBG_020760_R2.fastq\n",
      "\n"
     ]
    },
    {
     "name": "stderr",
     "output_type": "stream",
     "text": [
      "\r",
      " 19%|█▉        | 37/196 [01:04<04:47,  1.81s/it]"
     ]
    },
    {
     "name": "stdout",
     "output_type": "stream",
     "text": [
      "cutadapt -g GTGARTCATCGAATCTTTG -G TCCTCCGCTTATTGATATGC                 -a GCATATCAATAAGCGGAGGA -A CAAAGATTCGATGAYTCAC                 -m 200 --info-file 1_remove_primers/pair_mode/DBG_020761_pair_mode_cutadapt_info_file.txt -o 1_remove_primers/pair_mode/DBG_020761_R1_pair_mode_primers_trimmed.fastq -p 1_remove_primers/pair_mode/DBG_020761_R2_pair_mode_primers_trimmed.fastq /Users/jessie/Dropbox/jessie/russula_illumina/Russula_BC/DBG_020761_R1.fastq /Users/jessie/Dropbox/jessie/russula_illumina/Russula_BC/DBG_020761_R2.fastq\n",
      "\n"
     ]
    },
    {
     "name": "stderr",
     "output_type": "stream",
     "text": [
      "\r",
      " 19%|█▉        | 38/196 [01:06<04:29,  1.71s/it]"
     ]
    },
    {
     "name": "stdout",
     "output_type": "stream",
     "text": [
      "cutadapt -g GTGARTCATCGAATCTTTG -G TCCTCCGCTTATTGATATGC                 -a GCATATCAATAAGCGGAGGA -A CAAAGATTCGATGAYTCAC                 -m 200 --info-file 1_remove_primers/pair_mode/DBG_021094_pair_mode_cutadapt_info_file.txt -o 1_remove_primers/pair_mode/DBG_021094_R1_pair_mode_primers_trimmed.fastq -p 1_remove_primers/pair_mode/DBG_021094_R2_pair_mode_primers_trimmed.fastq /Users/jessie/Dropbox/jessie/russula_illumina/Russula_BC/DBG_021094_R1.fastq /Users/jessie/Dropbox/jessie/russula_illumina/Russula_BC/DBG_021094_R2.fastq\n",
      "\n"
     ]
    },
    {
     "name": "stderr",
     "output_type": "stream",
     "text": [
      "\r",
      " 20%|█▉        | 39/196 [01:08<04:43,  1.81s/it]"
     ]
    },
    {
     "name": "stdout",
     "output_type": "stream",
     "text": [
      "cutadapt -g GTGARTCATCGAATCTTTG -G TCCTCCGCTTATTGATATGC                 -a GCATATCAATAAGCGGAGGA -A CAAAGATTCGATGAYTCAC                 -m 200 --info-file 1_remove_primers/pair_mode/DBG_021206_pair_mode_cutadapt_info_file.txt -o 1_remove_primers/pair_mode/DBG_021206_R1_pair_mode_primers_trimmed.fastq -p 1_remove_primers/pair_mode/DBG_021206_R2_pair_mode_primers_trimmed.fastq /Users/jessie/Dropbox/jessie/russula_illumina/Russula_BC/DBG_021206_R1.fastq /Users/jessie/Dropbox/jessie/russula_illumina/Russula_BC/DBG_021206_R2.fastq\n",
      "\n"
     ]
    },
    {
     "name": "stderr",
     "output_type": "stream",
     "text": [
      "\r",
      " 20%|██        | 40/196 [01:12<06:31,  2.51s/it]"
     ]
    },
    {
     "name": "stdout",
     "output_type": "stream",
     "text": [
      "cutadapt -g GTGARTCATCGAATCTTTG -G TCCTCCGCTTATTGATATGC                 -a GCATATCAATAAGCGGAGGA -A CAAAGATTCGATGAYTCAC                 -m 200 --info-file 1_remove_primers/pair_mode/DBG_021357_pair_mode_cutadapt_info_file.txt -o 1_remove_primers/pair_mode/DBG_021357_R1_pair_mode_primers_trimmed.fastq -p 1_remove_primers/pair_mode/DBG_021357_R2_pair_mode_primers_trimmed.fastq /Users/jessie/Dropbox/jessie/russula_illumina/Russula_BC/DBG_021357_R1.fastq /Users/jessie/Dropbox/jessie/russula_illumina/Russula_BC/DBG_021357_R2.fastq\n",
      "\n"
     ]
    },
    {
     "name": "stderr",
     "output_type": "stream",
     "text": [
      "\r",
      " 21%|██        | 41/196 [01:13<05:09,  1.99s/it]"
     ]
    },
    {
     "name": "stdout",
     "output_type": "stream",
     "text": [
      "cutadapt -g GTGARTCATCGAATCTTTG -G TCCTCCGCTTATTGATATGC                 -a GCATATCAATAAGCGGAGGA -A CAAAGATTCGATGAYTCAC                 -m 200 --info-file 1_remove_primers/pair_mode/DBG_021518_pair_mode_cutadapt_info_file.txt -o 1_remove_primers/pair_mode/DBG_021518_R1_pair_mode_primers_trimmed.fastq -p 1_remove_primers/pair_mode/DBG_021518_R2_pair_mode_primers_trimmed.fastq /Users/jessie/Dropbox/jessie/russula_illumina/Russula_BC/DBG_021518_R1.fastq /Users/jessie/Dropbox/jessie/russula_illumina/Russula_BC/DBG_021518_R2.fastq\n",
      "\n"
     ]
    },
    {
     "name": "stderr",
     "output_type": "stream",
     "text": [
      "\r",
      " 21%|██▏       | 42/196 [01:15<05:17,  2.06s/it]"
     ]
    },
    {
     "name": "stdout",
     "output_type": "stream",
     "text": [
      "cutadapt -g GTGARTCATCGAATCTTTG -G TCCTCCGCTTATTGATATGC                 -a GCATATCAATAAGCGGAGGA -A CAAAGATTCGATGAYTCAC                 -m 200 --info-file 1_remove_primers/pair_mode/DBG_021526_pair_mode_cutadapt_info_file.txt -o 1_remove_primers/pair_mode/DBG_021526_R1_pair_mode_primers_trimmed.fastq -p 1_remove_primers/pair_mode/DBG_021526_R2_pair_mode_primers_trimmed.fastq /Users/jessie/Dropbox/jessie/russula_illumina/Russula_BC/DBG_021526_R1.fastq /Users/jessie/Dropbox/jessie/russula_illumina/Russula_BC/DBG_021526_R2.fastq\n",
      "\n"
     ]
    },
    {
     "name": "stderr",
     "output_type": "stream",
     "text": [
      "\r",
      " 22%|██▏       | 43/196 [01:16<04:43,  1.85s/it]"
     ]
    },
    {
     "name": "stdout",
     "output_type": "stream",
     "text": [
      "cutadapt -g GTGARTCATCGAATCTTTG -G TCCTCCGCTTATTGATATGC                 -a GCATATCAATAAGCGGAGGA -A CAAAGATTCGATGAYTCAC                 -m 200 --info-file 1_remove_primers/pair_mode/DBG_021837_pair_mode_cutadapt_info_file.txt -o 1_remove_primers/pair_mode/DBG_021837_R1_pair_mode_primers_trimmed.fastq -p 1_remove_primers/pair_mode/DBG_021837_R2_pair_mode_primers_trimmed.fastq /Users/jessie/Dropbox/jessie/russula_illumina/Russula_BC/DBG_021837_R1.fastq /Users/jessie/Dropbox/jessie/russula_illumina/Russula_BC/DBG_021837_R2.fastq\n",
      "\n"
     ]
    },
    {
     "name": "stderr",
     "output_type": "stream",
     "text": [
      "\r",
      " 22%|██▏       | 44/196 [01:18<04:16,  1.69s/it]"
     ]
    },
    {
     "name": "stdout",
     "output_type": "stream",
     "text": [
      "cutadapt -g GTGARTCATCGAATCTTTG -G TCCTCCGCTTATTGATATGC                 -a GCATATCAATAAGCGGAGGA -A CAAAGATTCGATGAYTCAC                 -m 200 --info-file 1_remove_primers/pair_mode/DBG_021848_pair_mode_cutadapt_info_file.txt -o 1_remove_primers/pair_mode/DBG_021848_R1_pair_mode_primers_trimmed.fastq -p 1_remove_primers/pair_mode/DBG_021848_R2_pair_mode_primers_trimmed.fastq /Users/jessie/Dropbox/jessie/russula_illumina/Russula_BC/DBG_021848_R1.fastq /Users/jessie/Dropbox/jessie/russula_illumina/Russula_BC/DBG_021848_R2.fastq\n",
      "\n"
     ]
    },
    {
     "name": "stderr",
     "output_type": "stream",
     "text": [
      "\r",
      " 23%|██▎       | 45/196 [01:18<03:29,  1.39s/it]"
     ]
    },
    {
     "name": "stdout",
     "output_type": "stream",
     "text": [
      "cutadapt -g GTGARTCATCGAATCTTTG -G TCCTCCGCTTATTGATATGC                 -a GCATATCAATAAGCGGAGGA -A CAAAGATTCGATGAYTCAC                 -m 200 --info-file 1_remove_primers/pair_mode/DBG_021913_pair_mode_cutadapt_info_file.txt -o 1_remove_primers/pair_mode/DBG_021913_R1_pair_mode_primers_trimmed.fastq -p 1_remove_primers/pair_mode/DBG_021913_R2_pair_mode_primers_trimmed.fastq /Users/jessie/Dropbox/jessie/russula_illumina/Russula_BC/DBG_021913_R1.fastq /Users/jessie/Dropbox/jessie/russula_illumina/Russula_BC/DBG_021913_R2.fastq\n",
      "\n"
     ]
    },
    {
     "name": "stderr",
     "output_type": "stream",
     "text": [
      "\r",
      " 23%|██▎       | 46/196 [01:19<03:08,  1.25s/it]"
     ]
    },
    {
     "name": "stdout",
     "output_type": "stream",
     "text": [
      "cutadapt -g GTGARTCATCGAATCTTTG -G TCCTCCGCTTATTGATATGC                 -a GCATATCAATAAGCGGAGGA -A CAAAGATTCGATGAYTCAC                 -m 200 --info-file 1_remove_primers/pair_mode/DBG_021916_pair_mode_cutadapt_info_file.txt -o 1_remove_primers/pair_mode/DBG_021916_R1_pair_mode_primers_trimmed.fastq -p 1_remove_primers/pair_mode/DBG_021916_R2_pair_mode_primers_trimmed.fastq /Users/jessie/Dropbox/jessie/russula_illumina/Russula_BC/DBG_021916_R1.fastq /Users/jessie/Dropbox/jessie/russula_illumina/Russula_BC/DBG_021916_R2.fastq\n",
      "\n"
     ]
    },
    {
     "name": "stderr",
     "output_type": "stream",
     "text": [
      "\r",
      " 24%|██▍       | 47/196 [01:21<03:33,  1.44s/it]"
     ]
    },
    {
     "name": "stdout",
     "output_type": "stream",
     "text": [
      "cutadapt -g GTGARTCATCGAATCTTTG -G TCCTCCGCTTATTGATATGC                 -a GCATATCAATAAGCGGAGGA -A CAAAGATTCGATGAYTCAC                 -m 200 --info-file 1_remove_primers/pair_mode/DBG_022010_pair_mode_cutadapt_info_file.txt -o 1_remove_primers/pair_mode/DBG_022010_R1_pair_mode_primers_trimmed.fastq -p 1_remove_primers/pair_mode/DBG_022010_R2_pair_mode_primers_trimmed.fastq /Users/jessie/Dropbox/jessie/russula_illumina/Russula_BC/DBG_022010_R1.fastq /Users/jessie/Dropbox/jessie/russula_illumina/Russula_BC/DBG_022010_R2.fastq\n",
      "\n"
     ]
    },
    {
     "name": "stderr",
     "output_type": "stream",
     "text": [
      "\r",
      " 24%|██▍       | 48/196 [01:22<03:25,  1.39s/it]"
     ]
    },
    {
     "name": "stdout",
     "output_type": "stream",
     "text": [
      "cutadapt -g GTGARTCATCGAATCTTTG -G TCCTCCGCTTATTGATATGC                 -a GCATATCAATAAGCGGAGGA -A CAAAGATTCGATGAYTCAC                 -m 200 --info-file 1_remove_primers/pair_mode/DBG_022052_pair_mode_cutadapt_info_file.txt -o 1_remove_primers/pair_mode/DBG_022052_R1_pair_mode_primers_trimmed.fastq -p 1_remove_primers/pair_mode/DBG_022052_R2_pair_mode_primers_trimmed.fastq /Users/jessie/Dropbox/jessie/russula_illumina/Russula_BC/DBG_022052_R1.fastq /Users/jessie/Dropbox/jessie/russula_illumina/Russula_BC/DBG_022052_R2.fastq\n",
      "\n"
     ]
    },
    {
     "name": "stderr",
     "output_type": "stream",
     "text": [
      "\r",
      " 25%|██▌       | 49/196 [01:24<03:27,  1.41s/it]"
     ]
    },
    {
     "name": "stdout",
     "output_type": "stream",
     "text": [
      "cutadapt -g GTGARTCATCGAATCTTTG -G TCCTCCGCTTATTGATATGC                 -a GCATATCAATAAGCGGAGGA -A CAAAGATTCGATGAYTCAC                 -m 200 --info-file 1_remove_primers/pair_mode/DBG_022059_pair_mode_cutadapt_info_file.txt -o 1_remove_primers/pair_mode/DBG_022059_R1_pair_mode_primers_trimmed.fastq -p 1_remove_primers/pair_mode/DBG_022059_R2_pair_mode_primers_trimmed.fastq /Users/jessie/Dropbox/jessie/russula_illumina/Russula_BC/DBG_022059_R1.fastq /Users/jessie/Dropbox/jessie/russula_illumina/Russula_BC/DBG_022059_R2.fastq\n",
      "\n"
     ]
    },
    {
     "name": "stderr",
     "output_type": "stream",
     "text": [
      "\r",
      " 26%|██▌       | 50/196 [01:25<03:09,  1.30s/it]"
     ]
    },
    {
     "name": "stdout",
     "output_type": "stream",
     "text": [
      "cutadapt -g GTGARTCATCGAATCTTTG -G TCCTCCGCTTATTGATATGC                 -a GCATATCAATAAGCGGAGGA -A CAAAGATTCGATGAYTCAC                 -m 200 --info-file 1_remove_primers/pair_mode/DBG_022089_pair_mode_cutadapt_info_file.txt -o 1_remove_primers/pair_mode/DBG_022089_R1_pair_mode_primers_trimmed.fastq -p 1_remove_primers/pair_mode/DBG_022089_R2_pair_mode_primers_trimmed.fastq /Users/jessie/Dropbox/jessie/russula_illumina/Russula_BC/DBG_022089_R1.fastq /Users/jessie/Dropbox/jessie/russula_illumina/Russula_BC/DBG_022089_R2.fastq\n",
      "\n"
     ]
    },
    {
     "name": "stderr",
     "output_type": "stream",
     "text": [
      "\r",
      " 26%|██▌       | 51/196 [01:27<03:35,  1.49s/it]"
     ]
    },
    {
     "name": "stdout",
     "output_type": "stream",
     "text": [
      "cutadapt -g GTGARTCATCGAATCTTTG -G TCCTCCGCTTATTGATATGC                 -a GCATATCAATAAGCGGAGGA -A CAAAGATTCGATGAYTCAC                 -m 200 --info-file 1_remove_primers/pair_mode/DBG_022133_pair_mode_cutadapt_info_file.txt -o 1_remove_primers/pair_mode/DBG_022133_R1_pair_mode_primers_trimmed.fastq -p 1_remove_primers/pair_mode/DBG_022133_R2_pair_mode_primers_trimmed.fastq /Users/jessie/Dropbox/jessie/russula_illumina/Russula_BC/DBG_022133_R1.fastq /Users/jessie/Dropbox/jessie/russula_illumina/Russula_BC/DBG_022133_R2.fastq\n",
      "\n"
     ]
    },
    {
     "name": "stderr",
     "output_type": "stream",
     "text": [
      "\r",
      " 27%|██▋       | 52/196 [01:28<03:12,  1.34s/it]"
     ]
    },
    {
     "name": "stdout",
     "output_type": "stream",
     "text": [
      "cutadapt -g GTGARTCATCGAATCTTTG -G TCCTCCGCTTATTGATATGC                 -a GCATATCAATAAGCGGAGGA -A CAAAGATTCGATGAYTCAC                 -m 200 --info-file 1_remove_primers/pair_mode/DBG_022161_pair_mode_cutadapt_info_file.txt -o 1_remove_primers/pair_mode/DBG_022161_R1_pair_mode_primers_trimmed.fastq -p 1_remove_primers/pair_mode/DBG_022161_R2_pair_mode_primers_trimmed.fastq /Users/jessie/Dropbox/jessie/russula_illumina/Russula_BC/DBG_022161_R1.fastq /Users/jessie/Dropbox/jessie/russula_illumina/Russula_BC/DBG_022161_R2.fastq\n",
      "\n"
     ]
    },
    {
     "name": "stderr",
     "output_type": "stream",
     "text": [
      "\r",
      " 27%|██▋       | 53/196 [01:29<02:56,  1.24s/it]"
     ]
    },
    {
     "name": "stdout",
     "output_type": "stream",
     "text": [
      "cutadapt -g GTGARTCATCGAATCTTTG -G TCCTCCGCTTATTGATATGC                 -a GCATATCAATAAGCGGAGGA -A CAAAGATTCGATGAYTCAC                 -m 200 --info-file 1_remove_primers/pair_mode/DBG_022163_pair_mode_cutadapt_info_file.txt -o 1_remove_primers/pair_mode/DBG_022163_R1_pair_mode_primers_trimmed.fastq -p 1_remove_primers/pair_mode/DBG_022163_R2_pair_mode_primers_trimmed.fastq /Users/jessie/Dropbox/jessie/russula_illumina/Russula_BC/DBG_022163_R1.fastq /Users/jessie/Dropbox/jessie/russula_illumina/Russula_BC/DBG_022163_R2.fastq\n",
      "\n"
     ]
    },
    {
     "name": "stderr",
     "output_type": "stream",
     "text": [
      "\r",
      " 28%|██▊       | 54/196 [01:30<02:53,  1.22s/it]"
     ]
    },
    {
     "name": "stdout",
     "output_type": "stream",
     "text": [
      "cutadapt -g GTGARTCATCGAATCTTTG -G TCCTCCGCTTATTGATATGC                 -a GCATATCAATAAGCGGAGGA -A CAAAGATTCGATGAYTCAC                 -m 200 --info-file 1_remove_primers/pair_mode/DBG_022164_pair_mode_cutadapt_info_file.txt -o 1_remove_primers/pair_mode/DBG_022164_R1_pair_mode_primers_trimmed.fastq -p 1_remove_primers/pair_mode/DBG_022164_R2_pair_mode_primers_trimmed.fastq /Users/jessie/Dropbox/jessie/russula_illumina/Russula_BC/DBG_022164_R1.fastq /Users/jessie/Dropbox/jessie/russula_illumina/Russula_BC/DBG_022164_R2.fastq\n",
      "\n"
     ]
    },
    {
     "name": "stderr",
     "output_type": "stream",
     "text": [
      "\r",
      " 28%|██▊       | 55/196 [01:31<02:50,  1.21s/it]"
     ]
    },
    {
     "name": "stdout",
     "output_type": "stream",
     "text": [
      "cutadapt -g GTGARTCATCGAATCTTTG -G TCCTCCGCTTATTGATATGC                 -a GCATATCAATAAGCGGAGGA -A CAAAGATTCGATGAYTCAC                 -m 200 --info-file 1_remove_primers/pair_mode/DBG_022210_pair_mode_cutadapt_info_file.txt -o 1_remove_primers/pair_mode/DBG_022210_R1_pair_mode_primers_trimmed.fastq -p 1_remove_primers/pair_mode/DBG_022210_R2_pair_mode_primers_trimmed.fastq /Users/jessie/Dropbox/jessie/russula_illumina/Russula_BC/DBG_022210_R1.fastq /Users/jessie/Dropbox/jessie/russula_illumina/Russula_BC/DBG_022210_R2.fastq\n",
      "\n"
     ]
    },
    {
     "name": "stderr",
     "output_type": "stream",
     "text": [
      "\r",
      " 29%|██▊       | 56/196 [01:33<02:59,  1.28s/it]"
     ]
    },
    {
     "name": "stdout",
     "output_type": "stream",
     "text": [
      "cutadapt -g GTGARTCATCGAATCTTTG -G TCCTCCGCTTATTGATATGC                 -a GCATATCAATAAGCGGAGGA -A CAAAGATTCGATGAYTCAC                 -m 200 --info-file 1_remove_primers/pair_mode/DBG_022211_pair_mode_cutadapt_info_file.txt -o 1_remove_primers/pair_mode/DBG_022211_R1_pair_mode_primers_trimmed.fastq -p 1_remove_primers/pair_mode/DBG_022211_R2_pair_mode_primers_trimmed.fastq /Users/jessie/Dropbox/jessie/russula_illumina/Russula_BC/DBG_022211_R1.fastq /Users/jessie/Dropbox/jessie/russula_illumina/Russula_BC/DBG_022211_R2.fastq\n",
      "\n"
     ]
    },
    {
     "name": "stderr",
     "output_type": "stream",
     "text": [
      "\r",
      " 29%|██▉       | 57/196 [01:33<02:22,  1.03s/it]"
     ]
    },
    {
     "name": "stdout",
     "output_type": "stream",
     "text": [
      "cutadapt -g GTGARTCATCGAATCTTTG -G TCCTCCGCTTATTGATATGC                 -a GCATATCAATAAGCGGAGGA -A CAAAGATTCGATGAYTCAC                 -m 200 --info-file 1_remove_primers/pair_mode/DBG_022327_pair_mode_cutadapt_info_file.txt -o 1_remove_primers/pair_mode/DBG_022327_R1_pair_mode_primers_trimmed.fastq -p 1_remove_primers/pair_mode/DBG_022327_R2_pair_mode_primers_trimmed.fastq /Users/jessie/Dropbox/jessie/russula_illumina/Russula_BC/DBG_022327_R1.fastq /Users/jessie/Dropbox/jessie/russula_illumina/Russula_BC/DBG_022327_R2.fastq\n",
      "\n"
     ]
    },
    {
     "name": "stderr",
     "output_type": "stream",
     "text": [
      "\r",
      " 30%|██▉       | 58/196 [01:34<02:11,  1.05it/s]"
     ]
    },
    {
     "name": "stdout",
     "output_type": "stream",
     "text": [
      "cutadapt -g GTGARTCATCGAATCTTTG -G TCCTCCGCTTATTGATATGC                 -a GCATATCAATAAGCGGAGGA -A CAAAGATTCGATGAYTCAC                 -m 200 --info-file 1_remove_primers/pair_mode/DBG_022439_pair_mode_cutadapt_info_file.txt -o 1_remove_primers/pair_mode/DBG_022439_R1_pair_mode_primers_trimmed.fastq -p 1_remove_primers/pair_mode/DBG_022439_R2_pair_mode_primers_trimmed.fastq /Users/jessie/Dropbox/jessie/russula_illumina/Russula_BC/DBG_022439_R1.fastq /Users/jessie/Dropbox/jessie/russula_illumina/Russula_BC/DBG_022439_R2.fastq\n",
      "\n"
     ]
    },
    {
     "name": "stderr",
     "output_type": "stream",
     "text": [
      "\r",
      " 30%|███       | 59/196 [01:34<01:47,  1.27it/s]"
     ]
    },
    {
     "name": "stdout",
     "output_type": "stream",
     "text": [
      "cutadapt -g GTGARTCATCGAATCTTTG -G TCCTCCGCTTATTGATATGC                 -a GCATATCAATAAGCGGAGGA -A CAAAGATTCGATGAYTCAC                 -m 200 --info-file 1_remove_primers/pair_mode/DBG_022496_pair_mode_cutadapt_info_file.txt -o 1_remove_primers/pair_mode/DBG_022496_R1_pair_mode_primers_trimmed.fastq -p 1_remove_primers/pair_mode/DBG_022496_R2_pair_mode_primers_trimmed.fastq /Users/jessie/Dropbox/jessie/russula_illumina/Russula_BC/DBG_022496_R1.fastq /Users/jessie/Dropbox/jessie/russula_illumina/Russula_BC/DBG_022496_R2.fastq\n",
      "\n"
     ]
    },
    {
     "name": "stderr",
     "output_type": "stream",
     "text": [
      "\r",
      " 31%|███       | 60/196 [01:35<01:40,  1.35it/s]"
     ]
    },
    {
     "name": "stdout",
     "output_type": "stream",
     "text": [
      "cutadapt -g GTGARTCATCGAATCTTTG -G TCCTCCGCTTATTGATATGC                 -a GCATATCAATAAGCGGAGGA -A CAAAGATTCGATGAYTCAC                 -m 200 --info-file 1_remove_primers/pair_mode/DBG_022498_pair_mode_cutadapt_info_file.txt -o 1_remove_primers/pair_mode/DBG_022498_R1_pair_mode_primers_trimmed.fastq -p 1_remove_primers/pair_mode/DBG_022498_R2_pair_mode_primers_trimmed.fastq /Users/jessie/Dropbox/jessie/russula_illumina/Russula_BC/DBG_022498_R1.fastq /Users/jessie/Dropbox/jessie/russula_illumina/Russula_BC/DBG_022498_R2.fastq\n",
      "\n"
     ]
    },
    {
     "name": "stderr",
     "output_type": "stream",
     "text": [
      "\r",
      " 31%|███       | 61/196 [01:35<01:27,  1.55it/s]"
     ]
    },
    {
     "name": "stdout",
     "output_type": "stream",
     "text": [
      "cutadapt -g GTGARTCATCGAATCTTTG -G TCCTCCGCTTATTGATATGC                 -a GCATATCAATAAGCGGAGGA -A CAAAGATTCGATGAYTCAC                 -m 200 --info-file 1_remove_primers/pair_mode/DBG_022501_pair_mode_cutadapt_info_file.txt -o 1_remove_primers/pair_mode/DBG_022501_R1_pair_mode_primers_trimmed.fastq -p 1_remove_primers/pair_mode/DBG_022501_R2_pair_mode_primers_trimmed.fastq /Users/jessie/Dropbox/jessie/russula_illumina/Russula_BC/DBG_022501_R1.fastq /Users/jessie/Dropbox/jessie/russula_illumina/Russula_BC/DBG_022501_R2.fastq\n",
      "\n"
     ]
    },
    {
     "name": "stderr",
     "output_type": "stream",
     "text": [
      "\r",
      " 32%|███▏      | 62/196 [01:36<01:29,  1.49it/s]"
     ]
    },
    {
     "name": "stdout",
     "output_type": "stream",
     "text": [
      "cutadapt -g GTGARTCATCGAATCTTTG -G TCCTCCGCTTATTGATATGC                 -a GCATATCAATAAGCGGAGGA -A CAAAGATTCGATGAYTCAC                 -m 200 --info-file 1_remove_primers/pair_mode/DBG_022613_pair_mode_cutadapt_info_file.txt -o 1_remove_primers/pair_mode/DBG_022613_R1_pair_mode_primers_trimmed.fastq -p 1_remove_primers/pair_mode/DBG_022613_R2_pair_mode_primers_trimmed.fastq /Users/jessie/Dropbox/jessie/russula_illumina/Russula_BC/DBG_022613_R1.fastq /Users/jessie/Dropbox/jessie/russula_illumina/Russula_BC/DBG_022613_R2.fastq\n",
      "\n"
     ]
    },
    {
     "name": "stderr",
     "output_type": "stream",
     "text": [
      "\r",
      " 32%|███▏      | 63/196 [01:37<01:42,  1.29it/s]"
     ]
    },
    {
     "name": "stdout",
     "output_type": "stream",
     "text": [
      "cutadapt -g GTGARTCATCGAATCTTTG -G TCCTCCGCTTATTGATATGC                 -a GCATATCAATAAGCGGAGGA -A CAAAGATTCGATGAYTCAC                 -m 200 --info-file 1_remove_primers/pair_mode/DBG_022683_pair_mode_cutadapt_info_file.txt -o 1_remove_primers/pair_mode/DBG_022683_R1_pair_mode_primers_trimmed.fastq -p 1_remove_primers/pair_mode/DBG_022683_R2_pair_mode_primers_trimmed.fastq /Users/jessie/Dropbox/jessie/russula_illumina/Russula_BC/DBG_022683_R1.fastq /Users/jessie/Dropbox/jessie/russula_illumina/Russula_BC/DBG_022683_R2.fastq\n",
      "\n"
     ]
    },
    {
     "name": "stderr",
     "output_type": "stream",
     "text": [
      "\r",
      " 33%|███▎      | 64/196 [01:38<01:43,  1.27it/s]"
     ]
    },
    {
     "name": "stdout",
     "output_type": "stream",
     "text": [
      "cutadapt -g GTGARTCATCGAATCTTTG -G TCCTCCGCTTATTGATATGC                 -a GCATATCAATAAGCGGAGGA -A CAAAGATTCGATGAYTCAC                 -m 200 --info-file 1_remove_primers/pair_mode/DBG_022699_pair_mode_cutadapt_info_file.txt -o 1_remove_primers/pair_mode/DBG_022699_R1_pair_mode_primers_trimmed.fastq -p 1_remove_primers/pair_mode/DBG_022699_R2_pair_mode_primers_trimmed.fastq /Users/jessie/Dropbox/jessie/russula_illumina/Russula_BC/DBG_022699_R1.fastq /Users/jessie/Dropbox/jessie/russula_illumina/Russula_BC/DBG_022699_R2.fastq\n",
      "\n"
     ]
    },
    {
     "name": "stderr",
     "output_type": "stream",
     "text": [
      "\r",
      " 33%|███▎      | 65/196 [01:39<01:51,  1.18it/s]"
     ]
    },
    {
     "name": "stdout",
     "output_type": "stream",
     "text": [
      "cutadapt -g GTGARTCATCGAATCTTTG -G TCCTCCGCTTATTGATATGC                 -a GCATATCAATAAGCGGAGGA -A CAAAGATTCGATGAYTCAC                 -m 200 --info-file 1_remove_primers/pair_mode/DBG_023005_pair_mode_cutadapt_info_file.txt -o 1_remove_primers/pair_mode/DBG_023005_R1_pair_mode_primers_trimmed.fastq -p 1_remove_primers/pair_mode/DBG_023005_R2_pair_mode_primers_trimmed.fastq /Users/jessie/Dropbox/jessie/russula_illumina/Russula_BC/DBG_023005_R1.fastq /Users/jessie/Dropbox/jessie/russula_illumina/Russula_BC/DBG_023005_R2.fastq\n",
      "\n"
     ]
    },
    {
     "name": "stderr",
     "output_type": "stream",
     "text": [
      "\r",
      " 34%|███▎      | 66/196 [01:41<02:41,  1.24s/it]"
     ]
    },
    {
     "name": "stdout",
     "output_type": "stream",
     "text": [
      "cutadapt -g GTGARTCATCGAATCTTTG -G TCCTCCGCTTATTGATATGC                 -a GCATATCAATAAGCGGAGGA -A CAAAGATTCGATGAYTCAC                 -m 200 --info-file 1_remove_primers/pair_mode/DBG_023007_pair_mode_cutadapt_info_file.txt -o 1_remove_primers/pair_mode/DBG_023007_R1_pair_mode_primers_trimmed.fastq -p 1_remove_primers/pair_mode/DBG_023007_R2_pair_mode_primers_trimmed.fastq /Users/jessie/Dropbox/jessie/russula_illumina/Russula_BC/DBG_023007_R1.fastq /Users/jessie/Dropbox/jessie/russula_illumina/Russula_BC/DBG_023007_R2.fastq\n",
      "\n"
     ]
    },
    {
     "name": "stderr",
     "output_type": "stream",
     "text": [
      "\r",
      " 34%|███▍      | 67/196 [01:42<02:26,  1.14s/it]"
     ]
    },
    {
     "name": "stdout",
     "output_type": "stream",
     "text": [
      "cutadapt -g GTGARTCATCGAATCTTTG -G TCCTCCGCTTATTGATATGC                 -a GCATATCAATAAGCGGAGGA -A CAAAGATTCGATGAYTCAC                 -m 200 --info-file 1_remove_primers/pair_mode/DBG_023037_pair_mode_cutadapt_info_file.txt -o 1_remove_primers/pair_mode/DBG_023037_R1_pair_mode_primers_trimmed.fastq -p 1_remove_primers/pair_mode/DBG_023037_R2_pair_mode_primers_trimmed.fastq /Users/jessie/Dropbox/jessie/russula_illumina/Russula_BC/DBG_023037_R1.fastq /Users/jessie/Dropbox/jessie/russula_illumina/Russula_BC/DBG_023037_R2.fastq\n",
      "\n"
     ]
    },
    {
     "name": "stderr",
     "output_type": "stream",
     "text": [
      "\r",
      " 35%|███▍      | 68/196 [01:44<02:48,  1.32s/it]"
     ]
    },
    {
     "name": "stdout",
     "output_type": "stream",
     "text": [
      "cutadapt -g GTGARTCATCGAATCTTTG -G TCCTCCGCTTATTGATATGC                 -a GCATATCAATAAGCGGAGGA -A CAAAGATTCGATGAYTCAC                 -m 200 --info-file 1_remove_primers/pair_mode/DBG_023218_pair_mode_cutadapt_info_file.txt -o 1_remove_primers/pair_mode/DBG_023218_R1_pair_mode_primers_trimmed.fastq -p 1_remove_primers/pair_mode/DBG_023218_R2_pair_mode_primers_trimmed.fastq /Users/jessie/Dropbox/jessie/russula_illumina/Russula_BC/DBG_023218_R1.fastq /Users/jessie/Dropbox/jessie/russula_illumina/Russula_BC/DBG_023218_R2.fastq\n",
      "\n"
     ]
    },
    {
     "name": "stderr",
     "output_type": "stream",
     "text": [
      "\r",
      " 35%|███▌      | 69/196 [01:45<02:44,  1.30s/it]"
     ]
    },
    {
     "name": "stdout",
     "output_type": "stream",
     "text": [
      "cutadapt -g GTGARTCATCGAATCTTTG -G TCCTCCGCTTATTGATATGC                 -a GCATATCAATAAGCGGAGGA -A CAAAGATTCGATGAYTCAC                 -m 200 --info-file 1_remove_primers/pair_mode/DBG_023253_pair_mode_cutadapt_info_file.txt -o 1_remove_primers/pair_mode/DBG_023253_R1_pair_mode_primers_trimmed.fastq -p 1_remove_primers/pair_mode/DBG_023253_R2_pair_mode_primers_trimmed.fastq /Users/jessie/Dropbox/jessie/russula_illumina/Russula_BC/DBG_023253_R1.fastq /Users/jessie/Dropbox/jessie/russula_illumina/Russula_BC/DBG_023253_R2.fastq\n",
      "\n"
     ]
    },
    {
     "name": "stderr",
     "output_type": "stream",
     "text": [
      "\r",
      " 36%|███▌      | 70/196 [01:46<02:38,  1.26s/it]"
     ]
    },
    {
     "name": "stdout",
     "output_type": "stream",
     "text": [
      "cutadapt -g GTGARTCATCGAATCTTTG -G TCCTCCGCTTATTGATATGC                 -a GCATATCAATAAGCGGAGGA -A CAAAGATTCGATGAYTCAC                 -m 200 --info-file 1_remove_primers/pair_mode/DBG_023286A_pair_mode_cutadapt_info_file.txt -o 1_remove_primers/pair_mode/DBG_023286A_R1_pair_mode_primers_trimmed.fastq -p 1_remove_primers/pair_mode/DBG_023286A_R2_pair_mode_primers_trimmed.fastq /Users/jessie/Dropbox/jessie/russula_illumina/Russula_BC/DBG_023286A_R1.fastq /Users/jessie/Dropbox/jessie/russula_illumina/Russula_BC/DBG_023286A_R2.fastq\n",
      "\n"
     ]
    },
    {
     "name": "stderr",
     "output_type": "stream",
     "text": [
      "\r",
      " 36%|███▌      | 71/196 [01:48<03:03,  1.47s/it]"
     ]
    },
    {
     "name": "stdout",
     "output_type": "stream",
     "text": [
      "cutadapt -g GTGARTCATCGAATCTTTG -G TCCTCCGCTTATTGATATGC                 -a GCATATCAATAAGCGGAGGA -A CAAAGATTCGATGAYTCAC                 -m 200 --info-file 1_remove_primers/pair_mode/DBG_023286B_pair_mode_cutadapt_info_file.txt -o 1_remove_primers/pair_mode/DBG_023286B_R1_pair_mode_primers_trimmed.fastq -p 1_remove_primers/pair_mode/DBG_023286B_R2_pair_mode_primers_trimmed.fastq /Users/jessie/Dropbox/jessie/russula_illumina/Russula_BC/DBG_023286B_R1.fastq /Users/jessie/Dropbox/jessie/russula_illumina/Russula_BC/DBG_023286B_R2.fastq\n",
      "\n"
     ]
    },
    {
     "name": "stderr",
     "output_type": "stream",
     "text": [
      "\r",
      " 37%|███▋      | 72/196 [01:49<02:58,  1.44s/it]"
     ]
    },
    {
     "name": "stdout",
     "output_type": "stream",
     "text": [
      "cutadapt -g GTGARTCATCGAATCTTTG -G TCCTCCGCTTATTGATATGC                 -a GCATATCAATAAGCGGAGGA -A CAAAGATTCGATGAYTCAC                 -m 200 --info-file 1_remove_primers/pair_mode/DBG_023286_pair_mode_cutadapt_info_file.txt -o 1_remove_primers/pair_mode/DBG_023286_R1_pair_mode_primers_trimmed.fastq -p 1_remove_primers/pair_mode/DBG_023286_R2_pair_mode_primers_trimmed.fastq /Users/jessie/Dropbox/jessie/russula_illumina/Russula_BC/DBG_023286_R1.fastq /Users/jessie/Dropbox/jessie/russula_illumina/Russula_BC/DBG_023286_R2.fastq\n",
      "\n"
     ]
    },
    {
     "name": "stderr",
     "output_type": "stream",
     "text": [
      "\r",
      " 37%|███▋      | 73/196 [01:52<03:30,  1.71s/it]"
     ]
    },
    {
     "name": "stdout",
     "output_type": "stream",
     "text": [
      "cutadapt -g GTGARTCATCGAATCTTTG -G TCCTCCGCTTATTGATATGC                 -a GCATATCAATAAGCGGAGGA -A CAAAGATTCGATGAYTCAC                 -m 200 --info-file 1_remove_primers/pair_mode/DBG_023424_pair_mode_cutadapt_info_file.txt -o 1_remove_primers/pair_mode/DBG_023424_R1_pair_mode_primers_trimmed.fastq -p 1_remove_primers/pair_mode/DBG_023424_R2_pair_mode_primers_trimmed.fastq /Users/jessie/Dropbox/jessie/russula_illumina/Russula_BC/DBG_023424_R1.fastq /Users/jessie/Dropbox/jessie/russula_illumina/Russula_BC/DBG_023424_R2.fastq\n",
      "\n"
     ]
    },
    {
     "name": "stderr",
     "output_type": "stream",
     "text": [
      "\r",
      " 38%|███▊      | 74/196 [01:53<03:14,  1.59s/it]"
     ]
    },
    {
     "name": "stdout",
     "output_type": "stream",
     "text": [
      "cutadapt -g GTGARTCATCGAATCTTTG -G TCCTCCGCTTATTGATATGC                 -a GCATATCAATAAGCGGAGGA -A CAAAGATTCGATGAYTCAC                 -m 200 --info-file 1_remove_primers/pair_mode/DBG_023460_pair_mode_cutadapt_info_file.txt -o 1_remove_primers/pair_mode/DBG_023460_R1_pair_mode_primers_trimmed.fastq -p 1_remove_primers/pair_mode/DBG_023460_R2_pair_mode_primers_trimmed.fastq /Users/jessie/Dropbox/jessie/russula_illumina/Russula_BC/DBG_023460_R1.fastq /Users/jessie/Dropbox/jessie/russula_illumina/Russula_BC/DBG_023460_R2.fastq\n",
      "\n"
     ]
    },
    {
     "name": "stderr",
     "output_type": "stream",
     "text": [
      "\r",
      " 38%|███▊      | 75/196 [01:54<02:31,  1.25s/it]"
     ]
    },
    {
     "name": "stdout",
     "output_type": "stream",
     "text": [
      "cutadapt -g GTGARTCATCGAATCTTTG -G TCCTCCGCTTATTGATATGC                 -a GCATATCAATAAGCGGAGGA -A CAAAGATTCGATGAYTCAC                 -m 200 --info-file 1_remove_primers/pair_mode/DBG_023461_pair_mode_cutadapt_info_file.txt -o 1_remove_primers/pair_mode/DBG_023461_R1_pair_mode_primers_trimmed.fastq -p 1_remove_primers/pair_mode/DBG_023461_R2_pair_mode_primers_trimmed.fastq /Users/jessie/Dropbox/jessie/russula_illumina/Russula_BC/DBG_023461_R1.fastq /Users/jessie/Dropbox/jessie/russula_illumina/Russula_BC/DBG_023461_R2.fastq\n",
      "\n"
     ]
    },
    {
     "name": "stderr",
     "output_type": "stream",
     "text": [
      "\r",
      " 39%|███▉      | 76/196 [01:54<02:06,  1.06s/it]"
     ]
    },
    {
     "name": "stdout",
     "output_type": "stream",
     "text": [
      "cutadapt -g GTGARTCATCGAATCTTTG -G TCCTCCGCTTATTGATATGC                 -a GCATATCAATAAGCGGAGGA -A CAAAGATTCGATGAYTCAC                 -m 200 --info-file 1_remove_primers/pair_mode/DBG_023519_pair_mode_cutadapt_info_file.txt -o 1_remove_primers/pair_mode/DBG_023519_R1_pair_mode_primers_trimmed.fastq -p 1_remove_primers/pair_mode/DBG_023519_R2_pair_mode_primers_trimmed.fastq /Users/jessie/Dropbox/jessie/russula_illumina/Russula_BC/DBG_023519_R1.fastq /Users/jessie/Dropbox/jessie/russula_illumina/Russula_BC/DBG_023519_R2.fastq\n",
      "\n"
     ]
    },
    {
     "name": "stderr",
     "output_type": "stream",
     "text": [
      "\r",
      " 39%|███▉      | 77/196 [01:59<04:14,  2.14s/it]"
     ]
    },
    {
     "name": "stdout",
     "output_type": "stream",
     "text": [
      "cutadapt -g GTGARTCATCGAATCTTTG -G TCCTCCGCTTATTGATATGC                 -a GCATATCAATAAGCGGAGGA -A CAAAGATTCGATGAYTCAC                 -m 200 --info-file 1_remove_primers/pair_mode/DBG_023538_pair_mode_cutadapt_info_file.txt -o 1_remove_primers/pair_mode/DBG_023538_R1_pair_mode_primers_trimmed.fastq -p 1_remove_primers/pair_mode/DBG_023538_R2_pair_mode_primers_trimmed.fastq /Users/jessie/Dropbox/jessie/russula_illumina/Russula_BC/DBG_023538_R1.fastq /Users/jessie/Dropbox/jessie/russula_illumina/Russula_BC/DBG_023538_R2.fastq\n",
      "\n"
     ]
    },
    {
     "name": "stderr",
     "output_type": "stream",
     "text": [
      "\r",
      " 40%|███▉      | 78/196 [02:01<04:13,  2.15s/it]"
     ]
    },
    {
     "name": "stdout",
     "output_type": "stream",
     "text": [
      "cutadapt -g GTGARTCATCGAATCTTTG -G TCCTCCGCTTATTGATATGC                 -a GCATATCAATAAGCGGAGGA -A CAAAGATTCGATGAYTCAC                 -m 200 --info-file 1_remove_primers/pair_mode/DBG_023552A_pair_mode_cutadapt_info_file.txt -o 1_remove_primers/pair_mode/DBG_023552A_R1_pair_mode_primers_trimmed.fastq -p 1_remove_primers/pair_mode/DBG_023552A_R2_pair_mode_primers_trimmed.fastq /Users/jessie/Dropbox/jessie/russula_illumina/Russula_BC/DBG_023552A_R1.fastq /Users/jessie/Dropbox/jessie/russula_illumina/Russula_BC/DBG_023552A_R2.fastq\n",
      "\n"
     ]
    },
    {
     "name": "stderr",
     "output_type": "stream",
     "text": [
      "\r",
      " 40%|████      | 79/196 [02:02<03:37,  1.86s/it]"
     ]
    },
    {
     "name": "stdout",
     "output_type": "stream",
     "text": [
      "cutadapt -g GTGARTCATCGAATCTTTG -G TCCTCCGCTTATTGATATGC                 -a GCATATCAATAAGCGGAGGA -A CAAAGATTCGATGAYTCAC                 -m 200 --info-file 1_remove_primers/pair_mode/DBG_023552B_pair_mode_cutadapt_info_file.txt -o 1_remove_primers/pair_mode/DBG_023552B_R1_pair_mode_primers_trimmed.fastq -p 1_remove_primers/pair_mode/DBG_023552B_R2_pair_mode_primers_trimmed.fastq /Users/jessie/Dropbox/jessie/russula_illumina/Russula_BC/DBG_023552B_R1.fastq /Users/jessie/Dropbox/jessie/russula_illumina/Russula_BC/DBG_023552B_R2.fastq\n",
      "\n"
     ]
    },
    {
     "name": "stderr",
     "output_type": "stream",
     "text": [
      "\r",
      " 41%|████      | 80/196 [02:03<02:45,  1.42s/it]"
     ]
    },
    {
     "name": "stdout",
     "output_type": "stream",
     "text": [
      "cutadapt -g GTGARTCATCGAATCTTTG -G TCCTCCGCTTATTGATATGC                 -a GCATATCAATAAGCGGAGGA -A CAAAGATTCGATGAYTCAC                 -m 200 --info-file 1_remove_primers/pair_mode/DBG_023552_pair_mode_cutadapt_info_file.txt -o 1_remove_primers/pair_mode/DBG_023552_R1_pair_mode_primers_trimmed.fastq -p 1_remove_primers/pair_mode/DBG_023552_R2_pair_mode_primers_trimmed.fastq /Users/jessie/Dropbox/jessie/russula_illumina/Russula_BC/DBG_023552_R1.fastq /Users/jessie/Dropbox/jessie/russula_illumina/Russula_BC/DBG_023552_R2.fastq\n",
      "\n"
     ]
    },
    {
     "name": "stderr",
     "output_type": "stream",
     "text": [
      "\r",
      " 41%|████▏     | 81/196 [02:04<02:40,  1.40s/it]"
     ]
    },
    {
     "name": "stdout",
     "output_type": "stream",
     "text": [
      "cutadapt -g GTGARTCATCGAATCTTTG -G TCCTCCGCTTATTGATATGC                 -a GCATATCAATAAGCGGAGGA -A CAAAGATTCGATGAYTCAC                 -m 200 --info-file 1_remove_primers/pair_mode/DBG_023553_pair_mode_cutadapt_info_file.txt -o 1_remove_primers/pair_mode/DBG_023553_R1_pair_mode_primers_trimmed.fastq -p 1_remove_primers/pair_mode/DBG_023553_R2_pair_mode_primers_trimmed.fastq /Users/jessie/Dropbox/jessie/russula_illumina/Russula_BC/DBG_023553_R1.fastq /Users/jessie/Dropbox/jessie/russula_illumina/Russula_BC/DBG_023553_R2.fastq\n",
      "\n"
     ]
    },
    {
     "name": "stderr",
     "output_type": "stream",
     "text": [
      "\r",
      " 42%|████▏     | 82/196 [02:04<02:07,  1.11s/it]"
     ]
    },
    {
     "name": "stdout",
     "output_type": "stream",
     "text": [
      "cutadapt -g GTGARTCATCGAATCTTTG -G TCCTCCGCTTATTGATATGC                 -a GCATATCAATAAGCGGAGGA -A CAAAGATTCGATGAYTCAC                 -m 200 --info-file 1_remove_primers/pair_mode/DBG_023600_pair_mode_cutadapt_info_file.txt -o 1_remove_primers/pair_mode/DBG_023600_R1_pair_mode_primers_trimmed.fastq -p 1_remove_primers/pair_mode/DBG_023600_R2_pair_mode_primers_trimmed.fastq /Users/jessie/Dropbox/jessie/russula_illumina/Russula_BC/DBG_023600_R1.fastq /Users/jessie/Dropbox/jessie/russula_illumina/Russula_BC/DBG_023600_R2.fastq\n",
      "\n"
     ]
    },
    {
     "name": "stderr",
     "output_type": "stream",
     "text": [
      "\r",
      " 42%|████▏     | 83/196 [02:05<01:42,  1.10it/s]"
     ]
    },
    {
     "name": "stdout",
     "output_type": "stream",
     "text": [
      "cutadapt -g GTGARTCATCGAATCTTTG -G TCCTCCGCTTATTGATATGC                 -a GCATATCAATAAGCGGAGGA -A CAAAGATTCGATGAYTCAC                 -m 200 --info-file 1_remove_primers/pair_mode/DBG_023755_pair_mode_cutadapt_info_file.txt -o 1_remove_primers/pair_mode/DBG_023755_R1_pair_mode_primers_trimmed.fastq -p 1_remove_primers/pair_mode/DBG_023755_R2_pair_mode_primers_trimmed.fastq /Users/jessie/Dropbox/jessie/russula_illumina/Russula_BC/DBG_023755_R1.fastq /Users/jessie/Dropbox/jessie/russula_illumina/Russula_BC/DBG_023755_R2.fastq\n",
      "\n"
     ]
    },
    {
     "name": "stderr",
     "output_type": "stream",
     "text": [
      "\r",
      " 43%|████▎     | 84/196 [02:05<01:26,  1.30it/s]"
     ]
    },
    {
     "name": "stdout",
     "output_type": "stream",
     "text": [
      "cutadapt -g GTGARTCATCGAATCTTTG -G TCCTCCGCTTATTGATATGC                 -a GCATATCAATAAGCGGAGGA -A CAAAGATTCGATGAYTCAC                 -m 200 --info-file 1_remove_primers/pair_mode/DBG_023756_pair_mode_cutadapt_info_file.txt -o 1_remove_primers/pair_mode/DBG_023756_R1_pair_mode_primers_trimmed.fastq -p 1_remove_primers/pair_mode/DBG_023756_R2_pair_mode_primers_trimmed.fastq /Users/jessie/Dropbox/jessie/russula_illumina/Russula_BC/DBG_023756_R1.fastq /Users/jessie/Dropbox/jessie/russula_illumina/Russula_BC/DBG_023756_R2.fastq\n",
      "\n"
     ]
    },
    {
     "name": "stderr",
     "output_type": "stream",
     "text": [
      "\r",
      " 43%|████▎     | 85/196 [02:06<01:24,  1.31it/s]"
     ]
    },
    {
     "name": "stdout",
     "output_type": "stream",
     "text": [
      "cutadapt -g GTGARTCATCGAATCTTTG -G TCCTCCGCTTATTGATATGC                 -a GCATATCAATAAGCGGAGGA -A CAAAGATTCGATGAYTCAC                 -m 200 --info-file 1_remove_primers/pair_mode/DBG_023757_pair_mode_cutadapt_info_file.txt -o 1_remove_primers/pair_mode/DBG_023757_R1_pair_mode_primers_trimmed.fastq -p 1_remove_primers/pair_mode/DBG_023757_R2_pair_mode_primers_trimmed.fastq /Users/jessie/Dropbox/jessie/russula_illumina/Russula_BC/DBG_023757_R1.fastq /Users/jessie/Dropbox/jessie/russula_illumina/Russula_BC/DBG_023757_R2.fastq\n",
      "\n"
     ]
    },
    {
     "name": "stderr",
     "output_type": "stream",
     "text": [
      "\r",
      " 44%|████▍     | 86/196 [02:07<01:20,  1.36it/s]"
     ]
    },
    {
     "name": "stdout",
     "output_type": "stream",
     "text": [
      "cutadapt -g GTGARTCATCGAATCTTTG -G TCCTCCGCTTATTGATATGC                 -a GCATATCAATAAGCGGAGGA -A CAAAGATTCGATGAYTCAC                 -m 200 --info-file 1_remove_primers/pair_mode/DBG_023761_pair_mode_cutadapt_info_file.txt -o 1_remove_primers/pair_mode/DBG_023761_R1_pair_mode_primers_trimmed.fastq -p 1_remove_primers/pair_mode/DBG_023761_R2_pair_mode_primers_trimmed.fastq /Users/jessie/Dropbox/jessie/russula_illumina/Russula_BC/DBG_023761_R1.fastq /Users/jessie/Dropbox/jessie/russula_illumina/Russula_BC/DBG_023761_R2.fastq\n",
      "\n"
     ]
    },
    {
     "name": "stderr",
     "output_type": "stream",
     "text": [
      "\r",
      " 44%|████▍     | 87/196 [02:08<01:43,  1.05it/s]"
     ]
    },
    {
     "name": "stdout",
     "output_type": "stream",
     "text": [
      "cutadapt -g GTGARTCATCGAATCTTTG -G TCCTCCGCTTATTGATATGC                 -a GCATATCAATAAGCGGAGGA -A CAAAGATTCGATGAYTCAC                 -m 200 --info-file 1_remove_primers/pair_mode/DBG_023844_pair_mode_cutadapt_info_file.txt -o 1_remove_primers/pair_mode/DBG_023844_R1_pair_mode_primers_trimmed.fastq -p 1_remove_primers/pair_mode/DBG_023844_R2_pair_mode_primers_trimmed.fastq /Users/jessie/Dropbox/jessie/russula_illumina/Russula_BC/DBG_023844_R1.fastq /Users/jessie/Dropbox/jessie/russula_illumina/Russula_BC/DBG_023844_R2.fastq\n",
      "\n"
     ]
    },
    {
     "name": "stderr",
     "output_type": "stream",
     "text": [
      "\r",
      " 45%|████▍     | 88/196 [02:09<01:26,  1.25it/s]"
     ]
    },
    {
     "name": "stdout",
     "output_type": "stream",
     "text": [
      "cutadapt -g GTGARTCATCGAATCTTTG -G TCCTCCGCTTATTGATATGC                 -a GCATATCAATAAGCGGAGGA -A CAAAGATTCGATGAYTCAC                 -m 200 --info-file 1_remove_primers/pair_mode/DBG_023871_pair_mode_cutadapt_info_file.txt -o 1_remove_primers/pair_mode/DBG_023871_R1_pair_mode_primers_trimmed.fastq -p 1_remove_primers/pair_mode/DBG_023871_R2_pair_mode_primers_trimmed.fastq /Users/jessie/Dropbox/jessie/russula_illumina/Russula_BC/DBG_023871_R1.fastq /Users/jessie/Dropbox/jessie/russula_illumina/Russula_BC/DBG_023871_R2.fastq\n",
      "\n"
     ]
    },
    {
     "name": "stderr",
     "output_type": "stream",
     "text": [
      "\r",
      " 45%|████▌     | 89/196 [02:10<01:33,  1.14it/s]"
     ]
    },
    {
     "name": "stdout",
     "output_type": "stream",
     "text": [
      "cutadapt -g GTGARTCATCGAATCTTTG -G TCCTCCGCTTATTGATATGC                 -a GCATATCAATAAGCGGAGGA -A CAAAGATTCGATGAYTCAC                 -m 200 --info-file 1_remove_primers/pair_mode/DBG_023875_pair_mode_cutadapt_info_file.txt -o 1_remove_primers/pair_mode/DBG_023875_R1_pair_mode_primers_trimmed.fastq -p 1_remove_primers/pair_mode/DBG_023875_R2_pair_mode_primers_trimmed.fastq /Users/jessie/Dropbox/jessie/russula_illumina/Russula_BC/DBG_023875_R1.fastq /Users/jessie/Dropbox/jessie/russula_illumina/Russula_BC/DBG_023875_R2.fastq\n",
      "\n"
     ]
    },
    {
     "name": "stderr",
     "output_type": "stream",
     "text": [
      "\r",
      " 46%|████▌     | 90/196 [02:12<02:30,  1.42s/it]"
     ]
    },
    {
     "name": "stdout",
     "output_type": "stream",
     "text": [
      "cutadapt -g GTGARTCATCGAATCTTTG -G TCCTCCGCTTATTGATATGC                 -a GCATATCAATAAGCGGAGGA -A CAAAGATTCGATGAYTCAC                 -m 200 --info-file 1_remove_primers/pair_mode/DBG_023900_pair_mode_cutadapt_info_file.txt -o 1_remove_primers/pair_mode/DBG_023900_R1_pair_mode_primers_trimmed.fastq -p 1_remove_primers/pair_mode/DBG_023900_R2_pair_mode_primers_trimmed.fastq /Users/jessie/Dropbox/jessie/russula_illumina/Russula_BC/DBG_023900_R1.fastq /Users/jessie/Dropbox/jessie/russula_illumina/Russula_BC/DBG_023900_R2.fastq\n",
      "\n"
     ]
    },
    {
     "name": "stderr",
     "output_type": "stream",
     "text": [
      "\r",
      " 46%|████▋     | 91/196 [02:15<02:58,  1.70s/it]"
     ]
    },
    {
     "name": "stdout",
     "output_type": "stream",
     "text": [
      "cutadapt -g GTGARTCATCGAATCTTTG -G TCCTCCGCTTATTGATATGC                 -a GCATATCAATAAGCGGAGGA -A CAAAGATTCGATGAYTCAC                 -m 200 --info-file 1_remove_primers/pair_mode/DBG_023935_pair_mode_cutadapt_info_file.txt -o 1_remove_primers/pair_mode/DBG_023935_R1_pair_mode_primers_trimmed.fastq -p 1_remove_primers/pair_mode/DBG_023935_R2_pair_mode_primers_trimmed.fastq /Users/jessie/Dropbox/jessie/russula_illumina/Russula_BC/DBG_023935_R1.fastq /Users/jessie/Dropbox/jessie/russula_illumina/Russula_BC/DBG_023935_R2.fastq\n",
      "\n"
     ]
    },
    {
     "name": "stderr",
     "output_type": "stream",
     "text": [
      "\r",
      " 47%|████▋     | 92/196 [02:16<02:50,  1.64s/it]"
     ]
    },
    {
     "name": "stdout",
     "output_type": "stream",
     "text": [
      "cutadapt -g GTGARTCATCGAATCTTTG -G TCCTCCGCTTATTGATATGC                 -a GCATATCAATAAGCGGAGGA -A CAAAGATTCGATGAYTCAC                 -m 200 --info-file 1_remove_primers/pair_mode/DBG_023936_pair_mode_cutadapt_info_file.txt -o 1_remove_primers/pair_mode/DBG_023936_R1_pair_mode_primers_trimmed.fastq -p 1_remove_primers/pair_mode/DBG_023936_R2_pair_mode_primers_trimmed.fastq /Users/jessie/Dropbox/jessie/russula_illumina/Russula_BC/DBG_023936_R1.fastq /Users/jessie/Dropbox/jessie/russula_illumina/Russula_BC/DBG_023936_R2.fastq\n",
      "\n"
     ]
    },
    {
     "name": "stderr",
     "output_type": "stream",
     "text": [
      "\r",
      " 47%|████▋     | 93/196 [02:17<02:27,  1.44s/it]"
     ]
    },
    {
     "name": "stdout",
     "output_type": "stream",
     "text": [
      "cutadapt -g GTGARTCATCGAATCTTTG -G TCCTCCGCTTATTGATATGC                 -a GCATATCAATAAGCGGAGGA -A CAAAGATTCGATGAYTCAC                 -m 200 --info-file 1_remove_primers/pair_mode/DBG_024016_pair_mode_cutadapt_info_file.txt -o 1_remove_primers/pair_mode/DBG_024016_R1_pair_mode_primers_trimmed.fastq -p 1_remove_primers/pair_mode/DBG_024016_R2_pair_mode_primers_trimmed.fastq /Users/jessie/Dropbox/jessie/russula_illumina/Russula_BC/DBG_024016_R1.fastq /Users/jessie/Dropbox/jessie/russula_illumina/Russula_BC/DBG_024016_R2.fastq\n",
      "\n"
     ]
    },
    {
     "name": "stderr",
     "output_type": "stream",
     "text": [
      "\r",
      " 48%|████▊     | 94/196 [02:18<02:15,  1.32s/it]"
     ]
    },
    {
     "name": "stdout",
     "output_type": "stream",
     "text": [
      "cutadapt -g GTGARTCATCGAATCTTTG -G TCCTCCGCTTATTGATATGC                 -a GCATATCAATAAGCGGAGGA -A CAAAGATTCGATGAYTCAC                 -m 200 --info-file 1_remove_primers/pair_mode/DBG_024078_pair_mode_cutadapt_info_file.txt -o 1_remove_primers/pair_mode/DBG_024078_R1_pair_mode_primers_trimmed.fastq -p 1_remove_primers/pair_mode/DBG_024078_R2_pair_mode_primers_trimmed.fastq /Users/jessie/Dropbox/jessie/russula_illumina/Russula_BC/DBG_024078_R1.fastq /Users/jessie/Dropbox/jessie/russula_illumina/Russula_BC/DBG_024078_R2.fastq\n",
      "\n"
     ]
    },
    {
     "name": "stderr",
     "output_type": "stream",
     "text": [
      "\r",
      " 48%|████▊     | 95/196 [02:20<02:14,  1.33s/it]"
     ]
    },
    {
     "name": "stdout",
     "output_type": "stream",
     "text": [
      "cutadapt -g GTGARTCATCGAATCTTTG -G TCCTCCGCTTATTGATATGC                 -a GCATATCAATAAGCGGAGGA -A CAAAGATTCGATGAYTCAC                 -m 200 --info-file 1_remove_primers/pair_mode/DBG_024137A_pair_mode_cutadapt_info_file.txt -o 1_remove_primers/pair_mode/DBG_024137A_R1_pair_mode_primers_trimmed.fastq -p 1_remove_primers/pair_mode/DBG_024137A_R2_pair_mode_primers_trimmed.fastq /Users/jessie/Dropbox/jessie/russula_illumina/Russula_BC/DBG_024137A_R1.fastq /Users/jessie/Dropbox/jessie/russula_illumina/Russula_BC/DBG_024137A_R2.fastq\n",
      "\n"
     ]
    },
    {
     "name": "stderr",
     "output_type": "stream",
     "text": [
      "\r",
      " 49%|████▉     | 96/196 [02:21<02:17,  1.38s/it]"
     ]
    },
    {
     "name": "stdout",
     "output_type": "stream",
     "text": [
      "cutadapt -g GTGARTCATCGAATCTTTG -G TCCTCCGCTTATTGATATGC                 -a GCATATCAATAAGCGGAGGA -A CAAAGATTCGATGAYTCAC                 -m 200 --info-file 1_remove_primers/pair_mode/DBG_024137B_pair_mode_cutadapt_info_file.txt -o 1_remove_primers/pair_mode/DBG_024137B_R1_pair_mode_primers_trimmed.fastq -p 1_remove_primers/pair_mode/DBG_024137B_R2_pair_mode_primers_trimmed.fastq /Users/jessie/Dropbox/jessie/russula_illumina/Russula_BC/DBG_024137B_R1.fastq /Users/jessie/Dropbox/jessie/russula_illumina/Russula_BC/DBG_024137B_R2.fastq\n",
      "\n"
     ]
    },
    {
     "name": "stderr",
     "output_type": "stream",
     "text": [
      "\r",
      " 49%|████▉     | 97/196 [02:23<02:32,  1.54s/it]"
     ]
    },
    {
     "name": "stdout",
     "output_type": "stream",
     "text": [
      "cutadapt -g GTGARTCATCGAATCTTTG -G TCCTCCGCTTATTGATATGC                 -a GCATATCAATAAGCGGAGGA -A CAAAGATTCGATGAYTCAC                 -m 200 --info-file 1_remove_primers/pair_mode/DBG_024137_pair_mode_cutadapt_info_file.txt -o 1_remove_primers/pair_mode/DBG_024137_R1_pair_mode_primers_trimmed.fastq -p 1_remove_primers/pair_mode/DBG_024137_R2_pair_mode_primers_trimmed.fastq /Users/jessie/Dropbox/jessie/russula_illumina/Russula_BC/DBG_024137_R1.fastq /Users/jessie/Dropbox/jessie/russula_illumina/Russula_BC/DBG_024137_R2.fastq\n",
      "\n"
     ]
    },
    {
     "name": "stderr",
     "output_type": "stream",
     "text": [
      "\r",
      " 50%|█████     | 98/196 [02:26<03:05,  1.89s/it]"
     ]
    },
    {
     "name": "stdout",
     "output_type": "stream",
     "text": [
      "cutadapt -g GTGARTCATCGAATCTTTG -G TCCTCCGCTTATTGATATGC                 -a GCATATCAATAAGCGGAGGA -A CAAAGATTCGATGAYTCAC                 -m 200 --info-file 1_remove_primers/pair_mode/DBG_024176_pair_mode_cutadapt_info_file.txt -o 1_remove_primers/pair_mode/DBG_024176_R1_pair_mode_primers_trimmed.fastq -p 1_remove_primers/pair_mode/DBG_024176_R2_pair_mode_primers_trimmed.fastq /Users/jessie/Dropbox/jessie/russula_illumina/Russula_BC/DBG_024176_R1.fastq /Users/jessie/Dropbox/jessie/russula_illumina/Russula_BC/DBG_024176_R2.fastq\n",
      "\n"
     ]
    },
    {
     "name": "stderr",
     "output_type": "stream",
     "text": [
      "\r",
      " 51%|█████     | 99/196 [02:28<03:06,  1.93s/it]"
     ]
    },
    {
     "name": "stdout",
     "output_type": "stream",
     "text": [
      "cutadapt -g GTGARTCATCGAATCTTTG -G TCCTCCGCTTATTGATATGC                 -a GCATATCAATAAGCGGAGGA -A CAAAGATTCGATGAYTCAC                 -m 200 --info-file 1_remove_primers/pair_mode/DBG_024212_pair_mode_cutadapt_info_file.txt -o 1_remove_primers/pair_mode/DBG_024212_R1_pair_mode_primers_trimmed.fastq -p 1_remove_primers/pair_mode/DBG_024212_R2_pair_mode_primers_trimmed.fastq /Users/jessie/Dropbox/jessie/russula_illumina/Russula_BC/DBG_024212_R1.fastq /Users/jessie/Dropbox/jessie/russula_illumina/Russula_BC/DBG_024212_R2.fastq\n",
      "\n"
     ]
    },
    {
     "name": "stderr",
     "output_type": "stream",
     "text": [
      "\r",
      " 51%|█████     | 100/196 [02:29<02:44,  1.72s/it]"
     ]
    },
    {
     "name": "stdout",
     "output_type": "stream",
     "text": [
      "cutadapt -g GTGARTCATCGAATCTTTG -G TCCTCCGCTTATTGATATGC                 -a GCATATCAATAAGCGGAGGA -A CAAAGATTCGATGAYTCAC                 -m 200 --info-file 1_remove_primers/pair_mode/DBG_024445A_pair_mode_cutadapt_info_file.txt -o 1_remove_primers/pair_mode/DBG_024445A_R1_pair_mode_primers_trimmed.fastq -p 1_remove_primers/pair_mode/DBG_024445A_R2_pair_mode_primers_trimmed.fastq /Users/jessie/Dropbox/jessie/russula_illumina/Russula_BC/DBG_024445A_R1.fastq /Users/jessie/Dropbox/jessie/russula_illumina/Russula_BC/DBG_024445A_R2.fastq\n",
      "\n"
     ]
    },
    {
     "name": "stderr",
     "output_type": "stream",
     "text": [
      "\r",
      " 52%|█████▏    | 101/196 [02:32<03:21,  2.12s/it]"
     ]
    },
    {
     "name": "stdout",
     "output_type": "stream",
     "text": [
      "cutadapt -g GTGARTCATCGAATCTTTG -G TCCTCCGCTTATTGATATGC                 -a GCATATCAATAAGCGGAGGA -A CAAAGATTCGATGAYTCAC                 -m 200 --info-file 1_remove_primers/pair_mode/DBG_024445B_pair_mode_cutadapt_info_file.txt -o 1_remove_primers/pair_mode/DBG_024445B_R1_pair_mode_primers_trimmed.fastq -p 1_remove_primers/pair_mode/DBG_024445B_R2_pair_mode_primers_trimmed.fastq /Users/jessie/Dropbox/jessie/russula_illumina/Russula_BC/DBG_024445B_R1.fastq /Users/jessie/Dropbox/jessie/russula_illumina/Russula_BC/DBG_024445B_R2.fastq\n",
      "\n"
     ]
    },
    {
     "name": "stderr",
     "output_type": "stream",
     "text": [
      "\r",
      " 52%|█████▏    | 102/196 [02:33<02:57,  1.89s/it]"
     ]
    },
    {
     "name": "stdout",
     "output_type": "stream",
     "text": [
      "cutadapt -g GTGARTCATCGAATCTTTG -G TCCTCCGCTTATTGATATGC                 -a GCATATCAATAAGCGGAGGA -A CAAAGATTCGATGAYTCAC                 -m 200 --info-file 1_remove_primers/pair_mode/DBG_024445_pair_mode_cutadapt_info_file.txt -o 1_remove_primers/pair_mode/DBG_024445_R1_pair_mode_primers_trimmed.fastq -p 1_remove_primers/pair_mode/DBG_024445_R2_pair_mode_primers_trimmed.fastq /Users/jessie/Dropbox/jessie/russula_illumina/Russula_BC/DBG_024445_R1.fastq /Users/jessie/Dropbox/jessie/russula_illumina/Russula_BC/DBG_024445_R2.fastq\n",
      "\n"
     ]
    },
    {
     "name": "stderr",
     "output_type": "stream",
     "text": [
      "\r",
      " 53%|█████▎    | 103/196 [02:37<03:42,  2.39s/it]"
     ]
    },
    {
     "name": "stdout",
     "output_type": "stream",
     "text": [
      "cutadapt -g GTGARTCATCGAATCTTTG -G TCCTCCGCTTATTGATATGC                 -a GCATATCAATAAGCGGAGGA -A CAAAGATTCGATGAYTCAC                 -m 200 --info-file 1_remove_primers/pair_mode/DBG_024446_pair_mode_cutadapt_info_file.txt -o 1_remove_primers/pair_mode/DBG_024446_R1_pair_mode_primers_trimmed.fastq -p 1_remove_primers/pair_mode/DBG_024446_R2_pair_mode_primers_trimmed.fastq /Users/jessie/Dropbox/jessie/russula_illumina/Russula_BC/DBG_024446_R1.fastq /Users/jessie/Dropbox/jessie/russula_illumina/Russula_BC/DBG_024446_R2.fastq\n",
      "\n"
     ]
    },
    {
     "name": "stderr",
     "output_type": "stream",
     "text": [
      "\r",
      " 53%|█████▎    | 104/196 [02:37<02:43,  1.78s/it]"
     ]
    },
    {
     "name": "stdout",
     "output_type": "stream",
     "text": [
      "cutadapt -g GTGARTCATCGAATCTTTG -G TCCTCCGCTTATTGATATGC                 -a GCATATCAATAAGCGGAGGA -A CAAAGATTCGATGAYTCAC                 -m 200 --info-file 1_remove_primers/pair_mode/DBG_024473_pair_mode_cutadapt_info_file.txt -o 1_remove_primers/pair_mode/DBG_024473_R1_pair_mode_primers_trimmed.fastq -p 1_remove_primers/pair_mode/DBG_024473_R2_pair_mode_primers_trimmed.fastq /Users/jessie/Dropbox/jessie/russula_illumina/Russula_BC/DBG_024473_R1.fastq /Users/jessie/Dropbox/jessie/russula_illumina/Russula_BC/DBG_024473_R2.fastq\n",
      "\n"
     ]
    },
    {
     "name": "stderr",
     "output_type": "stream",
     "text": [
      "\r",
      " 54%|█████▎    | 105/196 [02:42<04:18,  2.84s/it]"
     ]
    },
    {
     "name": "stdout",
     "output_type": "stream",
     "text": [
      "cutadapt -g GTGARTCATCGAATCTTTG -G TCCTCCGCTTATTGATATGC                 -a GCATATCAATAAGCGGAGGA -A CAAAGATTCGATGAYTCAC                 -m 200 --info-file 1_remove_primers/pair_mode/DBG_024554_pair_mode_cutadapt_info_file.txt -o 1_remove_primers/pair_mode/DBG_024554_R1_pair_mode_primers_trimmed.fastq -p 1_remove_primers/pair_mode/DBG_024554_R2_pair_mode_primers_trimmed.fastq /Users/jessie/Dropbox/jessie/russula_illumina/Russula_BC/DBG_024554_R1.fastq /Users/jessie/Dropbox/jessie/russula_illumina/Russula_BC/DBG_024554_R2.fastq\n",
      "\n"
     ]
    },
    {
     "name": "stderr",
     "output_type": "stream",
     "text": [
      "\r",
      " 54%|█████▍    | 106/196 [02:44<03:30,  2.33s/it]"
     ]
    },
    {
     "name": "stdout",
     "output_type": "stream",
     "text": [
      "cutadapt -g GTGARTCATCGAATCTTTG -G TCCTCCGCTTATTGATATGC                 -a GCATATCAATAAGCGGAGGA -A CAAAGATTCGATGAYTCAC                 -m 200 --info-file 1_remove_primers/pair_mode/DBG_024590_pair_mode_cutadapt_info_file.txt -o 1_remove_primers/pair_mode/DBG_024590_R1_pair_mode_primers_trimmed.fastq -p 1_remove_primers/pair_mode/DBG_024590_R2_pair_mode_primers_trimmed.fastq /Users/jessie/Dropbox/jessie/russula_illumina/Russula_BC/DBG_024590_R1.fastq /Users/jessie/Dropbox/jessie/russula_illumina/Russula_BC/DBG_024590_R2.fastq\n",
      "\n"
     ]
    },
    {
     "name": "stderr",
     "output_type": "stream",
     "text": [
      "\r",
      " 55%|█████▍    | 107/196 [02:45<02:52,  1.93s/it]"
     ]
    },
    {
     "name": "stdout",
     "output_type": "stream",
     "text": [
      "cutadapt -g GTGARTCATCGAATCTTTG -G TCCTCCGCTTATTGATATGC                 -a GCATATCAATAAGCGGAGGA -A CAAAGATTCGATGAYTCAC                 -m 200 --info-file 1_remove_primers/pair_mode/DBG_024680_pair_mode_cutadapt_info_file.txt -o 1_remove_primers/pair_mode/DBG_024680_R1_pair_mode_primers_trimmed.fastq -p 1_remove_primers/pair_mode/DBG_024680_R2_pair_mode_primers_trimmed.fastq /Users/jessie/Dropbox/jessie/russula_illumina/Russula_BC/DBG_024680_R1.fastq /Users/jessie/Dropbox/jessie/russula_illumina/Russula_BC/DBG_024680_R2.fastq\n",
      "\n"
     ]
    },
    {
     "name": "stderr",
     "output_type": "stream",
     "text": [
      "\r",
      " 55%|█████▌    | 108/196 [02:45<02:20,  1.60s/it]"
     ]
    },
    {
     "name": "stdout",
     "output_type": "stream",
     "text": [
      "cutadapt -g GTGARTCATCGAATCTTTG -G TCCTCCGCTTATTGATATGC                 -a GCATATCAATAAGCGGAGGA -A CAAAGATTCGATGAYTCAC                 -m 200 --info-file 1_remove_primers/pair_mode/DBG_024698_pair_mode_cutadapt_info_file.txt -o 1_remove_primers/pair_mode/DBG_024698_R1_pair_mode_primers_trimmed.fastq -p 1_remove_primers/pair_mode/DBG_024698_R2_pair_mode_primers_trimmed.fastq /Users/jessie/Dropbox/jessie/russula_illumina/Russula_BC/DBG_024698_R1.fastq /Users/jessie/Dropbox/jessie/russula_illumina/Russula_BC/DBG_024698_R2.fastq\n",
      "\n"
     ]
    },
    {
     "name": "stderr",
     "output_type": "stream",
     "text": [
      "\r",
      " 56%|█████▌    | 109/196 [02:47<02:11,  1.51s/it]"
     ]
    },
    {
     "name": "stdout",
     "output_type": "stream",
     "text": [
      "cutadapt -g GTGARTCATCGAATCTTTG -G TCCTCCGCTTATTGATATGC                 -a GCATATCAATAAGCGGAGGA -A CAAAGATTCGATGAYTCAC                 -m 200 --info-file 1_remove_primers/pair_mode/DBG_024799_pair_mode_cutadapt_info_file.txt -o 1_remove_primers/pair_mode/DBG_024799_R1_pair_mode_primers_trimmed.fastq -p 1_remove_primers/pair_mode/DBG_024799_R2_pair_mode_primers_trimmed.fastq /Users/jessie/Dropbox/jessie/russula_illumina/Russula_BC/DBG_024799_R1.fastq /Users/jessie/Dropbox/jessie/russula_illumina/Russula_BC/DBG_024799_R2.fastq\n",
      "\n"
     ]
    },
    {
     "name": "stderr",
     "output_type": "stream",
     "text": [
      "\r",
      " 56%|█████▌    | 110/196 [02:49<02:16,  1.59s/it]"
     ]
    },
    {
     "name": "stdout",
     "output_type": "stream",
     "text": [
      "cutadapt -g GTGARTCATCGAATCTTTG -G TCCTCCGCTTATTGATATGC                 -a GCATATCAATAAGCGGAGGA -A CAAAGATTCGATGAYTCAC                 -m 200 --info-file 1_remove_primers/pair_mode/DBG_024876_pair_mode_cutadapt_info_file.txt -o 1_remove_primers/pair_mode/DBG_024876_R1_pair_mode_primers_trimmed.fastq -p 1_remove_primers/pair_mode/DBG_024876_R2_pair_mode_primers_trimmed.fastq /Users/jessie/Dropbox/jessie/russula_illumina/Russula_BC/DBG_024876_R1.fastq /Users/jessie/Dropbox/jessie/russula_illumina/Russula_BC/DBG_024876_R2.fastq\n",
      "\n"
     ]
    },
    {
     "name": "stderr",
     "output_type": "stream",
     "text": [
      "\r",
      " 57%|█████▋    | 111/196 [02:50<02:07,  1.50s/it]"
     ]
    },
    {
     "name": "stdout",
     "output_type": "stream",
     "text": [
      "cutadapt -g GTGARTCATCGAATCTTTG -G TCCTCCGCTTATTGATATGC                 -a GCATATCAATAAGCGGAGGA -A CAAAGATTCGATGAYTCAC                 -m 200 --info-file 1_remove_primers/pair_mode/DBG_024900A_pair_mode_cutadapt_info_file.txt -o 1_remove_primers/pair_mode/DBG_024900A_R1_pair_mode_primers_trimmed.fastq -p 1_remove_primers/pair_mode/DBG_024900A_R2_pair_mode_primers_trimmed.fastq /Users/jessie/Dropbox/jessie/russula_illumina/Russula_BC/DBG_024900A_R1.fastq /Users/jessie/Dropbox/jessie/russula_illumina/Russula_BC/DBG_024900A_R2.fastq\n",
      "\n"
     ]
    },
    {
     "name": "stderr",
     "output_type": "stream",
     "text": [
      "\r",
      " 57%|█████▋    | 112/196 [02:51<01:59,  1.43s/it]"
     ]
    },
    {
     "name": "stdout",
     "output_type": "stream",
     "text": [
      "cutadapt -g GTGARTCATCGAATCTTTG -G TCCTCCGCTTATTGATATGC                 -a GCATATCAATAAGCGGAGGA -A CAAAGATTCGATGAYTCAC                 -m 200 --info-file 1_remove_primers/pair_mode/DBG_024900B_pair_mode_cutadapt_info_file.txt -o 1_remove_primers/pair_mode/DBG_024900B_R1_pair_mode_primers_trimmed.fastq -p 1_remove_primers/pair_mode/DBG_024900B_R2_pair_mode_primers_trimmed.fastq /Users/jessie/Dropbox/jessie/russula_illumina/Russula_BC/DBG_024900B_R1.fastq /Users/jessie/Dropbox/jessie/russula_illumina/Russula_BC/DBG_024900B_R2.fastq\n",
      "\n"
     ]
    },
    {
     "name": "stderr",
     "output_type": "stream",
     "text": [
      "\r",
      " 58%|█████▊    | 113/196 [02:52<01:45,  1.27s/it]"
     ]
    },
    {
     "name": "stdout",
     "output_type": "stream",
     "text": [
      "cutadapt -g GTGARTCATCGAATCTTTG -G TCCTCCGCTTATTGATATGC                 -a GCATATCAATAAGCGGAGGA -A CAAAGATTCGATGAYTCAC                 -m 200 --info-file 1_remove_primers/pair_mode/DBG_024900_pair_mode_cutadapt_info_file.txt -o 1_remove_primers/pair_mode/DBG_024900_R1_pair_mode_primers_trimmed.fastq -p 1_remove_primers/pair_mode/DBG_024900_R2_pair_mode_primers_trimmed.fastq /Users/jessie/Dropbox/jessie/russula_illumina/Russula_BC/DBG_024900_R1.fastq /Users/jessie/Dropbox/jessie/russula_illumina/Russula_BC/DBG_024900_R2.fastq\n",
      "\n"
     ]
    },
    {
     "name": "stderr",
     "output_type": "stream",
     "text": [
      "\r",
      " 58%|█████▊    | 114/196 [02:54<02:01,  1.48s/it]"
     ]
    },
    {
     "name": "stdout",
     "output_type": "stream",
     "text": [
      "cutadapt -g GTGARTCATCGAATCTTTG -G TCCTCCGCTTATTGATATGC                 -a GCATATCAATAAGCGGAGGA -A CAAAGATTCGATGAYTCAC                 -m 200 --info-file 1_remove_primers/pair_mode/DBG_024923_pair_mode_cutadapt_info_file.txt -o 1_remove_primers/pair_mode/DBG_024923_R1_pair_mode_primers_trimmed.fastq -p 1_remove_primers/pair_mode/DBG_024923_R2_pair_mode_primers_trimmed.fastq /Users/jessie/Dropbox/jessie/russula_illumina/Russula_BC/DBG_024923_R1.fastq /Users/jessie/Dropbox/jessie/russula_illumina/Russula_BC/DBG_024923_R2.fastq\n",
      "\n"
     ]
    },
    {
     "name": "stderr",
     "output_type": "stream",
     "text": [
      "\r",
      " 59%|█████▊    | 115/196 [02:56<02:05,  1.55s/it]"
     ]
    },
    {
     "name": "stdout",
     "output_type": "stream",
     "text": [
      "cutadapt -g GTGARTCATCGAATCTTTG -G TCCTCCGCTTATTGATATGC                 -a GCATATCAATAAGCGGAGGA -A CAAAGATTCGATGAYTCAC                 -m 200 --info-file 1_remove_primers/pair_mode/DBG_025067_pair_mode_cutadapt_info_file.txt -o 1_remove_primers/pair_mode/DBG_025067_R1_pair_mode_primers_trimmed.fastq -p 1_remove_primers/pair_mode/DBG_025067_R2_pair_mode_primers_trimmed.fastq /Users/jessie/Dropbox/jessie/russula_illumina/Russula_BC/DBG_025067_R1.fastq /Users/jessie/Dropbox/jessie/russula_illumina/Russula_BC/DBG_025067_R2.fastq\n",
      "\n"
     ]
    },
    {
     "name": "stderr",
     "output_type": "stream",
     "text": [
      "\r",
      " 59%|█████▉    | 116/196 [02:57<02:02,  1.54s/it]"
     ]
    },
    {
     "name": "stdout",
     "output_type": "stream",
     "text": [
      "cutadapt -g GTGARTCATCGAATCTTTG -G TCCTCCGCTTATTGATATGC                 -a GCATATCAATAAGCGGAGGA -A CAAAGATTCGATGAYTCAC                 -m 200 --info-file 1_remove_primers/pair_mode/DBG_025074_pair_mode_cutadapt_info_file.txt -o 1_remove_primers/pair_mode/DBG_025074_R1_pair_mode_primers_trimmed.fastq -p 1_remove_primers/pair_mode/DBG_025074_R2_pair_mode_primers_trimmed.fastq /Users/jessie/Dropbox/jessie/russula_illumina/Russula_BC/DBG_025074_R1.fastq /Users/jessie/Dropbox/jessie/russula_illumina/Russula_BC/DBG_025074_R2.fastq\n",
      "\n"
     ]
    },
    {
     "name": "stderr",
     "output_type": "stream",
     "text": [
      "\r",
      " 60%|█████▉    | 117/196 [02:58<01:44,  1.32s/it]"
     ]
    },
    {
     "name": "stdout",
     "output_type": "stream",
     "text": [
      "cutadapt -g GTGARTCATCGAATCTTTG -G TCCTCCGCTTATTGATATGC                 -a GCATATCAATAAGCGGAGGA -A CAAAGATTCGATGAYTCAC                 -m 200 --info-file 1_remove_primers/pair_mode/DBG_025075_pair_mode_cutadapt_info_file.txt -o 1_remove_primers/pair_mode/DBG_025075_R1_pair_mode_primers_trimmed.fastq -p 1_remove_primers/pair_mode/DBG_025075_R2_pair_mode_primers_trimmed.fastq /Users/jessie/Dropbox/jessie/russula_illumina/Russula_BC/DBG_025075_R1.fastq /Users/jessie/Dropbox/jessie/russula_illumina/Russula_BC/DBG_025075_R2.fastq\n",
      "\n"
     ]
    },
    {
     "name": "stderr",
     "output_type": "stream",
     "text": [
      "\r",
      " 60%|██████    | 118/196 [02:59<01:33,  1.20s/it]"
     ]
    },
    {
     "name": "stdout",
     "output_type": "stream",
     "text": [
      "cutadapt -g GTGARTCATCGAATCTTTG -G TCCTCCGCTTATTGATATGC                 -a GCATATCAATAAGCGGAGGA -A CAAAGATTCGATGAYTCAC                 -m 200 --info-file 1_remove_primers/pair_mode/DBG_025133_pair_mode_cutadapt_info_file.txt -o 1_remove_primers/pair_mode/DBG_025133_R1_pair_mode_primers_trimmed.fastq -p 1_remove_primers/pair_mode/DBG_025133_R2_pair_mode_primers_trimmed.fastq /Users/jessie/Dropbox/jessie/russula_illumina/Russula_BC/DBG_025133_R1.fastq /Users/jessie/Dropbox/jessie/russula_illumina/Russula_BC/DBG_025133_R2.fastq\n",
      "\n"
     ]
    },
    {
     "name": "stderr",
     "output_type": "stream",
     "text": [
      "\r",
      " 61%|██████    | 119/196 [03:00<01:29,  1.17s/it]"
     ]
    },
    {
     "name": "stdout",
     "output_type": "stream",
     "text": [
      "cutadapt -g GTGARTCATCGAATCTTTG -G TCCTCCGCTTATTGATATGC                 -a GCATATCAATAAGCGGAGGA -A CAAAGATTCGATGAYTCAC                 -m 200 --info-file 1_remove_primers/pair_mode/DBG_025136_pair_mode_cutadapt_info_file.txt -o 1_remove_primers/pair_mode/DBG_025136_R1_pair_mode_primers_trimmed.fastq -p 1_remove_primers/pair_mode/DBG_025136_R2_pair_mode_primers_trimmed.fastq /Users/jessie/Dropbox/jessie/russula_illumina/Russula_BC/DBG_025136_R1.fastq /Users/jessie/Dropbox/jessie/russula_illumina/Russula_BC/DBG_025136_R2.fastq\n",
      "\n"
     ]
    },
    {
     "name": "stderr",
     "output_type": "stream",
     "text": [
      "\r",
      " 61%|██████    | 120/196 [03:01<01:34,  1.25s/it]"
     ]
    },
    {
     "name": "stdout",
     "output_type": "stream",
     "text": [
      "cutadapt -g GTGARTCATCGAATCTTTG -G TCCTCCGCTTATTGATATGC                 -a GCATATCAATAAGCGGAGGA -A CAAAGATTCGATGAYTCAC                 -m 200 --info-file 1_remove_primers/pair_mode/DBG_025138_pair_mode_cutadapt_info_file.txt -o 1_remove_primers/pair_mode/DBG_025138_R1_pair_mode_primers_trimmed.fastq -p 1_remove_primers/pair_mode/DBG_025138_R2_pair_mode_primers_trimmed.fastq /Users/jessie/Dropbox/jessie/russula_illumina/Russula_BC/DBG_025138_R1.fastq /Users/jessie/Dropbox/jessie/russula_illumina/Russula_BC/DBG_025138_R2.fastq\n",
      "\n"
     ]
    },
    {
     "name": "stderr",
     "output_type": "stream",
     "text": [
      "\r",
      " 62%|██████▏   | 121/196 [03:04<02:11,  1.76s/it]"
     ]
    },
    {
     "name": "stdout",
     "output_type": "stream",
     "text": [
      "cutadapt -g GTGARTCATCGAATCTTTG -G TCCTCCGCTTATTGATATGC                 -a GCATATCAATAAGCGGAGGA -A CAAAGATTCGATGAYTCAC                 -m 200 --info-file 1_remove_primers/pair_mode/DBG_025140_pair_mode_cutadapt_info_file.txt -o 1_remove_primers/pair_mode/DBG_025140_R1_pair_mode_primers_trimmed.fastq -p 1_remove_primers/pair_mode/DBG_025140_R2_pair_mode_primers_trimmed.fastq /Users/jessie/Dropbox/jessie/russula_illumina/Russula_BC/DBG_025140_R1.fastq /Users/jessie/Dropbox/jessie/russula_illumina/Russula_BC/DBG_025140_R2.fastq\n",
      "\n"
     ]
    },
    {
     "name": "stderr",
     "output_type": "stream",
     "text": [
      "\r",
      " 62%|██████▏   | 122/196 [03:05<01:53,  1.54s/it]"
     ]
    },
    {
     "name": "stdout",
     "output_type": "stream",
     "text": [
      "cutadapt -g GTGARTCATCGAATCTTTG -G TCCTCCGCTTATTGATATGC                 -a GCATATCAATAAGCGGAGGA -A CAAAGATTCGATGAYTCAC                 -m 200 --info-file 1_remove_primers/pair_mode/DBG_025324_pair_mode_cutadapt_info_file.txt -o 1_remove_primers/pair_mode/DBG_025324_R1_pair_mode_primers_trimmed.fastq -p 1_remove_primers/pair_mode/DBG_025324_R2_pair_mode_primers_trimmed.fastq /Users/jessie/Dropbox/jessie/russula_illumina/Russula_BC/DBG_025324_R1.fastq /Users/jessie/Dropbox/jessie/russula_illumina/Russula_BC/DBG_025324_R2.fastq\n",
      "\n"
     ]
    },
    {
     "name": "stderr",
     "output_type": "stream",
     "text": [
      "\r",
      " 63%|██████▎   | 123/196 [03:07<02:03,  1.69s/it]"
     ]
    },
    {
     "name": "stdout",
     "output_type": "stream",
     "text": [
      "cutadapt -g GTGARTCATCGAATCTTTG -G TCCTCCGCTTATTGATATGC                 -a GCATATCAATAAGCGGAGGA -A CAAAGATTCGATGAYTCAC                 -m 200 --info-file 1_remove_primers/pair_mode/DBG_025327_pair_mode_cutadapt_info_file.txt -o 1_remove_primers/pair_mode/DBG_025327_R1_pair_mode_primers_trimmed.fastq -p 1_remove_primers/pair_mode/DBG_025327_R2_pair_mode_primers_trimmed.fastq /Users/jessie/Dropbox/jessie/russula_illumina/Russula_BC/DBG_025327_R1.fastq /Users/jessie/Dropbox/jessie/russula_illumina/Russula_BC/DBG_025327_R2.fastq\n",
      "\n"
     ]
    },
    {
     "name": "stderr",
     "output_type": "stream",
     "text": [
      "\r",
      " 63%|██████▎   | 124/196 [03:08<01:45,  1.46s/it]"
     ]
    },
    {
     "name": "stdout",
     "output_type": "stream",
     "text": [
      "cutadapt -g GTGARTCATCGAATCTTTG -G TCCTCCGCTTATTGATATGC                 -a GCATATCAATAAGCGGAGGA -A CAAAGATTCGATGAYTCAC                 -m 200 --info-file 1_remove_primers/pair_mode/DBG_025331_pair_mode_cutadapt_info_file.txt -o 1_remove_primers/pair_mode/DBG_025331_R1_pair_mode_primers_trimmed.fastq -p 1_remove_primers/pair_mode/DBG_025331_R2_pair_mode_primers_trimmed.fastq /Users/jessie/Dropbox/jessie/russula_illumina/Russula_BC/DBG_025331_R1.fastq /Users/jessie/Dropbox/jessie/russula_illumina/Russula_BC/DBG_025331_R2.fastq\n",
      "\n"
     ]
    },
    {
     "name": "stderr",
     "output_type": "stream",
     "text": [
      "\r",
      " 64%|██████▍   | 125/196 [03:12<02:21,  1.99s/it]"
     ]
    },
    {
     "name": "stdout",
     "output_type": "stream",
     "text": [
      "cutadapt -g GTGARTCATCGAATCTTTG -G TCCTCCGCTTATTGATATGC                 -a GCATATCAATAAGCGGAGGA -A CAAAGATTCGATGAYTCAC                 -m 200 --info-file 1_remove_primers/pair_mode/DBG_025332_pair_mode_cutadapt_info_file.txt -o 1_remove_primers/pair_mode/DBG_025332_R1_pair_mode_primers_trimmed.fastq -p 1_remove_primers/pair_mode/DBG_025332_R2_pair_mode_primers_trimmed.fastq /Users/jessie/Dropbox/jessie/russula_illumina/Russula_BC/DBG_025332_R1.fastq /Users/jessie/Dropbox/jessie/russula_illumina/Russula_BC/DBG_025332_R2.fastq\n",
      "\n"
     ]
    },
    {
     "name": "stderr",
     "output_type": "stream",
     "text": [
      "\r",
      " 64%|██████▍   | 126/196 [03:13<01:57,  1.68s/it]"
     ]
    },
    {
     "name": "stdout",
     "output_type": "stream",
     "text": [
      "cutadapt -g GTGARTCATCGAATCTTTG -G TCCTCCGCTTATTGATATGC                 -a GCATATCAATAAGCGGAGGA -A CAAAGATTCGATGAYTCAC                 -m 200 --info-file 1_remove_primers/pair_mode/DBG_025333_pair_mode_cutadapt_info_file.txt -o 1_remove_primers/pair_mode/DBG_025333_R1_pair_mode_primers_trimmed.fastq -p 1_remove_primers/pair_mode/DBG_025333_R2_pair_mode_primers_trimmed.fastq /Users/jessie/Dropbox/jessie/russula_illumina/Russula_BC/DBG_025333_R1.fastq /Users/jessie/Dropbox/jessie/russula_illumina/Russula_BC/DBG_025333_R2.fastq\n",
      "\n"
     ]
    },
    {
     "name": "stderr",
     "output_type": "stream",
     "text": [
      "\r",
      " 65%|██████▍   | 127/196 [03:14<01:56,  1.68s/it]"
     ]
    },
    {
     "name": "stdout",
     "output_type": "stream",
     "text": [
      "cutadapt -g GTGARTCATCGAATCTTTG -G TCCTCCGCTTATTGATATGC                 -a GCATATCAATAAGCGGAGGA -A CAAAGATTCGATGAYTCAC                 -m 200 --info-file 1_remove_primers/pair_mode/DBG_025334_pair_mode_cutadapt_info_file.txt -o 1_remove_primers/pair_mode/DBG_025334_R1_pair_mode_primers_trimmed.fastq -p 1_remove_primers/pair_mode/DBG_025334_R2_pair_mode_primers_trimmed.fastq /Users/jessie/Dropbox/jessie/russula_illumina/Russula_BC/DBG_025334_R1.fastq /Users/jessie/Dropbox/jessie/russula_illumina/Russula_BC/DBG_025334_R2.fastq\n",
      "\n"
     ]
    },
    {
     "name": "stderr",
     "output_type": "stream",
     "text": [
      "\r",
      " 65%|██████▌   | 128/196 [03:16<01:48,  1.59s/it]"
     ]
    },
    {
     "name": "stdout",
     "output_type": "stream",
     "text": [
      "cutadapt -g GTGARTCATCGAATCTTTG -G TCCTCCGCTTATTGATATGC                 -a GCATATCAATAAGCGGAGGA -A CAAAGATTCGATGAYTCAC                 -m 200 --info-file 1_remove_primers/pair_mode/DBG_025335_pair_mode_cutadapt_info_file.txt -o 1_remove_primers/pair_mode/DBG_025335_R1_pair_mode_primers_trimmed.fastq -p 1_remove_primers/pair_mode/DBG_025335_R2_pair_mode_primers_trimmed.fastq /Users/jessie/Dropbox/jessie/russula_illumina/Russula_BC/DBG_025335_R1.fastq /Users/jessie/Dropbox/jessie/russula_illumina/Russula_BC/DBG_025335_R2.fastq\n",
      "\n"
     ]
    },
    {
     "name": "stderr",
     "output_type": "stream",
     "text": [
      "\r",
      " 66%|██████▌   | 129/196 [03:17<01:42,  1.53s/it]"
     ]
    },
    {
     "name": "stdout",
     "output_type": "stream",
     "text": [
      "cutadapt -g GTGARTCATCGAATCTTTG -G TCCTCCGCTTATTGATATGC                 -a GCATATCAATAAGCGGAGGA -A CAAAGATTCGATGAYTCAC                 -m 200 --info-file 1_remove_primers/pair_mode/DBG_025337_pair_mode_cutadapt_info_file.txt -o 1_remove_primers/pair_mode/DBG_025337_R1_pair_mode_primers_trimmed.fastq -p 1_remove_primers/pair_mode/DBG_025337_R2_pair_mode_primers_trimmed.fastq /Users/jessie/Dropbox/jessie/russula_illumina/Russula_BC/DBG_025337_R1.fastq /Users/jessie/Dropbox/jessie/russula_illumina/Russula_BC/DBG_025337_R2.fastq\n",
      "\n"
     ]
    },
    {
     "name": "stderr",
     "output_type": "stream",
     "text": [
      "\r",
      " 66%|██████▋   | 130/196 [03:19<01:54,  1.73s/it]"
     ]
    },
    {
     "name": "stdout",
     "output_type": "stream",
     "text": [
      "cutadapt -g GTGARTCATCGAATCTTTG -G TCCTCCGCTTATTGATATGC                 -a GCATATCAATAAGCGGAGGA -A CAAAGATTCGATGAYTCAC                 -m 200 --info-file 1_remove_primers/pair_mode/DBG_027596_pair_mode_cutadapt_info_file.txt -o 1_remove_primers/pair_mode/DBG_027596_R1_pair_mode_primers_trimmed.fastq -p 1_remove_primers/pair_mode/DBG_027596_R2_pair_mode_primers_trimmed.fastq /Users/jessie/Dropbox/jessie/russula_illumina/Russula_BC/DBG_027596_R1.fastq /Users/jessie/Dropbox/jessie/russula_illumina/Russula_BC/DBG_027596_R2.fastq\n",
      "\n"
     ]
    },
    {
     "name": "stderr",
     "output_type": "stream",
     "text": [
      "\r",
      " 67%|██████▋   | 131/196 [03:21<01:44,  1.60s/it]"
     ]
    },
    {
     "name": "stdout",
     "output_type": "stream",
     "text": [
      "cutadapt -g GTGARTCATCGAATCTTTG -G TCCTCCGCTTATTGATATGC                 -a GCATATCAATAAGCGGAGGA -A CAAAGATTCGATGAYTCAC                 -m 200 --info-file 1_remove_primers/pair_mode/DBG_027618_pair_mode_cutadapt_info_file.txt -o 1_remove_primers/pair_mode/DBG_027618_R1_pair_mode_primers_trimmed.fastq -p 1_remove_primers/pair_mode/DBG_027618_R2_pair_mode_primers_trimmed.fastq /Users/jessie/Dropbox/jessie/russula_illumina/Russula_BC/DBG_027618_R1.fastq /Users/jessie/Dropbox/jessie/russula_illumina/Russula_BC/DBG_027618_R2.fastq\n",
      "\n"
     ]
    },
    {
     "name": "stderr",
     "output_type": "stream",
     "text": [
      "\r",
      " 67%|██████▋   | 132/196 [03:22<01:44,  1.63s/it]"
     ]
    },
    {
     "name": "stdout",
     "output_type": "stream",
     "text": [
      "cutadapt -g GTGARTCATCGAATCTTTG -G TCCTCCGCTTATTGATATGC                 -a GCATATCAATAAGCGGAGGA -A CAAAGATTCGATGAYTCAC                 -m 200 --info-file 1_remove_primers/pair_mode/DBG_027625_pair_mode_cutadapt_info_file.txt -o 1_remove_primers/pair_mode/DBG_027625_R1_pair_mode_primers_trimmed.fastq -p 1_remove_primers/pair_mode/DBG_027625_R2_pair_mode_primers_trimmed.fastq /Users/jessie/Dropbox/jessie/russula_illumina/Russula_BC/DBG_027625_R1.fastq /Users/jessie/Dropbox/jessie/russula_illumina/Russula_BC/DBG_027625_R2.fastq\n",
      "\n"
     ]
    },
    {
     "name": "stderr",
     "output_type": "stream",
     "text": [
      "\r",
      " 68%|██████▊   | 133/196 [03:23<01:21,  1.29s/it]"
     ]
    },
    {
     "name": "stdout",
     "output_type": "stream",
     "text": [
      "cutadapt -g GTGARTCATCGAATCTTTG -G TCCTCCGCTTATTGATATGC                 -a GCATATCAATAAGCGGAGGA -A CAAAGATTCGATGAYTCAC                 -m 200 --info-file 1_remove_primers/pair_mode/DBG_027639_pair_mode_cutadapt_info_file.txt -o 1_remove_primers/pair_mode/DBG_027639_R1_pair_mode_primers_trimmed.fastq -p 1_remove_primers/pair_mode/DBG_027639_R2_pair_mode_primers_trimmed.fastq /Users/jessie/Dropbox/jessie/russula_illumina/Russula_BC/DBG_027639_R1.fastq /Users/jessie/Dropbox/jessie/russula_illumina/Russula_BC/DBG_027639_R2.fastq\n",
      "\n"
     ]
    },
    {
     "name": "stderr",
     "output_type": "stream",
     "text": [
      "\r",
      " 68%|██████▊   | 134/196 [03:26<02:00,  1.95s/it]"
     ]
    },
    {
     "name": "stdout",
     "output_type": "stream",
     "text": [
      "cutadapt -g GTGARTCATCGAATCTTTG -G TCCTCCGCTTATTGATATGC                 -a GCATATCAATAAGCGGAGGA -A CAAAGATTCGATGAYTCAC                 -m 200 --info-file 1_remove_primers/pair_mode/DBG_027659_pair_mode_cutadapt_info_file.txt -o 1_remove_primers/pair_mode/DBG_027659_R1_pair_mode_primers_trimmed.fastq -p 1_remove_primers/pair_mode/DBG_027659_R2_pair_mode_primers_trimmed.fastq /Users/jessie/Dropbox/jessie/russula_illumina/Russula_BC/DBG_027659_R1.fastq /Users/jessie/Dropbox/jessie/russula_illumina/Russula_BC/DBG_027659_R2.fastq\n",
      "\n"
     ]
    },
    {
     "name": "stderr",
     "output_type": "stream",
     "text": [
      "\r",
      " 69%|██████▉   | 135/196 [03:28<01:58,  1.93s/it]"
     ]
    },
    {
     "name": "stdout",
     "output_type": "stream",
     "text": [
      "cutadapt -g GTGARTCATCGAATCTTTG -G TCCTCCGCTTATTGATATGC                 -a GCATATCAATAAGCGGAGGA -A CAAAGATTCGATGAYTCAC                 -m 200 --info-file 1_remove_primers/pair_mode/DBG_027804_pair_mode_cutadapt_info_file.txt -o 1_remove_primers/pair_mode/DBG_027804_R1_pair_mode_primers_trimmed.fastq -p 1_remove_primers/pair_mode/DBG_027804_R2_pair_mode_primers_trimmed.fastq /Users/jessie/Dropbox/jessie/russula_illumina/Russula_BC/DBG_027804_R1.fastq /Users/jessie/Dropbox/jessie/russula_illumina/Russula_BC/DBG_027804_R2.fastq\n",
      "\n"
     ]
    },
    {
     "name": "stderr",
     "output_type": "stream",
     "text": [
      "\r",
      " 69%|██████▉   | 136/196 [03:30<01:56,  1.94s/it]"
     ]
    },
    {
     "name": "stdout",
     "output_type": "stream",
     "text": [
      "cutadapt -g GTGARTCATCGAATCTTTG -G TCCTCCGCTTATTGATATGC                 -a GCATATCAATAAGCGGAGGA -A CAAAGATTCGATGAYTCAC                 -m 200 --info-file 1_remove_primers/pair_mode/DBG_027805_pair_mode_cutadapt_info_file.txt -o 1_remove_primers/pair_mode/DBG_027805_R1_pair_mode_primers_trimmed.fastq -p 1_remove_primers/pair_mode/DBG_027805_R2_pair_mode_primers_trimmed.fastq /Users/jessie/Dropbox/jessie/russula_illumina/Russula_BC/DBG_027805_R1.fastq /Users/jessie/Dropbox/jessie/russula_illumina/Russula_BC/DBG_027805_R2.fastq\n",
      "\n"
     ]
    },
    {
     "name": "stderr",
     "output_type": "stream",
     "text": [
      "\r",
      " 70%|██████▉   | 137/196 [03:31<01:38,  1.67s/it]"
     ]
    },
    {
     "name": "stdout",
     "output_type": "stream",
     "text": [
      "cutadapt -g GTGARTCATCGAATCTTTG -G TCCTCCGCTTATTGATATGC                 -a GCATATCAATAAGCGGAGGA -A CAAAGATTCGATGAYTCAC                 -m 200 --info-file 1_remove_primers/pair_mode/DBG_027895_pair_mode_cutadapt_info_file.txt -o 1_remove_primers/pair_mode/DBG_027895_R1_pair_mode_primers_trimmed.fastq -p 1_remove_primers/pair_mode/DBG_027895_R2_pair_mode_primers_trimmed.fastq /Users/jessie/Dropbox/jessie/russula_illumina/Russula_BC/DBG_027895_R1.fastq /Users/jessie/Dropbox/jessie/russula_illumina/Russula_BC/DBG_027895_R2.fastq\n",
      "\n"
     ]
    },
    {
     "name": "stderr",
     "output_type": "stream",
     "text": [
      "\r",
      " 70%|███████   | 138/196 [03:33<01:39,  1.71s/it]"
     ]
    },
    {
     "name": "stdout",
     "output_type": "stream",
     "text": [
      "cutadapt -g GTGARTCATCGAATCTTTG -G TCCTCCGCTTATTGATATGC                 -a GCATATCAATAAGCGGAGGA -A CAAAGATTCGATGAYTCAC                 -m 200 --info-file 1_remove_primers/pair_mode/DBG_027901_pair_mode_cutadapt_info_file.txt -o 1_remove_primers/pair_mode/DBG_027901_R1_pair_mode_primers_trimmed.fastq -p 1_remove_primers/pair_mode/DBG_027901_R2_pair_mode_primers_trimmed.fastq /Users/jessie/Dropbox/jessie/russula_illumina/Russula_BC/DBG_027901_R1.fastq /Users/jessie/Dropbox/jessie/russula_illumina/Russula_BC/DBG_027901_R2.fastq\n",
      "\n"
     ]
    },
    {
     "name": "stderr",
     "output_type": "stream",
     "text": [
      "\r",
      " 71%|███████   | 139/196 [03:36<01:58,  2.08s/it]"
     ]
    },
    {
     "name": "stdout",
     "output_type": "stream",
     "text": [
      "cutadapt -g GTGARTCATCGAATCTTTG -G TCCTCCGCTTATTGATATGC                 -a GCATATCAATAAGCGGAGGA -A CAAAGATTCGATGAYTCAC                 -m 200 --info-file 1_remove_primers/pair_mode/DBG_027910_pair_mode_cutadapt_info_file.txt -o 1_remove_primers/pair_mode/DBG_027910_R1_pair_mode_primers_trimmed.fastq -p 1_remove_primers/pair_mode/DBG_027910_R2_pair_mode_primers_trimmed.fastq /Users/jessie/Dropbox/jessie/russula_illumina/Russula_BC/DBG_027910_R1.fastq /Users/jessie/Dropbox/jessie/russula_illumina/Russula_BC/DBG_027910_R2.fastq\n",
      "\n"
     ]
    },
    {
     "name": "stderr",
     "output_type": "stream",
     "text": [
      "\r",
      " 71%|███████▏  | 140/196 [03:37<01:47,  1.92s/it]"
     ]
    },
    {
     "name": "stdout",
     "output_type": "stream",
     "text": [
      "cutadapt -g GTGARTCATCGAATCTTTG -G TCCTCCGCTTATTGATATGC                 -a GCATATCAATAAGCGGAGGA -A CAAAGATTCGATGAYTCAC                 -m 200 --info-file 1_remove_primers/pair_mode/DBG_027911_pair_mode_cutadapt_info_file.txt -o 1_remove_primers/pair_mode/DBG_027911_R1_pair_mode_primers_trimmed.fastq -p 1_remove_primers/pair_mode/DBG_027911_R2_pair_mode_primers_trimmed.fastq /Users/jessie/Dropbox/jessie/russula_illumina/Russula_BC/DBG_027911_R1.fastq /Users/jessie/Dropbox/jessie/russula_illumina/Russula_BC/DBG_027911_R2.fastq\n",
      "\n"
     ]
    },
    {
     "name": "stderr",
     "output_type": "stream",
     "text": [
      "\r",
      " 72%|███████▏  | 141/196 [03:39<01:37,  1.78s/it]"
     ]
    },
    {
     "name": "stdout",
     "output_type": "stream",
     "text": [
      "cutadapt -g GTGARTCATCGAATCTTTG -G TCCTCCGCTTATTGATATGC                 -a GCATATCAATAAGCGGAGGA -A CAAAGATTCGATGAYTCAC                 -m 200 --info-file 1_remove_primers/pair_mode/DBG_027913_pair_mode_cutadapt_info_file.txt -o 1_remove_primers/pair_mode/DBG_027913_R1_pair_mode_primers_trimmed.fastq -p 1_remove_primers/pair_mode/DBG_027913_R2_pair_mode_primers_trimmed.fastq /Users/jessie/Dropbox/jessie/russula_illumina/Russula_BC/DBG_027913_R1.fastq /Users/jessie/Dropbox/jessie/russula_illumina/Russula_BC/DBG_027913_R2.fastq\n",
      "\n"
     ]
    },
    {
     "name": "stderr",
     "output_type": "stream",
     "text": [
      "\r",
      " 72%|███████▏  | 142/196 [03:40<01:22,  1.53s/it]"
     ]
    },
    {
     "name": "stdout",
     "output_type": "stream",
     "text": [
      "cutadapt -g GTGARTCATCGAATCTTTG -G TCCTCCGCTTATTGATATGC                 -a GCATATCAATAAGCGGAGGA -A CAAAGATTCGATGAYTCAC                 -m 200 --info-file 1_remove_primers/pair_mode/DBG_027914_pair_mode_cutadapt_info_file.txt -o 1_remove_primers/pair_mode/DBG_027914_R1_pair_mode_primers_trimmed.fastq -p 1_remove_primers/pair_mode/DBG_027914_R2_pair_mode_primers_trimmed.fastq /Users/jessie/Dropbox/jessie/russula_illumina/Russula_BC/DBG_027914_R1.fastq /Users/jessie/Dropbox/jessie/russula_illumina/Russula_BC/DBG_027914_R2.fastq\n",
      "\n"
     ]
    },
    {
     "name": "stderr",
     "output_type": "stream",
     "text": [
      "\r",
      " 73%|███████▎  | 143/196 [03:42<01:23,  1.58s/it]"
     ]
    },
    {
     "name": "stdout",
     "output_type": "stream",
     "text": [
      "cutadapt -g GTGARTCATCGAATCTTTG -G TCCTCCGCTTATTGATATGC                 -a GCATATCAATAAGCGGAGGA -A CAAAGATTCGATGAYTCAC                 -m 200 --info-file 1_remove_primers/pair_mode/DBG_027988_pair_mode_cutadapt_info_file.txt -o 1_remove_primers/pair_mode/DBG_027988_R1_pair_mode_primers_trimmed.fastq -p 1_remove_primers/pair_mode/DBG_027988_R2_pair_mode_primers_trimmed.fastq /Users/jessie/Dropbox/jessie/russula_illumina/Russula_BC/DBG_027988_R1.fastq /Users/jessie/Dropbox/jessie/russula_illumina/Russula_BC/DBG_027988_R2.fastq\n",
      "\n"
     ]
    },
    {
     "name": "stderr",
     "output_type": "stream",
     "text": [
      "\r",
      " 73%|███████▎  | 144/196 [03:42<01:03,  1.22s/it]"
     ]
    },
    {
     "name": "stdout",
     "output_type": "stream",
     "text": [
      "cutadapt -g GTGARTCATCGAATCTTTG -G TCCTCCGCTTATTGATATGC                 -a GCATATCAATAAGCGGAGGA -A CAAAGATTCGATGAYTCAC                 -m 200 --info-file 1_remove_primers/pair_mode/DBG_028112_pair_mode_cutadapt_info_file.txt -o 1_remove_primers/pair_mode/DBG_028112_R1_pair_mode_primers_trimmed.fastq -p 1_remove_primers/pair_mode/DBG_028112_R2_pair_mode_primers_trimmed.fastq /Users/jessie/Dropbox/jessie/russula_illumina/Russula_BC/DBG_028112_R1.fastq /Users/jessie/Dropbox/jessie/russula_illumina/Russula_BC/DBG_028112_R2.fastq\n",
      "\n"
     ]
    },
    {
     "name": "stderr",
     "output_type": "stream",
     "text": [
      "\r",
      " 74%|███████▍  | 145/196 [03:43<01:07,  1.33s/it]"
     ]
    },
    {
     "name": "stdout",
     "output_type": "stream",
     "text": [
      "cutadapt -g GTGARTCATCGAATCTTTG -G TCCTCCGCTTATTGATATGC                 -a GCATATCAATAAGCGGAGGA -A CAAAGATTCGATGAYTCAC                 -m 200 --info-file 1_remove_primers/pair_mode/DBG_028125_pair_mode_cutadapt_info_file.txt -o 1_remove_primers/pair_mode/DBG_028125_R1_pair_mode_primers_trimmed.fastq -p 1_remove_primers/pair_mode/DBG_028125_R2_pair_mode_primers_trimmed.fastq /Users/jessie/Dropbox/jessie/russula_illumina/Russula_BC/DBG_028125_R1.fastq /Users/jessie/Dropbox/jessie/russula_illumina/Russula_BC/DBG_028125_R2.fastq\n",
      "\n"
     ]
    },
    {
     "name": "stderr",
     "output_type": "stream",
     "text": [
      "\r",
      " 74%|███████▍  | 146/196 [03:46<01:25,  1.70s/it]"
     ]
    },
    {
     "name": "stdout",
     "output_type": "stream",
     "text": [
      "cutadapt -g GTGARTCATCGAATCTTTG -G TCCTCCGCTTATTGATATGC                 -a GCATATCAATAAGCGGAGGA -A CAAAGATTCGATGAYTCAC                 -m 200 --info-file 1_remove_primers/pair_mode/DBG_028155_pair_mode_cutadapt_info_file.txt -o 1_remove_primers/pair_mode/DBG_028155_R1_pair_mode_primers_trimmed.fastq -p 1_remove_primers/pair_mode/DBG_028155_R2_pair_mode_primers_trimmed.fastq /Users/jessie/Dropbox/jessie/russula_illumina/Russula_BC/DBG_028155_R1.fastq /Users/jessie/Dropbox/jessie/russula_illumina/Russula_BC/DBG_028155_R2.fastq\n",
      "\n"
     ]
    },
    {
     "name": "stderr",
     "output_type": "stream",
     "text": [
      "\r",
      " 75%|███████▌  | 147/196 [03:49<01:45,  2.15s/it]"
     ]
    },
    {
     "name": "stdout",
     "output_type": "stream",
     "text": [
      "cutadapt -g GTGARTCATCGAATCTTTG -G TCCTCCGCTTATTGATATGC                 -a GCATATCAATAAGCGGAGGA -A CAAAGATTCGATGAYTCAC                 -m 200 --info-file 1_remove_primers/pair_mode/DBG_028281_pair_mode_cutadapt_info_file.txt -o 1_remove_primers/pair_mode/DBG_028281_R1_pair_mode_primers_trimmed.fastq -p 1_remove_primers/pair_mode/DBG_028281_R2_pair_mode_primers_trimmed.fastq /Users/jessie/Dropbox/jessie/russula_illumina/Russula_BC/DBG_028281_R1.fastq /Users/jessie/Dropbox/jessie/russula_illumina/Russula_BC/DBG_028281_R2.fastq\n",
      "\n"
     ]
    },
    {
     "name": "stderr",
     "output_type": "stream",
     "text": [
      "\r",
      " 76%|███████▌  | 148/196 [03:51<01:35,  1.99s/it]"
     ]
    },
    {
     "name": "stdout",
     "output_type": "stream",
     "text": [
      "cutadapt -g GTGARTCATCGAATCTTTG -G TCCTCCGCTTATTGATATGC                 -a GCATATCAATAAGCGGAGGA -A CAAAGATTCGATGAYTCAC                 -m 200 --info-file 1_remove_primers/pair_mode/DBG_028282_pair_mode_cutadapt_info_file.txt -o 1_remove_primers/pair_mode/DBG_028282_R1_pair_mode_primers_trimmed.fastq -p 1_remove_primers/pair_mode/DBG_028282_R2_pair_mode_primers_trimmed.fastq /Users/jessie/Dropbox/jessie/russula_illumina/Russula_BC/DBG_028282_R1.fastq /Users/jessie/Dropbox/jessie/russula_illumina/Russula_BC/DBG_028282_R2.fastq\n",
      "\n"
     ]
    },
    {
     "name": "stderr",
     "output_type": "stream",
     "text": [
      "\r",
      " 76%|███████▌  | 149/196 [03:56<02:22,  3.04s/it]"
     ]
    },
    {
     "name": "stdout",
     "output_type": "stream",
     "text": [
      "cutadapt -g GTGARTCATCGAATCTTTG -G TCCTCCGCTTATTGATATGC                 -a GCATATCAATAAGCGGAGGA -A CAAAGATTCGATGAYTCAC                 -m 200 --info-file 1_remove_primers/pair_mode/DBG_028314_pair_mode_cutadapt_info_file.txt -o 1_remove_primers/pair_mode/DBG_028314_R1_pair_mode_primers_trimmed.fastq -p 1_remove_primers/pair_mode/DBG_028314_R2_pair_mode_primers_trimmed.fastq /Users/jessie/Dropbox/jessie/russula_illumina/Russula_BC/DBG_028314_R1.fastq /Users/jessie/Dropbox/jessie/russula_illumina/Russula_BC/DBG_028314_R2.fastq\n",
      "\n"
     ]
    },
    {
     "name": "stderr",
     "output_type": "stream",
     "text": [
      "\r",
      " 77%|███████▋  | 150/196 [03:57<01:44,  2.27s/it]"
     ]
    },
    {
     "name": "stdout",
     "output_type": "stream",
     "text": [
      "cutadapt -g GTGARTCATCGAATCTTTG -G TCCTCCGCTTATTGATATGC                 -a GCATATCAATAAGCGGAGGA -A CAAAGATTCGATGAYTCAC                 -m 200 --info-file 1_remove_primers/pair_mode/DBG_028330_pair_mode_cutadapt_info_file.txt -o 1_remove_primers/pair_mode/DBG_028330_R1_pair_mode_primers_trimmed.fastq -p 1_remove_primers/pair_mode/DBG_028330_R2_pair_mode_primers_trimmed.fastq /Users/jessie/Dropbox/jessie/russula_illumina/Russula_BC/DBG_028330_R1.fastq /Users/jessie/Dropbox/jessie/russula_illumina/Russula_BC/DBG_028330_R2.fastq\n",
      "\n"
     ]
    },
    {
     "name": "stderr",
     "output_type": "stream",
     "text": [
      "\r",
      " 77%|███████▋  | 151/196 [03:59<01:38,  2.18s/it]"
     ]
    },
    {
     "name": "stdout",
     "output_type": "stream",
     "text": [
      "cutadapt -g GTGARTCATCGAATCTTTG -G TCCTCCGCTTATTGATATGC                 -a GCATATCAATAAGCGGAGGA -A CAAAGATTCGATGAYTCAC                 -m 200 --info-file 1_remove_primers/pair_mode/DBG_028379_pair_mode_cutadapt_info_file.txt -o 1_remove_primers/pair_mode/DBG_028379_R1_pair_mode_primers_trimmed.fastq -p 1_remove_primers/pair_mode/DBG_028379_R2_pair_mode_primers_trimmed.fastq /Users/jessie/Dropbox/jessie/russula_illumina/Russula_BC/DBG_028379_R1.fastq /Users/jessie/Dropbox/jessie/russula_illumina/Russula_BC/DBG_028379_R2.fastq\n",
      "\n"
     ]
    },
    {
     "name": "stderr",
     "output_type": "stream",
     "text": [
      "\r",
      " 78%|███████▊  | 152/196 [04:00<01:29,  2.02s/it]"
     ]
    },
    {
     "name": "stdout",
     "output_type": "stream",
     "text": [
      "cutadapt -g GTGARTCATCGAATCTTTG -G TCCTCCGCTTATTGATATGC                 -a GCATATCAATAAGCGGAGGA -A CAAAGATTCGATGAYTCAC                 -m 200 --info-file 1_remove_primers/pair_mode/DBG_028381_pair_mode_cutadapt_info_file.txt -o 1_remove_primers/pair_mode/DBG_028381_R1_pair_mode_primers_trimmed.fastq -p 1_remove_primers/pair_mode/DBG_028381_R2_pair_mode_primers_trimmed.fastq /Users/jessie/Dropbox/jessie/russula_illumina/Russula_BC/DBG_028381_R1.fastq /Users/jessie/Dropbox/jessie/russula_illumina/Russula_BC/DBG_028381_R2.fastq\n",
      "\n"
     ]
    },
    {
     "name": "stderr",
     "output_type": "stream",
     "text": [
      "\r",
      " 78%|███████▊  | 153/196 [04:02<01:21,  1.88s/it]"
     ]
    },
    {
     "name": "stdout",
     "output_type": "stream",
     "text": [
      "cutadapt -g GTGARTCATCGAATCTTTG -G TCCTCCGCTTATTGATATGC                 -a GCATATCAATAAGCGGAGGA -A CAAAGATTCGATGAYTCAC                 -m 200 --info-file 1_remove_primers/pair_mode/DBG_028393_pair_mode_cutadapt_info_file.txt -o 1_remove_primers/pair_mode/DBG_028393_R1_pair_mode_primers_trimmed.fastq -p 1_remove_primers/pair_mode/DBG_028393_R2_pair_mode_primers_trimmed.fastq /Users/jessie/Dropbox/jessie/russula_illumina/Russula_BC/DBG_028393_R1.fastq /Users/jessie/Dropbox/jessie/russula_illumina/Russula_BC/DBG_028393_R2.fastq\n",
      "\n"
     ]
    },
    {
     "name": "stderr",
     "output_type": "stream",
     "text": [
      "\r",
      " 79%|███████▊  | 154/196 [04:06<01:42,  2.45s/it]"
     ]
    },
    {
     "name": "stdout",
     "output_type": "stream",
     "text": [
      "cutadapt -g GTGARTCATCGAATCTTTG -G TCCTCCGCTTATTGATATGC                 -a GCATATCAATAAGCGGAGGA -A CAAAGATTCGATGAYTCAC                 -m 200 --info-file 1_remove_primers/pair_mode/DBG_028402_pair_mode_cutadapt_info_file.txt -o 1_remove_primers/pair_mode/DBG_028402_R1_pair_mode_primers_trimmed.fastq -p 1_remove_primers/pair_mode/DBG_028402_R2_pair_mode_primers_trimmed.fastq /Users/jessie/Dropbox/jessie/russula_illumina/Russula_BC/DBG_028402_R1.fastq /Users/jessie/Dropbox/jessie/russula_illumina/Russula_BC/DBG_028402_R2.fastq\n",
      "\n"
     ]
    },
    {
     "name": "stderr",
     "output_type": "stream",
     "text": [
      "\r",
      " 79%|███████▉  | 155/196 [04:07<01:21,  1.99s/it]"
     ]
    },
    {
     "name": "stdout",
     "output_type": "stream",
     "text": [
      "cutadapt -g GTGARTCATCGAATCTTTG -G TCCTCCGCTTATTGATATGC                 -a GCATATCAATAAGCGGAGGA -A CAAAGATTCGATGAYTCAC                 -m 200 --info-file 1_remove_primers/pair_mode/DBG_028432_pair_mode_cutadapt_info_file.txt -o 1_remove_primers/pair_mode/DBG_028432_R1_pair_mode_primers_trimmed.fastq -p 1_remove_primers/pair_mode/DBG_028432_R2_pair_mode_primers_trimmed.fastq /Users/jessie/Dropbox/jessie/russula_illumina/Russula_BC/DBG_028432_R1.fastq /Users/jessie/Dropbox/jessie/russula_illumina/Russula_BC/DBG_028432_R2.fastq\n",
      "\n"
     ]
    },
    {
     "name": "stderr",
     "output_type": "stream",
     "text": [
      "\r",
      " 80%|███████▉  | 156/196 [04:09<01:20,  2.01s/it]"
     ]
    },
    {
     "name": "stdout",
     "output_type": "stream",
     "text": [
      "cutadapt -g GTGARTCATCGAATCTTTG -G TCCTCCGCTTATTGATATGC                 -a GCATATCAATAAGCGGAGGA -A CAAAGATTCGATGAYTCAC                 -m 200 --info-file 1_remove_primers/pair_mode/DBG_028543_pair_mode_cutadapt_info_file.txt -o 1_remove_primers/pair_mode/DBG_028543_R1_pair_mode_primers_trimmed.fastq -p 1_remove_primers/pair_mode/DBG_028543_R2_pair_mode_primers_trimmed.fastq /Users/jessie/Dropbox/jessie/russula_illumina/Russula_BC/DBG_028543_R1.fastq /Users/jessie/Dropbox/jessie/russula_illumina/Russula_BC/DBG_028543_R2.fastq\n",
      "\n"
     ]
    },
    {
     "name": "stderr",
     "output_type": "stream",
     "text": [
      "\r",
      " 80%|████████  | 157/196 [04:10<01:14,  1.90s/it]"
     ]
    },
    {
     "name": "stdout",
     "output_type": "stream",
     "text": [
      "cutadapt -g GTGARTCATCGAATCTTTG -G TCCTCCGCTTATTGATATGC                 -a GCATATCAATAAGCGGAGGA -A CAAAGATTCGATGAYTCAC                 -m 200 --info-file 1_remove_primers/pair_mode/DBG_028710_pair_mode_cutadapt_info_file.txt -o 1_remove_primers/pair_mode/DBG_028710_R1_pair_mode_primers_trimmed.fastq -p 1_remove_primers/pair_mode/DBG_028710_R2_pair_mode_primers_trimmed.fastq /Users/jessie/Dropbox/jessie/russula_illumina/Russula_BC/DBG_028710_R1.fastq /Users/jessie/Dropbox/jessie/russula_illumina/Russula_BC/DBG_028710_R2.fastq\n",
      "\n"
     ]
    },
    {
     "name": "stderr",
     "output_type": "stream",
     "text": [
      "\r",
      " 81%|████████  | 158/196 [04:13<01:18,  2.06s/it]"
     ]
    },
    {
     "name": "stdout",
     "output_type": "stream",
     "text": [
      "cutadapt -g GTGARTCATCGAATCTTTG -G TCCTCCGCTTATTGATATGC                 -a GCATATCAATAAGCGGAGGA -A CAAAGATTCGATGAYTCAC                 -m 200 --info-file 1_remove_primers/pair_mode/DBG_028724_pair_mode_cutadapt_info_file.txt -o 1_remove_primers/pair_mode/DBG_028724_R1_pair_mode_primers_trimmed.fastq -p 1_remove_primers/pair_mode/DBG_028724_R2_pair_mode_primers_trimmed.fastq /Users/jessie/Dropbox/jessie/russula_illumina/Russula_BC/DBG_028724_R1.fastq /Users/jessie/Dropbox/jessie/russula_illumina/Russula_BC/DBG_028724_R2.fastq\n",
      "\n"
     ]
    },
    {
     "name": "stderr",
     "output_type": "stream",
     "text": [
      "\r",
      " 81%|████████  | 159/196 [04:16<01:32,  2.50s/it]"
     ]
    },
    {
     "name": "stdout",
     "output_type": "stream",
     "text": [
      "cutadapt -g GTGARTCATCGAATCTTTG -G TCCTCCGCTTATTGATATGC                 -a GCATATCAATAAGCGGAGGA -A CAAAGATTCGATGAYTCAC                 -m 200 --info-file 1_remove_primers/pair_mode/DBG_028727_pair_mode_cutadapt_info_file.txt -o 1_remove_primers/pair_mode/DBG_028727_R1_pair_mode_primers_trimmed.fastq -p 1_remove_primers/pair_mode/DBG_028727_R2_pair_mode_primers_trimmed.fastq /Users/jessie/Dropbox/jessie/russula_illumina/Russula_BC/DBG_028727_R1.fastq /Users/jessie/Dropbox/jessie/russula_illumina/Russula_BC/DBG_028727_R2.fastq\n",
      "\n"
     ]
    },
    {
     "name": "stderr",
     "output_type": "stream",
     "text": [
      "\r",
      " 82%|████████▏ | 160/196 [04:20<01:48,  3.00s/it]"
     ]
    },
    {
     "name": "stdout",
     "output_type": "stream",
     "text": [
      "cutadapt -g GTGARTCATCGAATCTTTG -G TCCTCCGCTTATTGATATGC                 -a GCATATCAATAAGCGGAGGA -A CAAAGATTCGATGAYTCAC                 -m 200 --info-file 1_remove_primers/pair_mode/DBG_028729_pair_mode_cutadapt_info_file.txt -o 1_remove_primers/pair_mode/DBG_028729_R1_pair_mode_primers_trimmed.fastq -p 1_remove_primers/pair_mode/DBG_028729_R2_pair_mode_primers_trimmed.fastq /Users/jessie/Dropbox/jessie/russula_illumina/Russula_BC/DBG_028729_R1.fastq /Users/jessie/Dropbox/jessie/russula_illumina/Russula_BC/DBG_028729_R2.fastq\n",
      "\n"
     ]
    },
    {
     "name": "stderr",
     "output_type": "stream",
     "text": [
      "\r",
      " 82%|████████▏ | 161/196 [04:22<01:25,  2.46s/it]"
     ]
    },
    {
     "name": "stdout",
     "output_type": "stream",
     "text": [
      "cutadapt -g GTGARTCATCGAATCTTTG -G TCCTCCGCTTATTGATATGC                 -a GCATATCAATAAGCGGAGGA -A CAAAGATTCGATGAYTCAC                 -m 200 --info-file 1_remove_primers/pair_mode/DBG_028730_pair_mode_cutadapt_info_file.txt -o 1_remove_primers/pair_mode/DBG_028730_R1_pair_mode_primers_trimmed.fastq -p 1_remove_primers/pair_mode/DBG_028730_R2_pair_mode_primers_trimmed.fastq /Users/jessie/Dropbox/jessie/russula_illumina/Russula_BC/DBG_028730_R1.fastq /Users/jessie/Dropbox/jessie/russula_illumina/Russula_BC/DBG_028730_R2.fastq\n",
      "\n"
     ]
    },
    {
     "name": "stderr",
     "output_type": "stream",
     "text": [
      "\r",
      " 83%|████████▎ | 162/196 [04:23<01:12,  2.14s/it]"
     ]
    },
    {
     "name": "stdout",
     "output_type": "stream",
     "text": [
      "cutadapt -g GTGARTCATCGAATCTTTG -G TCCTCCGCTTATTGATATGC                 -a GCATATCAATAAGCGGAGGA -A CAAAGATTCGATGAYTCAC                 -m 200 --info-file 1_remove_primers/pair_mode/DBG_028736_pair_mode_cutadapt_info_file.txt -o 1_remove_primers/pair_mode/DBG_028736_R1_pair_mode_primers_trimmed.fastq -p 1_remove_primers/pair_mode/DBG_028736_R2_pair_mode_primers_trimmed.fastq /Users/jessie/Dropbox/jessie/russula_illumina/Russula_BC/DBG_028736_R1.fastq /Users/jessie/Dropbox/jessie/russula_illumina/Russula_BC/DBG_028736_R2.fastq\n",
      "\n"
     ]
    },
    {
     "name": "stderr",
     "output_type": "stream",
     "text": [
      "\r",
      " 83%|████████▎ | 163/196 [04:24<00:56,  1.70s/it]"
     ]
    },
    {
     "name": "stdout",
     "output_type": "stream",
     "text": [
      "cutadapt -g GTGARTCATCGAATCTTTG -G TCCTCCGCTTATTGATATGC                 -a GCATATCAATAAGCGGAGGA -A CAAAGATTCGATGAYTCAC                 -m 200 --info-file 1_remove_primers/pair_mode/DBG_028792_pair_mode_cutadapt_info_file.txt -o 1_remove_primers/pair_mode/DBG_028792_R1_pair_mode_primers_trimmed.fastq -p 1_remove_primers/pair_mode/DBG_028792_R2_pair_mode_primers_trimmed.fastq /Users/jessie/Dropbox/jessie/russula_illumina/Russula_BC/DBG_028792_R1.fastq /Users/jessie/Dropbox/jessie/russula_illumina/Russula_BC/DBG_028792_R2.fastq\n",
      "\n"
     ]
    },
    {
     "name": "stderr",
     "output_type": "stream",
     "text": [
      "\r",
      " 84%|████████▎ | 164/196 [04:24<00:44,  1.38s/it]"
     ]
    },
    {
     "name": "stdout",
     "output_type": "stream",
     "text": [
      "cutadapt -g GTGARTCATCGAATCTTTG -G TCCTCCGCTTATTGATATGC                 -a GCATATCAATAAGCGGAGGA -A CAAAGATTCGATGAYTCAC                 -m 200 --info-file 1_remove_primers/pair_mode/DBG_028827_pair_mode_cutadapt_info_file.txt -o 1_remove_primers/pair_mode/DBG_028827_R1_pair_mode_primers_trimmed.fastq -p 1_remove_primers/pair_mode/DBG_028827_R2_pair_mode_primers_trimmed.fastq /Users/jessie/Dropbox/jessie/russula_illumina/Russula_BC/DBG_028827_R1.fastq /Users/jessie/Dropbox/jessie/russula_illumina/Russula_BC/DBG_028827_R2.fastq\n",
      "\n"
     ]
    },
    {
     "name": "stderr",
     "output_type": "stream",
     "text": [
      "\r",
      " 84%|████████▍ | 165/196 [04:27<00:58,  1.88s/it]"
     ]
    },
    {
     "name": "stdout",
     "output_type": "stream",
     "text": [
      "cutadapt -g GTGARTCATCGAATCTTTG -G TCCTCCGCTTATTGATATGC                 -a GCATATCAATAAGCGGAGGA -A CAAAGATTCGATGAYTCAC                 -m 200 --info-file 1_remove_primers/pair_mode/DBG_028843_pair_mode_cutadapt_info_file.txt -o 1_remove_primers/pair_mode/DBG_028843_R1_pair_mode_primers_trimmed.fastq -p 1_remove_primers/pair_mode/DBG_028843_R2_pair_mode_primers_trimmed.fastq /Users/jessie/Dropbox/jessie/russula_illumina/Russula_BC/DBG_028843_R1.fastq /Users/jessie/Dropbox/jessie/russula_illumina/Russula_BC/DBG_028843_R2.fastq\n",
      "\n"
     ]
    },
    {
     "name": "stderr",
     "output_type": "stream",
     "text": [
      "\r",
      " 85%|████████▍ | 166/196 [04:29<00:55,  1.85s/it]"
     ]
    },
    {
     "name": "stdout",
     "output_type": "stream",
     "text": [
      "cutadapt -g GTGARTCATCGAATCTTTG -G TCCTCCGCTTATTGATATGC                 -a GCATATCAATAAGCGGAGGA -A CAAAGATTCGATGAYTCAC                 -m 200 --info-file 1_remove_primers/pair_mode/DBG_028957_pair_mode_cutadapt_info_file.txt -o 1_remove_primers/pair_mode/DBG_028957_R1_pair_mode_primers_trimmed.fastq -p 1_remove_primers/pair_mode/DBG_028957_R2_pair_mode_primers_trimmed.fastq /Users/jessie/Dropbox/jessie/russula_illumina/Russula_BC/DBG_028957_R1.fastq /Users/jessie/Dropbox/jessie/russula_illumina/Russula_BC/DBG_028957_R2.fastq\n",
      "\n"
     ]
    },
    {
     "name": "stderr",
     "output_type": "stream",
     "text": [
      "\r",
      " 85%|████████▌ | 167/196 [04:31<00:57,  1.98s/it]"
     ]
    },
    {
     "name": "stdout",
     "output_type": "stream",
     "text": [
      "cutadapt -g GTGARTCATCGAATCTTTG -G TCCTCCGCTTATTGATATGC                 -a GCATATCAATAAGCGGAGGA -A CAAAGATTCGATGAYTCAC                 -m 200 --info-file 1_remove_primers/pair_mode/DBG_028977_pair_mode_cutadapt_info_file.txt -o 1_remove_primers/pair_mode/DBG_028977_R1_pair_mode_primers_trimmed.fastq -p 1_remove_primers/pair_mode/DBG_028977_R2_pair_mode_primers_trimmed.fastq /Users/jessie/Dropbox/jessie/russula_illumina/Russula_BC/DBG_028977_R1.fastq /Users/jessie/Dropbox/jessie/russula_illumina/Russula_BC/DBG_028977_R2.fastq\n",
      "\n"
     ]
    },
    {
     "name": "stderr",
     "output_type": "stream",
     "text": [
      "\r",
      " 86%|████████▌ | 168/196 [04:33<00:52,  1.87s/it]"
     ]
    },
    {
     "name": "stdout",
     "output_type": "stream",
     "text": [
      "cutadapt -g GTGARTCATCGAATCTTTG -G TCCTCCGCTTATTGATATGC                 -a GCATATCAATAAGCGGAGGA -A CAAAGATTCGATGAYTCAC                 -m 200 --info-file 1_remove_primers/pair_mode/DBG_029012_pair_mode_cutadapt_info_file.txt -o 1_remove_primers/pair_mode/DBG_029012_R1_pair_mode_primers_trimmed.fastq -p 1_remove_primers/pair_mode/DBG_029012_R2_pair_mode_primers_trimmed.fastq /Users/jessie/Dropbox/jessie/russula_illumina/Russula_BC/DBG_029012_R1.fastq /Users/jessie/Dropbox/jessie/russula_illumina/Russula_BC/DBG_029012_R2.fastq\n",
      "\n"
     ]
    },
    {
     "name": "stderr",
     "output_type": "stream",
     "text": [
      "\r",
      " 86%|████████▌ | 169/196 [04:34<00:45,  1.67s/it]"
     ]
    },
    {
     "name": "stdout",
     "output_type": "stream",
     "text": [
      "cutadapt -g GTGARTCATCGAATCTTTG -G TCCTCCGCTTATTGATATGC                 -a GCATATCAATAAGCGGAGGA -A CAAAGATTCGATGAYTCAC                 -m 200 --info-file 1_remove_primers/pair_mode/DBG_029153_pair_mode_cutadapt_info_file.txt -o 1_remove_primers/pair_mode/DBG_029153_R1_pair_mode_primers_trimmed.fastq -p 1_remove_primers/pair_mode/DBG_029153_R2_pair_mode_primers_trimmed.fastq /Users/jessie/Dropbox/jessie/russula_illumina/Russula_BC/DBG_029153_R1.fastq /Users/jessie/Dropbox/jessie/russula_illumina/Russula_BC/DBG_029153_R2.fastq\n",
      "\n"
     ]
    },
    {
     "name": "stderr",
     "output_type": "stream",
     "text": [
      "\r",
      " 87%|████████▋ | 170/196 [04:36<00:42,  1.62s/it]"
     ]
    },
    {
     "name": "stdout",
     "output_type": "stream",
     "text": [
      "cutadapt -g GTGARTCATCGAATCTTTG -G TCCTCCGCTTATTGATATGC                 -a GCATATCAATAAGCGGAGGA -A CAAAGATTCGATGAYTCAC                 -m 200 --info-file 1_remove_primers/pair_mode/DBG_029512_pair_mode_cutadapt_info_file.txt -o 1_remove_primers/pair_mode/DBG_029512_R1_pair_mode_primers_trimmed.fastq -p 1_remove_primers/pair_mode/DBG_029512_R2_pair_mode_primers_trimmed.fastq /Users/jessie/Dropbox/jessie/russula_illumina/Russula_BC/DBG_029512_R1.fastq /Users/jessie/Dropbox/jessie/russula_illumina/Russula_BC/DBG_029512_R2.fastq\n",
      "\n"
     ]
    },
    {
     "name": "stderr",
     "output_type": "stream",
     "text": [
      "\r",
      " 87%|████████▋ | 171/196 [04:36<00:31,  1.27s/it]"
     ]
    },
    {
     "name": "stdout",
     "output_type": "stream",
     "text": [
      "cutadapt -g GTGARTCATCGAATCTTTG -G TCCTCCGCTTATTGATATGC                 -a GCATATCAATAAGCGGAGGA -A CAAAGATTCGATGAYTCAC                 -m 200 --info-file 1_remove_primers/pair_mode/DBG_029516_pair_mode_cutadapt_info_file.txt -o 1_remove_primers/pair_mode/DBG_029516_R1_pair_mode_primers_trimmed.fastq -p 1_remove_primers/pair_mode/DBG_029516_R2_pair_mode_primers_trimmed.fastq /Users/jessie/Dropbox/jessie/russula_illumina/Russula_BC/DBG_029516_R1.fastq /Users/jessie/Dropbox/jessie/russula_illumina/Russula_BC/DBG_029516_R2.fastq\n",
      "\n"
     ]
    },
    {
     "name": "stderr",
     "output_type": "stream",
     "text": [
      "\r",
      " 88%|████████▊ | 172/196 [04:37<00:25,  1.08s/it]"
     ]
    },
    {
     "name": "stdout",
     "output_type": "stream",
     "text": [
      "cutadapt -g GTGARTCATCGAATCTTTG -G TCCTCCGCTTATTGATATGC                 -a GCATATCAATAAGCGGAGGA -A CAAAGATTCGATGAYTCAC                 -m 200 --info-file 1_remove_primers/pair_mode/DBG_029525_pair_mode_cutadapt_info_file.txt -o 1_remove_primers/pair_mode/DBG_029525_R1_pair_mode_primers_trimmed.fastq -p 1_remove_primers/pair_mode/DBG_029525_R2_pair_mode_primers_trimmed.fastq /Users/jessie/Dropbox/jessie/russula_illumina/Russula_BC/DBG_029525_R1.fastq /Users/jessie/Dropbox/jessie/russula_illumina/Russula_BC/DBG_029525_R2.fastq\n",
      "\n"
     ]
    },
    {
     "name": "stderr",
     "output_type": "stream",
     "text": [
      "\r",
      " 88%|████████▊ | 173/196 [04:38<00:28,  1.23s/it]"
     ]
    },
    {
     "name": "stdout",
     "output_type": "stream",
     "text": [
      "cutadapt -g GTGARTCATCGAATCTTTG -G TCCTCCGCTTATTGATATGC                 -a GCATATCAATAAGCGGAGGA -A CAAAGATTCGATGAYTCAC                 -m 200 --info-file 1_remove_primers/pair_mode/DBG_029551_pair_mode_cutadapt_info_file.txt -o 1_remove_primers/pair_mode/DBG_029551_R1_pair_mode_primers_trimmed.fastq -p 1_remove_primers/pair_mode/DBG_029551_R2_pair_mode_primers_trimmed.fastq /Users/jessie/Dropbox/jessie/russula_illumina/Russula_BC/DBG_029551_R1.fastq /Users/jessie/Dropbox/jessie/russula_illumina/Russula_BC/DBG_029551_R2.fastq\n",
      "\n"
     ]
    },
    {
     "name": "stderr",
     "output_type": "stream",
     "text": [
      "\r",
      " 89%|████████▉ | 174/196 [04:41<00:34,  1.56s/it]"
     ]
    },
    {
     "name": "stdout",
     "output_type": "stream",
     "text": [
      "cutadapt -g GTGARTCATCGAATCTTTG -G TCCTCCGCTTATTGATATGC                 -a GCATATCAATAAGCGGAGGA -A CAAAGATTCGATGAYTCAC                 -m 200 --info-file 1_remove_primers/pair_mode/DBG_029586_pair_mode_cutadapt_info_file.txt -o 1_remove_primers/pair_mode/DBG_029586_R1_pair_mode_primers_trimmed.fastq -p 1_remove_primers/pair_mode/DBG_029586_R2_pair_mode_primers_trimmed.fastq /Users/jessie/Dropbox/jessie/russula_illumina/Russula_BC/DBG_029586_R1.fastq /Users/jessie/Dropbox/jessie/russula_illumina/Russula_BC/DBG_029586_R2.fastq\n",
      "\n"
     ]
    },
    {
     "name": "stderr",
     "output_type": "stream",
     "text": [
      "\r",
      " 89%|████████▉ | 175/196 [04:44<00:41,  1.95s/it]"
     ]
    },
    {
     "name": "stdout",
     "output_type": "stream",
     "text": [
      "cutadapt -g GTGARTCATCGAATCTTTG -G TCCTCCGCTTATTGATATGC                 -a GCATATCAATAAGCGGAGGA -A CAAAGATTCGATGAYTCAC                 -m 200 --info-file 1_remove_primers/pair_mode/DBG_029589_pair_mode_cutadapt_info_file.txt -o 1_remove_primers/pair_mode/DBG_029589_R1_pair_mode_primers_trimmed.fastq -p 1_remove_primers/pair_mode/DBG_029589_R2_pair_mode_primers_trimmed.fastq /Users/jessie/Dropbox/jessie/russula_illumina/Russula_BC/DBG_029589_R1.fastq /Users/jessie/Dropbox/jessie/russula_illumina/Russula_BC/DBG_029589_R2.fastq\n",
      "\n"
     ]
    },
    {
     "name": "stderr",
     "output_type": "stream",
     "text": [
      "\r",
      " 90%|████████▉ | 176/196 [04:45<00:37,  1.87s/it]"
     ]
    },
    {
     "name": "stdout",
     "output_type": "stream",
     "text": [
      "cutadapt -g GTGARTCATCGAATCTTTG -G TCCTCCGCTTATTGATATGC                 -a GCATATCAATAAGCGGAGGA -A CAAAGATTCGATGAYTCAC                 -m 200 --info-file 1_remove_primers/pair_mode/DBG_029645_pair_mode_cutadapt_info_file.txt -o 1_remove_primers/pair_mode/DBG_029645_R1_pair_mode_primers_trimmed.fastq -p 1_remove_primers/pair_mode/DBG_029645_R2_pair_mode_primers_trimmed.fastq /Users/jessie/Dropbox/jessie/russula_illumina/Russula_BC/DBG_029645_R1.fastq /Users/jessie/Dropbox/jessie/russula_illumina/Russula_BC/DBG_029645_R2.fastq\n",
      "\n"
     ]
    },
    {
     "name": "stderr",
     "output_type": "stream",
     "text": [
      "\r",
      " 90%|█████████ | 177/196 [04:47<00:31,  1.68s/it]"
     ]
    },
    {
     "name": "stdout",
     "output_type": "stream",
     "text": [
      "cutadapt -g GTGARTCATCGAATCTTTG -G TCCTCCGCTTATTGATATGC                 -a GCATATCAATAAGCGGAGGA -A CAAAGATTCGATGAYTCAC                 -m 200 --info-file 1_remove_primers/pair_mode/DBG_029648_pair_mode_cutadapt_info_file.txt -o 1_remove_primers/pair_mode/DBG_029648_R1_pair_mode_primers_trimmed.fastq -p 1_remove_primers/pair_mode/DBG_029648_R2_pair_mode_primers_trimmed.fastq /Users/jessie/Dropbox/jessie/russula_illumina/Russula_BC/DBG_029648_R1.fastq /Users/jessie/Dropbox/jessie/russula_illumina/Russula_BC/DBG_029648_R2.fastq\n",
      "\n"
     ]
    },
    {
     "name": "stderr",
     "output_type": "stream",
     "text": [
      "\r",
      " 91%|█████████ | 178/196 [04:48<00:28,  1.59s/it]"
     ]
    },
    {
     "name": "stdout",
     "output_type": "stream",
     "text": [
      "cutadapt -g GTGARTCATCGAATCTTTG -G TCCTCCGCTTATTGATATGC                 -a GCATATCAATAAGCGGAGGA -A CAAAGATTCGATGAYTCAC                 -m 200 --info-file 1_remove_primers/pair_mode/DBG_029738_pair_mode_cutadapt_info_file.txt -o 1_remove_primers/pair_mode/DBG_029738_R1_pair_mode_primers_trimmed.fastq -p 1_remove_primers/pair_mode/DBG_029738_R2_pair_mode_primers_trimmed.fastq /Users/jessie/Dropbox/jessie/russula_illumina/Russula_BC/DBG_029738_R1.fastq /Users/jessie/Dropbox/jessie/russula_illumina/Russula_BC/DBG_029738_R2.fastq\n",
      "\n"
     ]
    },
    {
     "name": "stderr",
     "output_type": "stream",
     "text": [
      "\r",
      " 91%|█████████▏| 179/196 [04:49<00:25,  1.52s/it]"
     ]
    },
    {
     "name": "stdout",
     "output_type": "stream",
     "text": [
      "cutadapt -g GTGARTCATCGAATCTTTG -G TCCTCCGCTTATTGATATGC                 -a GCATATCAATAAGCGGAGGA -A CAAAGATTCGATGAYTCAC                 -m 200 --info-file 1_remove_primers/pair_mode/DBG_029739_pair_mode_cutadapt_info_file.txt -o 1_remove_primers/pair_mode/DBG_029739_R1_pair_mode_primers_trimmed.fastq -p 1_remove_primers/pair_mode/DBG_029739_R2_pair_mode_primers_trimmed.fastq /Users/jessie/Dropbox/jessie/russula_illumina/Russula_BC/DBG_029739_R1.fastq /Users/jessie/Dropbox/jessie/russula_illumina/Russula_BC/DBG_029739_R2.fastq\n",
      "\n"
     ]
    },
    {
     "name": "stderr",
     "output_type": "stream",
     "text": [
      "\r",
      " 92%|█████████▏| 180/196 [04:50<00:20,  1.31s/it]"
     ]
    },
    {
     "name": "stdout",
     "output_type": "stream",
     "text": [
      "cutadapt -g GTGARTCATCGAATCTTTG -G TCCTCCGCTTATTGATATGC                 -a GCATATCAATAAGCGGAGGA -A CAAAGATTCGATGAYTCAC                 -m 200 --info-file 1_remove_primers/pair_mode/DBG_029832_pair_mode_cutadapt_info_file.txt -o 1_remove_primers/pair_mode/DBG_029832_R1_pair_mode_primers_trimmed.fastq -p 1_remove_primers/pair_mode/DBG_029832_R2_pair_mode_primers_trimmed.fastq /Users/jessie/Dropbox/jessie/russula_illumina/Russula_BC/DBG_029832_R1.fastq /Users/jessie/Dropbox/jessie/russula_illumina/Russula_BC/DBG_029832_R2.fastq\n",
      "\n"
     ]
    },
    {
     "name": "stderr",
     "output_type": "stream",
     "text": [
      "\r",
      " 92%|█████████▏| 181/196 [04:52<00:23,  1.58s/it]"
     ]
    },
    {
     "name": "stdout",
     "output_type": "stream",
     "text": [
      "cutadapt -g GTGARTCATCGAATCTTTG -G TCCTCCGCTTATTGATATGC                 -a GCATATCAATAAGCGGAGGA -A CAAAGATTCGATGAYTCAC                 -m 200 --info-file 1_remove_primers/pair_mode/DBG_029847_pair_mode_cutadapt_info_file.txt -o 1_remove_primers/pair_mode/DBG_029847_R1_pair_mode_primers_trimmed.fastq -p 1_remove_primers/pair_mode/DBG_029847_R2_pair_mode_primers_trimmed.fastq /Users/jessie/Dropbox/jessie/russula_illumina/Russula_BC/DBG_029847_R1.fastq /Users/jessie/Dropbox/jessie/russula_illumina/Russula_BC/DBG_029847_R2.fastq\n",
      "\n"
     ]
    },
    {
     "name": "stderr",
     "output_type": "stream",
     "text": [
      "\r",
      " 93%|█████████▎| 182/196 [04:53<00:18,  1.35s/it]"
     ]
    },
    {
     "name": "stdout",
     "output_type": "stream",
     "text": [
      "cutadapt -g GTGARTCATCGAATCTTTG -G TCCTCCGCTTATTGATATGC                 -a GCATATCAATAAGCGGAGGA -A CAAAGATTCGATGAYTCAC                 -m 200 --info-file 1_remove_primers/pair_mode/DBG_029865_pair_mode_cutadapt_info_file.txt -o 1_remove_primers/pair_mode/DBG_029865_R1_pair_mode_primers_trimmed.fastq -p 1_remove_primers/pair_mode/DBG_029865_R2_pair_mode_primers_trimmed.fastq /Users/jessie/Dropbox/jessie/russula_illumina/Russula_BC/DBG_029865_R1.fastq /Users/jessie/Dropbox/jessie/russula_illumina/Russula_BC/DBG_029865_R2.fastq\n",
      "\n"
     ]
    },
    {
     "name": "stderr",
     "output_type": "stream",
     "text": [
      "\r",
      " 93%|█████████▎| 183/196 [04:56<00:22,  1.74s/it]"
     ]
    },
    {
     "name": "stdout",
     "output_type": "stream",
     "text": [
      "cutadapt -g GTGARTCATCGAATCTTTG -G TCCTCCGCTTATTGATATGC                 -a GCATATCAATAAGCGGAGGA -A CAAAGATTCGATGAYTCAC                 -m 200 --info-file 1_remove_primers/pair_mode/DBG_030181_pair_mode_cutadapt_info_file.txt -o 1_remove_primers/pair_mode/DBG_030181_R1_pair_mode_primers_trimmed.fastq -p 1_remove_primers/pair_mode/DBG_030181_R2_pair_mode_primers_trimmed.fastq /Users/jessie/Dropbox/jessie/russula_illumina/Russula_BC/DBG_030181_R1.fastq /Users/jessie/Dropbox/jessie/russula_illumina/Russula_BC/DBG_030181_R2.fastq\n",
      "\n"
     ]
    },
    {
     "name": "stderr",
     "output_type": "stream",
     "text": [
      "\r",
      " 94%|█████████▍| 184/196 [04:59<00:26,  2.20s/it]"
     ]
    },
    {
     "name": "stdout",
     "output_type": "stream",
     "text": [
      "cutadapt -g GTGARTCATCGAATCTTTG -G TCCTCCGCTTATTGATATGC                 -a GCATATCAATAAGCGGAGGA -A CAAAGATTCGATGAYTCAC                 -m 200 --info-file 1_remove_primers/pair_mode/DBG_030184_pair_mode_cutadapt_info_file.txt -o 1_remove_primers/pair_mode/DBG_030184_R1_pair_mode_primers_trimmed.fastq -p 1_remove_primers/pair_mode/DBG_030184_R2_pair_mode_primers_trimmed.fastq /Users/jessie/Dropbox/jessie/russula_illumina/Russula_BC/DBG_030184_R1.fastq /Users/jessie/Dropbox/jessie/russula_illumina/Russula_BC/DBG_030184_R2.fastq\n",
      "\n"
     ]
    },
    {
     "name": "stderr",
     "output_type": "stream",
     "text": [
      "\r",
      " 94%|█████████▍| 185/196 [05:01<00:24,  2.19s/it]"
     ]
    },
    {
     "name": "stdout",
     "output_type": "stream",
     "text": [
      "cutadapt -g GTGARTCATCGAATCTTTG -G TCCTCCGCTTATTGATATGC                 -a GCATATCAATAAGCGGAGGA -A CAAAGATTCGATGAYTCAC                 -m 200 --info-file 1_remove_primers/pair_mode/DBG_030200_pair_mode_cutadapt_info_file.txt -o 1_remove_primers/pair_mode/DBG_030200_R1_pair_mode_primers_trimmed.fastq -p 1_remove_primers/pair_mode/DBG_030200_R2_pair_mode_primers_trimmed.fastq /Users/jessie/Dropbox/jessie/russula_illumina/Russula_BC/DBG_030200_R1.fastq /Users/jessie/Dropbox/jessie/russula_illumina/Russula_BC/DBG_030200_R2.fastq\n",
      "\n"
     ]
    },
    {
     "name": "stderr",
     "output_type": "stream",
     "text": [
      "\r",
      " 95%|█████████▍| 186/196 [05:02<00:17,  1.73s/it]"
     ]
    },
    {
     "name": "stdout",
     "output_type": "stream",
     "text": [
      "cutadapt -g GTGARTCATCGAATCTTTG -G TCCTCCGCTTATTGATATGC                 -a GCATATCAATAAGCGGAGGA -A CAAAGATTCGATGAYTCAC                 -m 200 --info-file 1_remove_primers/pair_mode/DBG_030203_pair_mode_cutadapt_info_file.txt -o 1_remove_primers/pair_mode/DBG_030203_R1_pair_mode_primers_trimmed.fastq -p 1_remove_primers/pair_mode/DBG_030203_R2_pair_mode_primers_trimmed.fastq /Users/jessie/Dropbox/jessie/russula_illumina/Russula_BC/DBG_030203_R1.fastq /Users/jessie/Dropbox/jessie/russula_illumina/Russula_BC/DBG_030203_R2.fastq\n",
      "\n"
     ]
    },
    {
     "name": "stderr",
     "output_type": "stream",
     "text": [
      "\r",
      " 95%|█████████▌| 187/196 [05:04<00:17,  1.99s/it]"
     ]
    },
    {
     "name": "stdout",
     "output_type": "stream",
     "text": [
      "cutadapt -g GTGARTCATCGAATCTTTG -G TCCTCCGCTTATTGATATGC                 -a GCATATCAATAAGCGGAGGA -A CAAAGATTCGATGAYTCAC                 -m 200 --info-file 1_remove_primers/pair_mode/DBG_030205_pair_mode_cutadapt_info_file.txt -o 1_remove_primers/pair_mode/DBG_030205_R1_pair_mode_primers_trimmed.fastq -p 1_remove_primers/pair_mode/DBG_030205_R2_pair_mode_primers_trimmed.fastq /Users/jessie/Dropbox/jessie/russula_illumina/Russula_BC/DBG_030205_R1.fastq /Users/jessie/Dropbox/jessie/russula_illumina/Russula_BC/DBG_030205_R2.fastq\n",
      "\n"
     ]
    },
    {
     "name": "stderr",
     "output_type": "stream",
     "text": [
      "\r",
      " 96%|█████████▌| 188/196 [05:06<00:15,  1.99s/it]"
     ]
    },
    {
     "name": "stdout",
     "output_type": "stream",
     "text": [
      "cutadapt -g GTGARTCATCGAATCTTTG -G TCCTCCGCTTATTGATATGC                 -a GCATATCAATAAGCGGAGGA -A CAAAGATTCGATGAYTCAC                 -m 200 --info-file 1_remove_primers/pair_mode/DBG_030243_pair_mode_cutadapt_info_file.txt -o 1_remove_primers/pair_mode/DBG_030243_R1_pair_mode_primers_trimmed.fastq -p 1_remove_primers/pair_mode/DBG_030243_R2_pair_mode_primers_trimmed.fastq /Users/jessie/Dropbox/jessie/russula_illumina/Russula_BC/DBG_030243_R1.fastq /Users/jessie/Dropbox/jessie/russula_illumina/Russula_BC/DBG_030243_R2.fastq\n",
      "\n"
     ]
    },
    {
     "name": "stderr",
     "output_type": "stream",
     "text": [
      "\r",
      " 96%|█████████▋| 189/196 [05:08<00:13,  1.90s/it]"
     ]
    },
    {
     "name": "stdout",
     "output_type": "stream",
     "text": [
      "cutadapt -g GTGARTCATCGAATCTTTG -G TCCTCCGCTTATTGATATGC                 -a GCATATCAATAAGCGGAGGA -A CAAAGATTCGATGAYTCAC                 -m 200 --info-file 1_remove_primers/pair_mode/DBG_030258_pair_mode_cutadapt_info_file.txt -o 1_remove_primers/pair_mode/DBG_030258_R1_pair_mode_primers_trimmed.fastq -p 1_remove_primers/pair_mode/DBG_030258_R2_pair_mode_primers_trimmed.fastq /Users/jessie/Dropbox/jessie/russula_illumina/Russula_BC/DBG_030258_R1.fastq /Users/jessie/Dropbox/jessie/russula_illumina/Russula_BC/DBG_030258_R2.fastq\n",
      "\n"
     ]
    },
    {
     "name": "stderr",
     "output_type": "stream",
     "text": [
      "\r",
      " 97%|█████████▋| 190/196 [05:09<00:08,  1.46s/it]"
     ]
    },
    {
     "name": "stdout",
     "output_type": "stream",
     "text": [
      "cutadapt -g GTGARTCATCGAATCTTTG -G TCCTCCGCTTATTGATATGC                 -a GCATATCAATAAGCGGAGGA -A CAAAGATTCGATGAYTCAC                 -m 200 --info-file 1_remove_primers/pair_mode/DBG_030330_pair_mode_cutadapt_info_file.txt -o 1_remove_primers/pair_mode/DBG_030330_R1_pair_mode_primers_trimmed.fastq -p 1_remove_primers/pair_mode/DBG_030330_R2_pair_mode_primers_trimmed.fastq /Users/jessie/Dropbox/jessie/russula_illumina/Russula_BC/DBG_030330_R1.fastq /Users/jessie/Dropbox/jessie/russula_illumina/Russula_BC/DBG_030330_R2.fastq\n",
      "\n"
     ]
    },
    {
     "name": "stderr",
     "output_type": "stream",
     "text": [
      "\r",
      " 97%|█████████▋| 191/196 [05:10<00:07,  1.55s/it]"
     ]
    },
    {
     "name": "stdout",
     "output_type": "stream",
     "text": [
      "cutadapt -g GTGARTCATCGAATCTTTG -G TCCTCCGCTTATTGATATGC                 -a GCATATCAATAAGCGGAGGA -A CAAAGATTCGATGAYTCAC                 -m 200 --info-file 1_remove_primers/pair_mode/DBG_030353_pair_mode_cutadapt_info_file.txt -o 1_remove_primers/pair_mode/DBG_030353_R1_pair_mode_primers_trimmed.fastq -p 1_remove_primers/pair_mode/DBG_030353_R2_pair_mode_primers_trimmed.fastq /Users/jessie/Dropbox/jessie/russula_illumina/Russula_BC/DBG_030353_R1.fastq /Users/jessie/Dropbox/jessie/russula_illumina/Russula_BC/DBG_030353_R2.fastq\n",
      "\n"
     ]
    },
    {
     "name": "stderr",
     "output_type": "stream",
     "text": [
      "\r",
      " 98%|█████████▊| 192/196 [05:12<00:06,  1.70s/it]"
     ]
    },
    {
     "name": "stdout",
     "output_type": "stream",
     "text": [
      "cutadapt -g GTGARTCATCGAATCTTTG -G TCCTCCGCTTATTGATATGC                 -a GCATATCAATAAGCGGAGGA -A CAAAGATTCGATGAYTCAC                 -m 200 --info-file 1_remove_primers/pair_mode/DBG_030385_pair_mode_cutadapt_info_file.txt -o 1_remove_primers/pair_mode/DBG_030385_R1_pair_mode_primers_trimmed.fastq -p 1_remove_primers/pair_mode/DBG_030385_R2_pair_mode_primers_trimmed.fastq /Users/jessie/Dropbox/jessie/russula_illumina/Russula_BC/DBG_030385_R1.fastq /Users/jessie/Dropbox/jessie/russula_illumina/Russula_BC/DBG_030385_R2.fastq\n",
      "\n"
     ]
    },
    {
     "name": "stderr",
     "output_type": "stream",
     "text": [
      "\r",
      " 98%|█████████▊| 193/196 [05:14<00:04,  1.60s/it]"
     ]
    },
    {
     "name": "stdout",
     "output_type": "stream",
     "text": [
      "cutadapt -g GTGARTCATCGAATCTTTG -G TCCTCCGCTTATTGATATGC                 -a GCATATCAATAAGCGGAGGA -A CAAAGATTCGATGAYTCAC                 -m 200 --info-file 1_remove_primers/pair_mode/DBG_030434_pair_mode_cutadapt_info_file.txt -o 1_remove_primers/pair_mode/DBG_030434_R1_pair_mode_primers_trimmed.fastq -p 1_remove_primers/pair_mode/DBG_030434_R2_pair_mode_primers_trimmed.fastq /Users/jessie/Dropbox/jessie/russula_illumina/Russula_BC/DBG_030434_R1.fastq /Users/jessie/Dropbox/jessie/russula_illumina/Russula_BC/DBG_030434_R2.fastq\n",
      "\n"
     ]
    },
    {
     "name": "stderr",
     "output_type": "stream",
     "text": [
      "\r",
      " 99%|█████████▉| 194/196 [05:18<00:04,  2.47s/it]"
     ]
    },
    {
     "name": "stdout",
     "output_type": "stream",
     "text": [
      "cutadapt -g GTGARTCATCGAATCTTTG -G TCCTCCGCTTATTGATATGC                 -a GCATATCAATAAGCGGAGGA -A CAAAGATTCGATGAYTCAC                 -m 200 --info-file 1_remove_primers/pair_mode/DBG_030440_pair_mode_cutadapt_info_file.txt -o 1_remove_primers/pair_mode/DBG_030440_R1_pair_mode_primers_trimmed.fastq -p 1_remove_primers/pair_mode/DBG_030440_R2_pair_mode_primers_trimmed.fastq /Users/jessie/Dropbox/jessie/russula_illumina/Russula_BC/DBG_030440_R1.fastq /Users/jessie/Dropbox/jessie/russula_illumina/Russula_BC/DBG_030440_R2.fastq\n",
      "\n"
     ]
    },
    {
     "name": "stderr",
     "output_type": "stream",
     "text": [
      "\r",
      " 99%|█████████▉| 195/196 [05:22<00:02,  2.91s/it]"
     ]
    },
    {
     "name": "stdout",
     "output_type": "stream",
     "text": [
      "cutadapt -g GTGARTCATCGAATCTTTG -G TCCTCCGCTTATTGATATGC                 -a GCATATCAATAAGCGGAGGA -A CAAAGATTCGATGAYTCAC                 -m 200 --info-file 1_remove_primers/pair_mode/DBG_030462_pair_mode_cutadapt_info_file.txt -o 1_remove_primers/pair_mode/DBG_030462_R1_pair_mode_primers_trimmed.fastq -p 1_remove_primers/pair_mode/DBG_030462_R2_pair_mode_primers_trimmed.fastq /Users/jessie/Dropbox/jessie/russula_illumina/Russula_BC/DBG_030462_R1.fastq /Users/jessie/Dropbox/jessie/russula_illumina/Russula_BC/DBG_030462_R2.fastq\n",
      "\n"
     ]
    },
    {
     "name": "stderr",
     "output_type": "stream",
     "text": [
      "100%|██████████| 196/196 [05:25<00:00,  2.88s/it]\n"
     ]
    }
   ],
   "source": [
    "#Run cutadapt in pair mode\n",
    "\n",
    "#Save stdout to a file along the way - cutadapt prints lots of reporting information here\n",
    "with open(\"1_cutadapt_stdout_primer_removal_pair_mode.txt\", \"w\") as stdouthandle:\n",
    "    \n",
    "    #Loop over pairs\n",
    "    for i in tqdm(range(len(forward_fastqs))):\n",
    "        \n",
    "        #Grab a specimen's pair of data files (they are ordered)\n",
    "        ffile = forward_fastqs[i]\n",
    "        rfile = reverse_fastqs[i]\n",
    "        \n",
    "        #Make up names for output files\n",
    "        fbasename = ffile.split(\"/\")[-1].split(\".\")[0]\n",
    "        rbasename = rfile.split(\"/\")[-1].split(\".\")[0]\n",
    "        foutfastq = \"1_remove_primers/pair_mode/\"+fbasename+\"_pair_mode_primers_trimmed.fastq\"\n",
    "        routfastq = \"1_remove_primers/pair_mode/\"+rbasename+\"_pair_mode_primers_trimmed.fastq\"\n",
    "        info = foutfastq.split(\"_R\")[0]+\"_pair_mode_cutadapt_info_file.txt\"\n",
    "\n",
    "        #Compose command\n",
    "        #Converting primer sequences back to strings\n",
    "        cmd = f\"cutadapt -g {str(forward_primer)} -G {str(reverse_primer)} \\\n",
    "                -a {str(reverse_primer_complement)} -A {str(forward_primer_complement)} \\\n",
    "                -m 200 --info-file {info} -o {foutfastq} -p {routfastq} {ffile} {rfile}\"\n",
    "        \n",
    "        print(cmd+\"\\n\")\n",
    "        \n",
    "        #Run command\n",
    "        subprocess.call(cmd, stdin=None, stdout=stdouthandle, stderr=subprocess.STDOUT, shell=True)        \n",
    "\n",
    "\n"
   ]
  },
  {
   "cell_type": "markdown",
   "metadata": {},
   "source": [
    "Skim standard output file. Here's one sample's example in output. <br>\n",
    "\n",
    "This is cutadapt 3.0 with Python 3.7.1<br>\n",
    "Command line parameters: -g GTGARTCATCGAATCTTTG -G TCCTCCGCTTATTGATATGC -a GCATATCAATAAGCGGAGGA -A CAAAGATTCGATGAYTCAC -m 200 -o 1_remove_primers/DBG_023286A_R1_primers_trimmed.fastq -p 1_remove_primers/DBG_023286A_R2_primers_trimmed.fastq /Users/jessie/Dropbox/jessie/russula_illumina/Russula_BC/DBG_023286A_R1.fastq /Users/jessie/Dropbox/jessie/russula_illumina/Russula_BC/DBG_023286A_R2.fastq<br>\n",
    "Processing reads on 1 core in paired-end mode ...<br>\n",
    "Finished in 0.93 s (52 µs/read; 1.14 M reads/minute).<br>\n",
    "<br>\n",
    "=== Summary ===<br>\n",
    "<br>\n",
    "Total read pairs processed:             17,768<br>\n",
    "  Read 1 with adapter:                  17,768 (100.0%)<br>\n",
    "  Read 2 with adapter:                  17,768 (100.0%)<br>\n",
    "Pairs that were too short:                  34 (0.2%)<br>\n",
    "Pairs written (passing filters):        17,734 (99.8%)<br>\n",
    "<br>\n",
    "Total basepairs processed:     8,919,536 bp<br>\n",
    "  Read 1:     4,459,768 bp<br>\n",
    "  Read 2:     4,459,768 bp<br>\n",
    "Total written (filtered):      8,092,692 bp (90.7%)<br>\n",
    "  Read 1:     4,101,892 bp<br>\n",
    "  Read 2:     3,990,800 bp<br>\n",
    "<br>\n",
    "=== First read: Adapter 1 ===<br>\n",
    "<br>\n",
    "Sequence: GTGARTCATCGAATCTTTG; Type: regular 5'; Length: 19; Trimmed: 17734 times<br>\n",
    "<br>\n",
    "No. of allowed errors:<br>\n",
    "1-9 bp: 0; 10-19 bp: 1<br>\n",
    "<br>\n",
    "Overview of removed sequences<br>\n",
    "length\tcount\texpect\tmax.err\terror counts<br>\n",
    "19\t11536\t0.0\t1\t11536<br>\n",
    "21\t6198\t0.0\t1\t6198<br>\n",
    "\n",
    "<br>\n",
    "=== First read: Adapter 2 ===<br>\n",
    "<br>\n",
    "Sequence: GCATATCAATAAGCGGAGGA; Type: regular 3'; Length: 20; Trimmed: 34 times<br>\n",
    "<br>\n",
    "No. of allowed errors:<br>\n",
    "1-9 bp: 0; 10-19 bp: 1; 20 bp: 2<br>\n",
    "<br>\n",
    "Bases preceding removed adapters:<br>\n",
    "  A: 20.6%<br>\n",
    "  C: 50.0%<br>\n",
    "  G: 5.9%<br>\n",
    "  T: 23.5%<br>\n",
    "  none/other: 0.0%<br>\n",
    "<br>\n",
    "Overview of removed sequences<br>\n",
    "length\tcount\texpect\tmax.err\terror counts<br>\n",
    "55\t1\t0.0\t2\t1<br>\n",
    "193\t1\t0.0\t2\t1<br>\n",
    "195\t6\t0.0\t2\t6<br>\n",
    "197\t1\t0.0\t2\t1<br>\n",
    "212\t1\t0.0\t2\t1<br>\n",
    "220\t2\t0.0\t2\t2<br>\n",
    "223\t1\t0.0\t2\t1<br>\n",
    "224\t11\t0.0\t2\t11<br>\n",
    "225\t3\t0.0\t2\t3<br>\n",
    "226\t3\t0.0\t2\t3<br>\n",
    "227\t1\t0.0\t2\t1<br>\n",
    "232\t1\t0.0\t2\t1<br>\n",
    "233\t2\t0.0\t2\t2<br>\n",
    "<br>\n",
    "\n",
    "=== Second read: Adapter 3 ===<br>\n",
    "<br>\n",
    "Sequence: TCCTCCGCTTATTGATATGC; Type: regular 5'; Length: 20; Trimmed: 17768 times<br>\n",
    "<br>\n",
    "No. of allowed errors:<br>\n",
    "1-9 bp: 0; 10-19 bp: 1; 20 bp: 2<br>\n",
    "<br>\n",
    "Overview of removed sequences<br>\n",
    "length\tcount\texpect\tmax.err\terror counts<br>\n",
    "25\t9211\t0.0\t2\t9211<br>\n",
    "27\t8557\t0.0\t2\t8557<br>\n",
    "<br>\n",
    "\n",
    "=== Second read: Adapter 4 ===<br>\n",
    "<br>\n",
    "Sequence: CAAAGATTCGATGAYTCAC; Type: regular 3'; Length: 19; Trimmed: 0 times<br>\n",
    "\n",
    "Skimming the results, the second read adapter 4 is never found. This is the complement of the forward primer, searched on the reverse read. Sequence looks right. Opposite case of primer on 3' end was found sometimes for other end, and I would have thought this one would be comparably frequent (those same fragments, for example). Maybe the lower quality on reverse read has something to do with it? Something else wrong with how I did it? Maybe if F read is tossed it doesn't check R read, so it never makes it to this point?\n",
    "\n",
    "Some samples in output have this warning:\n",
    "\"WARNING:\n",
    "    One or more of your adapter sequences may be incomplete.\n",
    "    Please see the detailed output above.\"\n",
    "Reading manual, this is what happens when a conserved base is adjacent to the trimmed sequence\n",
    "\n",
    "For example, this is a cut of the reverse complement of the reverse primer from the 3' end of a forward read set. The base C is always before the adapter sequence (5' end). The program is suggesting we add a C. \n",
    "\"=== First read: Adapter 2 ===\n",
    "\n",
    "Sequence: GCATATCAATAAGCGGAGGA; Type: regular 3'; Length: 20; Trimmed: 28 times\n",
    "\n",
    "No. of allowed errors:\n",
    "1-9 bp: 0; 10-19 bp: 1; 20 bp: 2\n",
    "\n",
    "Bases preceding removed adapters:\n",
    "  A: 0.0%\n",
    "  C: 100.0%\n",
    "  G: 0.0%\n",
    "  T: 0.0%\n",
    "  none/other: 0.0%\n",
    "WARNING:\n",
    "    The adapter is preceded by \"C\" extremely often.\n",
    "    The provided adapter sequence could be incomplete at its 5' end.\n",
    "\n",
    "Overview of removed sequences\n",
    "length\tcount\texpect\tmax.err\terror counts\n",
    "213\t1\t0.0\t2\t1\n",
    "223\t10\t0.0\t2\t8 2\n",
    "225\t16\t0.0\t2\t16\n",
    "227\t1\t0.0\t2\t1\"\n",
    "\n",
    "pulling an overlapped sequence fragment (DBG_030462_overlapped_m30p0.fastq) without 3' adapters but with primers intact:\n",
    "\n",
    "GTGAATCATCGAATCTTTG #starts with f primer TACGCACCTTGCGCCCCTTGGCATTCCGAGGGGCACACCCGTTTGAGTGTCGTGAAATCATCAAAACCTTCTCTTTGACCCTCTTTGGTCGGGAAAAGGATTTTTGGACTTGGAGGTTCCATGCTCGCCTTCACTTTTGAAAGTGAGCTCCTCTCAAATGAATTAGTGGGGTCCGCTTTGCTGGTCCTTGTCGTGATAAGATGTTTCTACGTTTTGGATTTAGCACTGTCCCTTGGATGCCTGCTCCTAACTGTCTCACGGACAACGATGGTGCTCTGGTCACTGCCATCTACATTGGCGGGAGGCTGGACCCACAAAAGAAAACCTTGACCTCAAATCGGGTGAGACTACCCGCTGAACTTAA #fragment GCATATCAATAAGCGGAGGA #reverse primer complement CTCGT #barcode AG #spacer\n",
    "\n",
    "That doesn't have a C at 5' end for 3' primer. weird. Ok, re run with --info-file since a few things are fishy (replacing above code). And not all samples have this warning. weird. \n",
    "\n",
    "Another wrinkle:\n",
    "\"The --info-file, --rest-file and --wildcard-file options write out information only from the first read.\"\n",
    "\n",
    "To get full info I could run f/r separately then post-process to recover pairs (not very hard). Would be helpful to fully describe issues. Leave for now, then run separate version. Ooph. annoying. kinda hard to do 5' and 3' cutadapts in one go - better to run serially. annoying. \n"
   ]
  },
  {
   "cell_type": "code",
   "execution_count": null,
   "metadata": {},
   "outputs": [],
   "source": [
    "#Make a directory for files without primers, cutadapt run separately on f and r:\n",
    "if not os.path.exists(\"1_remove_primers/f_r_separate\"):\n",
    "    os.system(\"mkdir 1_remove_primers/f_r_separate\")\n"
   ]
  },
  {
   "cell_type": "code",
   "execution_count": 45,
   "metadata": {},
   "outputs": [
    {
     "name": "stderr",
     "output_type": "stream",
     "text": [
      "100%|██████████| 196/196 [00:00<00:00, 14473.30it/s]\n",
      "100%|██████████| 196/196 [00:00<00:00, 22290.77it/s]"
     ]
    },
    {
     "name": "stdout",
     "output_type": "stream",
     "text": [
      "cutadapt -g GTGARTCATCGAATCTTTG -a GCATATCAATAAGCGGAGGA                 -m 200 --info-file 1_remove_primers/f_r_separate/DBG_016111_forward_reads_f_r_separate_cutadapt_info_file.txt -o 1_remove_primers/f_r_separate/DBG_016111_R1_f_r_separate_primers_trimmed.fastq /Users/jessie/Dropbox/jessie/russula_illumina/Russula_BC/DBG_016111_R1.fastq\n",
      "\n",
      "cutadapt -g GTGARTCATCGAATCTTTG -a GCATATCAATAAGCGGAGGA                 -m 200 --info-file 1_remove_primers/f_r_separate/DBG_016192_forward_reads_f_r_separate_cutadapt_info_file.txt -o 1_remove_primers/f_r_separate/DBG_016192_R1_f_r_separate_primers_trimmed.fastq /Users/jessie/Dropbox/jessie/russula_illumina/Russula_BC/DBG_016192_R1.fastq\n",
      "\n",
      "cutadapt -g GTGARTCATCGAATCTTTG -a GCATATCAATAAGCGGAGGA                 -m 200 --info-file 1_remove_primers/f_r_separate/DBG_016193_forward_reads_f_r_separate_cutadapt_info_file.txt -o 1_remove_primers/f_r_separate/DBG_016193_R1_f_r_separate_primers_trimmed.fastq /Users/jessie/Dropbox/jessie/russula_illumina/Russula_BC/DBG_016193_R1.fastq\n",
      "\n",
      "cutadapt -g GTGARTCATCGAATCTTTG -a GCATATCAATAAGCGGAGGA                 -m 200 --info-file 1_remove_primers/f_r_separate/DBG_016195_forward_reads_f_r_separate_cutadapt_info_file.txt -o 1_remove_primers/f_r_separate/DBG_016195_R1_f_r_separate_primers_trimmed.fastq /Users/jessie/Dropbox/jessie/russula_illumina/Russula_BC/DBG_016195_R1.fastq\n",
      "\n",
      "cutadapt -g GTGARTCATCGAATCTTTG -a GCATATCAATAAGCGGAGGA                 -m 200 --info-file 1_remove_primers/f_r_separate/DBG_016196_forward_reads_f_r_separate_cutadapt_info_file.txt -o 1_remove_primers/f_r_separate/DBG_016196_R1_f_r_separate_primers_trimmed.fastq /Users/jessie/Dropbox/jessie/russula_illumina/Russula_BC/DBG_016196_R1.fastq\n",
      "\n",
      "cutadapt -g GTGARTCATCGAATCTTTG -a GCATATCAATAAGCGGAGGA                 -m 200 --info-file 1_remove_primers/f_r_separate/DBG_016197_forward_reads_f_r_separate_cutadapt_info_file.txt -o 1_remove_primers/f_r_separate/DBG_016197_R1_f_r_separate_primers_trimmed.fastq /Users/jessie/Dropbox/jessie/russula_illumina/Russula_BC/DBG_016197_R1.fastq\n",
      "\n",
      "cutadapt -g GTGARTCATCGAATCTTTG -a GCATATCAATAAGCGGAGGA                 -m 200 --info-file 1_remove_primers/f_r_separate/DBG_016199_forward_reads_f_r_separate_cutadapt_info_file.txt -o 1_remove_primers/f_r_separate/DBG_016199_R1_f_r_separate_primers_trimmed.fastq /Users/jessie/Dropbox/jessie/russula_illumina/Russula_BC/DBG_016199_R1.fastq\n",
      "\n",
      "cutadapt -g GTGARTCATCGAATCTTTG -a GCATATCAATAAGCGGAGGA                 -m 200 --info-file 1_remove_primers/f_r_separate/DBG_016212_forward_reads_f_r_separate_cutadapt_info_file.txt -o 1_remove_primers/f_r_separate/DBG_016212_R1_f_r_separate_primers_trimmed.fastq /Users/jessie/Dropbox/jessie/russula_illumina/Russula_BC/DBG_016212_R1.fastq\n",
      "\n",
      "cutadapt -g GTGARTCATCGAATCTTTG -a GCATATCAATAAGCGGAGGA                 -m 200 --info-file 1_remove_primers/f_r_separate/DBG_016266_forward_reads_f_r_separate_cutadapt_info_file.txt -o 1_remove_primers/f_r_separate/DBG_016266_R1_f_r_separate_primers_trimmed.fastq /Users/jessie/Dropbox/jessie/russula_illumina/Russula_BC/DBG_016266_R1.fastq\n",
      "\n",
      "cutadapt -g GTGARTCATCGAATCTTTG -a GCATATCAATAAGCGGAGGA                 -m 200 --info-file 1_remove_primers/f_r_separate/DBG_016268_forward_reads_f_r_separate_cutadapt_info_file.txt -o 1_remove_primers/f_r_separate/DBG_016268_R1_f_r_separate_primers_trimmed.fastq /Users/jessie/Dropbox/jessie/russula_illumina/Russula_BC/DBG_016268_R1.fastq\n",
      "\n",
      "cutadapt -g GTGARTCATCGAATCTTTG -a GCATATCAATAAGCGGAGGA                 -m 200 --info-file 1_remove_primers/f_r_separate/DBG_016306_forward_reads_f_r_separate_cutadapt_info_file.txt -o 1_remove_primers/f_r_separate/DBG_016306_R1_f_r_separate_primers_trimmed.fastq /Users/jessie/Dropbox/jessie/russula_illumina/Russula_BC/DBG_016306_R1.fastq\n",
      "\n",
      "cutadapt -g GTGARTCATCGAATCTTTG -a GCATATCAATAAGCGGAGGA                 -m 200 --info-file 1_remove_primers/f_r_separate/DBG_016951_forward_reads_f_r_separate_cutadapt_info_file.txt -o 1_remove_primers/f_r_separate/DBG_016951_R1_f_r_separate_primers_trimmed.fastq /Users/jessie/Dropbox/jessie/russula_illumina/Russula_BC/DBG_016951_R1.fastq\n",
      "\n",
      "cutadapt -g GTGARTCATCGAATCTTTG -a GCATATCAATAAGCGGAGGA                 -m 200 --info-file 1_remove_primers/f_r_separate/DBG_017014_forward_reads_f_r_separate_cutadapt_info_file.txt -o 1_remove_primers/f_r_separate/DBG_017014_R1_f_r_separate_primers_trimmed.fastq /Users/jessie/Dropbox/jessie/russula_illumina/Russula_BC/DBG_017014_R1.fastq\n",
      "\n",
      "cutadapt -g GTGARTCATCGAATCTTTG -a GCATATCAATAAGCGGAGGA                 -m 200 --info-file 1_remove_primers/f_r_separate/DBG_017202_forward_reads_f_r_separate_cutadapt_info_file.txt -o 1_remove_primers/f_r_separate/DBG_017202_R1_f_r_separate_primers_trimmed.fastq /Users/jessie/Dropbox/jessie/russula_illumina/Russula_BC/DBG_017202_R1.fastq\n",
      "\n",
      "cutadapt -g GTGARTCATCGAATCTTTG -a GCATATCAATAAGCGGAGGA                 -m 200 --info-file 1_remove_primers/f_r_separate/DBG_017337_forward_reads_f_r_separate_cutadapt_info_file.txt -o 1_remove_primers/f_r_separate/DBG_017337_R1_f_r_separate_primers_trimmed.fastq /Users/jessie/Dropbox/jessie/russula_illumina/Russula_BC/DBG_017337_R1.fastq\n",
      "\n",
      "cutadapt -g GTGARTCATCGAATCTTTG -a GCATATCAATAAGCGGAGGA                 -m 200 --info-file 1_remove_primers/f_r_separate/DBG_017457_forward_reads_f_r_separate_cutadapt_info_file.txt -o 1_remove_primers/f_r_separate/DBG_017457_R1_f_r_separate_primers_trimmed.fastq /Users/jessie/Dropbox/jessie/russula_illumina/Russula_BC/DBG_017457_R1.fastq\n",
      "\n",
      "cutadapt -g GTGARTCATCGAATCTTTG -a GCATATCAATAAGCGGAGGA                 -m 200 --info-file 1_remove_primers/f_r_separate/DBG_017482_forward_reads_f_r_separate_cutadapt_info_file.txt -o 1_remove_primers/f_r_separate/DBG_017482_R1_f_r_separate_primers_trimmed.fastq /Users/jessie/Dropbox/jessie/russula_illumina/Russula_BC/DBG_017482_R1.fastq\n",
      "\n",
      "cutadapt -g GTGARTCATCGAATCTTTG -a GCATATCAATAAGCGGAGGA                 -m 200 --info-file 1_remove_primers/f_r_separate/DBG_018320_forward_reads_f_r_separate_cutadapt_info_file.txt -o 1_remove_primers/f_r_separate/DBG_018320_R1_f_r_separate_primers_trimmed.fastq /Users/jessie/Dropbox/jessie/russula_illumina/Russula_BC/DBG_018320_R1.fastq\n",
      "\n",
      "cutadapt -g GTGARTCATCGAATCTTTG -a GCATATCAATAAGCGGAGGA                 -m 200 --info-file 1_remove_primers/f_r_separate/DBG_018630_forward_reads_f_r_separate_cutadapt_info_file.txt -o 1_remove_primers/f_r_separate/DBG_018630_R1_f_r_separate_primers_trimmed.fastq /Users/jessie/Dropbox/jessie/russula_illumina/Russula_BC/DBG_018630_R1.fastq\n",
      "\n",
      "cutadapt -g GTGARTCATCGAATCTTTG -a GCATATCAATAAGCGGAGGA                 -m 200 --info-file 1_remove_primers/f_r_separate/DBG_018718_forward_reads_f_r_separate_cutadapt_info_file.txt -o 1_remove_primers/f_r_separate/DBG_018718_R1_f_r_separate_primers_trimmed.fastq /Users/jessie/Dropbox/jessie/russula_illumina/Russula_BC/DBG_018718_R1.fastq\n",
      "\n",
      "cutadapt -g GTGARTCATCGAATCTTTG -a GCATATCAATAAGCGGAGGA                 -m 200 --info-file 1_remove_primers/f_r_separate/DBG_018809_forward_reads_f_r_separate_cutadapt_info_file.txt -o 1_remove_primers/f_r_separate/DBG_018809_R1_f_r_separate_primers_trimmed.fastq /Users/jessie/Dropbox/jessie/russula_illumina/Russula_BC/DBG_018809_R1.fastq\n",
      "\n",
      "cutadapt -g GTGARTCATCGAATCTTTG -a GCATATCAATAAGCGGAGGA                 -m 200 --info-file 1_remove_primers/f_r_separate/DBG_018964_forward_reads_f_r_separate_cutadapt_info_file.txt -o 1_remove_primers/f_r_separate/DBG_018964_R1_f_r_separate_primers_trimmed.fastq /Users/jessie/Dropbox/jessie/russula_illumina/Russula_BC/DBG_018964_R1.fastq\n",
      "\n",
      "cutadapt -g GTGARTCATCGAATCTTTG -a GCATATCAATAAGCGGAGGA                 -m 200 --info-file 1_remove_primers/f_r_separate/DBG_018974_forward_reads_f_r_separate_cutadapt_info_file.txt -o 1_remove_primers/f_r_separate/DBG_018974_R1_f_r_separate_primers_trimmed.fastq /Users/jessie/Dropbox/jessie/russula_illumina/Russula_BC/DBG_018974_R1.fastq\n",
      "\n",
      "cutadapt -g GTGARTCATCGAATCTTTG -a GCATATCAATAAGCGGAGGA                 -m 200 --info-file 1_remove_primers/f_r_separate/DBG_019005_forward_reads_f_r_separate_cutadapt_info_file.txt -o 1_remove_primers/f_r_separate/DBG_019005_R1_f_r_separate_primers_trimmed.fastq /Users/jessie/Dropbox/jessie/russula_illumina/Russula_BC/DBG_019005_R1.fastq\n",
      "\n",
      "cutadapt -g GTGARTCATCGAATCTTTG -a GCATATCAATAAGCGGAGGA                 -m 200 --info-file 1_remove_primers/f_r_separate/DBG_019598_forward_reads_f_r_separate_cutadapt_info_file.txt -o 1_remove_primers/f_r_separate/DBG_019598_R1_f_r_separate_primers_trimmed.fastq /Users/jessie/Dropbox/jessie/russula_illumina/Russula_BC/DBG_019598_R1.fastq\n",
      "\n",
      "cutadapt -g GTGARTCATCGAATCTTTG -a GCATATCAATAAGCGGAGGA                 -m 200 --info-file 1_remove_primers/f_r_separate/DBG_020319_forward_reads_f_r_separate_cutadapt_info_file.txt -o 1_remove_primers/f_r_separate/DBG_020319_R1_f_r_separate_primers_trimmed.fastq /Users/jessie/Dropbox/jessie/russula_illumina/Russula_BC/DBG_020319_R1.fastq\n",
      "\n",
      "cutadapt -g GTGARTCATCGAATCTTTG -a GCATATCAATAAGCGGAGGA                 -m 200 --info-file 1_remove_primers/f_r_separate/DBG_020348_forward_reads_f_r_separate_cutadapt_info_file.txt -o 1_remove_primers/f_r_separate/DBG_020348_R1_f_r_separate_primers_trimmed.fastq /Users/jessie/Dropbox/jessie/russula_illumina/Russula_BC/DBG_020348_R1.fastq\n",
      "\n",
      "cutadapt -g GTGARTCATCGAATCTTTG -a GCATATCAATAAGCGGAGGA                 -m 200 --info-file 1_remove_primers/f_r_separate/DBG_020374_forward_reads_f_r_separate_cutadapt_info_file.txt -o 1_remove_primers/f_r_separate/DBG_020374_R1_f_r_separate_primers_trimmed.fastq /Users/jessie/Dropbox/jessie/russula_illumina/Russula_BC/DBG_020374_R1.fastq\n",
      "\n",
      "cutadapt -g GTGARTCATCGAATCTTTG -a GCATATCAATAAGCGGAGGA                 -m 200 --info-file 1_remove_primers/f_r_separate/DBG_020577_forward_reads_f_r_separate_cutadapt_info_file.txt -o 1_remove_primers/f_r_separate/DBG_020577_R1_f_r_separate_primers_trimmed.fastq /Users/jessie/Dropbox/jessie/russula_illumina/Russula_BC/DBG_020577_R1.fastq\n",
      "\n",
      "cutadapt -g GTGARTCATCGAATCTTTG -a GCATATCAATAAGCGGAGGA                 -m 200 --info-file 1_remove_primers/f_r_separate/DBG_020593_forward_reads_f_r_separate_cutadapt_info_file.txt -o 1_remove_primers/f_r_separate/DBG_020593_R1_f_r_separate_primers_trimmed.fastq /Users/jessie/Dropbox/jessie/russula_illumina/Russula_BC/DBG_020593_R1.fastq\n",
      "\n",
      "cutadapt -g GTGARTCATCGAATCTTTG -a GCATATCAATAAGCGGAGGA                 -m 200 --info-file 1_remove_primers/f_r_separate/DBG_020673_forward_reads_f_r_separate_cutadapt_info_file.txt -o 1_remove_primers/f_r_separate/DBG_020673_R1_f_r_separate_primers_trimmed.fastq /Users/jessie/Dropbox/jessie/russula_illumina/Russula_BC/DBG_020673_R1.fastq\n",
      "\n",
      "cutadapt -g GTGARTCATCGAATCTTTG -a GCATATCAATAAGCGGAGGA                 -m 200 --info-file 1_remove_primers/f_r_separate/DBG_020674_forward_reads_f_r_separate_cutadapt_info_file.txt -o 1_remove_primers/f_r_separate/DBG_020674_R1_f_r_separate_primers_trimmed.fastq /Users/jessie/Dropbox/jessie/russula_illumina/Russula_BC/DBG_020674_R1.fastq\n",
      "\n",
      "cutadapt -g GTGARTCATCGAATCTTTG -a GCATATCAATAAGCGGAGGA                 -m 200 --info-file 1_remove_primers/f_r_separate/DBG_020675_forward_reads_f_r_separate_cutadapt_info_file.txt -o 1_remove_primers/f_r_separate/DBG_020675_R1_f_r_separate_primers_trimmed.fastq /Users/jessie/Dropbox/jessie/russula_illumina/Russula_BC/DBG_020675_R1.fastq\n",
      "\n",
      "cutadapt -g GTGARTCATCGAATCTTTG -a GCATATCAATAAGCGGAGGA                 -m 200 --info-file 1_remove_primers/f_r_separate/DBG_020676_forward_reads_f_r_separate_cutadapt_info_file.txt -o 1_remove_primers/f_r_separate/DBG_020676_R1_f_r_separate_primers_trimmed.fastq /Users/jessie/Dropbox/jessie/russula_illumina/Russula_BC/DBG_020676_R1.fastq\n",
      "\n",
      "cutadapt -g GTGARTCATCGAATCTTTG -a GCATATCAATAAGCGGAGGA                 -m 200 --info-file 1_remove_primers/f_r_separate/DBG_020679_forward_reads_f_r_separate_cutadapt_info_file.txt -o 1_remove_primers/f_r_separate/DBG_020679_R1_f_r_separate_primers_trimmed.fastq /Users/jessie/Dropbox/jessie/russula_illumina/Russula_BC/DBG_020679_R1.fastq\n",
      "\n",
      "cutadapt -g GTGARTCATCGAATCTTTG -a GCATATCAATAAGCGGAGGA                 -m 200 --info-file 1_remove_primers/f_r_separate/DBG_020759_forward_reads_f_r_separate_cutadapt_info_file.txt -o 1_remove_primers/f_r_separate/DBG_020759_R1_f_r_separate_primers_trimmed.fastq /Users/jessie/Dropbox/jessie/russula_illumina/Russula_BC/DBG_020759_R1.fastq\n",
      "\n",
      "cutadapt -g GTGARTCATCGAATCTTTG -a GCATATCAATAAGCGGAGGA                 -m 200 --info-file 1_remove_primers/f_r_separate/DBG_020760_forward_reads_f_r_separate_cutadapt_info_file.txt -o 1_remove_primers/f_r_separate/DBG_020760_R1_f_r_separate_primers_trimmed.fastq /Users/jessie/Dropbox/jessie/russula_illumina/Russula_BC/DBG_020760_R1.fastq\n",
      "\n",
      "cutadapt -g GTGARTCATCGAATCTTTG -a GCATATCAATAAGCGGAGGA                 -m 200 --info-file 1_remove_primers/f_r_separate/DBG_020761_forward_reads_f_r_separate_cutadapt_info_file.txt -o 1_remove_primers/f_r_separate/DBG_020761_R1_f_r_separate_primers_trimmed.fastq /Users/jessie/Dropbox/jessie/russula_illumina/Russula_BC/DBG_020761_R1.fastq\n",
      "\n",
      "cutadapt -g GTGARTCATCGAATCTTTG -a GCATATCAATAAGCGGAGGA                 -m 200 --info-file 1_remove_primers/f_r_separate/DBG_021094_forward_reads_f_r_separate_cutadapt_info_file.txt -o 1_remove_primers/f_r_separate/DBG_021094_R1_f_r_separate_primers_trimmed.fastq /Users/jessie/Dropbox/jessie/russula_illumina/Russula_BC/DBG_021094_R1.fastq\n",
      "\n",
      "cutadapt -g GTGARTCATCGAATCTTTG -a GCATATCAATAAGCGGAGGA                 -m 200 --info-file 1_remove_primers/f_r_separate/DBG_021206_forward_reads_f_r_separate_cutadapt_info_file.txt -o 1_remove_primers/f_r_separate/DBG_021206_R1_f_r_separate_primers_trimmed.fastq /Users/jessie/Dropbox/jessie/russula_illumina/Russula_BC/DBG_021206_R1.fastq\n",
      "\n",
      "cutadapt -g GTGARTCATCGAATCTTTG -a GCATATCAATAAGCGGAGGA                 -m 200 --info-file 1_remove_primers/f_r_separate/DBG_021357_forward_reads_f_r_separate_cutadapt_info_file.txt -o 1_remove_primers/f_r_separate/DBG_021357_R1_f_r_separate_primers_trimmed.fastq /Users/jessie/Dropbox/jessie/russula_illumina/Russula_BC/DBG_021357_R1.fastq\n",
      "\n",
      "cutadapt -g GTGARTCATCGAATCTTTG -a GCATATCAATAAGCGGAGGA                 -m 200 --info-file 1_remove_primers/f_r_separate/DBG_021518_forward_reads_f_r_separate_cutadapt_info_file.txt -o 1_remove_primers/f_r_separate/DBG_021518_R1_f_r_separate_primers_trimmed.fastq /Users/jessie/Dropbox/jessie/russula_illumina/Russula_BC/DBG_021518_R1.fastq\n",
      "\n",
      "cutadapt -g GTGARTCATCGAATCTTTG -a GCATATCAATAAGCGGAGGA                 -m 200 --info-file 1_remove_primers/f_r_separate/DBG_021526_forward_reads_f_r_separate_cutadapt_info_file.txt -o 1_remove_primers/f_r_separate/DBG_021526_R1_f_r_separate_primers_trimmed.fastq /Users/jessie/Dropbox/jessie/russula_illumina/Russula_BC/DBG_021526_R1.fastq\n",
      "\n",
      "cutadapt -g GTGARTCATCGAATCTTTG -a GCATATCAATAAGCGGAGGA                 -m 200 --info-file 1_remove_primers/f_r_separate/DBG_021837_forward_reads_f_r_separate_cutadapt_info_file.txt -o 1_remove_primers/f_r_separate/DBG_021837_R1_f_r_separate_primers_trimmed.fastq /Users/jessie/Dropbox/jessie/russula_illumina/Russula_BC/DBG_021837_R1.fastq\n",
      "\n",
      "cutadapt -g GTGARTCATCGAATCTTTG -a GCATATCAATAAGCGGAGGA                 -m 200 --info-file 1_remove_primers/f_r_separate/DBG_021848_forward_reads_f_r_separate_cutadapt_info_file.txt -o 1_remove_primers/f_r_separate/DBG_021848_R1_f_r_separate_primers_trimmed.fastq /Users/jessie/Dropbox/jessie/russula_illumina/Russula_BC/DBG_021848_R1.fastq\n",
      "\n",
      "cutadapt -g GTGARTCATCGAATCTTTG -a GCATATCAATAAGCGGAGGA                 -m 200 --info-file 1_remove_primers/f_r_separate/DBG_021913_forward_reads_f_r_separate_cutadapt_info_file.txt -o 1_remove_primers/f_r_separate/DBG_021913_R1_f_r_separate_primers_trimmed.fastq /Users/jessie/Dropbox/jessie/russula_illumina/Russula_BC/DBG_021913_R1.fastq\n",
      "\n",
      "cutadapt -g GTGARTCATCGAATCTTTG -a GCATATCAATAAGCGGAGGA                 -m 200 --info-file 1_remove_primers/f_r_separate/DBG_021916_forward_reads_f_r_separate_cutadapt_info_file.txt -o 1_remove_primers/f_r_separate/DBG_021916_R1_f_r_separate_primers_trimmed.fastq /Users/jessie/Dropbox/jessie/russula_illumina/Russula_BC/DBG_021916_R1.fastq\n",
      "\n",
      "cutadapt -g GTGARTCATCGAATCTTTG -a GCATATCAATAAGCGGAGGA                 -m 200 --info-file 1_remove_primers/f_r_separate/DBG_022010_forward_reads_f_r_separate_cutadapt_info_file.txt -o 1_remove_primers/f_r_separate/DBG_022010_R1_f_r_separate_primers_trimmed.fastq /Users/jessie/Dropbox/jessie/russula_illumina/Russula_BC/DBG_022010_R1.fastq\n",
      "\n",
      "cutadapt -g GTGARTCATCGAATCTTTG -a GCATATCAATAAGCGGAGGA                 -m 200 --info-file 1_remove_primers/f_r_separate/DBG_022052_forward_reads_f_r_separate_cutadapt_info_file.txt -o 1_remove_primers/f_r_separate/DBG_022052_R1_f_r_separate_primers_trimmed.fastq /Users/jessie/Dropbox/jessie/russula_illumina/Russula_BC/DBG_022052_R1.fastq\n",
      "\n",
      "cutadapt -g GTGARTCATCGAATCTTTG -a GCATATCAATAAGCGGAGGA                 -m 200 --info-file 1_remove_primers/f_r_separate/DBG_022059_forward_reads_f_r_separate_cutadapt_info_file.txt -o 1_remove_primers/f_r_separate/DBG_022059_R1_f_r_separate_primers_trimmed.fastq /Users/jessie/Dropbox/jessie/russula_illumina/Russula_BC/DBG_022059_R1.fastq\n",
      "\n",
      "cutadapt -g GTGARTCATCGAATCTTTG -a GCATATCAATAAGCGGAGGA                 -m 200 --info-file 1_remove_primers/f_r_separate/DBG_022089_forward_reads_f_r_separate_cutadapt_info_file.txt -o 1_remove_primers/f_r_separate/DBG_022089_R1_f_r_separate_primers_trimmed.fastq /Users/jessie/Dropbox/jessie/russula_illumina/Russula_BC/DBG_022089_R1.fastq\n",
      "\n",
      "cutadapt -g GTGARTCATCGAATCTTTG -a GCATATCAATAAGCGGAGGA                 -m 200 --info-file 1_remove_primers/f_r_separate/DBG_022133_forward_reads_f_r_separate_cutadapt_info_file.txt -o 1_remove_primers/f_r_separate/DBG_022133_R1_f_r_separate_primers_trimmed.fastq /Users/jessie/Dropbox/jessie/russula_illumina/Russula_BC/DBG_022133_R1.fastq\n",
      "\n",
      "cutadapt -g GTGARTCATCGAATCTTTG -a GCATATCAATAAGCGGAGGA                 -m 200 --info-file 1_remove_primers/f_r_separate/DBG_022161_forward_reads_f_r_separate_cutadapt_info_file.txt -o 1_remove_primers/f_r_separate/DBG_022161_R1_f_r_separate_primers_trimmed.fastq /Users/jessie/Dropbox/jessie/russula_illumina/Russula_BC/DBG_022161_R1.fastq\n",
      "\n",
      "cutadapt -g GTGARTCATCGAATCTTTG -a GCATATCAATAAGCGGAGGA                 -m 200 --info-file 1_remove_primers/f_r_separate/DBG_022163_forward_reads_f_r_separate_cutadapt_info_file.txt -o 1_remove_primers/f_r_separate/DBG_022163_R1_f_r_separate_primers_trimmed.fastq /Users/jessie/Dropbox/jessie/russula_illumina/Russula_BC/DBG_022163_R1.fastq\n",
      "\n",
      "cutadapt -g GTGARTCATCGAATCTTTG -a GCATATCAATAAGCGGAGGA                 -m 200 --info-file 1_remove_primers/f_r_separate/DBG_022164_forward_reads_f_r_separate_cutadapt_info_file.txt -o 1_remove_primers/f_r_separate/DBG_022164_R1_f_r_separate_primers_trimmed.fastq /Users/jessie/Dropbox/jessie/russula_illumina/Russula_BC/DBG_022164_R1.fastq\n",
      "\n",
      "cutadapt -g GTGARTCATCGAATCTTTG -a GCATATCAATAAGCGGAGGA                 -m 200 --info-file 1_remove_primers/f_r_separate/DBG_022210_forward_reads_f_r_separate_cutadapt_info_file.txt -o 1_remove_primers/f_r_separate/DBG_022210_R1_f_r_separate_primers_trimmed.fastq /Users/jessie/Dropbox/jessie/russula_illumina/Russula_BC/DBG_022210_R1.fastq\n",
      "\n",
      "cutadapt -g GTGARTCATCGAATCTTTG -a GCATATCAATAAGCGGAGGA                 -m 200 --info-file 1_remove_primers/f_r_separate/DBG_022211_forward_reads_f_r_separate_cutadapt_info_file.txt -o 1_remove_primers/f_r_separate/DBG_022211_R1_f_r_separate_primers_trimmed.fastq /Users/jessie/Dropbox/jessie/russula_illumina/Russula_BC/DBG_022211_R1.fastq\n",
      "\n",
      "cutadapt -g GTGARTCATCGAATCTTTG -a GCATATCAATAAGCGGAGGA                 -m 200 --info-file 1_remove_primers/f_r_separate/DBG_022327_forward_reads_f_r_separate_cutadapt_info_file.txt -o 1_remove_primers/f_r_separate/DBG_022327_R1_f_r_separate_primers_trimmed.fastq /Users/jessie/Dropbox/jessie/russula_illumina/Russula_BC/DBG_022327_R1.fastq\n",
      "\n",
      "cutadapt -g GTGARTCATCGAATCTTTG -a GCATATCAATAAGCGGAGGA                 -m 200 --info-file 1_remove_primers/f_r_separate/DBG_022439_forward_reads_f_r_separate_cutadapt_info_file.txt -o 1_remove_primers/f_r_separate/DBG_022439_R1_f_r_separate_primers_trimmed.fastq /Users/jessie/Dropbox/jessie/russula_illumina/Russula_BC/DBG_022439_R1.fastq\n",
      "\n",
      "cutadapt -g GTGARTCATCGAATCTTTG -a GCATATCAATAAGCGGAGGA                 -m 200 --info-file 1_remove_primers/f_r_separate/DBG_022496_forward_reads_f_r_separate_cutadapt_info_file.txt -o 1_remove_primers/f_r_separate/DBG_022496_R1_f_r_separate_primers_trimmed.fastq /Users/jessie/Dropbox/jessie/russula_illumina/Russula_BC/DBG_022496_R1.fastq\n",
      "\n",
      "cutadapt -g GTGARTCATCGAATCTTTG -a GCATATCAATAAGCGGAGGA                 -m 200 --info-file 1_remove_primers/f_r_separate/DBG_022498_forward_reads_f_r_separate_cutadapt_info_file.txt -o 1_remove_primers/f_r_separate/DBG_022498_R1_f_r_separate_primers_trimmed.fastq /Users/jessie/Dropbox/jessie/russula_illumina/Russula_BC/DBG_022498_R1.fastq\n",
      "\n",
      "cutadapt -g GTGARTCATCGAATCTTTG -a GCATATCAATAAGCGGAGGA                 -m 200 --info-file 1_remove_primers/f_r_separate/DBG_022501_forward_reads_f_r_separate_cutadapt_info_file.txt -o 1_remove_primers/f_r_separate/DBG_022501_R1_f_r_separate_primers_trimmed.fastq /Users/jessie/Dropbox/jessie/russula_illumina/Russula_BC/DBG_022501_R1.fastq\n",
      "\n",
      "cutadapt -g GTGARTCATCGAATCTTTG -a GCATATCAATAAGCGGAGGA                 -m 200 --info-file 1_remove_primers/f_r_separate/DBG_022613_forward_reads_f_r_separate_cutadapt_info_file.txt -o 1_remove_primers/f_r_separate/DBG_022613_R1_f_r_separate_primers_trimmed.fastq /Users/jessie/Dropbox/jessie/russula_illumina/Russula_BC/DBG_022613_R1.fastq\n",
      "\n",
      "cutadapt -g GTGARTCATCGAATCTTTG -a GCATATCAATAAGCGGAGGA                 -m 200 --info-file 1_remove_primers/f_r_separate/DBG_022683_forward_reads_f_r_separate_cutadapt_info_file.txt -o 1_remove_primers/f_r_separate/DBG_022683_R1_f_r_separate_primers_trimmed.fastq /Users/jessie/Dropbox/jessie/russula_illumina/Russula_BC/DBG_022683_R1.fastq\n",
      "\n",
      "cutadapt -g GTGARTCATCGAATCTTTG -a GCATATCAATAAGCGGAGGA                 -m 200 --info-file 1_remove_primers/f_r_separate/DBG_022699_forward_reads_f_r_separate_cutadapt_info_file.txt -o 1_remove_primers/f_r_separate/DBG_022699_R1_f_r_separate_primers_trimmed.fastq /Users/jessie/Dropbox/jessie/russula_illumina/Russula_BC/DBG_022699_R1.fastq\n",
      "\n",
      "cutadapt -g GTGARTCATCGAATCTTTG -a GCATATCAATAAGCGGAGGA                 -m 200 --info-file 1_remove_primers/f_r_separate/DBG_023005_forward_reads_f_r_separate_cutadapt_info_file.txt -o 1_remove_primers/f_r_separate/DBG_023005_R1_f_r_separate_primers_trimmed.fastq /Users/jessie/Dropbox/jessie/russula_illumina/Russula_BC/DBG_023005_R1.fastq\n",
      "\n",
      "cutadapt -g GTGARTCATCGAATCTTTG -a GCATATCAATAAGCGGAGGA                 -m 200 --info-file 1_remove_primers/f_r_separate/DBG_023007_forward_reads_f_r_separate_cutadapt_info_file.txt -o 1_remove_primers/f_r_separate/DBG_023007_R1_f_r_separate_primers_trimmed.fastq /Users/jessie/Dropbox/jessie/russula_illumina/Russula_BC/DBG_023007_R1.fastq\n",
      "\n",
      "cutadapt -g GTGARTCATCGAATCTTTG -a GCATATCAATAAGCGGAGGA                 -m 200 --info-file 1_remove_primers/f_r_separate/DBG_023037_forward_reads_f_r_separate_cutadapt_info_file.txt -o 1_remove_primers/f_r_separate/DBG_023037_R1_f_r_separate_primers_trimmed.fastq /Users/jessie/Dropbox/jessie/russula_illumina/Russula_BC/DBG_023037_R1.fastq\n",
      "\n",
      "cutadapt -g GTGARTCATCGAATCTTTG -a GCATATCAATAAGCGGAGGA                 -m 200 --info-file 1_remove_primers/f_r_separate/DBG_023218_forward_reads_f_r_separate_cutadapt_info_file.txt -o 1_remove_primers/f_r_separate/DBG_023218_R1_f_r_separate_primers_trimmed.fastq /Users/jessie/Dropbox/jessie/russula_illumina/Russula_BC/DBG_023218_R1.fastq\n",
      "\n",
      "cutadapt -g GTGARTCATCGAATCTTTG -a GCATATCAATAAGCGGAGGA                 -m 200 --info-file 1_remove_primers/f_r_separate/DBG_023253_forward_reads_f_r_separate_cutadapt_info_file.txt -o 1_remove_primers/f_r_separate/DBG_023253_R1_f_r_separate_primers_trimmed.fastq /Users/jessie/Dropbox/jessie/russula_illumina/Russula_BC/DBG_023253_R1.fastq\n",
      "\n",
      "cutadapt -g GTGARTCATCGAATCTTTG -a GCATATCAATAAGCGGAGGA                 -m 200 --info-file 1_remove_primers/f_r_separate/DBG_023286A_forward_reads_f_r_separate_cutadapt_info_file.txt -o 1_remove_primers/f_r_separate/DBG_023286A_R1_f_r_separate_primers_trimmed.fastq /Users/jessie/Dropbox/jessie/russula_illumina/Russula_BC/DBG_023286A_R1.fastq\n",
      "\n",
      "cutadapt -g GTGARTCATCGAATCTTTG -a GCATATCAATAAGCGGAGGA                 -m 200 --info-file 1_remove_primers/f_r_separate/DBG_023286B_forward_reads_f_r_separate_cutadapt_info_file.txt -o 1_remove_primers/f_r_separate/DBG_023286B_R1_f_r_separate_primers_trimmed.fastq /Users/jessie/Dropbox/jessie/russula_illumina/Russula_BC/DBG_023286B_R1.fastq\n",
      "\n",
      "cutadapt -g GTGARTCATCGAATCTTTG -a GCATATCAATAAGCGGAGGA                 -m 200 --info-file 1_remove_primers/f_r_separate/DBG_023286_forward_reads_f_r_separate_cutadapt_info_file.txt -o 1_remove_primers/f_r_separate/DBG_023286_R1_f_r_separate_primers_trimmed.fastq /Users/jessie/Dropbox/jessie/russula_illumina/Russula_BC/DBG_023286_R1.fastq\n",
      "\n",
      "cutadapt -g GTGARTCATCGAATCTTTG -a GCATATCAATAAGCGGAGGA                 -m 200 --info-file 1_remove_primers/f_r_separate/DBG_023424_forward_reads_f_r_separate_cutadapt_info_file.txt -o 1_remove_primers/f_r_separate/DBG_023424_R1_f_r_separate_primers_trimmed.fastq /Users/jessie/Dropbox/jessie/russula_illumina/Russula_BC/DBG_023424_R1.fastq\n",
      "\n",
      "cutadapt -g GTGARTCATCGAATCTTTG -a GCATATCAATAAGCGGAGGA                 -m 200 --info-file 1_remove_primers/f_r_separate/DBG_023460_forward_reads_f_r_separate_cutadapt_info_file.txt -o 1_remove_primers/f_r_separate/DBG_023460_R1_f_r_separate_primers_trimmed.fastq /Users/jessie/Dropbox/jessie/russula_illumina/Russula_BC/DBG_023460_R1.fastq\n",
      "\n",
      "cutadapt -g GTGARTCATCGAATCTTTG -a GCATATCAATAAGCGGAGGA                 -m 200 --info-file 1_remove_primers/f_r_separate/DBG_023461_forward_reads_f_r_separate_cutadapt_info_file.txt -o 1_remove_primers/f_r_separate/DBG_023461_R1_f_r_separate_primers_trimmed.fastq /Users/jessie/Dropbox/jessie/russula_illumina/Russula_BC/DBG_023461_R1.fastq\n",
      "\n",
      "cutadapt -g GTGARTCATCGAATCTTTG -a GCATATCAATAAGCGGAGGA                 -m 200 --info-file 1_remove_primers/f_r_separate/DBG_023519_forward_reads_f_r_separate_cutadapt_info_file.txt -o 1_remove_primers/f_r_separate/DBG_023519_R1_f_r_separate_primers_trimmed.fastq /Users/jessie/Dropbox/jessie/russula_illumina/Russula_BC/DBG_023519_R1.fastq\n",
      "\n",
      "cutadapt -g GTGARTCATCGAATCTTTG -a GCATATCAATAAGCGGAGGA                 -m 200 --info-file 1_remove_primers/f_r_separate/DBG_023538_forward_reads_f_r_separate_cutadapt_info_file.txt -o 1_remove_primers/f_r_separate/DBG_023538_R1_f_r_separate_primers_trimmed.fastq /Users/jessie/Dropbox/jessie/russula_illumina/Russula_BC/DBG_023538_R1.fastq\n",
      "\n",
      "cutadapt -g GTGARTCATCGAATCTTTG -a GCATATCAATAAGCGGAGGA                 -m 200 --info-file 1_remove_primers/f_r_separate/DBG_023552A_forward_reads_f_r_separate_cutadapt_info_file.txt -o 1_remove_primers/f_r_separate/DBG_023552A_R1_f_r_separate_primers_trimmed.fastq /Users/jessie/Dropbox/jessie/russula_illumina/Russula_BC/DBG_023552A_R1.fastq\n",
      "\n",
      "cutadapt -g GTGARTCATCGAATCTTTG -a GCATATCAATAAGCGGAGGA                 -m 200 --info-file 1_remove_primers/f_r_separate/DBG_023552B_forward_reads_f_r_separate_cutadapt_info_file.txt -o 1_remove_primers/f_r_separate/DBG_023552B_R1_f_r_separate_primers_trimmed.fastq /Users/jessie/Dropbox/jessie/russula_illumina/Russula_BC/DBG_023552B_R1.fastq\n",
      "\n",
      "cutadapt -g GTGARTCATCGAATCTTTG -a GCATATCAATAAGCGGAGGA                 -m 200 --info-file 1_remove_primers/f_r_separate/DBG_023552_forward_reads_f_r_separate_cutadapt_info_file.txt -o 1_remove_primers/f_r_separate/DBG_023552_R1_f_r_separate_primers_trimmed.fastq /Users/jessie/Dropbox/jessie/russula_illumina/Russula_BC/DBG_023552_R1.fastq\n",
      "\n",
      "cutadapt -g GTGARTCATCGAATCTTTG -a GCATATCAATAAGCGGAGGA                 -m 200 --info-file 1_remove_primers/f_r_separate/DBG_023553_forward_reads_f_r_separate_cutadapt_info_file.txt -o 1_remove_primers/f_r_separate/DBG_023553_R1_f_r_separate_primers_trimmed.fastq /Users/jessie/Dropbox/jessie/russula_illumina/Russula_BC/DBG_023553_R1.fastq\n",
      "\n",
      "cutadapt -g GTGARTCATCGAATCTTTG -a GCATATCAATAAGCGGAGGA                 -m 200 --info-file 1_remove_primers/f_r_separate/DBG_023600_forward_reads_f_r_separate_cutadapt_info_file.txt -o 1_remove_primers/f_r_separate/DBG_023600_R1_f_r_separate_primers_trimmed.fastq /Users/jessie/Dropbox/jessie/russula_illumina/Russula_BC/DBG_023600_R1.fastq\n",
      "\n",
      "cutadapt -g GTGARTCATCGAATCTTTG -a GCATATCAATAAGCGGAGGA                 -m 200 --info-file 1_remove_primers/f_r_separate/DBG_023755_forward_reads_f_r_separate_cutadapt_info_file.txt -o 1_remove_primers/f_r_separate/DBG_023755_R1_f_r_separate_primers_trimmed.fastq /Users/jessie/Dropbox/jessie/russula_illumina/Russula_BC/DBG_023755_R1.fastq\n",
      "\n",
      "cutadapt -g GTGARTCATCGAATCTTTG -a GCATATCAATAAGCGGAGGA                 -m 200 --info-file 1_remove_primers/f_r_separate/DBG_023756_forward_reads_f_r_separate_cutadapt_info_file.txt -o 1_remove_primers/f_r_separate/DBG_023756_R1_f_r_separate_primers_trimmed.fastq /Users/jessie/Dropbox/jessie/russula_illumina/Russula_BC/DBG_023756_R1.fastq\n",
      "\n",
      "cutadapt -g GTGARTCATCGAATCTTTG -a GCATATCAATAAGCGGAGGA                 -m 200 --info-file 1_remove_primers/f_r_separate/DBG_023757_forward_reads_f_r_separate_cutadapt_info_file.txt -o 1_remove_primers/f_r_separate/DBG_023757_R1_f_r_separate_primers_trimmed.fastq /Users/jessie/Dropbox/jessie/russula_illumina/Russula_BC/DBG_023757_R1.fastq\n",
      "\n",
      "cutadapt -g GTGARTCATCGAATCTTTG -a GCATATCAATAAGCGGAGGA                 -m 200 --info-file 1_remove_primers/f_r_separate/DBG_023761_forward_reads_f_r_separate_cutadapt_info_file.txt -o 1_remove_primers/f_r_separate/DBG_023761_R1_f_r_separate_primers_trimmed.fastq /Users/jessie/Dropbox/jessie/russula_illumina/Russula_BC/DBG_023761_R1.fastq\n",
      "\n",
      "cutadapt -g GTGARTCATCGAATCTTTG -a GCATATCAATAAGCGGAGGA                 -m 200 --info-file 1_remove_primers/f_r_separate/DBG_023844_forward_reads_f_r_separate_cutadapt_info_file.txt -o 1_remove_primers/f_r_separate/DBG_023844_R1_f_r_separate_primers_trimmed.fastq /Users/jessie/Dropbox/jessie/russula_illumina/Russula_BC/DBG_023844_R1.fastq\n",
      "\n",
      "cutadapt -g GTGARTCATCGAATCTTTG -a GCATATCAATAAGCGGAGGA                 -m 200 --info-file 1_remove_primers/f_r_separate/DBG_023871_forward_reads_f_r_separate_cutadapt_info_file.txt -o 1_remove_primers/f_r_separate/DBG_023871_R1_f_r_separate_primers_trimmed.fastq /Users/jessie/Dropbox/jessie/russula_illumina/Russula_BC/DBG_023871_R1.fastq\n",
      "\n",
      "cutadapt -g GTGARTCATCGAATCTTTG -a GCATATCAATAAGCGGAGGA                 -m 200 --info-file 1_remove_primers/f_r_separate/DBG_023875_forward_reads_f_r_separate_cutadapt_info_file.txt -o 1_remove_primers/f_r_separate/DBG_023875_R1_f_r_separate_primers_trimmed.fastq /Users/jessie/Dropbox/jessie/russula_illumina/Russula_BC/DBG_023875_R1.fastq\n",
      "\n",
      "cutadapt -g GTGARTCATCGAATCTTTG -a GCATATCAATAAGCGGAGGA                 -m 200 --info-file 1_remove_primers/f_r_separate/DBG_023900_forward_reads_f_r_separate_cutadapt_info_file.txt -o 1_remove_primers/f_r_separate/DBG_023900_R1_f_r_separate_primers_trimmed.fastq /Users/jessie/Dropbox/jessie/russula_illumina/Russula_BC/DBG_023900_R1.fastq\n",
      "\n",
      "cutadapt -g GTGARTCATCGAATCTTTG -a GCATATCAATAAGCGGAGGA                 -m 200 --info-file 1_remove_primers/f_r_separate/DBG_023935_forward_reads_f_r_separate_cutadapt_info_file.txt -o 1_remove_primers/f_r_separate/DBG_023935_R1_f_r_separate_primers_trimmed.fastq /Users/jessie/Dropbox/jessie/russula_illumina/Russula_BC/DBG_023935_R1.fastq\n",
      "\n",
      "cutadapt -g GTGARTCATCGAATCTTTG -a GCATATCAATAAGCGGAGGA                 -m 200 --info-file 1_remove_primers/f_r_separate/DBG_023936_forward_reads_f_r_separate_cutadapt_info_file.txt -o 1_remove_primers/f_r_separate/DBG_023936_R1_f_r_separate_primers_trimmed.fastq /Users/jessie/Dropbox/jessie/russula_illumina/Russula_BC/DBG_023936_R1.fastq\n",
      "\n",
      "cutadapt -g GTGARTCATCGAATCTTTG -a GCATATCAATAAGCGGAGGA                 -m 200 --info-file 1_remove_primers/f_r_separate/DBG_024016_forward_reads_f_r_separate_cutadapt_info_file.txt -o 1_remove_primers/f_r_separate/DBG_024016_R1_f_r_separate_primers_trimmed.fastq /Users/jessie/Dropbox/jessie/russula_illumina/Russula_BC/DBG_024016_R1.fastq\n",
      "\n",
      "cutadapt -g GTGARTCATCGAATCTTTG -a GCATATCAATAAGCGGAGGA                 -m 200 --info-file 1_remove_primers/f_r_separate/DBG_024078_forward_reads_f_r_separate_cutadapt_info_file.txt -o 1_remove_primers/f_r_separate/DBG_024078_R1_f_r_separate_primers_trimmed.fastq /Users/jessie/Dropbox/jessie/russula_illumina/Russula_BC/DBG_024078_R1.fastq\n",
      "\n",
      "cutadapt -g GTGARTCATCGAATCTTTG -a GCATATCAATAAGCGGAGGA                 -m 200 --info-file 1_remove_primers/f_r_separate/DBG_024137A_forward_reads_f_r_separate_cutadapt_info_file.txt -o 1_remove_primers/f_r_separate/DBG_024137A_R1_f_r_separate_primers_trimmed.fastq /Users/jessie/Dropbox/jessie/russula_illumina/Russula_BC/DBG_024137A_R1.fastq\n",
      "\n",
      "cutadapt -g GTGARTCATCGAATCTTTG -a GCATATCAATAAGCGGAGGA                 -m 200 --info-file 1_remove_primers/f_r_separate/DBG_024137B_forward_reads_f_r_separate_cutadapt_info_file.txt -o 1_remove_primers/f_r_separate/DBG_024137B_R1_f_r_separate_primers_trimmed.fastq /Users/jessie/Dropbox/jessie/russula_illumina/Russula_BC/DBG_024137B_R1.fastq\n",
      "\n",
      "cutadapt -g GTGARTCATCGAATCTTTG -a GCATATCAATAAGCGGAGGA                 -m 200 --info-file 1_remove_primers/f_r_separate/DBG_024137_forward_reads_f_r_separate_cutadapt_info_file.txt -o 1_remove_primers/f_r_separate/DBG_024137_R1_f_r_separate_primers_trimmed.fastq /Users/jessie/Dropbox/jessie/russula_illumina/Russula_BC/DBG_024137_R1.fastq\n",
      "\n",
      "cutadapt -g GTGARTCATCGAATCTTTG -a GCATATCAATAAGCGGAGGA                 -m 200 --info-file 1_remove_primers/f_r_separate/DBG_024176_forward_reads_f_r_separate_cutadapt_info_file.txt -o 1_remove_primers/f_r_separate/DBG_024176_R1_f_r_separate_primers_trimmed.fastq /Users/jessie/Dropbox/jessie/russula_illumina/Russula_BC/DBG_024176_R1.fastq\n",
      "\n",
      "cutadapt -g GTGARTCATCGAATCTTTG -a GCATATCAATAAGCGGAGGA                 -m 200 --info-file 1_remove_primers/f_r_separate/DBG_024212_forward_reads_f_r_separate_cutadapt_info_file.txt -o 1_remove_primers/f_r_separate/DBG_024212_R1_f_r_separate_primers_trimmed.fastq /Users/jessie/Dropbox/jessie/russula_illumina/Russula_BC/DBG_024212_R1.fastq\n",
      "\n",
      "cutadapt -g GTGARTCATCGAATCTTTG -a GCATATCAATAAGCGGAGGA                 -m 200 --info-file 1_remove_primers/f_r_separate/DBG_024445A_forward_reads_f_r_separate_cutadapt_info_file.txt -o 1_remove_primers/f_r_separate/DBG_024445A_R1_f_r_separate_primers_trimmed.fastq /Users/jessie/Dropbox/jessie/russula_illumina/Russula_BC/DBG_024445A_R1.fastq\n",
      "\n",
      "cutadapt -g GTGARTCATCGAATCTTTG -a GCATATCAATAAGCGGAGGA                 -m 200 --info-file 1_remove_primers/f_r_separate/DBG_024445B_forward_reads_f_r_separate_cutadapt_info_file.txt -o 1_remove_primers/f_r_separate/DBG_024445B_R1_f_r_separate_primers_trimmed.fastq /Users/jessie/Dropbox/jessie/russula_illumina/Russula_BC/DBG_024445B_R1.fastq\n",
      "\n",
      "cutadapt -g GTGARTCATCGAATCTTTG -a GCATATCAATAAGCGGAGGA                 -m 200 --info-file 1_remove_primers/f_r_separate/DBG_024445_forward_reads_f_r_separate_cutadapt_info_file.txt -o 1_remove_primers/f_r_separate/DBG_024445_R1_f_r_separate_primers_trimmed.fastq /Users/jessie/Dropbox/jessie/russula_illumina/Russula_BC/DBG_024445_R1.fastq\n",
      "\n",
      "cutadapt -g GTGARTCATCGAATCTTTG -a GCATATCAATAAGCGGAGGA                 -m 200 --info-file 1_remove_primers/f_r_separate/DBG_024446_forward_reads_f_r_separate_cutadapt_info_file.txt -o 1_remove_primers/f_r_separate/DBG_024446_R1_f_r_separate_primers_trimmed.fastq /Users/jessie/Dropbox/jessie/russula_illumina/Russula_BC/DBG_024446_R1.fastq\n",
      "\n",
      "cutadapt -g GTGARTCATCGAATCTTTG -a GCATATCAATAAGCGGAGGA                 -m 200 --info-file 1_remove_primers/f_r_separate/DBG_024473_forward_reads_f_r_separate_cutadapt_info_file.txt -o 1_remove_primers/f_r_separate/DBG_024473_R1_f_r_separate_primers_trimmed.fastq /Users/jessie/Dropbox/jessie/russula_illumina/Russula_BC/DBG_024473_R1.fastq\n",
      "\n",
      "cutadapt -g GTGARTCATCGAATCTTTG -a GCATATCAATAAGCGGAGGA                 -m 200 --info-file 1_remove_primers/f_r_separate/DBG_024554_forward_reads_f_r_separate_cutadapt_info_file.txt -o 1_remove_primers/f_r_separate/DBG_024554_R1_f_r_separate_primers_trimmed.fastq /Users/jessie/Dropbox/jessie/russula_illumina/Russula_BC/DBG_024554_R1.fastq\n",
      "\n",
      "cutadapt -g GTGARTCATCGAATCTTTG -a GCATATCAATAAGCGGAGGA                 -m 200 --info-file 1_remove_primers/f_r_separate/DBG_024590_forward_reads_f_r_separate_cutadapt_info_file.txt -o 1_remove_primers/f_r_separate/DBG_024590_R1_f_r_separate_primers_trimmed.fastq /Users/jessie/Dropbox/jessie/russula_illumina/Russula_BC/DBG_024590_R1.fastq\n",
      "\n",
      "cutadapt -g GTGARTCATCGAATCTTTG -a GCATATCAATAAGCGGAGGA                 -m 200 --info-file 1_remove_primers/f_r_separate/DBG_024680_forward_reads_f_r_separate_cutadapt_info_file.txt -o 1_remove_primers/f_r_separate/DBG_024680_R1_f_r_separate_primers_trimmed.fastq /Users/jessie/Dropbox/jessie/russula_illumina/Russula_BC/DBG_024680_R1.fastq\n",
      "\n",
      "cutadapt -g GTGARTCATCGAATCTTTG -a GCATATCAATAAGCGGAGGA                 -m 200 --info-file 1_remove_primers/f_r_separate/DBG_024698_forward_reads_f_r_separate_cutadapt_info_file.txt -o 1_remove_primers/f_r_separate/DBG_024698_R1_f_r_separate_primers_trimmed.fastq /Users/jessie/Dropbox/jessie/russula_illumina/Russula_BC/DBG_024698_R1.fastq\n",
      "\n",
      "cutadapt -g GTGARTCATCGAATCTTTG -a GCATATCAATAAGCGGAGGA                 -m 200 --info-file 1_remove_primers/f_r_separate/DBG_024799_forward_reads_f_r_separate_cutadapt_info_file.txt -o 1_remove_primers/f_r_separate/DBG_024799_R1_f_r_separate_primers_trimmed.fastq /Users/jessie/Dropbox/jessie/russula_illumina/Russula_BC/DBG_024799_R1.fastq\n",
      "\n",
      "cutadapt -g GTGARTCATCGAATCTTTG -a GCATATCAATAAGCGGAGGA                 -m 200 --info-file 1_remove_primers/f_r_separate/DBG_024876_forward_reads_f_r_separate_cutadapt_info_file.txt -o 1_remove_primers/f_r_separate/DBG_024876_R1_f_r_separate_primers_trimmed.fastq /Users/jessie/Dropbox/jessie/russula_illumina/Russula_BC/DBG_024876_R1.fastq\n",
      "\n",
      "cutadapt -g GTGARTCATCGAATCTTTG -a GCATATCAATAAGCGGAGGA                 -m 200 --info-file 1_remove_primers/f_r_separate/DBG_024900A_forward_reads_f_r_separate_cutadapt_info_file.txt -o 1_remove_primers/f_r_separate/DBG_024900A_R1_f_r_separate_primers_trimmed.fastq /Users/jessie/Dropbox/jessie/russula_illumina/Russula_BC/DBG_024900A_R1.fastq\n",
      "\n",
      "cutadapt -g GTGARTCATCGAATCTTTG -a GCATATCAATAAGCGGAGGA                 -m 200 --info-file 1_remove_primers/f_r_separate/DBG_024900B_forward_reads_f_r_separate_cutadapt_info_file.txt -o 1_remove_primers/f_r_separate/DBG_024900B_R1_f_r_separate_primers_trimmed.fastq /Users/jessie/Dropbox/jessie/russula_illumina/Russula_BC/DBG_024900B_R1.fastq\n",
      "\n",
      "cutadapt -g GTGARTCATCGAATCTTTG -a GCATATCAATAAGCGGAGGA                 -m 200 --info-file 1_remove_primers/f_r_separate/DBG_024900_forward_reads_f_r_separate_cutadapt_info_file.txt -o 1_remove_primers/f_r_separate/DBG_024900_R1_f_r_separate_primers_trimmed.fastq /Users/jessie/Dropbox/jessie/russula_illumina/Russula_BC/DBG_024900_R1.fastq\n",
      "\n",
      "cutadapt -g GTGARTCATCGAATCTTTG -a GCATATCAATAAGCGGAGGA                 -m 200 --info-file 1_remove_primers/f_r_separate/DBG_024923_forward_reads_f_r_separate_cutadapt_info_file.txt -o 1_remove_primers/f_r_separate/DBG_024923_R1_f_r_separate_primers_trimmed.fastq /Users/jessie/Dropbox/jessie/russula_illumina/Russula_BC/DBG_024923_R1.fastq\n",
      "\n",
      "cutadapt -g GTGARTCATCGAATCTTTG -a GCATATCAATAAGCGGAGGA                 -m 200 --info-file 1_remove_primers/f_r_separate/DBG_025067_forward_reads_f_r_separate_cutadapt_info_file.txt -o 1_remove_primers/f_r_separate/DBG_025067_R1_f_r_separate_primers_trimmed.fastq /Users/jessie/Dropbox/jessie/russula_illumina/Russula_BC/DBG_025067_R1.fastq\n",
      "\n",
      "cutadapt -g GTGARTCATCGAATCTTTG -a GCATATCAATAAGCGGAGGA                 -m 200 --info-file 1_remove_primers/f_r_separate/DBG_025074_forward_reads_f_r_separate_cutadapt_info_file.txt -o 1_remove_primers/f_r_separate/DBG_025074_R1_f_r_separate_primers_trimmed.fastq /Users/jessie/Dropbox/jessie/russula_illumina/Russula_BC/DBG_025074_R1.fastq\n",
      "\n",
      "cutadapt -g GTGARTCATCGAATCTTTG -a GCATATCAATAAGCGGAGGA                 -m 200 --info-file 1_remove_primers/f_r_separate/DBG_025075_forward_reads_f_r_separate_cutadapt_info_file.txt -o 1_remove_primers/f_r_separate/DBG_025075_R1_f_r_separate_primers_trimmed.fastq /Users/jessie/Dropbox/jessie/russula_illumina/Russula_BC/DBG_025075_R1.fastq\n",
      "\n",
      "cutadapt -g GTGARTCATCGAATCTTTG -a GCATATCAATAAGCGGAGGA                 -m 200 --info-file 1_remove_primers/f_r_separate/DBG_025133_forward_reads_f_r_separate_cutadapt_info_file.txt -o 1_remove_primers/f_r_separate/DBG_025133_R1_f_r_separate_primers_trimmed.fastq /Users/jessie/Dropbox/jessie/russula_illumina/Russula_BC/DBG_025133_R1.fastq\n",
      "\n",
      "cutadapt -g GTGARTCATCGAATCTTTG -a GCATATCAATAAGCGGAGGA                 -m 200 --info-file 1_remove_primers/f_r_separate/DBG_025136_forward_reads_f_r_separate_cutadapt_info_file.txt -o 1_remove_primers/f_r_separate/DBG_025136_R1_f_r_separate_primers_trimmed.fastq /Users/jessie/Dropbox/jessie/russula_illumina/Russula_BC/DBG_025136_R1.fastq\n",
      "\n",
      "cutadapt -g GTGARTCATCGAATCTTTG -a GCATATCAATAAGCGGAGGA                 -m 200 --info-file 1_remove_primers/f_r_separate/DBG_025138_forward_reads_f_r_separate_cutadapt_info_file.txt -o 1_remove_primers/f_r_separate/DBG_025138_R1_f_r_separate_primers_trimmed.fastq /Users/jessie/Dropbox/jessie/russula_illumina/Russula_BC/DBG_025138_R1.fastq\n",
      "\n",
      "cutadapt -g GTGARTCATCGAATCTTTG -a GCATATCAATAAGCGGAGGA                 -m 200 --info-file 1_remove_primers/f_r_separate/DBG_025140_forward_reads_f_r_separate_cutadapt_info_file.txt -o 1_remove_primers/f_r_separate/DBG_025140_R1_f_r_separate_primers_trimmed.fastq /Users/jessie/Dropbox/jessie/russula_illumina/Russula_BC/DBG_025140_R1.fastq\n",
      "\n",
      "cutadapt -g GTGARTCATCGAATCTTTG -a GCATATCAATAAGCGGAGGA                 -m 200 --info-file 1_remove_primers/f_r_separate/DBG_025324_forward_reads_f_r_separate_cutadapt_info_file.txt -o 1_remove_primers/f_r_separate/DBG_025324_R1_f_r_separate_primers_trimmed.fastq /Users/jessie/Dropbox/jessie/russula_illumina/Russula_BC/DBG_025324_R1.fastq\n",
      "\n",
      "cutadapt -g GTGARTCATCGAATCTTTG -a GCATATCAATAAGCGGAGGA                 -m 200 --info-file 1_remove_primers/f_r_separate/DBG_025327_forward_reads_f_r_separate_cutadapt_info_file.txt -o 1_remove_primers/f_r_separate/DBG_025327_R1_f_r_separate_primers_trimmed.fastq /Users/jessie/Dropbox/jessie/russula_illumina/Russula_BC/DBG_025327_R1.fastq\n",
      "\n",
      "cutadapt -g GTGARTCATCGAATCTTTG -a GCATATCAATAAGCGGAGGA                 -m 200 --info-file 1_remove_primers/f_r_separate/DBG_025331_forward_reads_f_r_separate_cutadapt_info_file.txt -o 1_remove_primers/f_r_separate/DBG_025331_R1_f_r_separate_primers_trimmed.fastq /Users/jessie/Dropbox/jessie/russula_illumina/Russula_BC/DBG_025331_R1.fastq\n",
      "\n",
      "cutadapt -g GTGARTCATCGAATCTTTG -a GCATATCAATAAGCGGAGGA                 -m 200 --info-file 1_remove_primers/f_r_separate/DBG_025332_forward_reads_f_r_separate_cutadapt_info_file.txt -o 1_remove_primers/f_r_separate/DBG_025332_R1_f_r_separate_primers_trimmed.fastq /Users/jessie/Dropbox/jessie/russula_illumina/Russula_BC/DBG_025332_R1.fastq\n",
      "\n",
      "cutadapt -g GTGARTCATCGAATCTTTG -a GCATATCAATAAGCGGAGGA                 -m 200 --info-file 1_remove_primers/f_r_separate/DBG_025333_forward_reads_f_r_separate_cutadapt_info_file.txt -o 1_remove_primers/f_r_separate/DBG_025333_R1_f_r_separate_primers_trimmed.fastq /Users/jessie/Dropbox/jessie/russula_illumina/Russula_BC/DBG_025333_R1.fastq\n",
      "\n",
      "cutadapt -g GTGARTCATCGAATCTTTG -a GCATATCAATAAGCGGAGGA                 -m 200 --info-file 1_remove_primers/f_r_separate/DBG_025334_forward_reads_f_r_separate_cutadapt_info_file.txt -o 1_remove_primers/f_r_separate/DBG_025334_R1_f_r_separate_primers_trimmed.fastq /Users/jessie/Dropbox/jessie/russula_illumina/Russula_BC/DBG_025334_R1.fastq\n",
      "\n",
      "cutadapt -g GTGARTCATCGAATCTTTG -a GCATATCAATAAGCGGAGGA                 -m 200 --info-file 1_remove_primers/f_r_separate/DBG_025335_forward_reads_f_r_separate_cutadapt_info_file.txt -o 1_remove_primers/f_r_separate/DBG_025335_R1_f_r_separate_primers_trimmed.fastq /Users/jessie/Dropbox/jessie/russula_illumina/Russula_BC/DBG_025335_R1.fastq\n",
      "\n",
      "cutadapt -g GTGARTCATCGAATCTTTG -a GCATATCAATAAGCGGAGGA                 -m 200 --info-file 1_remove_primers/f_r_separate/DBG_025337_forward_reads_f_r_separate_cutadapt_info_file.txt -o 1_remove_primers/f_r_separate/DBG_025337_R1_f_r_separate_primers_trimmed.fastq /Users/jessie/Dropbox/jessie/russula_illumina/Russula_BC/DBG_025337_R1.fastq\n",
      "\n",
      "cutadapt -g GTGARTCATCGAATCTTTG -a GCATATCAATAAGCGGAGGA                 -m 200 --info-file 1_remove_primers/f_r_separate/DBG_027596_forward_reads_f_r_separate_cutadapt_info_file.txt -o 1_remove_primers/f_r_separate/DBG_027596_R1_f_r_separate_primers_trimmed.fastq /Users/jessie/Dropbox/jessie/russula_illumina/Russula_BC/DBG_027596_R1.fastq\n",
      "\n",
      "cutadapt -g GTGARTCATCGAATCTTTG -a GCATATCAATAAGCGGAGGA                 -m 200 --info-file 1_remove_primers/f_r_separate/DBG_027618_forward_reads_f_r_separate_cutadapt_info_file.txt -o 1_remove_primers/f_r_separate/DBG_027618_R1_f_r_separate_primers_trimmed.fastq /Users/jessie/Dropbox/jessie/russula_illumina/Russula_BC/DBG_027618_R1.fastq\n",
      "\n",
      "cutadapt -g GTGARTCATCGAATCTTTG -a GCATATCAATAAGCGGAGGA                 -m 200 --info-file 1_remove_primers/f_r_separate/DBG_027625_forward_reads_f_r_separate_cutadapt_info_file.txt -o 1_remove_primers/f_r_separate/DBG_027625_R1_f_r_separate_primers_trimmed.fastq /Users/jessie/Dropbox/jessie/russula_illumina/Russula_BC/DBG_027625_R1.fastq\n",
      "\n",
      "cutadapt -g GTGARTCATCGAATCTTTG -a GCATATCAATAAGCGGAGGA                 -m 200 --info-file 1_remove_primers/f_r_separate/DBG_027639_forward_reads_f_r_separate_cutadapt_info_file.txt -o 1_remove_primers/f_r_separate/DBG_027639_R1_f_r_separate_primers_trimmed.fastq /Users/jessie/Dropbox/jessie/russula_illumina/Russula_BC/DBG_027639_R1.fastq\n",
      "\n",
      "cutadapt -g GTGARTCATCGAATCTTTG -a GCATATCAATAAGCGGAGGA                 -m 200 --info-file 1_remove_primers/f_r_separate/DBG_027659_forward_reads_f_r_separate_cutadapt_info_file.txt -o 1_remove_primers/f_r_separate/DBG_027659_R1_f_r_separate_primers_trimmed.fastq /Users/jessie/Dropbox/jessie/russula_illumina/Russula_BC/DBG_027659_R1.fastq\n",
      "\n",
      "cutadapt -g GTGARTCATCGAATCTTTG -a GCATATCAATAAGCGGAGGA                 -m 200 --info-file 1_remove_primers/f_r_separate/DBG_027804_forward_reads_f_r_separate_cutadapt_info_file.txt -o 1_remove_primers/f_r_separate/DBG_027804_R1_f_r_separate_primers_trimmed.fastq /Users/jessie/Dropbox/jessie/russula_illumina/Russula_BC/DBG_027804_R1.fastq\n",
      "\n",
      "cutadapt -g GTGARTCATCGAATCTTTG -a GCATATCAATAAGCGGAGGA                 -m 200 --info-file 1_remove_primers/f_r_separate/DBG_027805_forward_reads_f_r_separate_cutadapt_info_file.txt -o 1_remove_primers/f_r_separate/DBG_027805_R1_f_r_separate_primers_trimmed.fastq /Users/jessie/Dropbox/jessie/russula_illumina/Russula_BC/DBG_027805_R1.fastq\n",
      "\n",
      "cutadapt -g GTGARTCATCGAATCTTTG -a GCATATCAATAAGCGGAGGA                 -m 200 --info-file 1_remove_primers/f_r_separate/DBG_027895_forward_reads_f_r_separate_cutadapt_info_file.txt -o 1_remove_primers/f_r_separate/DBG_027895_R1_f_r_separate_primers_trimmed.fastq /Users/jessie/Dropbox/jessie/russula_illumina/Russula_BC/DBG_027895_R1.fastq\n",
      "\n",
      "cutadapt -g GTGARTCATCGAATCTTTG -a GCATATCAATAAGCGGAGGA                 -m 200 --info-file 1_remove_primers/f_r_separate/DBG_027901_forward_reads_f_r_separate_cutadapt_info_file.txt -o 1_remove_primers/f_r_separate/DBG_027901_R1_f_r_separate_primers_trimmed.fastq /Users/jessie/Dropbox/jessie/russula_illumina/Russula_BC/DBG_027901_R1.fastq\n",
      "\n",
      "cutadapt -g GTGARTCATCGAATCTTTG -a GCATATCAATAAGCGGAGGA                 -m 200 --info-file 1_remove_primers/f_r_separate/DBG_027910_forward_reads_f_r_separate_cutadapt_info_file.txt -o 1_remove_primers/f_r_separate/DBG_027910_R1_f_r_separate_primers_trimmed.fastq /Users/jessie/Dropbox/jessie/russula_illumina/Russula_BC/DBG_027910_R1.fastq\n",
      "\n",
      "cutadapt -g GTGARTCATCGAATCTTTG -a GCATATCAATAAGCGGAGGA                 -m 200 --info-file 1_remove_primers/f_r_separate/DBG_027911_forward_reads_f_r_separate_cutadapt_info_file.txt -o 1_remove_primers/f_r_separate/DBG_027911_R1_f_r_separate_primers_trimmed.fastq /Users/jessie/Dropbox/jessie/russula_illumina/Russula_BC/DBG_027911_R1.fastq\n",
      "\n",
      "cutadapt -g GTGARTCATCGAATCTTTG -a GCATATCAATAAGCGGAGGA                 -m 200 --info-file 1_remove_primers/f_r_separate/DBG_027913_forward_reads_f_r_separate_cutadapt_info_file.txt -o 1_remove_primers/f_r_separate/DBG_027913_R1_f_r_separate_primers_trimmed.fastq /Users/jessie/Dropbox/jessie/russula_illumina/Russula_BC/DBG_027913_R1.fastq\n",
      "\n",
      "cutadapt -g GTGARTCATCGAATCTTTG -a GCATATCAATAAGCGGAGGA                 -m 200 --info-file 1_remove_primers/f_r_separate/DBG_027914_forward_reads_f_r_separate_cutadapt_info_file.txt -o 1_remove_primers/f_r_separate/DBG_027914_R1_f_r_separate_primers_trimmed.fastq /Users/jessie/Dropbox/jessie/russula_illumina/Russula_BC/DBG_027914_R1.fastq\n",
      "\n",
      "cutadapt -g GTGARTCATCGAATCTTTG -a GCATATCAATAAGCGGAGGA                 -m 200 --info-file 1_remove_primers/f_r_separate/DBG_027988_forward_reads_f_r_separate_cutadapt_info_file.txt -o 1_remove_primers/f_r_separate/DBG_027988_R1_f_r_separate_primers_trimmed.fastq /Users/jessie/Dropbox/jessie/russula_illumina/Russula_BC/DBG_027988_R1.fastq\n",
      "\n",
      "cutadapt -g GTGARTCATCGAATCTTTG -a GCATATCAATAAGCGGAGGA                 -m 200 --info-file 1_remove_primers/f_r_separate/DBG_028112_forward_reads_f_r_separate_cutadapt_info_file.txt -o 1_remove_primers/f_r_separate/DBG_028112_R1_f_r_separate_primers_trimmed.fastq /Users/jessie/Dropbox/jessie/russula_illumina/Russula_BC/DBG_028112_R1.fastq\n",
      "\n",
      "cutadapt -g GTGARTCATCGAATCTTTG -a GCATATCAATAAGCGGAGGA                 -m 200 --info-file 1_remove_primers/f_r_separate/DBG_028125_forward_reads_f_r_separate_cutadapt_info_file.txt -o 1_remove_primers/f_r_separate/DBG_028125_R1_f_r_separate_primers_trimmed.fastq /Users/jessie/Dropbox/jessie/russula_illumina/Russula_BC/DBG_028125_R1.fastq\n",
      "\n",
      "cutadapt -g GTGARTCATCGAATCTTTG -a GCATATCAATAAGCGGAGGA                 -m 200 --info-file 1_remove_primers/f_r_separate/DBG_028155_forward_reads_f_r_separate_cutadapt_info_file.txt -o 1_remove_primers/f_r_separate/DBG_028155_R1_f_r_separate_primers_trimmed.fastq /Users/jessie/Dropbox/jessie/russula_illumina/Russula_BC/DBG_028155_R1.fastq\n",
      "\n",
      "cutadapt -g GTGARTCATCGAATCTTTG -a GCATATCAATAAGCGGAGGA                 -m 200 --info-file 1_remove_primers/f_r_separate/DBG_028281_forward_reads_f_r_separate_cutadapt_info_file.txt -o 1_remove_primers/f_r_separate/DBG_028281_R1_f_r_separate_primers_trimmed.fastq /Users/jessie/Dropbox/jessie/russula_illumina/Russula_BC/DBG_028281_R1.fastq\n",
      "\n",
      "cutadapt -g GTGARTCATCGAATCTTTG -a GCATATCAATAAGCGGAGGA                 -m 200 --info-file 1_remove_primers/f_r_separate/DBG_028282_forward_reads_f_r_separate_cutadapt_info_file.txt -o 1_remove_primers/f_r_separate/DBG_028282_R1_f_r_separate_primers_trimmed.fastq /Users/jessie/Dropbox/jessie/russula_illumina/Russula_BC/DBG_028282_R1.fastq\n",
      "\n",
      "cutadapt -g GTGARTCATCGAATCTTTG -a GCATATCAATAAGCGGAGGA                 -m 200 --info-file 1_remove_primers/f_r_separate/DBG_028314_forward_reads_f_r_separate_cutadapt_info_file.txt -o 1_remove_primers/f_r_separate/DBG_028314_R1_f_r_separate_primers_trimmed.fastq /Users/jessie/Dropbox/jessie/russula_illumina/Russula_BC/DBG_028314_R1.fastq\n",
      "\n",
      "cutadapt -g GTGARTCATCGAATCTTTG -a GCATATCAATAAGCGGAGGA                 -m 200 --info-file 1_remove_primers/f_r_separate/DBG_028330_forward_reads_f_r_separate_cutadapt_info_file.txt -o 1_remove_primers/f_r_separate/DBG_028330_R1_f_r_separate_primers_trimmed.fastq /Users/jessie/Dropbox/jessie/russula_illumina/Russula_BC/DBG_028330_R1.fastq\n",
      "\n",
      "cutadapt -g GTGARTCATCGAATCTTTG -a GCATATCAATAAGCGGAGGA                 -m 200 --info-file 1_remove_primers/f_r_separate/DBG_028379_forward_reads_f_r_separate_cutadapt_info_file.txt -o 1_remove_primers/f_r_separate/DBG_028379_R1_f_r_separate_primers_trimmed.fastq /Users/jessie/Dropbox/jessie/russula_illumina/Russula_BC/DBG_028379_R1.fastq\n",
      "\n",
      "cutadapt -g GTGARTCATCGAATCTTTG -a GCATATCAATAAGCGGAGGA                 -m 200 --info-file 1_remove_primers/f_r_separate/DBG_028381_forward_reads_f_r_separate_cutadapt_info_file.txt -o 1_remove_primers/f_r_separate/DBG_028381_R1_f_r_separate_primers_trimmed.fastq /Users/jessie/Dropbox/jessie/russula_illumina/Russula_BC/DBG_028381_R1.fastq\n",
      "\n",
      "cutadapt -g GTGARTCATCGAATCTTTG -a GCATATCAATAAGCGGAGGA                 -m 200 --info-file 1_remove_primers/f_r_separate/DBG_028393_forward_reads_f_r_separate_cutadapt_info_file.txt -o 1_remove_primers/f_r_separate/DBG_028393_R1_f_r_separate_primers_trimmed.fastq /Users/jessie/Dropbox/jessie/russula_illumina/Russula_BC/DBG_028393_R1.fastq\n",
      "\n",
      "cutadapt -g GTGARTCATCGAATCTTTG -a GCATATCAATAAGCGGAGGA                 -m 200 --info-file 1_remove_primers/f_r_separate/DBG_028402_forward_reads_f_r_separate_cutadapt_info_file.txt -o 1_remove_primers/f_r_separate/DBG_028402_R1_f_r_separate_primers_trimmed.fastq /Users/jessie/Dropbox/jessie/russula_illumina/Russula_BC/DBG_028402_R1.fastq\n",
      "\n",
      "cutadapt -g GTGARTCATCGAATCTTTG -a GCATATCAATAAGCGGAGGA                 -m 200 --info-file 1_remove_primers/f_r_separate/DBG_028432_forward_reads_f_r_separate_cutadapt_info_file.txt -o 1_remove_primers/f_r_separate/DBG_028432_R1_f_r_separate_primers_trimmed.fastq /Users/jessie/Dropbox/jessie/russula_illumina/Russula_BC/DBG_028432_R1.fastq\n",
      "\n",
      "cutadapt -g GTGARTCATCGAATCTTTG -a GCATATCAATAAGCGGAGGA                 -m 200 --info-file 1_remove_primers/f_r_separate/DBG_028543_forward_reads_f_r_separate_cutadapt_info_file.txt -o 1_remove_primers/f_r_separate/DBG_028543_R1_f_r_separate_primers_trimmed.fastq /Users/jessie/Dropbox/jessie/russula_illumina/Russula_BC/DBG_028543_R1.fastq\n",
      "\n",
      "cutadapt -g GTGARTCATCGAATCTTTG -a GCATATCAATAAGCGGAGGA                 -m 200 --info-file 1_remove_primers/f_r_separate/DBG_028710_forward_reads_f_r_separate_cutadapt_info_file.txt -o 1_remove_primers/f_r_separate/DBG_028710_R1_f_r_separate_primers_trimmed.fastq /Users/jessie/Dropbox/jessie/russula_illumina/Russula_BC/DBG_028710_R1.fastq\n",
      "\n",
      "cutadapt -g GTGARTCATCGAATCTTTG -a GCATATCAATAAGCGGAGGA                 -m 200 --info-file 1_remove_primers/f_r_separate/DBG_028724_forward_reads_f_r_separate_cutadapt_info_file.txt -o 1_remove_primers/f_r_separate/DBG_028724_R1_f_r_separate_primers_trimmed.fastq /Users/jessie/Dropbox/jessie/russula_illumina/Russula_BC/DBG_028724_R1.fastq\n",
      "\n",
      "cutadapt -g GTGARTCATCGAATCTTTG -a GCATATCAATAAGCGGAGGA                 -m 200 --info-file 1_remove_primers/f_r_separate/DBG_028727_forward_reads_f_r_separate_cutadapt_info_file.txt -o 1_remove_primers/f_r_separate/DBG_028727_R1_f_r_separate_primers_trimmed.fastq /Users/jessie/Dropbox/jessie/russula_illumina/Russula_BC/DBG_028727_R1.fastq\n",
      "\n",
      "cutadapt -g GTGARTCATCGAATCTTTG -a GCATATCAATAAGCGGAGGA                 -m 200 --info-file 1_remove_primers/f_r_separate/DBG_028729_forward_reads_f_r_separate_cutadapt_info_file.txt -o 1_remove_primers/f_r_separate/DBG_028729_R1_f_r_separate_primers_trimmed.fastq /Users/jessie/Dropbox/jessie/russula_illumina/Russula_BC/DBG_028729_R1.fastq\n",
      "\n",
      "cutadapt -g GTGARTCATCGAATCTTTG -a GCATATCAATAAGCGGAGGA                 -m 200 --info-file 1_remove_primers/f_r_separate/DBG_028730_forward_reads_f_r_separate_cutadapt_info_file.txt -o 1_remove_primers/f_r_separate/DBG_028730_R1_f_r_separate_primers_trimmed.fastq /Users/jessie/Dropbox/jessie/russula_illumina/Russula_BC/DBG_028730_R1.fastq\n",
      "\n",
      "cutadapt -g GTGARTCATCGAATCTTTG -a GCATATCAATAAGCGGAGGA                 -m 200 --info-file 1_remove_primers/f_r_separate/DBG_028736_forward_reads_f_r_separate_cutadapt_info_file.txt -o 1_remove_primers/f_r_separate/DBG_028736_R1_f_r_separate_primers_trimmed.fastq /Users/jessie/Dropbox/jessie/russula_illumina/Russula_BC/DBG_028736_R1.fastq\n",
      "\n",
      "cutadapt -g GTGARTCATCGAATCTTTG -a GCATATCAATAAGCGGAGGA                 -m 200 --info-file 1_remove_primers/f_r_separate/DBG_028792_forward_reads_f_r_separate_cutadapt_info_file.txt -o 1_remove_primers/f_r_separate/DBG_028792_R1_f_r_separate_primers_trimmed.fastq /Users/jessie/Dropbox/jessie/russula_illumina/Russula_BC/DBG_028792_R1.fastq\n",
      "\n",
      "cutadapt -g GTGARTCATCGAATCTTTG -a GCATATCAATAAGCGGAGGA                 -m 200 --info-file 1_remove_primers/f_r_separate/DBG_028827_forward_reads_f_r_separate_cutadapt_info_file.txt -o 1_remove_primers/f_r_separate/DBG_028827_R1_f_r_separate_primers_trimmed.fastq /Users/jessie/Dropbox/jessie/russula_illumina/Russula_BC/DBG_028827_R1.fastq\n",
      "\n",
      "cutadapt -g GTGARTCATCGAATCTTTG -a GCATATCAATAAGCGGAGGA                 -m 200 --info-file 1_remove_primers/f_r_separate/DBG_028843_forward_reads_f_r_separate_cutadapt_info_file.txt -o 1_remove_primers/f_r_separate/DBG_028843_R1_f_r_separate_primers_trimmed.fastq /Users/jessie/Dropbox/jessie/russula_illumina/Russula_BC/DBG_028843_R1.fastq\n",
      "\n",
      "cutadapt -g GTGARTCATCGAATCTTTG -a GCATATCAATAAGCGGAGGA                 -m 200 --info-file 1_remove_primers/f_r_separate/DBG_028957_forward_reads_f_r_separate_cutadapt_info_file.txt -o 1_remove_primers/f_r_separate/DBG_028957_R1_f_r_separate_primers_trimmed.fastq /Users/jessie/Dropbox/jessie/russula_illumina/Russula_BC/DBG_028957_R1.fastq\n",
      "\n",
      "cutadapt -g GTGARTCATCGAATCTTTG -a GCATATCAATAAGCGGAGGA                 -m 200 --info-file 1_remove_primers/f_r_separate/DBG_028977_forward_reads_f_r_separate_cutadapt_info_file.txt -o 1_remove_primers/f_r_separate/DBG_028977_R1_f_r_separate_primers_trimmed.fastq /Users/jessie/Dropbox/jessie/russula_illumina/Russula_BC/DBG_028977_R1.fastq\n",
      "\n",
      "cutadapt -g GTGARTCATCGAATCTTTG -a GCATATCAATAAGCGGAGGA                 -m 200 --info-file 1_remove_primers/f_r_separate/DBG_029012_forward_reads_f_r_separate_cutadapt_info_file.txt -o 1_remove_primers/f_r_separate/DBG_029012_R1_f_r_separate_primers_trimmed.fastq /Users/jessie/Dropbox/jessie/russula_illumina/Russula_BC/DBG_029012_R1.fastq\n",
      "\n",
      "cutadapt -g GTGARTCATCGAATCTTTG -a GCATATCAATAAGCGGAGGA                 -m 200 --info-file 1_remove_primers/f_r_separate/DBG_029153_forward_reads_f_r_separate_cutadapt_info_file.txt -o 1_remove_primers/f_r_separate/DBG_029153_R1_f_r_separate_primers_trimmed.fastq /Users/jessie/Dropbox/jessie/russula_illumina/Russula_BC/DBG_029153_R1.fastq\n",
      "\n",
      "cutadapt -g GTGARTCATCGAATCTTTG -a GCATATCAATAAGCGGAGGA                 -m 200 --info-file 1_remove_primers/f_r_separate/DBG_029512_forward_reads_f_r_separate_cutadapt_info_file.txt -o 1_remove_primers/f_r_separate/DBG_029512_R1_f_r_separate_primers_trimmed.fastq /Users/jessie/Dropbox/jessie/russula_illumina/Russula_BC/DBG_029512_R1.fastq\n",
      "\n",
      "cutadapt -g GTGARTCATCGAATCTTTG -a GCATATCAATAAGCGGAGGA                 -m 200 --info-file 1_remove_primers/f_r_separate/DBG_029516_forward_reads_f_r_separate_cutadapt_info_file.txt -o 1_remove_primers/f_r_separate/DBG_029516_R1_f_r_separate_primers_trimmed.fastq /Users/jessie/Dropbox/jessie/russula_illumina/Russula_BC/DBG_029516_R1.fastq\n",
      "\n",
      "cutadapt -g GTGARTCATCGAATCTTTG -a GCATATCAATAAGCGGAGGA                 -m 200 --info-file 1_remove_primers/f_r_separate/DBG_029525_forward_reads_f_r_separate_cutadapt_info_file.txt -o 1_remove_primers/f_r_separate/DBG_029525_R1_f_r_separate_primers_trimmed.fastq /Users/jessie/Dropbox/jessie/russula_illumina/Russula_BC/DBG_029525_R1.fastq\n",
      "\n",
      "cutadapt -g GTGARTCATCGAATCTTTG -a GCATATCAATAAGCGGAGGA                 -m 200 --info-file 1_remove_primers/f_r_separate/DBG_029551_forward_reads_f_r_separate_cutadapt_info_file.txt -o 1_remove_primers/f_r_separate/DBG_029551_R1_f_r_separate_primers_trimmed.fastq /Users/jessie/Dropbox/jessie/russula_illumina/Russula_BC/DBG_029551_R1.fastq\n",
      "\n",
      "cutadapt -g GTGARTCATCGAATCTTTG -a GCATATCAATAAGCGGAGGA                 -m 200 --info-file 1_remove_primers/f_r_separate/DBG_029586_forward_reads_f_r_separate_cutadapt_info_file.txt -o 1_remove_primers/f_r_separate/DBG_029586_R1_f_r_separate_primers_trimmed.fastq /Users/jessie/Dropbox/jessie/russula_illumina/Russula_BC/DBG_029586_R1.fastq\n",
      "\n",
      "cutadapt -g GTGARTCATCGAATCTTTG -a GCATATCAATAAGCGGAGGA                 -m 200 --info-file 1_remove_primers/f_r_separate/DBG_029589_forward_reads_f_r_separate_cutadapt_info_file.txt -o 1_remove_primers/f_r_separate/DBG_029589_R1_f_r_separate_primers_trimmed.fastq /Users/jessie/Dropbox/jessie/russula_illumina/Russula_BC/DBG_029589_R1.fastq\n",
      "\n",
      "cutadapt -g GTGARTCATCGAATCTTTG -a GCATATCAATAAGCGGAGGA                 -m 200 --info-file 1_remove_primers/f_r_separate/DBG_029645_forward_reads_f_r_separate_cutadapt_info_file.txt -o 1_remove_primers/f_r_separate/DBG_029645_R1_f_r_separate_primers_trimmed.fastq /Users/jessie/Dropbox/jessie/russula_illumina/Russula_BC/DBG_029645_R1.fastq\n",
      "\n",
      "cutadapt -g GTGARTCATCGAATCTTTG -a GCATATCAATAAGCGGAGGA                 -m 200 --info-file 1_remove_primers/f_r_separate/DBG_029648_forward_reads_f_r_separate_cutadapt_info_file.txt -o 1_remove_primers/f_r_separate/DBG_029648_R1_f_r_separate_primers_trimmed.fastq /Users/jessie/Dropbox/jessie/russula_illumina/Russula_BC/DBG_029648_R1.fastq\n",
      "\n",
      "cutadapt -g GTGARTCATCGAATCTTTG -a GCATATCAATAAGCGGAGGA                 -m 200 --info-file 1_remove_primers/f_r_separate/DBG_029738_forward_reads_f_r_separate_cutadapt_info_file.txt -o 1_remove_primers/f_r_separate/DBG_029738_R1_f_r_separate_primers_trimmed.fastq /Users/jessie/Dropbox/jessie/russula_illumina/Russula_BC/DBG_029738_R1.fastq\n",
      "\n",
      "cutadapt -g GTGARTCATCGAATCTTTG -a GCATATCAATAAGCGGAGGA                 -m 200 --info-file 1_remove_primers/f_r_separate/DBG_029739_forward_reads_f_r_separate_cutadapt_info_file.txt -o 1_remove_primers/f_r_separate/DBG_029739_R1_f_r_separate_primers_trimmed.fastq /Users/jessie/Dropbox/jessie/russula_illumina/Russula_BC/DBG_029739_R1.fastq\n",
      "\n",
      "cutadapt -g GTGARTCATCGAATCTTTG -a GCATATCAATAAGCGGAGGA                 -m 200 --info-file 1_remove_primers/f_r_separate/DBG_029832_forward_reads_f_r_separate_cutadapt_info_file.txt -o 1_remove_primers/f_r_separate/DBG_029832_R1_f_r_separate_primers_trimmed.fastq /Users/jessie/Dropbox/jessie/russula_illumina/Russula_BC/DBG_029832_R1.fastq\n",
      "\n",
      "cutadapt -g GTGARTCATCGAATCTTTG -a GCATATCAATAAGCGGAGGA                 -m 200 --info-file 1_remove_primers/f_r_separate/DBG_029847_forward_reads_f_r_separate_cutadapt_info_file.txt -o 1_remove_primers/f_r_separate/DBG_029847_R1_f_r_separate_primers_trimmed.fastq /Users/jessie/Dropbox/jessie/russula_illumina/Russula_BC/DBG_029847_R1.fastq\n",
      "\n",
      "cutadapt -g GTGARTCATCGAATCTTTG -a GCATATCAATAAGCGGAGGA                 -m 200 --info-file 1_remove_primers/f_r_separate/DBG_029865_forward_reads_f_r_separate_cutadapt_info_file.txt -o 1_remove_primers/f_r_separate/DBG_029865_R1_f_r_separate_primers_trimmed.fastq /Users/jessie/Dropbox/jessie/russula_illumina/Russula_BC/DBG_029865_R1.fastq\n",
      "\n",
      "cutadapt -g GTGARTCATCGAATCTTTG -a GCATATCAATAAGCGGAGGA                 -m 200 --info-file 1_remove_primers/f_r_separate/DBG_030181_forward_reads_f_r_separate_cutadapt_info_file.txt -o 1_remove_primers/f_r_separate/DBG_030181_R1_f_r_separate_primers_trimmed.fastq /Users/jessie/Dropbox/jessie/russula_illumina/Russula_BC/DBG_030181_R1.fastq\n",
      "\n",
      "cutadapt -g GTGARTCATCGAATCTTTG -a GCATATCAATAAGCGGAGGA                 -m 200 --info-file 1_remove_primers/f_r_separate/DBG_030184_forward_reads_f_r_separate_cutadapt_info_file.txt -o 1_remove_primers/f_r_separate/DBG_030184_R1_f_r_separate_primers_trimmed.fastq /Users/jessie/Dropbox/jessie/russula_illumina/Russula_BC/DBG_030184_R1.fastq\n",
      "\n",
      "cutadapt -g GTGARTCATCGAATCTTTG -a GCATATCAATAAGCGGAGGA                 -m 200 --info-file 1_remove_primers/f_r_separate/DBG_030200_forward_reads_f_r_separate_cutadapt_info_file.txt -o 1_remove_primers/f_r_separate/DBG_030200_R1_f_r_separate_primers_trimmed.fastq /Users/jessie/Dropbox/jessie/russula_illumina/Russula_BC/DBG_030200_R1.fastq\n",
      "\n",
      "cutadapt -g GTGARTCATCGAATCTTTG -a GCATATCAATAAGCGGAGGA                 -m 200 --info-file 1_remove_primers/f_r_separate/DBG_030203_forward_reads_f_r_separate_cutadapt_info_file.txt -o 1_remove_primers/f_r_separate/DBG_030203_R1_f_r_separate_primers_trimmed.fastq /Users/jessie/Dropbox/jessie/russula_illumina/Russula_BC/DBG_030203_R1.fastq\n",
      "\n",
      "cutadapt -g GTGARTCATCGAATCTTTG -a GCATATCAATAAGCGGAGGA                 -m 200 --info-file 1_remove_primers/f_r_separate/DBG_030205_forward_reads_f_r_separate_cutadapt_info_file.txt -o 1_remove_primers/f_r_separate/DBG_030205_R1_f_r_separate_primers_trimmed.fastq /Users/jessie/Dropbox/jessie/russula_illumina/Russula_BC/DBG_030205_R1.fastq\n",
      "\n",
      "cutadapt -g GTGARTCATCGAATCTTTG -a GCATATCAATAAGCGGAGGA                 -m 200 --info-file 1_remove_primers/f_r_separate/DBG_030243_forward_reads_f_r_separate_cutadapt_info_file.txt -o 1_remove_primers/f_r_separate/DBG_030243_R1_f_r_separate_primers_trimmed.fastq /Users/jessie/Dropbox/jessie/russula_illumina/Russula_BC/DBG_030243_R1.fastq\n",
      "\n",
      "cutadapt -g GTGARTCATCGAATCTTTG -a GCATATCAATAAGCGGAGGA                 -m 200 --info-file 1_remove_primers/f_r_separate/DBG_030258_forward_reads_f_r_separate_cutadapt_info_file.txt -o 1_remove_primers/f_r_separate/DBG_030258_R1_f_r_separate_primers_trimmed.fastq /Users/jessie/Dropbox/jessie/russula_illumina/Russula_BC/DBG_030258_R1.fastq\n",
      "\n",
      "cutadapt -g GTGARTCATCGAATCTTTG -a GCATATCAATAAGCGGAGGA                 -m 200 --info-file 1_remove_primers/f_r_separate/DBG_030330_forward_reads_f_r_separate_cutadapt_info_file.txt -o 1_remove_primers/f_r_separate/DBG_030330_R1_f_r_separate_primers_trimmed.fastq /Users/jessie/Dropbox/jessie/russula_illumina/Russula_BC/DBG_030330_R1.fastq\n",
      "\n",
      "cutadapt -g GTGARTCATCGAATCTTTG -a GCATATCAATAAGCGGAGGA                 -m 200 --info-file 1_remove_primers/f_r_separate/DBG_030353_forward_reads_f_r_separate_cutadapt_info_file.txt -o 1_remove_primers/f_r_separate/DBG_030353_R1_f_r_separate_primers_trimmed.fastq /Users/jessie/Dropbox/jessie/russula_illumina/Russula_BC/DBG_030353_R1.fastq\n",
      "\n",
      "cutadapt -g GTGARTCATCGAATCTTTG -a GCATATCAATAAGCGGAGGA                 -m 200 --info-file 1_remove_primers/f_r_separate/DBG_030385_forward_reads_f_r_separate_cutadapt_info_file.txt -o 1_remove_primers/f_r_separate/DBG_030385_R1_f_r_separate_primers_trimmed.fastq /Users/jessie/Dropbox/jessie/russula_illumina/Russula_BC/DBG_030385_R1.fastq\n",
      "\n",
      "cutadapt -g GTGARTCATCGAATCTTTG -a GCATATCAATAAGCGGAGGA                 -m 200 --info-file 1_remove_primers/f_r_separate/DBG_030434_forward_reads_f_r_separate_cutadapt_info_file.txt -o 1_remove_primers/f_r_separate/DBG_030434_R1_f_r_separate_primers_trimmed.fastq /Users/jessie/Dropbox/jessie/russula_illumina/Russula_BC/DBG_030434_R1.fastq\n",
      "\n",
      "cutadapt -g GTGARTCATCGAATCTTTG -a GCATATCAATAAGCGGAGGA                 -m 200 --info-file 1_remove_primers/f_r_separate/DBG_030440_forward_reads_f_r_separate_cutadapt_info_file.txt -o 1_remove_primers/f_r_separate/DBG_030440_R1_f_r_separate_primers_trimmed.fastq /Users/jessie/Dropbox/jessie/russula_illumina/Russula_BC/DBG_030440_R1.fastq\n",
      "\n",
      "cutadapt -g GTGARTCATCGAATCTTTG -a GCATATCAATAAGCGGAGGA                 -m 200 --info-file 1_remove_primers/f_r_separate/DBG_030462_forward_reads_f_r_separate_cutadapt_info_file.txt -o 1_remove_primers/f_r_separate/DBG_030462_R1_f_r_separate_primers_trimmed.fastq /Users/jessie/Dropbox/jessie/russula_illumina/Russula_BC/DBG_030462_R1.fastq\n",
      "\n",
      "cutadapt -g TCCTCCGCTTATTGATATGC -a CAAAGATTCGATGAYTCAC         -m 200 --info-file 1_remove_primers/f_r_separate/DBG_030462_reverse_reads_f_r_separate_cutadapt_info_file.txt -o 1_remove_primers/f_r_separate/DBG_016111_R2_f_r_separate_primers_trimmed.fastq /Users/jessie/Dropbox/jessie/russula_illumina/Russula_BC/DBG_016111_R2.fastq\n",
      "\n",
      "cutadapt -g TCCTCCGCTTATTGATATGC -a CAAAGATTCGATGAYTCAC         -m 200 --info-file 1_remove_primers/f_r_separate/DBG_030462_reverse_reads_f_r_separate_cutadapt_info_file.txt -o 1_remove_primers/f_r_separate/DBG_016192_R2_f_r_separate_primers_trimmed.fastq /Users/jessie/Dropbox/jessie/russula_illumina/Russula_BC/DBG_016192_R2.fastq\n",
      "\n",
      "cutadapt -g TCCTCCGCTTATTGATATGC -a CAAAGATTCGATGAYTCAC         -m 200 --info-file 1_remove_primers/f_r_separate/DBG_030462_reverse_reads_f_r_separate_cutadapt_info_file.txt -o 1_remove_primers/f_r_separate/DBG_016193_R2_f_r_separate_primers_trimmed.fastq /Users/jessie/Dropbox/jessie/russula_illumina/Russula_BC/DBG_016193_R2.fastq\n",
      "\n",
      "cutadapt -g TCCTCCGCTTATTGATATGC -a CAAAGATTCGATGAYTCAC         -m 200 --info-file 1_remove_primers/f_r_separate/DBG_030462_reverse_reads_f_r_separate_cutadapt_info_file.txt -o 1_remove_primers/f_r_separate/DBG_016195_R2_f_r_separate_primers_trimmed.fastq /Users/jessie/Dropbox/jessie/russula_illumina/Russula_BC/DBG_016195_R2.fastq\n",
      "\n",
      "cutadapt -g TCCTCCGCTTATTGATATGC -a CAAAGATTCGATGAYTCAC         -m 200 --info-file 1_remove_primers/f_r_separate/DBG_030462_reverse_reads_f_r_separate_cutadapt_info_file.txt -o 1_remove_primers/f_r_separate/DBG_016196_R2_f_r_separate_primers_trimmed.fastq /Users/jessie/Dropbox/jessie/russula_illumina/Russula_BC/DBG_016196_R2.fastq\n",
      "\n",
      "cutadapt -g TCCTCCGCTTATTGATATGC -a CAAAGATTCGATGAYTCAC         -m 200 --info-file 1_remove_primers/f_r_separate/DBG_030462_reverse_reads_f_r_separate_cutadapt_info_file.txt -o 1_remove_primers/f_r_separate/DBG_016197_R2_f_r_separate_primers_trimmed.fastq /Users/jessie/Dropbox/jessie/russula_illumina/Russula_BC/DBG_016197_R2.fastq\n",
      "\n",
      "cutadapt -g TCCTCCGCTTATTGATATGC -a CAAAGATTCGATGAYTCAC         -m 200 --info-file 1_remove_primers/f_r_separate/DBG_030462_reverse_reads_f_r_separate_cutadapt_info_file.txt -o 1_remove_primers/f_r_separate/DBG_016199_R2_f_r_separate_primers_trimmed.fastq /Users/jessie/Dropbox/jessie/russula_illumina/Russula_BC/DBG_016199_R2.fastq\n",
      "\n",
      "cutadapt -g TCCTCCGCTTATTGATATGC -a CAAAGATTCGATGAYTCAC         -m 200 --info-file 1_remove_primers/f_r_separate/DBG_030462_reverse_reads_f_r_separate_cutadapt_info_file.txt -o 1_remove_primers/f_r_separate/DBG_016212_R2_f_r_separate_primers_trimmed.fastq /Users/jessie/Dropbox/jessie/russula_illumina/Russula_BC/DBG_016212_R2.fastq\n",
      "\n",
      "cutadapt -g TCCTCCGCTTATTGATATGC -a CAAAGATTCGATGAYTCAC         -m 200 --info-file 1_remove_primers/f_r_separate/DBG_030462_reverse_reads_f_r_separate_cutadapt_info_file.txt -o 1_remove_primers/f_r_separate/DBG_016266_R2_f_r_separate_primers_trimmed.fastq /Users/jessie/Dropbox/jessie/russula_illumina/Russula_BC/DBG_016266_R2.fastq\n",
      "\n",
      "cutadapt -g TCCTCCGCTTATTGATATGC -a CAAAGATTCGATGAYTCAC         -m 200 --info-file 1_remove_primers/f_r_separate/DBG_030462_reverse_reads_f_r_separate_cutadapt_info_file.txt -o 1_remove_primers/f_r_separate/DBG_016268_R2_f_r_separate_primers_trimmed.fastq /Users/jessie/Dropbox/jessie/russula_illumina/Russula_BC/DBG_016268_R2.fastq\n",
      "\n",
      "cutadapt -g TCCTCCGCTTATTGATATGC -a CAAAGATTCGATGAYTCAC         -m 200 --info-file 1_remove_primers/f_r_separate/DBG_030462_reverse_reads_f_r_separate_cutadapt_info_file.txt -o 1_remove_primers/f_r_separate/DBG_016306_R2_f_r_separate_primers_trimmed.fastq /Users/jessie/Dropbox/jessie/russula_illumina/Russula_BC/DBG_016306_R2.fastq\n",
      "\n",
      "cutadapt -g TCCTCCGCTTATTGATATGC -a CAAAGATTCGATGAYTCAC         -m 200 --info-file 1_remove_primers/f_r_separate/DBG_030462_reverse_reads_f_r_separate_cutadapt_info_file.txt -o 1_remove_primers/f_r_separate/DBG_016951_R2_f_r_separate_primers_trimmed.fastq /Users/jessie/Dropbox/jessie/russula_illumina/Russula_BC/DBG_016951_R2.fastq\n",
      "\n",
      "cutadapt -g TCCTCCGCTTATTGATATGC -a CAAAGATTCGATGAYTCAC         -m 200 --info-file 1_remove_primers/f_r_separate/DBG_030462_reverse_reads_f_r_separate_cutadapt_info_file.txt -o 1_remove_primers/f_r_separate/DBG_017014_R2_f_r_separate_primers_trimmed.fastq /Users/jessie/Dropbox/jessie/russula_illumina/Russula_BC/DBG_017014_R2.fastq\n",
      "\n",
      "cutadapt -g TCCTCCGCTTATTGATATGC -a CAAAGATTCGATGAYTCAC         -m 200 --info-file 1_remove_primers/f_r_separate/DBG_030462_reverse_reads_f_r_separate_cutadapt_info_file.txt -o 1_remove_primers/f_r_separate/DBG_017202_R2_f_r_separate_primers_trimmed.fastq /Users/jessie/Dropbox/jessie/russula_illumina/Russula_BC/DBG_017202_R2.fastq\n",
      "\n",
      "cutadapt -g TCCTCCGCTTATTGATATGC -a CAAAGATTCGATGAYTCAC         -m 200 --info-file 1_remove_primers/f_r_separate/DBG_030462_reverse_reads_f_r_separate_cutadapt_info_file.txt -o 1_remove_primers/f_r_separate/DBG_017337_R2_f_r_separate_primers_trimmed.fastq /Users/jessie/Dropbox/jessie/russula_illumina/Russula_BC/DBG_017337_R2.fastq\n",
      "\n",
      "cutadapt -g TCCTCCGCTTATTGATATGC -a CAAAGATTCGATGAYTCAC         -m 200 --info-file 1_remove_primers/f_r_separate/DBG_030462_reverse_reads_f_r_separate_cutadapt_info_file.txt -o 1_remove_primers/f_r_separate/DBG_017457_R2_f_r_separate_primers_trimmed.fastq /Users/jessie/Dropbox/jessie/russula_illumina/Russula_BC/DBG_017457_R2.fastq\n",
      "\n",
      "cutadapt -g TCCTCCGCTTATTGATATGC -a CAAAGATTCGATGAYTCAC         -m 200 --info-file 1_remove_primers/f_r_separate/DBG_030462_reverse_reads_f_r_separate_cutadapt_info_file.txt -o 1_remove_primers/f_r_separate/DBG_017482_R2_f_r_separate_primers_trimmed.fastq /Users/jessie/Dropbox/jessie/russula_illumina/Russula_BC/DBG_017482_R2.fastq\n",
      "\n",
      "cutadapt -g TCCTCCGCTTATTGATATGC -a CAAAGATTCGATGAYTCAC         -m 200 --info-file 1_remove_primers/f_r_separate/DBG_030462_reverse_reads_f_r_separate_cutadapt_info_file.txt -o 1_remove_primers/f_r_separate/DBG_018320_R2_f_r_separate_primers_trimmed.fastq /Users/jessie/Dropbox/jessie/russula_illumina/Russula_BC/DBG_018320_R2.fastq\n",
      "\n",
      "cutadapt -g TCCTCCGCTTATTGATATGC -a CAAAGATTCGATGAYTCAC         -m 200 --info-file 1_remove_primers/f_r_separate/DBG_030462_reverse_reads_f_r_separate_cutadapt_info_file.txt -o 1_remove_primers/f_r_separate/DBG_018630_R2_f_r_separate_primers_trimmed.fastq /Users/jessie/Dropbox/jessie/russula_illumina/Russula_BC/DBG_018630_R2.fastq\n",
      "\n",
      "cutadapt -g TCCTCCGCTTATTGATATGC -a CAAAGATTCGATGAYTCAC         -m 200 --info-file 1_remove_primers/f_r_separate/DBG_030462_reverse_reads_f_r_separate_cutadapt_info_file.txt -o 1_remove_primers/f_r_separate/DBG_018718_R2_f_r_separate_primers_trimmed.fastq /Users/jessie/Dropbox/jessie/russula_illumina/Russula_BC/DBG_018718_R2.fastq\n",
      "\n",
      "cutadapt -g TCCTCCGCTTATTGATATGC -a CAAAGATTCGATGAYTCAC         -m 200 --info-file 1_remove_primers/f_r_separate/DBG_030462_reverse_reads_f_r_separate_cutadapt_info_file.txt -o 1_remove_primers/f_r_separate/DBG_018809_R2_f_r_separate_primers_trimmed.fastq /Users/jessie/Dropbox/jessie/russula_illumina/Russula_BC/DBG_018809_R2.fastq\n",
      "\n",
      "cutadapt -g TCCTCCGCTTATTGATATGC -a CAAAGATTCGATGAYTCAC         -m 200 --info-file 1_remove_primers/f_r_separate/DBG_030462_reverse_reads_f_r_separate_cutadapt_info_file.txt -o 1_remove_primers/f_r_separate/DBG_018964_R2_f_r_separate_primers_trimmed.fastq /Users/jessie/Dropbox/jessie/russula_illumina/Russula_BC/DBG_018964_R2.fastq\n",
      "\n",
      "cutadapt -g TCCTCCGCTTATTGATATGC -a CAAAGATTCGATGAYTCAC         -m 200 --info-file 1_remove_primers/f_r_separate/DBG_030462_reverse_reads_f_r_separate_cutadapt_info_file.txt -o 1_remove_primers/f_r_separate/DBG_018974_R2_f_r_separate_primers_trimmed.fastq /Users/jessie/Dropbox/jessie/russula_illumina/Russula_BC/DBG_018974_R2.fastq\n",
      "\n",
      "cutadapt -g TCCTCCGCTTATTGATATGC -a CAAAGATTCGATGAYTCAC         -m 200 --info-file 1_remove_primers/f_r_separate/DBG_030462_reverse_reads_f_r_separate_cutadapt_info_file.txt -o 1_remove_primers/f_r_separate/DBG_019005_R2_f_r_separate_primers_trimmed.fastq /Users/jessie/Dropbox/jessie/russula_illumina/Russula_BC/DBG_019005_R2.fastq\n",
      "\n",
      "cutadapt -g TCCTCCGCTTATTGATATGC -a CAAAGATTCGATGAYTCAC         -m 200 --info-file 1_remove_primers/f_r_separate/DBG_030462_reverse_reads_f_r_separate_cutadapt_info_file.txt -o 1_remove_primers/f_r_separate/DBG_019598_R2_f_r_separate_primers_trimmed.fastq /Users/jessie/Dropbox/jessie/russula_illumina/Russula_BC/DBG_019598_R2.fastq\n",
      "\n",
      "cutadapt -g TCCTCCGCTTATTGATATGC -a CAAAGATTCGATGAYTCAC         -m 200 --info-file 1_remove_primers/f_r_separate/DBG_030462_reverse_reads_f_r_separate_cutadapt_info_file.txt -o 1_remove_primers/f_r_separate/DBG_020319_R2_f_r_separate_primers_trimmed.fastq /Users/jessie/Dropbox/jessie/russula_illumina/Russula_BC/DBG_020319_R2.fastq\n",
      "\n",
      "cutadapt -g TCCTCCGCTTATTGATATGC -a CAAAGATTCGATGAYTCAC         -m 200 --info-file 1_remove_primers/f_r_separate/DBG_030462_reverse_reads_f_r_separate_cutadapt_info_file.txt -o 1_remove_primers/f_r_separate/DBG_020348_R2_f_r_separate_primers_trimmed.fastq /Users/jessie/Dropbox/jessie/russula_illumina/Russula_BC/DBG_020348_R2.fastq\n",
      "\n",
      "cutadapt -g TCCTCCGCTTATTGATATGC -a CAAAGATTCGATGAYTCAC         -m 200 --info-file 1_remove_primers/f_r_separate/DBG_030462_reverse_reads_f_r_separate_cutadapt_info_file.txt -o 1_remove_primers/f_r_separate/DBG_020374_R2_f_r_separate_primers_trimmed.fastq /Users/jessie/Dropbox/jessie/russula_illumina/Russula_BC/DBG_020374_R2.fastq\n",
      "\n",
      "cutadapt -g TCCTCCGCTTATTGATATGC -a CAAAGATTCGATGAYTCAC         -m 200 --info-file 1_remove_primers/f_r_separate/DBG_030462_reverse_reads_f_r_separate_cutadapt_info_file.txt -o 1_remove_primers/f_r_separate/DBG_020577_R2_f_r_separate_primers_trimmed.fastq /Users/jessie/Dropbox/jessie/russula_illumina/Russula_BC/DBG_020577_R2.fastq\n",
      "\n",
      "cutadapt -g TCCTCCGCTTATTGATATGC -a CAAAGATTCGATGAYTCAC         -m 200 --info-file 1_remove_primers/f_r_separate/DBG_030462_reverse_reads_f_r_separate_cutadapt_info_file.txt -o 1_remove_primers/f_r_separate/DBG_020593_R2_f_r_separate_primers_trimmed.fastq /Users/jessie/Dropbox/jessie/russula_illumina/Russula_BC/DBG_020593_R2.fastq\n",
      "\n",
      "cutadapt -g TCCTCCGCTTATTGATATGC -a CAAAGATTCGATGAYTCAC         -m 200 --info-file 1_remove_primers/f_r_separate/DBG_030462_reverse_reads_f_r_separate_cutadapt_info_file.txt -o 1_remove_primers/f_r_separate/DBG_020673_R2_f_r_separate_primers_trimmed.fastq /Users/jessie/Dropbox/jessie/russula_illumina/Russula_BC/DBG_020673_R2.fastq\n",
      "\n",
      "cutadapt -g TCCTCCGCTTATTGATATGC -a CAAAGATTCGATGAYTCAC         -m 200 --info-file 1_remove_primers/f_r_separate/DBG_030462_reverse_reads_f_r_separate_cutadapt_info_file.txt -o 1_remove_primers/f_r_separate/DBG_020674_R2_f_r_separate_primers_trimmed.fastq /Users/jessie/Dropbox/jessie/russula_illumina/Russula_BC/DBG_020674_R2.fastq\n",
      "\n",
      "cutadapt -g TCCTCCGCTTATTGATATGC -a CAAAGATTCGATGAYTCAC         -m 200 --info-file 1_remove_primers/f_r_separate/DBG_030462_reverse_reads_f_r_separate_cutadapt_info_file.txt -o 1_remove_primers/f_r_separate/DBG_020675_R2_f_r_separate_primers_trimmed.fastq /Users/jessie/Dropbox/jessie/russula_illumina/Russula_BC/DBG_020675_R2.fastq\n",
      "\n",
      "cutadapt -g TCCTCCGCTTATTGATATGC -a CAAAGATTCGATGAYTCAC         -m 200 --info-file 1_remove_primers/f_r_separate/DBG_030462_reverse_reads_f_r_separate_cutadapt_info_file.txt -o 1_remove_primers/f_r_separate/DBG_020676_R2_f_r_separate_primers_trimmed.fastq /Users/jessie/Dropbox/jessie/russula_illumina/Russula_BC/DBG_020676_R2.fastq\n",
      "\n",
      "cutadapt -g TCCTCCGCTTATTGATATGC -a CAAAGATTCGATGAYTCAC         -m 200 --info-file 1_remove_primers/f_r_separate/DBG_030462_reverse_reads_f_r_separate_cutadapt_info_file.txt -o 1_remove_primers/f_r_separate/DBG_020679_R2_f_r_separate_primers_trimmed.fastq /Users/jessie/Dropbox/jessie/russula_illumina/Russula_BC/DBG_020679_R2.fastq\n",
      "\n",
      "cutadapt -g TCCTCCGCTTATTGATATGC -a CAAAGATTCGATGAYTCAC         -m 200 --info-file 1_remove_primers/f_r_separate/DBG_030462_reverse_reads_f_r_separate_cutadapt_info_file.txt -o 1_remove_primers/f_r_separate/DBG_020759_R2_f_r_separate_primers_trimmed.fastq /Users/jessie/Dropbox/jessie/russula_illumina/Russula_BC/DBG_020759_R2.fastq\n",
      "\n",
      "cutadapt -g TCCTCCGCTTATTGATATGC -a CAAAGATTCGATGAYTCAC         -m 200 --info-file 1_remove_primers/f_r_separate/DBG_030462_reverse_reads_f_r_separate_cutadapt_info_file.txt -o 1_remove_primers/f_r_separate/DBG_020760_R2_f_r_separate_primers_trimmed.fastq /Users/jessie/Dropbox/jessie/russula_illumina/Russula_BC/DBG_020760_R2.fastq\n",
      "\n",
      "cutadapt -g TCCTCCGCTTATTGATATGC -a CAAAGATTCGATGAYTCAC         -m 200 --info-file 1_remove_primers/f_r_separate/DBG_030462_reverse_reads_f_r_separate_cutadapt_info_file.txt -o 1_remove_primers/f_r_separate/DBG_020761_R2_f_r_separate_primers_trimmed.fastq /Users/jessie/Dropbox/jessie/russula_illumina/Russula_BC/DBG_020761_R2.fastq\n",
      "\n",
      "cutadapt -g TCCTCCGCTTATTGATATGC -a CAAAGATTCGATGAYTCAC         -m 200 --info-file 1_remove_primers/f_r_separate/DBG_030462_reverse_reads_f_r_separate_cutadapt_info_file.txt -o 1_remove_primers/f_r_separate/DBG_021094_R2_f_r_separate_primers_trimmed.fastq /Users/jessie/Dropbox/jessie/russula_illumina/Russula_BC/DBG_021094_R2.fastq\n",
      "\n",
      "cutadapt -g TCCTCCGCTTATTGATATGC -a CAAAGATTCGATGAYTCAC         -m 200 --info-file 1_remove_primers/f_r_separate/DBG_030462_reverse_reads_f_r_separate_cutadapt_info_file.txt -o 1_remove_primers/f_r_separate/DBG_021206_R2_f_r_separate_primers_trimmed.fastq /Users/jessie/Dropbox/jessie/russula_illumina/Russula_BC/DBG_021206_R2.fastq\n",
      "\n",
      "cutadapt -g TCCTCCGCTTATTGATATGC -a CAAAGATTCGATGAYTCAC         -m 200 --info-file 1_remove_primers/f_r_separate/DBG_030462_reverse_reads_f_r_separate_cutadapt_info_file.txt -o 1_remove_primers/f_r_separate/DBG_021357_R2_f_r_separate_primers_trimmed.fastq /Users/jessie/Dropbox/jessie/russula_illumina/Russula_BC/DBG_021357_R2.fastq\n",
      "\n",
      "cutadapt -g TCCTCCGCTTATTGATATGC -a CAAAGATTCGATGAYTCAC         -m 200 --info-file 1_remove_primers/f_r_separate/DBG_030462_reverse_reads_f_r_separate_cutadapt_info_file.txt -o 1_remove_primers/f_r_separate/DBG_021518_R2_f_r_separate_primers_trimmed.fastq /Users/jessie/Dropbox/jessie/russula_illumina/Russula_BC/DBG_021518_R2.fastq\n",
      "\n",
      "cutadapt -g TCCTCCGCTTATTGATATGC -a CAAAGATTCGATGAYTCAC         -m 200 --info-file 1_remove_primers/f_r_separate/DBG_030462_reverse_reads_f_r_separate_cutadapt_info_file.txt -o 1_remove_primers/f_r_separate/DBG_021526_R2_f_r_separate_primers_trimmed.fastq /Users/jessie/Dropbox/jessie/russula_illumina/Russula_BC/DBG_021526_R2.fastq\n",
      "\n",
      "cutadapt -g TCCTCCGCTTATTGATATGC -a CAAAGATTCGATGAYTCAC         -m 200 --info-file 1_remove_primers/f_r_separate/DBG_030462_reverse_reads_f_r_separate_cutadapt_info_file.txt -o 1_remove_primers/f_r_separate/DBG_021837_R2_f_r_separate_primers_trimmed.fastq /Users/jessie/Dropbox/jessie/russula_illumina/Russula_BC/DBG_021837_R2.fastq\n",
      "\n",
      "cutadapt -g TCCTCCGCTTATTGATATGC -a CAAAGATTCGATGAYTCAC         -m 200 --info-file 1_remove_primers/f_r_separate/DBG_030462_reverse_reads_f_r_separate_cutadapt_info_file.txt -o 1_remove_primers/f_r_separate/DBG_021848_R2_f_r_separate_primers_trimmed.fastq /Users/jessie/Dropbox/jessie/russula_illumina/Russula_BC/DBG_021848_R2.fastq\n",
      "\n",
      "cutadapt -g TCCTCCGCTTATTGATATGC -a CAAAGATTCGATGAYTCAC         -m 200 --info-file 1_remove_primers/f_r_separate/DBG_030462_reverse_reads_f_r_separate_cutadapt_info_file.txt -o 1_remove_primers/f_r_separate/DBG_021913_R2_f_r_separate_primers_trimmed.fastq /Users/jessie/Dropbox/jessie/russula_illumina/Russula_BC/DBG_021913_R2.fastq\n",
      "\n",
      "cutadapt -g TCCTCCGCTTATTGATATGC -a CAAAGATTCGATGAYTCAC         -m 200 --info-file 1_remove_primers/f_r_separate/DBG_030462_reverse_reads_f_r_separate_cutadapt_info_file.txt -o 1_remove_primers/f_r_separate/DBG_021916_R2_f_r_separate_primers_trimmed.fastq /Users/jessie/Dropbox/jessie/russula_illumina/Russula_BC/DBG_021916_R2.fastq\n",
      "\n",
      "cutadapt -g TCCTCCGCTTATTGATATGC -a CAAAGATTCGATGAYTCAC         -m 200 --info-file 1_remove_primers/f_r_separate/DBG_030462_reverse_reads_f_r_separate_cutadapt_info_file.txt -o 1_remove_primers/f_r_separate/DBG_022010_R2_f_r_separate_primers_trimmed.fastq /Users/jessie/Dropbox/jessie/russula_illumina/Russula_BC/DBG_022010_R2.fastq\n",
      "\n",
      "cutadapt -g TCCTCCGCTTATTGATATGC -a CAAAGATTCGATGAYTCAC         -m 200 --info-file 1_remove_primers/f_r_separate/DBG_030462_reverse_reads_f_r_separate_cutadapt_info_file.txt -o 1_remove_primers/f_r_separate/DBG_022052_R2_f_r_separate_primers_trimmed.fastq /Users/jessie/Dropbox/jessie/russula_illumina/Russula_BC/DBG_022052_R2.fastq\n",
      "\n",
      "cutadapt -g TCCTCCGCTTATTGATATGC -a CAAAGATTCGATGAYTCAC         -m 200 --info-file 1_remove_primers/f_r_separate/DBG_030462_reverse_reads_f_r_separate_cutadapt_info_file.txt -o 1_remove_primers/f_r_separate/DBG_022059_R2_f_r_separate_primers_trimmed.fastq /Users/jessie/Dropbox/jessie/russula_illumina/Russula_BC/DBG_022059_R2.fastq\n",
      "\n",
      "cutadapt -g TCCTCCGCTTATTGATATGC -a CAAAGATTCGATGAYTCAC         -m 200 --info-file 1_remove_primers/f_r_separate/DBG_030462_reverse_reads_f_r_separate_cutadapt_info_file.txt -o 1_remove_primers/f_r_separate/DBG_022089_R2_f_r_separate_primers_trimmed.fastq /Users/jessie/Dropbox/jessie/russula_illumina/Russula_BC/DBG_022089_R2.fastq\n",
      "\n",
      "cutadapt -g TCCTCCGCTTATTGATATGC -a CAAAGATTCGATGAYTCAC         -m 200 --info-file 1_remove_primers/f_r_separate/DBG_030462_reverse_reads_f_r_separate_cutadapt_info_file.txt -o 1_remove_primers/f_r_separate/DBG_022133_R2_f_r_separate_primers_trimmed.fastq /Users/jessie/Dropbox/jessie/russula_illumina/Russula_BC/DBG_022133_R2.fastq\n",
      "\n",
      "cutadapt -g TCCTCCGCTTATTGATATGC -a CAAAGATTCGATGAYTCAC         -m 200 --info-file 1_remove_primers/f_r_separate/DBG_030462_reverse_reads_f_r_separate_cutadapt_info_file.txt -o 1_remove_primers/f_r_separate/DBG_022161_R2_f_r_separate_primers_trimmed.fastq /Users/jessie/Dropbox/jessie/russula_illumina/Russula_BC/DBG_022161_R2.fastq\n",
      "\n",
      "cutadapt -g TCCTCCGCTTATTGATATGC -a CAAAGATTCGATGAYTCAC         -m 200 --info-file 1_remove_primers/f_r_separate/DBG_030462_reverse_reads_f_r_separate_cutadapt_info_file.txt -o 1_remove_primers/f_r_separate/DBG_022163_R2_f_r_separate_primers_trimmed.fastq /Users/jessie/Dropbox/jessie/russula_illumina/Russula_BC/DBG_022163_R2.fastq\n",
      "\n",
      "cutadapt -g TCCTCCGCTTATTGATATGC -a CAAAGATTCGATGAYTCAC         -m 200 --info-file 1_remove_primers/f_r_separate/DBG_030462_reverse_reads_f_r_separate_cutadapt_info_file.txt -o 1_remove_primers/f_r_separate/DBG_022164_R2_f_r_separate_primers_trimmed.fastq /Users/jessie/Dropbox/jessie/russula_illumina/Russula_BC/DBG_022164_R2.fastq\n",
      "\n",
      "cutadapt -g TCCTCCGCTTATTGATATGC -a CAAAGATTCGATGAYTCAC         -m 200 --info-file 1_remove_primers/f_r_separate/DBG_030462_reverse_reads_f_r_separate_cutadapt_info_file.txt -o 1_remove_primers/f_r_separate/DBG_022210_R2_f_r_separate_primers_trimmed.fastq /Users/jessie/Dropbox/jessie/russula_illumina/Russula_BC/DBG_022210_R2.fastq\n",
      "\n",
      "cutadapt -g TCCTCCGCTTATTGATATGC -a CAAAGATTCGATGAYTCAC         -m 200 --info-file 1_remove_primers/f_r_separate/DBG_030462_reverse_reads_f_r_separate_cutadapt_info_file.txt -o 1_remove_primers/f_r_separate/DBG_022211_R2_f_r_separate_primers_trimmed.fastq /Users/jessie/Dropbox/jessie/russula_illumina/Russula_BC/DBG_022211_R2.fastq\n",
      "\n",
      "cutadapt -g TCCTCCGCTTATTGATATGC -a CAAAGATTCGATGAYTCAC         -m 200 --info-file 1_remove_primers/f_r_separate/DBG_030462_reverse_reads_f_r_separate_cutadapt_info_file.txt -o 1_remove_primers/f_r_separate/DBG_022327_R2_f_r_separate_primers_trimmed.fastq /Users/jessie/Dropbox/jessie/russula_illumina/Russula_BC/DBG_022327_R2.fastq\n",
      "\n",
      "cutadapt -g TCCTCCGCTTATTGATATGC -a CAAAGATTCGATGAYTCAC         -m 200 --info-file 1_remove_primers/f_r_separate/DBG_030462_reverse_reads_f_r_separate_cutadapt_info_file.txt -o 1_remove_primers/f_r_separate/DBG_022439_R2_f_r_separate_primers_trimmed.fastq /Users/jessie/Dropbox/jessie/russula_illumina/Russula_BC/DBG_022439_R2.fastq\n",
      "\n",
      "cutadapt -g TCCTCCGCTTATTGATATGC -a CAAAGATTCGATGAYTCAC         -m 200 --info-file 1_remove_primers/f_r_separate/DBG_030462_reverse_reads_f_r_separate_cutadapt_info_file.txt -o 1_remove_primers/f_r_separate/DBG_022496_R2_f_r_separate_primers_trimmed.fastq /Users/jessie/Dropbox/jessie/russula_illumina/Russula_BC/DBG_022496_R2.fastq\n",
      "\n",
      "cutadapt -g TCCTCCGCTTATTGATATGC -a CAAAGATTCGATGAYTCAC         -m 200 --info-file 1_remove_primers/f_r_separate/DBG_030462_reverse_reads_f_r_separate_cutadapt_info_file.txt -o 1_remove_primers/f_r_separate/DBG_022498_R2_f_r_separate_primers_trimmed.fastq /Users/jessie/Dropbox/jessie/russula_illumina/Russula_BC/DBG_022498_R2.fastq\n",
      "\n",
      "cutadapt -g TCCTCCGCTTATTGATATGC -a CAAAGATTCGATGAYTCAC         -m 200 --info-file 1_remove_primers/f_r_separate/DBG_030462_reverse_reads_f_r_separate_cutadapt_info_file.txt -o 1_remove_primers/f_r_separate/DBG_022501_R2_f_r_separate_primers_trimmed.fastq /Users/jessie/Dropbox/jessie/russula_illumina/Russula_BC/DBG_022501_R2.fastq\n",
      "\n",
      "cutadapt -g TCCTCCGCTTATTGATATGC -a CAAAGATTCGATGAYTCAC         -m 200 --info-file 1_remove_primers/f_r_separate/DBG_030462_reverse_reads_f_r_separate_cutadapt_info_file.txt -o 1_remove_primers/f_r_separate/DBG_022613_R2_f_r_separate_primers_trimmed.fastq /Users/jessie/Dropbox/jessie/russula_illumina/Russula_BC/DBG_022613_R2.fastq\n",
      "\n",
      "cutadapt -g TCCTCCGCTTATTGATATGC -a CAAAGATTCGATGAYTCAC         -m 200 --info-file 1_remove_primers/f_r_separate/DBG_030462_reverse_reads_f_r_separate_cutadapt_info_file.txt -o 1_remove_primers/f_r_separate/DBG_022683_R2_f_r_separate_primers_trimmed.fastq /Users/jessie/Dropbox/jessie/russula_illumina/Russula_BC/DBG_022683_R2.fastq\n",
      "\n",
      "cutadapt -g TCCTCCGCTTATTGATATGC -a CAAAGATTCGATGAYTCAC         -m 200 --info-file 1_remove_primers/f_r_separate/DBG_030462_reverse_reads_f_r_separate_cutadapt_info_file.txt -o 1_remove_primers/f_r_separate/DBG_022699_R2_f_r_separate_primers_trimmed.fastq /Users/jessie/Dropbox/jessie/russula_illumina/Russula_BC/DBG_022699_R2.fastq\n",
      "\n",
      "cutadapt -g TCCTCCGCTTATTGATATGC -a CAAAGATTCGATGAYTCAC         -m 200 --info-file 1_remove_primers/f_r_separate/DBG_030462_reverse_reads_f_r_separate_cutadapt_info_file.txt -o 1_remove_primers/f_r_separate/DBG_023005_R2_f_r_separate_primers_trimmed.fastq /Users/jessie/Dropbox/jessie/russula_illumina/Russula_BC/DBG_023005_R2.fastq\n",
      "\n",
      "cutadapt -g TCCTCCGCTTATTGATATGC -a CAAAGATTCGATGAYTCAC         -m 200 --info-file 1_remove_primers/f_r_separate/DBG_030462_reverse_reads_f_r_separate_cutadapt_info_file.txt -o 1_remove_primers/f_r_separate/DBG_023007_R2_f_r_separate_primers_trimmed.fastq /Users/jessie/Dropbox/jessie/russula_illumina/Russula_BC/DBG_023007_R2.fastq\n",
      "\n",
      "cutadapt -g TCCTCCGCTTATTGATATGC -a CAAAGATTCGATGAYTCAC         -m 200 --info-file 1_remove_primers/f_r_separate/DBG_030462_reverse_reads_f_r_separate_cutadapt_info_file.txt -o 1_remove_primers/f_r_separate/DBG_023037_R2_f_r_separate_primers_trimmed.fastq /Users/jessie/Dropbox/jessie/russula_illumina/Russula_BC/DBG_023037_R2.fastq\n",
      "\n",
      "cutadapt -g TCCTCCGCTTATTGATATGC -a CAAAGATTCGATGAYTCAC         -m 200 --info-file 1_remove_primers/f_r_separate/DBG_030462_reverse_reads_f_r_separate_cutadapt_info_file.txt -o 1_remove_primers/f_r_separate/DBG_023218_R2_f_r_separate_primers_trimmed.fastq /Users/jessie/Dropbox/jessie/russula_illumina/Russula_BC/DBG_023218_R2.fastq\n",
      "\n",
      "cutadapt -g TCCTCCGCTTATTGATATGC -a CAAAGATTCGATGAYTCAC         -m 200 --info-file 1_remove_primers/f_r_separate/DBG_030462_reverse_reads_f_r_separate_cutadapt_info_file.txt -o 1_remove_primers/f_r_separate/DBG_023253_R2_f_r_separate_primers_trimmed.fastq /Users/jessie/Dropbox/jessie/russula_illumina/Russula_BC/DBG_023253_R2.fastq\n",
      "\n",
      "cutadapt -g TCCTCCGCTTATTGATATGC -a CAAAGATTCGATGAYTCAC         -m 200 --info-file 1_remove_primers/f_r_separate/DBG_030462_reverse_reads_f_r_separate_cutadapt_info_file.txt -o 1_remove_primers/f_r_separate/DBG_023286A_R2_f_r_separate_primers_trimmed.fastq /Users/jessie/Dropbox/jessie/russula_illumina/Russula_BC/DBG_023286A_R2.fastq\n",
      "\n",
      "cutadapt -g TCCTCCGCTTATTGATATGC -a CAAAGATTCGATGAYTCAC         -m 200 --info-file 1_remove_primers/f_r_separate/DBG_030462_reverse_reads_f_r_separate_cutadapt_info_file.txt -o 1_remove_primers/f_r_separate/DBG_023286B_R2_f_r_separate_primers_trimmed.fastq /Users/jessie/Dropbox/jessie/russula_illumina/Russula_BC/DBG_023286B_R2.fastq\n",
      "\n",
      "cutadapt -g TCCTCCGCTTATTGATATGC -a CAAAGATTCGATGAYTCAC         -m 200 --info-file 1_remove_primers/f_r_separate/DBG_030462_reverse_reads_f_r_separate_cutadapt_info_file.txt -o 1_remove_primers/f_r_separate/DBG_023286_R2_f_r_separate_primers_trimmed.fastq /Users/jessie/Dropbox/jessie/russula_illumina/Russula_BC/DBG_023286_R2.fastq\n",
      "\n",
      "cutadapt -g TCCTCCGCTTATTGATATGC -a CAAAGATTCGATGAYTCAC         -m 200 --info-file 1_remove_primers/f_r_separate/DBG_030462_reverse_reads_f_r_separate_cutadapt_info_file.txt -o 1_remove_primers/f_r_separate/DBG_023424_R2_f_r_separate_primers_trimmed.fastq /Users/jessie/Dropbox/jessie/russula_illumina/Russula_BC/DBG_023424_R2.fastq\n",
      "\n",
      "cutadapt -g TCCTCCGCTTATTGATATGC -a CAAAGATTCGATGAYTCAC         -m 200 --info-file 1_remove_primers/f_r_separate/DBG_030462_reverse_reads_f_r_separate_cutadapt_info_file.txt -o 1_remove_primers/f_r_separate/DBG_023460_R2_f_r_separate_primers_trimmed.fastq /Users/jessie/Dropbox/jessie/russula_illumina/Russula_BC/DBG_023460_R2.fastq\n",
      "\n",
      "cutadapt -g TCCTCCGCTTATTGATATGC -a CAAAGATTCGATGAYTCAC         -m 200 --info-file 1_remove_primers/f_r_separate/DBG_030462_reverse_reads_f_r_separate_cutadapt_info_file.txt -o 1_remove_primers/f_r_separate/DBG_023461_R2_f_r_separate_primers_trimmed.fastq /Users/jessie/Dropbox/jessie/russula_illumina/Russula_BC/DBG_023461_R2.fastq\n",
      "\n",
      "cutadapt -g TCCTCCGCTTATTGATATGC -a CAAAGATTCGATGAYTCAC         -m 200 --info-file 1_remove_primers/f_r_separate/DBG_030462_reverse_reads_f_r_separate_cutadapt_info_file.txt -o 1_remove_primers/f_r_separate/DBG_023519_R2_f_r_separate_primers_trimmed.fastq /Users/jessie/Dropbox/jessie/russula_illumina/Russula_BC/DBG_023519_R2.fastq\n",
      "\n",
      "cutadapt -g TCCTCCGCTTATTGATATGC -a CAAAGATTCGATGAYTCAC         -m 200 --info-file 1_remove_primers/f_r_separate/DBG_030462_reverse_reads_f_r_separate_cutadapt_info_file.txt -o 1_remove_primers/f_r_separate/DBG_023538_R2_f_r_separate_primers_trimmed.fastq /Users/jessie/Dropbox/jessie/russula_illumina/Russula_BC/DBG_023538_R2.fastq\n",
      "\n",
      "cutadapt -g TCCTCCGCTTATTGATATGC -a CAAAGATTCGATGAYTCAC         -m 200 --info-file 1_remove_primers/f_r_separate/DBG_030462_reverse_reads_f_r_separate_cutadapt_info_file.txt -o 1_remove_primers/f_r_separate/DBG_023552A_R2_f_r_separate_primers_trimmed.fastq /Users/jessie/Dropbox/jessie/russula_illumina/Russula_BC/DBG_023552A_R2.fastq\n",
      "\n",
      "cutadapt -g TCCTCCGCTTATTGATATGC -a CAAAGATTCGATGAYTCAC         -m 200 --info-file 1_remove_primers/f_r_separate/DBG_030462_reverse_reads_f_r_separate_cutadapt_info_file.txt -o 1_remove_primers/f_r_separate/DBG_023552B_R2_f_r_separate_primers_trimmed.fastq /Users/jessie/Dropbox/jessie/russula_illumina/Russula_BC/DBG_023552B_R2.fastq\n",
      "\n",
      "cutadapt -g TCCTCCGCTTATTGATATGC -a CAAAGATTCGATGAYTCAC         -m 200 --info-file 1_remove_primers/f_r_separate/DBG_030462_reverse_reads_f_r_separate_cutadapt_info_file.txt -o 1_remove_primers/f_r_separate/DBG_023552_R2_f_r_separate_primers_trimmed.fastq /Users/jessie/Dropbox/jessie/russula_illumina/Russula_BC/DBG_023552_R2.fastq\n",
      "\n",
      "cutadapt -g TCCTCCGCTTATTGATATGC -a CAAAGATTCGATGAYTCAC         -m 200 --info-file 1_remove_primers/f_r_separate/DBG_030462_reverse_reads_f_r_separate_cutadapt_info_file.txt -o 1_remove_primers/f_r_separate/DBG_023553_R2_f_r_separate_primers_trimmed.fastq /Users/jessie/Dropbox/jessie/russula_illumina/Russula_BC/DBG_023553_R2.fastq\n",
      "\n",
      "cutadapt -g TCCTCCGCTTATTGATATGC -a CAAAGATTCGATGAYTCAC         -m 200 --info-file 1_remove_primers/f_r_separate/DBG_030462_reverse_reads_f_r_separate_cutadapt_info_file.txt -o 1_remove_primers/f_r_separate/DBG_023600_R2_f_r_separate_primers_trimmed.fastq /Users/jessie/Dropbox/jessie/russula_illumina/Russula_BC/DBG_023600_R2.fastq\n",
      "\n",
      "cutadapt -g TCCTCCGCTTATTGATATGC -a CAAAGATTCGATGAYTCAC         -m 200 --info-file 1_remove_primers/f_r_separate/DBG_030462_reverse_reads_f_r_separate_cutadapt_info_file.txt -o 1_remove_primers/f_r_separate/DBG_023755_R2_f_r_separate_primers_trimmed.fastq /Users/jessie/Dropbox/jessie/russula_illumina/Russula_BC/DBG_023755_R2.fastq\n",
      "\n",
      "cutadapt -g TCCTCCGCTTATTGATATGC -a CAAAGATTCGATGAYTCAC         -m 200 --info-file 1_remove_primers/f_r_separate/DBG_030462_reverse_reads_f_r_separate_cutadapt_info_file.txt -o 1_remove_primers/f_r_separate/DBG_023756_R2_f_r_separate_primers_trimmed.fastq /Users/jessie/Dropbox/jessie/russula_illumina/Russula_BC/DBG_023756_R2.fastq\n",
      "\n",
      "cutadapt -g TCCTCCGCTTATTGATATGC -a CAAAGATTCGATGAYTCAC         -m 200 --info-file 1_remove_primers/f_r_separate/DBG_030462_reverse_reads_f_r_separate_cutadapt_info_file.txt -o 1_remove_primers/f_r_separate/DBG_023757_R2_f_r_separate_primers_trimmed.fastq /Users/jessie/Dropbox/jessie/russula_illumina/Russula_BC/DBG_023757_R2.fastq\n",
      "\n",
      "cutadapt -g TCCTCCGCTTATTGATATGC -a CAAAGATTCGATGAYTCAC         -m 200 --info-file 1_remove_primers/f_r_separate/DBG_030462_reverse_reads_f_r_separate_cutadapt_info_file.txt -o 1_remove_primers/f_r_separate/DBG_023761_R2_f_r_separate_primers_trimmed.fastq /Users/jessie/Dropbox/jessie/russula_illumina/Russula_BC/DBG_023761_R2.fastq\n",
      "\n",
      "cutadapt -g TCCTCCGCTTATTGATATGC -a CAAAGATTCGATGAYTCAC         -m 200 --info-file 1_remove_primers/f_r_separate/DBG_030462_reverse_reads_f_r_separate_cutadapt_info_file.txt -o 1_remove_primers/f_r_separate/DBG_023844_R2_f_r_separate_primers_trimmed.fastq /Users/jessie/Dropbox/jessie/russula_illumina/Russula_BC/DBG_023844_R2.fastq\n",
      "\n",
      "cutadapt -g TCCTCCGCTTATTGATATGC -a CAAAGATTCGATGAYTCAC         -m 200 --info-file 1_remove_primers/f_r_separate/DBG_030462_reverse_reads_f_r_separate_cutadapt_info_file.txt -o 1_remove_primers/f_r_separate/DBG_023871_R2_f_r_separate_primers_trimmed.fastq /Users/jessie/Dropbox/jessie/russula_illumina/Russula_BC/DBG_023871_R2.fastq\n",
      "\n",
      "cutadapt -g TCCTCCGCTTATTGATATGC -a CAAAGATTCGATGAYTCAC         -m 200 --info-file 1_remove_primers/f_r_separate/DBG_030462_reverse_reads_f_r_separate_cutadapt_info_file.txt -o 1_remove_primers/f_r_separate/DBG_023875_R2_f_r_separate_primers_trimmed.fastq /Users/jessie/Dropbox/jessie/russula_illumina/Russula_BC/DBG_023875_R2.fastq\n",
      "\n",
      "cutadapt -g TCCTCCGCTTATTGATATGC -a CAAAGATTCGATGAYTCAC         -m 200 --info-file 1_remove_primers/f_r_separate/DBG_030462_reverse_reads_f_r_separate_cutadapt_info_file.txt -o 1_remove_primers/f_r_separate/DBG_023900_R2_f_r_separate_primers_trimmed.fastq /Users/jessie/Dropbox/jessie/russula_illumina/Russula_BC/DBG_023900_R2.fastq\n",
      "\n",
      "cutadapt -g TCCTCCGCTTATTGATATGC -a CAAAGATTCGATGAYTCAC         -m 200 --info-file 1_remove_primers/f_r_separate/DBG_030462_reverse_reads_f_r_separate_cutadapt_info_file.txt -o 1_remove_primers/f_r_separate/DBG_023935_R2_f_r_separate_primers_trimmed.fastq /Users/jessie/Dropbox/jessie/russula_illumina/Russula_BC/DBG_023935_R2.fastq\n",
      "\n",
      "cutadapt -g TCCTCCGCTTATTGATATGC -a CAAAGATTCGATGAYTCAC         -m 200 --info-file 1_remove_primers/f_r_separate/DBG_030462_reverse_reads_f_r_separate_cutadapt_info_file.txt -o 1_remove_primers/f_r_separate/DBG_023936_R2_f_r_separate_primers_trimmed.fastq /Users/jessie/Dropbox/jessie/russula_illumina/Russula_BC/DBG_023936_R2.fastq\n",
      "\n",
      "cutadapt -g TCCTCCGCTTATTGATATGC -a CAAAGATTCGATGAYTCAC         -m 200 --info-file 1_remove_primers/f_r_separate/DBG_030462_reverse_reads_f_r_separate_cutadapt_info_file.txt -o 1_remove_primers/f_r_separate/DBG_024016_R2_f_r_separate_primers_trimmed.fastq /Users/jessie/Dropbox/jessie/russula_illumina/Russula_BC/DBG_024016_R2.fastq\n",
      "\n",
      "cutadapt -g TCCTCCGCTTATTGATATGC -a CAAAGATTCGATGAYTCAC         -m 200 --info-file 1_remove_primers/f_r_separate/DBG_030462_reverse_reads_f_r_separate_cutadapt_info_file.txt -o 1_remove_primers/f_r_separate/DBG_024078_R2_f_r_separate_primers_trimmed.fastq /Users/jessie/Dropbox/jessie/russula_illumina/Russula_BC/DBG_024078_R2.fastq\n",
      "\n",
      "cutadapt -g TCCTCCGCTTATTGATATGC -a CAAAGATTCGATGAYTCAC         -m 200 --info-file 1_remove_primers/f_r_separate/DBG_030462_reverse_reads_f_r_separate_cutadapt_info_file.txt -o 1_remove_primers/f_r_separate/DBG_024137A_R2_f_r_separate_primers_trimmed.fastq /Users/jessie/Dropbox/jessie/russula_illumina/Russula_BC/DBG_024137A_R2.fastq\n",
      "\n",
      "cutadapt -g TCCTCCGCTTATTGATATGC -a CAAAGATTCGATGAYTCAC         -m 200 --info-file 1_remove_primers/f_r_separate/DBG_030462_reverse_reads_f_r_separate_cutadapt_info_file.txt -o 1_remove_primers/f_r_separate/DBG_024137B_R2_f_r_separate_primers_trimmed.fastq /Users/jessie/Dropbox/jessie/russula_illumina/Russula_BC/DBG_024137B_R2.fastq\n",
      "\n",
      "cutadapt -g TCCTCCGCTTATTGATATGC -a CAAAGATTCGATGAYTCAC         -m 200 --info-file 1_remove_primers/f_r_separate/DBG_030462_reverse_reads_f_r_separate_cutadapt_info_file.txt -o 1_remove_primers/f_r_separate/DBG_024137_R2_f_r_separate_primers_trimmed.fastq /Users/jessie/Dropbox/jessie/russula_illumina/Russula_BC/DBG_024137_R2.fastq\n",
      "\n",
      "cutadapt -g TCCTCCGCTTATTGATATGC -a CAAAGATTCGATGAYTCAC         -m 200 --info-file 1_remove_primers/f_r_separate/DBG_030462_reverse_reads_f_r_separate_cutadapt_info_file.txt -o 1_remove_primers/f_r_separate/DBG_024176_R2_f_r_separate_primers_trimmed.fastq /Users/jessie/Dropbox/jessie/russula_illumina/Russula_BC/DBG_024176_R2.fastq\n",
      "\n",
      "cutadapt -g TCCTCCGCTTATTGATATGC -a CAAAGATTCGATGAYTCAC         -m 200 --info-file 1_remove_primers/f_r_separate/DBG_030462_reverse_reads_f_r_separate_cutadapt_info_file.txt -o 1_remove_primers/f_r_separate/DBG_024212_R2_f_r_separate_primers_trimmed.fastq /Users/jessie/Dropbox/jessie/russula_illumina/Russula_BC/DBG_024212_R2.fastq\n",
      "\n",
      "cutadapt -g TCCTCCGCTTATTGATATGC -a CAAAGATTCGATGAYTCAC         -m 200 --info-file 1_remove_primers/f_r_separate/DBG_030462_reverse_reads_f_r_separate_cutadapt_info_file.txt -o 1_remove_primers/f_r_separate/DBG_024445A_R2_f_r_separate_primers_trimmed.fastq /Users/jessie/Dropbox/jessie/russula_illumina/Russula_BC/DBG_024445A_R2.fastq\n",
      "\n",
      "cutadapt -g TCCTCCGCTTATTGATATGC -a CAAAGATTCGATGAYTCAC         -m 200 --info-file 1_remove_primers/f_r_separate/DBG_030462_reverse_reads_f_r_separate_cutadapt_info_file.txt -o 1_remove_primers/f_r_separate/DBG_024445B_R2_f_r_separate_primers_trimmed.fastq /Users/jessie/Dropbox/jessie/russula_illumina/Russula_BC/DBG_024445B_R2.fastq\n",
      "\n",
      "cutadapt -g TCCTCCGCTTATTGATATGC -a CAAAGATTCGATGAYTCAC         -m 200 --info-file 1_remove_primers/f_r_separate/DBG_030462_reverse_reads_f_r_separate_cutadapt_info_file.txt -o 1_remove_primers/f_r_separate/DBG_024445_R2_f_r_separate_primers_trimmed.fastq /Users/jessie/Dropbox/jessie/russula_illumina/Russula_BC/DBG_024445_R2.fastq\n",
      "\n",
      "cutadapt -g TCCTCCGCTTATTGATATGC -a CAAAGATTCGATGAYTCAC         -m 200 --info-file 1_remove_primers/f_r_separate/DBG_030462_reverse_reads_f_r_separate_cutadapt_info_file.txt -o 1_remove_primers/f_r_separate/DBG_024446_R2_f_r_separate_primers_trimmed.fastq /Users/jessie/Dropbox/jessie/russula_illumina/Russula_BC/DBG_024446_R2.fastq\n",
      "\n",
      "cutadapt -g TCCTCCGCTTATTGATATGC -a CAAAGATTCGATGAYTCAC         -m 200 --info-file 1_remove_primers/f_r_separate/DBG_030462_reverse_reads_f_r_separate_cutadapt_info_file.txt -o 1_remove_primers/f_r_separate/DBG_024473_R2_f_r_separate_primers_trimmed.fastq /Users/jessie/Dropbox/jessie/russula_illumina/Russula_BC/DBG_024473_R2.fastq\n",
      "\n",
      "cutadapt -g TCCTCCGCTTATTGATATGC -a CAAAGATTCGATGAYTCAC         -m 200 --info-file 1_remove_primers/f_r_separate/DBG_030462_reverse_reads_f_r_separate_cutadapt_info_file.txt -o 1_remove_primers/f_r_separate/DBG_024554_R2_f_r_separate_primers_trimmed.fastq /Users/jessie/Dropbox/jessie/russula_illumina/Russula_BC/DBG_024554_R2.fastq\n",
      "\n",
      "cutadapt -g TCCTCCGCTTATTGATATGC -a CAAAGATTCGATGAYTCAC         -m 200 --info-file 1_remove_primers/f_r_separate/DBG_030462_reverse_reads_f_r_separate_cutadapt_info_file.txt -o 1_remove_primers/f_r_separate/DBG_024590_R2_f_r_separate_primers_trimmed.fastq /Users/jessie/Dropbox/jessie/russula_illumina/Russula_BC/DBG_024590_R2.fastq\n",
      "\n",
      "cutadapt -g TCCTCCGCTTATTGATATGC -a CAAAGATTCGATGAYTCAC         -m 200 --info-file 1_remove_primers/f_r_separate/DBG_030462_reverse_reads_f_r_separate_cutadapt_info_file.txt -o 1_remove_primers/f_r_separate/DBG_024680_R2_f_r_separate_primers_trimmed.fastq /Users/jessie/Dropbox/jessie/russula_illumina/Russula_BC/DBG_024680_R2.fastq\n",
      "\n",
      "cutadapt -g TCCTCCGCTTATTGATATGC -a CAAAGATTCGATGAYTCAC         -m 200 --info-file 1_remove_primers/f_r_separate/DBG_030462_reverse_reads_f_r_separate_cutadapt_info_file.txt -o 1_remove_primers/f_r_separate/DBG_024698_R2_f_r_separate_primers_trimmed.fastq /Users/jessie/Dropbox/jessie/russula_illumina/Russula_BC/DBG_024698_R2.fastq\n",
      "\n",
      "cutadapt -g TCCTCCGCTTATTGATATGC -a CAAAGATTCGATGAYTCAC         -m 200 --info-file 1_remove_primers/f_r_separate/DBG_030462_reverse_reads_f_r_separate_cutadapt_info_file.txt -o 1_remove_primers/f_r_separate/DBG_024799_R2_f_r_separate_primers_trimmed.fastq /Users/jessie/Dropbox/jessie/russula_illumina/Russula_BC/DBG_024799_R2.fastq\n",
      "\n",
      "cutadapt -g TCCTCCGCTTATTGATATGC -a CAAAGATTCGATGAYTCAC         -m 200 --info-file 1_remove_primers/f_r_separate/DBG_030462_reverse_reads_f_r_separate_cutadapt_info_file.txt -o 1_remove_primers/f_r_separate/DBG_024876_R2_f_r_separate_primers_trimmed.fastq /Users/jessie/Dropbox/jessie/russula_illumina/Russula_BC/DBG_024876_R2.fastq\n",
      "\n",
      "cutadapt -g TCCTCCGCTTATTGATATGC -a CAAAGATTCGATGAYTCAC         -m 200 --info-file 1_remove_primers/f_r_separate/DBG_030462_reverse_reads_f_r_separate_cutadapt_info_file.txt -o 1_remove_primers/f_r_separate/DBG_024900A_R2_f_r_separate_primers_trimmed.fastq /Users/jessie/Dropbox/jessie/russula_illumina/Russula_BC/DBG_024900A_R2.fastq\n",
      "\n",
      "cutadapt -g TCCTCCGCTTATTGATATGC -a CAAAGATTCGATGAYTCAC         -m 200 --info-file 1_remove_primers/f_r_separate/DBG_030462_reverse_reads_f_r_separate_cutadapt_info_file.txt -o 1_remove_primers/f_r_separate/DBG_024900B_R2_f_r_separate_primers_trimmed.fastq /Users/jessie/Dropbox/jessie/russula_illumina/Russula_BC/DBG_024900B_R2.fastq\n",
      "\n",
      "cutadapt -g TCCTCCGCTTATTGATATGC -a CAAAGATTCGATGAYTCAC         -m 200 --info-file 1_remove_primers/f_r_separate/DBG_030462_reverse_reads_f_r_separate_cutadapt_info_file.txt -o 1_remove_primers/f_r_separate/DBG_024900_R2_f_r_separate_primers_trimmed.fastq /Users/jessie/Dropbox/jessie/russula_illumina/Russula_BC/DBG_024900_R2.fastq\n",
      "\n",
      "cutadapt -g TCCTCCGCTTATTGATATGC -a CAAAGATTCGATGAYTCAC         -m 200 --info-file 1_remove_primers/f_r_separate/DBG_030462_reverse_reads_f_r_separate_cutadapt_info_file.txt -o 1_remove_primers/f_r_separate/DBG_024923_R2_f_r_separate_primers_trimmed.fastq /Users/jessie/Dropbox/jessie/russula_illumina/Russula_BC/DBG_024923_R2.fastq\n",
      "\n",
      "cutadapt -g TCCTCCGCTTATTGATATGC -a CAAAGATTCGATGAYTCAC         -m 200 --info-file 1_remove_primers/f_r_separate/DBG_030462_reverse_reads_f_r_separate_cutadapt_info_file.txt -o 1_remove_primers/f_r_separate/DBG_025067_R2_f_r_separate_primers_trimmed.fastq /Users/jessie/Dropbox/jessie/russula_illumina/Russula_BC/DBG_025067_R2.fastq\n",
      "\n",
      "cutadapt -g TCCTCCGCTTATTGATATGC -a CAAAGATTCGATGAYTCAC         -m 200 --info-file 1_remove_primers/f_r_separate/DBG_030462_reverse_reads_f_r_separate_cutadapt_info_file.txt -o 1_remove_primers/f_r_separate/DBG_025074_R2_f_r_separate_primers_trimmed.fastq /Users/jessie/Dropbox/jessie/russula_illumina/Russula_BC/DBG_025074_R2.fastq\n",
      "\n",
      "cutadapt -g TCCTCCGCTTATTGATATGC -a CAAAGATTCGATGAYTCAC         -m 200 --info-file 1_remove_primers/f_r_separate/DBG_030462_reverse_reads_f_r_separate_cutadapt_info_file.txt -o 1_remove_primers/f_r_separate/DBG_025075_R2_f_r_separate_primers_trimmed.fastq /Users/jessie/Dropbox/jessie/russula_illumina/Russula_BC/DBG_025075_R2.fastq\n",
      "\n",
      "cutadapt -g TCCTCCGCTTATTGATATGC -a CAAAGATTCGATGAYTCAC         -m 200 --info-file 1_remove_primers/f_r_separate/DBG_030462_reverse_reads_f_r_separate_cutadapt_info_file.txt -o 1_remove_primers/f_r_separate/DBG_025133_R2_f_r_separate_primers_trimmed.fastq /Users/jessie/Dropbox/jessie/russula_illumina/Russula_BC/DBG_025133_R2.fastq\n",
      "\n",
      "cutadapt -g TCCTCCGCTTATTGATATGC -a CAAAGATTCGATGAYTCAC         -m 200 --info-file 1_remove_primers/f_r_separate/DBG_030462_reverse_reads_f_r_separate_cutadapt_info_file.txt -o 1_remove_primers/f_r_separate/DBG_025136_R2_f_r_separate_primers_trimmed.fastq /Users/jessie/Dropbox/jessie/russula_illumina/Russula_BC/DBG_025136_R2.fastq\n",
      "\n",
      "cutadapt -g TCCTCCGCTTATTGATATGC -a CAAAGATTCGATGAYTCAC         -m 200 --info-file 1_remove_primers/f_r_separate/DBG_030462_reverse_reads_f_r_separate_cutadapt_info_file.txt -o 1_remove_primers/f_r_separate/DBG_025138_R2_f_r_separate_primers_trimmed.fastq /Users/jessie/Dropbox/jessie/russula_illumina/Russula_BC/DBG_025138_R2.fastq\n",
      "\n",
      "cutadapt -g TCCTCCGCTTATTGATATGC -a CAAAGATTCGATGAYTCAC         -m 200 --info-file 1_remove_primers/f_r_separate/DBG_030462_reverse_reads_f_r_separate_cutadapt_info_file.txt -o 1_remove_primers/f_r_separate/DBG_025140_R2_f_r_separate_primers_trimmed.fastq /Users/jessie/Dropbox/jessie/russula_illumina/Russula_BC/DBG_025140_R2.fastq\n",
      "\n",
      "cutadapt -g TCCTCCGCTTATTGATATGC -a CAAAGATTCGATGAYTCAC         -m 200 --info-file 1_remove_primers/f_r_separate/DBG_030462_reverse_reads_f_r_separate_cutadapt_info_file.txt -o 1_remove_primers/f_r_separate/DBG_025324_R2_f_r_separate_primers_trimmed.fastq /Users/jessie/Dropbox/jessie/russula_illumina/Russula_BC/DBG_025324_R2.fastq\n",
      "\n",
      "cutadapt -g TCCTCCGCTTATTGATATGC -a CAAAGATTCGATGAYTCAC         -m 200 --info-file 1_remove_primers/f_r_separate/DBG_030462_reverse_reads_f_r_separate_cutadapt_info_file.txt -o 1_remove_primers/f_r_separate/DBG_025327_R2_f_r_separate_primers_trimmed.fastq /Users/jessie/Dropbox/jessie/russula_illumina/Russula_BC/DBG_025327_R2.fastq\n",
      "\n",
      "cutadapt -g TCCTCCGCTTATTGATATGC -a CAAAGATTCGATGAYTCAC         -m 200 --info-file 1_remove_primers/f_r_separate/DBG_030462_reverse_reads_f_r_separate_cutadapt_info_file.txt -o 1_remove_primers/f_r_separate/DBG_025331_R2_f_r_separate_primers_trimmed.fastq /Users/jessie/Dropbox/jessie/russula_illumina/Russula_BC/DBG_025331_R2.fastq\n",
      "\n",
      "cutadapt -g TCCTCCGCTTATTGATATGC -a CAAAGATTCGATGAYTCAC         -m 200 --info-file 1_remove_primers/f_r_separate/DBG_030462_reverse_reads_f_r_separate_cutadapt_info_file.txt -o 1_remove_primers/f_r_separate/DBG_025332_R2_f_r_separate_primers_trimmed.fastq /Users/jessie/Dropbox/jessie/russula_illumina/Russula_BC/DBG_025332_R2.fastq\n",
      "\n",
      "cutadapt -g TCCTCCGCTTATTGATATGC -a CAAAGATTCGATGAYTCAC         -m 200 --info-file 1_remove_primers/f_r_separate/DBG_030462_reverse_reads_f_r_separate_cutadapt_info_file.txt -o 1_remove_primers/f_r_separate/DBG_025333_R2_f_r_separate_primers_trimmed.fastq /Users/jessie/Dropbox/jessie/russula_illumina/Russula_BC/DBG_025333_R2.fastq\n",
      "\n",
      "cutadapt -g TCCTCCGCTTATTGATATGC -a CAAAGATTCGATGAYTCAC         -m 200 --info-file 1_remove_primers/f_r_separate/DBG_030462_reverse_reads_f_r_separate_cutadapt_info_file.txt -o 1_remove_primers/f_r_separate/DBG_025334_R2_f_r_separate_primers_trimmed.fastq /Users/jessie/Dropbox/jessie/russula_illumina/Russula_BC/DBG_025334_R2.fastq\n",
      "\n",
      "cutadapt -g TCCTCCGCTTATTGATATGC -a CAAAGATTCGATGAYTCAC         -m 200 --info-file 1_remove_primers/f_r_separate/DBG_030462_reverse_reads_f_r_separate_cutadapt_info_file.txt -o 1_remove_primers/f_r_separate/DBG_025335_R2_f_r_separate_primers_trimmed.fastq /Users/jessie/Dropbox/jessie/russula_illumina/Russula_BC/DBG_025335_R2.fastq\n",
      "\n",
      "cutadapt -g TCCTCCGCTTATTGATATGC -a CAAAGATTCGATGAYTCAC         -m 200 --info-file 1_remove_primers/f_r_separate/DBG_030462_reverse_reads_f_r_separate_cutadapt_info_file.txt -o 1_remove_primers/f_r_separate/DBG_025337_R2_f_r_separate_primers_trimmed.fastq /Users/jessie/Dropbox/jessie/russula_illumina/Russula_BC/DBG_025337_R2.fastq\n",
      "\n",
      "cutadapt -g TCCTCCGCTTATTGATATGC -a CAAAGATTCGATGAYTCAC         -m 200 --info-file 1_remove_primers/f_r_separate/DBG_030462_reverse_reads_f_r_separate_cutadapt_info_file.txt -o 1_remove_primers/f_r_separate/DBG_027596_R2_f_r_separate_primers_trimmed.fastq /Users/jessie/Dropbox/jessie/russula_illumina/Russula_BC/DBG_027596_R2.fastq\n",
      "\n",
      "cutadapt -g TCCTCCGCTTATTGATATGC -a CAAAGATTCGATGAYTCAC         -m 200 --info-file 1_remove_primers/f_r_separate/DBG_030462_reverse_reads_f_r_separate_cutadapt_info_file.txt -o 1_remove_primers/f_r_separate/DBG_027618_R2_f_r_separate_primers_trimmed.fastq /Users/jessie/Dropbox/jessie/russula_illumina/Russula_BC/DBG_027618_R2.fastq\n",
      "\n",
      "cutadapt -g TCCTCCGCTTATTGATATGC -a CAAAGATTCGATGAYTCAC         -m 200 --info-file 1_remove_primers/f_r_separate/DBG_030462_reverse_reads_f_r_separate_cutadapt_info_file.txt -o 1_remove_primers/f_r_separate/DBG_027625_R2_f_r_separate_primers_trimmed.fastq /Users/jessie/Dropbox/jessie/russula_illumina/Russula_BC/DBG_027625_R2.fastq\n",
      "\n",
      "cutadapt -g TCCTCCGCTTATTGATATGC -a CAAAGATTCGATGAYTCAC         -m 200 --info-file 1_remove_primers/f_r_separate/DBG_030462_reverse_reads_f_r_separate_cutadapt_info_file.txt -o 1_remove_primers/f_r_separate/DBG_027639_R2_f_r_separate_primers_trimmed.fastq /Users/jessie/Dropbox/jessie/russula_illumina/Russula_BC/DBG_027639_R2.fastq\n",
      "\n",
      "cutadapt -g TCCTCCGCTTATTGATATGC -a CAAAGATTCGATGAYTCAC         -m 200 --info-file 1_remove_primers/f_r_separate/DBG_030462_reverse_reads_f_r_separate_cutadapt_info_file.txt -o 1_remove_primers/f_r_separate/DBG_027659_R2_f_r_separate_primers_trimmed.fastq /Users/jessie/Dropbox/jessie/russula_illumina/Russula_BC/DBG_027659_R2.fastq\n",
      "\n",
      "cutadapt -g TCCTCCGCTTATTGATATGC -a CAAAGATTCGATGAYTCAC         -m 200 --info-file 1_remove_primers/f_r_separate/DBG_030462_reverse_reads_f_r_separate_cutadapt_info_file.txt -o 1_remove_primers/f_r_separate/DBG_027804_R2_f_r_separate_primers_trimmed.fastq /Users/jessie/Dropbox/jessie/russula_illumina/Russula_BC/DBG_027804_R2.fastq\n",
      "\n",
      "cutadapt -g TCCTCCGCTTATTGATATGC -a CAAAGATTCGATGAYTCAC         -m 200 --info-file 1_remove_primers/f_r_separate/DBG_030462_reverse_reads_f_r_separate_cutadapt_info_file.txt -o 1_remove_primers/f_r_separate/DBG_027805_R2_f_r_separate_primers_trimmed.fastq /Users/jessie/Dropbox/jessie/russula_illumina/Russula_BC/DBG_027805_R2.fastq\n",
      "\n",
      "cutadapt -g TCCTCCGCTTATTGATATGC -a CAAAGATTCGATGAYTCAC         -m 200 --info-file 1_remove_primers/f_r_separate/DBG_030462_reverse_reads_f_r_separate_cutadapt_info_file.txt -o 1_remove_primers/f_r_separate/DBG_027895_R2_f_r_separate_primers_trimmed.fastq /Users/jessie/Dropbox/jessie/russula_illumina/Russula_BC/DBG_027895_R2.fastq\n",
      "\n",
      "cutadapt -g TCCTCCGCTTATTGATATGC -a CAAAGATTCGATGAYTCAC         -m 200 --info-file 1_remove_primers/f_r_separate/DBG_030462_reverse_reads_f_r_separate_cutadapt_info_file.txt -o 1_remove_primers/f_r_separate/DBG_027901_R2_f_r_separate_primers_trimmed.fastq /Users/jessie/Dropbox/jessie/russula_illumina/Russula_BC/DBG_027901_R2.fastq\n",
      "\n",
      "cutadapt -g TCCTCCGCTTATTGATATGC -a CAAAGATTCGATGAYTCAC         -m 200 --info-file 1_remove_primers/f_r_separate/DBG_030462_reverse_reads_f_r_separate_cutadapt_info_file.txt -o 1_remove_primers/f_r_separate/DBG_027910_R2_f_r_separate_primers_trimmed.fastq /Users/jessie/Dropbox/jessie/russula_illumina/Russula_BC/DBG_027910_R2.fastq\n",
      "\n",
      "cutadapt -g TCCTCCGCTTATTGATATGC -a CAAAGATTCGATGAYTCAC         -m 200 --info-file 1_remove_primers/f_r_separate/DBG_030462_reverse_reads_f_r_separate_cutadapt_info_file.txt -o 1_remove_primers/f_r_separate/DBG_027911_R2_f_r_separate_primers_trimmed.fastq /Users/jessie/Dropbox/jessie/russula_illumina/Russula_BC/DBG_027911_R2.fastq\n",
      "\n",
      "cutadapt -g TCCTCCGCTTATTGATATGC -a CAAAGATTCGATGAYTCAC         -m 200 --info-file 1_remove_primers/f_r_separate/DBG_030462_reverse_reads_f_r_separate_cutadapt_info_file.txt -o 1_remove_primers/f_r_separate/DBG_027913_R2_f_r_separate_primers_trimmed.fastq /Users/jessie/Dropbox/jessie/russula_illumina/Russula_BC/DBG_027913_R2.fastq\n",
      "\n",
      "cutadapt -g TCCTCCGCTTATTGATATGC -a CAAAGATTCGATGAYTCAC         -m 200 --info-file 1_remove_primers/f_r_separate/DBG_030462_reverse_reads_f_r_separate_cutadapt_info_file.txt -o 1_remove_primers/f_r_separate/DBG_027914_R2_f_r_separate_primers_trimmed.fastq /Users/jessie/Dropbox/jessie/russula_illumina/Russula_BC/DBG_027914_R2.fastq\n",
      "\n",
      "cutadapt -g TCCTCCGCTTATTGATATGC -a CAAAGATTCGATGAYTCAC         -m 200 --info-file 1_remove_primers/f_r_separate/DBG_030462_reverse_reads_f_r_separate_cutadapt_info_file.txt -o 1_remove_primers/f_r_separate/DBG_027988_R2_f_r_separate_primers_trimmed.fastq /Users/jessie/Dropbox/jessie/russula_illumina/Russula_BC/DBG_027988_R2.fastq\n",
      "\n",
      "cutadapt -g TCCTCCGCTTATTGATATGC -a CAAAGATTCGATGAYTCAC         -m 200 --info-file 1_remove_primers/f_r_separate/DBG_030462_reverse_reads_f_r_separate_cutadapt_info_file.txt -o 1_remove_primers/f_r_separate/DBG_028112_R2_f_r_separate_primers_trimmed.fastq /Users/jessie/Dropbox/jessie/russula_illumina/Russula_BC/DBG_028112_R2.fastq\n",
      "\n",
      "cutadapt -g TCCTCCGCTTATTGATATGC -a CAAAGATTCGATGAYTCAC         -m 200 --info-file 1_remove_primers/f_r_separate/DBG_030462_reverse_reads_f_r_separate_cutadapt_info_file.txt -o 1_remove_primers/f_r_separate/DBG_028125_R2_f_r_separate_primers_trimmed.fastq /Users/jessie/Dropbox/jessie/russula_illumina/Russula_BC/DBG_028125_R2.fastq\n",
      "\n",
      "cutadapt -g TCCTCCGCTTATTGATATGC -a CAAAGATTCGATGAYTCAC         -m 200 --info-file 1_remove_primers/f_r_separate/DBG_030462_reverse_reads_f_r_separate_cutadapt_info_file.txt -o 1_remove_primers/f_r_separate/DBG_028155_R2_f_r_separate_primers_trimmed.fastq /Users/jessie/Dropbox/jessie/russula_illumina/Russula_BC/DBG_028155_R2.fastq\n",
      "\n",
      "cutadapt -g TCCTCCGCTTATTGATATGC -a CAAAGATTCGATGAYTCAC         -m 200 --info-file 1_remove_primers/f_r_separate/DBG_030462_reverse_reads_f_r_separate_cutadapt_info_file.txt -o 1_remove_primers/f_r_separate/DBG_028281_R2_f_r_separate_primers_trimmed.fastq /Users/jessie/Dropbox/jessie/russula_illumina/Russula_BC/DBG_028281_R2.fastq\n",
      "\n",
      "cutadapt -g TCCTCCGCTTATTGATATGC -a CAAAGATTCGATGAYTCAC         -m 200 --info-file 1_remove_primers/f_r_separate/DBG_030462_reverse_reads_f_r_separate_cutadapt_info_file.txt -o 1_remove_primers/f_r_separate/DBG_028282_R2_f_r_separate_primers_trimmed.fastq /Users/jessie/Dropbox/jessie/russula_illumina/Russula_BC/DBG_028282_R2.fastq\n",
      "\n",
      "cutadapt -g TCCTCCGCTTATTGATATGC -a CAAAGATTCGATGAYTCAC         -m 200 --info-file 1_remove_primers/f_r_separate/DBG_030462_reverse_reads_f_r_separate_cutadapt_info_file.txt -o 1_remove_primers/f_r_separate/DBG_028314_R2_f_r_separate_primers_trimmed.fastq /Users/jessie/Dropbox/jessie/russula_illumina/Russula_BC/DBG_028314_R2.fastq\n",
      "\n",
      "cutadapt -g TCCTCCGCTTATTGATATGC -a CAAAGATTCGATGAYTCAC         -m 200 --info-file 1_remove_primers/f_r_separate/DBG_030462_reverse_reads_f_r_separate_cutadapt_info_file.txt -o 1_remove_primers/f_r_separate/DBG_028330_R2_f_r_separate_primers_trimmed.fastq /Users/jessie/Dropbox/jessie/russula_illumina/Russula_BC/DBG_028330_R2.fastq\n",
      "\n",
      "cutadapt -g TCCTCCGCTTATTGATATGC -a CAAAGATTCGATGAYTCAC         -m 200 --info-file 1_remove_primers/f_r_separate/DBG_030462_reverse_reads_f_r_separate_cutadapt_info_file.txt -o 1_remove_primers/f_r_separate/DBG_028379_R2_f_r_separate_primers_trimmed.fastq /Users/jessie/Dropbox/jessie/russula_illumina/Russula_BC/DBG_028379_R2.fastq\n",
      "\n",
      "cutadapt -g TCCTCCGCTTATTGATATGC -a CAAAGATTCGATGAYTCAC         -m 200 --info-file 1_remove_primers/f_r_separate/DBG_030462_reverse_reads_f_r_separate_cutadapt_info_file.txt -o 1_remove_primers/f_r_separate/DBG_028381_R2_f_r_separate_primers_trimmed.fastq /Users/jessie/Dropbox/jessie/russula_illumina/Russula_BC/DBG_028381_R2.fastq\n",
      "\n",
      "cutadapt -g TCCTCCGCTTATTGATATGC -a CAAAGATTCGATGAYTCAC         -m 200 --info-file 1_remove_primers/f_r_separate/DBG_030462_reverse_reads_f_r_separate_cutadapt_info_file.txt -o 1_remove_primers/f_r_separate/DBG_028393_R2_f_r_separate_primers_trimmed.fastq /Users/jessie/Dropbox/jessie/russula_illumina/Russula_BC/DBG_028393_R2.fastq\n",
      "\n",
      "cutadapt -g TCCTCCGCTTATTGATATGC -a CAAAGATTCGATGAYTCAC         -m 200 --info-file 1_remove_primers/f_r_separate/DBG_030462_reverse_reads_f_r_separate_cutadapt_info_file.txt -o 1_remove_primers/f_r_separate/DBG_028402_R2_f_r_separate_primers_trimmed.fastq /Users/jessie/Dropbox/jessie/russula_illumina/Russula_BC/DBG_028402_R2.fastq\n",
      "\n",
      "cutadapt -g TCCTCCGCTTATTGATATGC -a CAAAGATTCGATGAYTCAC         -m 200 --info-file 1_remove_primers/f_r_separate/DBG_030462_reverse_reads_f_r_separate_cutadapt_info_file.txt -o 1_remove_primers/f_r_separate/DBG_028432_R2_f_r_separate_primers_trimmed.fastq /Users/jessie/Dropbox/jessie/russula_illumina/Russula_BC/DBG_028432_R2.fastq\n",
      "\n",
      "cutadapt -g TCCTCCGCTTATTGATATGC -a CAAAGATTCGATGAYTCAC         -m 200 --info-file 1_remove_primers/f_r_separate/DBG_030462_reverse_reads_f_r_separate_cutadapt_info_file.txt -o 1_remove_primers/f_r_separate/DBG_028543_R2_f_r_separate_primers_trimmed.fastq /Users/jessie/Dropbox/jessie/russula_illumina/Russula_BC/DBG_028543_R2.fastq\n",
      "\n",
      "cutadapt -g TCCTCCGCTTATTGATATGC -a CAAAGATTCGATGAYTCAC         -m 200 --info-file 1_remove_primers/f_r_separate/DBG_030462_reverse_reads_f_r_separate_cutadapt_info_file.txt -o 1_remove_primers/f_r_separate/DBG_028710_R2_f_r_separate_primers_trimmed.fastq /Users/jessie/Dropbox/jessie/russula_illumina/Russula_BC/DBG_028710_R2.fastq\n",
      "\n",
      "cutadapt -g TCCTCCGCTTATTGATATGC -a CAAAGATTCGATGAYTCAC         -m 200 --info-file 1_remove_primers/f_r_separate/DBG_030462_reverse_reads_f_r_separate_cutadapt_info_file.txt -o 1_remove_primers/f_r_separate/DBG_028724_R2_f_r_separate_primers_trimmed.fastq /Users/jessie/Dropbox/jessie/russula_illumina/Russula_BC/DBG_028724_R2.fastq\n",
      "\n",
      "cutadapt -g TCCTCCGCTTATTGATATGC -a CAAAGATTCGATGAYTCAC         -m 200 --info-file 1_remove_primers/f_r_separate/DBG_030462_reverse_reads_f_r_separate_cutadapt_info_file.txt -o 1_remove_primers/f_r_separate/DBG_028727_R2_f_r_separate_primers_trimmed.fastq /Users/jessie/Dropbox/jessie/russula_illumina/Russula_BC/DBG_028727_R2.fastq\n",
      "\n",
      "cutadapt -g TCCTCCGCTTATTGATATGC -a CAAAGATTCGATGAYTCAC         -m 200 --info-file 1_remove_primers/f_r_separate/DBG_030462_reverse_reads_f_r_separate_cutadapt_info_file.txt -o 1_remove_primers/f_r_separate/DBG_028729_R2_f_r_separate_primers_trimmed.fastq /Users/jessie/Dropbox/jessie/russula_illumina/Russula_BC/DBG_028729_R2.fastq\n",
      "\n",
      "cutadapt -g TCCTCCGCTTATTGATATGC -a CAAAGATTCGATGAYTCAC         -m 200 --info-file 1_remove_primers/f_r_separate/DBG_030462_reverse_reads_f_r_separate_cutadapt_info_file.txt -o 1_remove_primers/f_r_separate/DBG_028730_R2_f_r_separate_primers_trimmed.fastq /Users/jessie/Dropbox/jessie/russula_illumina/Russula_BC/DBG_028730_R2.fastq\n",
      "\n",
      "cutadapt -g TCCTCCGCTTATTGATATGC -a CAAAGATTCGATGAYTCAC         -m 200 --info-file 1_remove_primers/f_r_separate/DBG_030462_reverse_reads_f_r_separate_cutadapt_info_file.txt -o 1_remove_primers/f_r_separate/DBG_028736_R2_f_r_separate_primers_trimmed.fastq /Users/jessie/Dropbox/jessie/russula_illumina/Russula_BC/DBG_028736_R2.fastq\n",
      "\n",
      "cutadapt -g TCCTCCGCTTATTGATATGC -a CAAAGATTCGATGAYTCAC         -m 200 --info-file 1_remove_primers/f_r_separate/DBG_030462_reverse_reads_f_r_separate_cutadapt_info_file.txt -o 1_remove_primers/f_r_separate/DBG_028792_R2_f_r_separate_primers_trimmed.fastq /Users/jessie/Dropbox/jessie/russula_illumina/Russula_BC/DBG_028792_R2.fastq\n",
      "\n",
      "cutadapt -g TCCTCCGCTTATTGATATGC -a CAAAGATTCGATGAYTCAC         -m 200 --info-file 1_remove_primers/f_r_separate/DBG_030462_reverse_reads_f_r_separate_cutadapt_info_file.txt -o 1_remove_primers/f_r_separate/DBG_028827_R2_f_r_separate_primers_trimmed.fastq /Users/jessie/Dropbox/jessie/russula_illumina/Russula_BC/DBG_028827_R2.fastq\n",
      "\n",
      "cutadapt -g TCCTCCGCTTATTGATATGC -a CAAAGATTCGATGAYTCAC         -m 200 --info-file 1_remove_primers/f_r_separate/DBG_030462_reverse_reads_f_r_separate_cutadapt_info_file.txt -o 1_remove_primers/f_r_separate/DBG_028843_R2_f_r_separate_primers_trimmed.fastq /Users/jessie/Dropbox/jessie/russula_illumina/Russula_BC/DBG_028843_R2.fastq\n",
      "\n",
      "cutadapt -g TCCTCCGCTTATTGATATGC -a CAAAGATTCGATGAYTCAC         -m 200 --info-file 1_remove_primers/f_r_separate/DBG_030462_reverse_reads_f_r_separate_cutadapt_info_file.txt -o 1_remove_primers/f_r_separate/DBG_028957_R2_f_r_separate_primers_trimmed.fastq /Users/jessie/Dropbox/jessie/russula_illumina/Russula_BC/DBG_028957_R2.fastq\n",
      "\n",
      "cutadapt -g TCCTCCGCTTATTGATATGC -a CAAAGATTCGATGAYTCAC         -m 200 --info-file 1_remove_primers/f_r_separate/DBG_030462_reverse_reads_f_r_separate_cutadapt_info_file.txt -o 1_remove_primers/f_r_separate/DBG_028977_R2_f_r_separate_primers_trimmed.fastq /Users/jessie/Dropbox/jessie/russula_illumina/Russula_BC/DBG_028977_R2.fastq\n",
      "\n",
      "cutadapt -g TCCTCCGCTTATTGATATGC -a CAAAGATTCGATGAYTCAC         -m 200 --info-file 1_remove_primers/f_r_separate/DBG_030462_reverse_reads_f_r_separate_cutadapt_info_file.txt -o 1_remove_primers/f_r_separate/DBG_029012_R2_f_r_separate_primers_trimmed.fastq /Users/jessie/Dropbox/jessie/russula_illumina/Russula_BC/DBG_029012_R2.fastq\n",
      "\n",
      "cutadapt -g TCCTCCGCTTATTGATATGC -a CAAAGATTCGATGAYTCAC         -m 200 --info-file 1_remove_primers/f_r_separate/DBG_030462_reverse_reads_f_r_separate_cutadapt_info_file.txt -o 1_remove_primers/f_r_separate/DBG_029153_R2_f_r_separate_primers_trimmed.fastq /Users/jessie/Dropbox/jessie/russula_illumina/Russula_BC/DBG_029153_R2.fastq\n",
      "\n",
      "cutadapt -g TCCTCCGCTTATTGATATGC -a CAAAGATTCGATGAYTCAC         -m 200 --info-file 1_remove_primers/f_r_separate/DBG_030462_reverse_reads_f_r_separate_cutadapt_info_file.txt -o 1_remove_primers/f_r_separate/DBG_029512_R2_f_r_separate_primers_trimmed.fastq /Users/jessie/Dropbox/jessie/russula_illumina/Russula_BC/DBG_029512_R2.fastq\n",
      "\n",
      "cutadapt -g TCCTCCGCTTATTGATATGC -a CAAAGATTCGATGAYTCAC         -m 200 --info-file 1_remove_primers/f_r_separate/DBG_030462_reverse_reads_f_r_separate_cutadapt_info_file.txt -o 1_remove_primers/f_r_separate/DBG_029516_R2_f_r_separate_primers_trimmed.fastq /Users/jessie/Dropbox/jessie/russula_illumina/Russula_BC/DBG_029516_R2.fastq\n",
      "\n",
      "cutadapt -g TCCTCCGCTTATTGATATGC -a CAAAGATTCGATGAYTCAC         -m 200 --info-file 1_remove_primers/f_r_separate/DBG_030462_reverse_reads_f_r_separate_cutadapt_info_file.txt -o 1_remove_primers/f_r_separate/DBG_029525_R2_f_r_separate_primers_trimmed.fastq /Users/jessie/Dropbox/jessie/russula_illumina/Russula_BC/DBG_029525_R2.fastq\n",
      "\n",
      "cutadapt -g TCCTCCGCTTATTGATATGC -a CAAAGATTCGATGAYTCAC         -m 200 --info-file 1_remove_primers/f_r_separate/DBG_030462_reverse_reads_f_r_separate_cutadapt_info_file.txt -o 1_remove_primers/f_r_separate/DBG_029551_R2_f_r_separate_primers_trimmed.fastq /Users/jessie/Dropbox/jessie/russula_illumina/Russula_BC/DBG_029551_R2.fastq\n",
      "\n",
      "cutadapt -g TCCTCCGCTTATTGATATGC -a CAAAGATTCGATGAYTCAC         -m 200 --info-file 1_remove_primers/f_r_separate/DBG_030462_reverse_reads_f_r_separate_cutadapt_info_file.txt -o 1_remove_primers/f_r_separate/DBG_029586_R2_f_r_separate_primers_trimmed.fastq /Users/jessie/Dropbox/jessie/russula_illumina/Russula_BC/DBG_029586_R2.fastq\n",
      "\n",
      "cutadapt -g TCCTCCGCTTATTGATATGC -a CAAAGATTCGATGAYTCAC         -m 200 --info-file 1_remove_primers/f_r_separate/DBG_030462_reverse_reads_f_r_separate_cutadapt_info_file.txt -o 1_remove_primers/f_r_separate/DBG_029589_R2_f_r_separate_primers_trimmed.fastq /Users/jessie/Dropbox/jessie/russula_illumina/Russula_BC/DBG_029589_R2.fastq\n",
      "\n",
      "cutadapt -g TCCTCCGCTTATTGATATGC -a CAAAGATTCGATGAYTCAC         -m 200 --info-file 1_remove_primers/f_r_separate/DBG_030462_reverse_reads_f_r_separate_cutadapt_info_file.txt -o 1_remove_primers/f_r_separate/DBG_029645_R2_f_r_separate_primers_trimmed.fastq /Users/jessie/Dropbox/jessie/russula_illumina/Russula_BC/DBG_029645_R2.fastq\n",
      "\n",
      "cutadapt -g TCCTCCGCTTATTGATATGC -a CAAAGATTCGATGAYTCAC         -m 200 --info-file 1_remove_primers/f_r_separate/DBG_030462_reverse_reads_f_r_separate_cutadapt_info_file.txt -o 1_remove_primers/f_r_separate/DBG_029648_R2_f_r_separate_primers_trimmed.fastq /Users/jessie/Dropbox/jessie/russula_illumina/Russula_BC/DBG_029648_R2.fastq\n",
      "\n",
      "cutadapt -g TCCTCCGCTTATTGATATGC -a CAAAGATTCGATGAYTCAC         -m 200 --info-file 1_remove_primers/f_r_separate/DBG_030462_reverse_reads_f_r_separate_cutadapt_info_file.txt -o 1_remove_primers/f_r_separate/DBG_029738_R2_f_r_separate_primers_trimmed.fastq /Users/jessie/Dropbox/jessie/russula_illumina/Russula_BC/DBG_029738_R2.fastq\n",
      "\n",
      "cutadapt -g TCCTCCGCTTATTGATATGC -a CAAAGATTCGATGAYTCAC         -m 200 --info-file 1_remove_primers/f_r_separate/DBG_030462_reverse_reads_f_r_separate_cutadapt_info_file.txt -o 1_remove_primers/f_r_separate/DBG_029739_R2_f_r_separate_primers_trimmed.fastq /Users/jessie/Dropbox/jessie/russula_illumina/Russula_BC/DBG_029739_R2.fastq\n",
      "\n",
      "cutadapt -g TCCTCCGCTTATTGATATGC -a CAAAGATTCGATGAYTCAC         -m 200 --info-file 1_remove_primers/f_r_separate/DBG_030462_reverse_reads_f_r_separate_cutadapt_info_file.txt -o 1_remove_primers/f_r_separate/DBG_029832_R2_f_r_separate_primers_trimmed.fastq /Users/jessie/Dropbox/jessie/russula_illumina/Russula_BC/DBG_029832_R2.fastq\n",
      "\n",
      "cutadapt -g TCCTCCGCTTATTGATATGC -a CAAAGATTCGATGAYTCAC         -m 200 --info-file 1_remove_primers/f_r_separate/DBG_030462_reverse_reads_f_r_separate_cutadapt_info_file.txt -o 1_remove_primers/f_r_separate/DBG_029847_R2_f_r_separate_primers_trimmed.fastq /Users/jessie/Dropbox/jessie/russula_illumina/Russula_BC/DBG_029847_R2.fastq\n",
      "\n",
      "cutadapt -g TCCTCCGCTTATTGATATGC -a CAAAGATTCGATGAYTCAC         -m 200 --info-file 1_remove_primers/f_r_separate/DBG_030462_reverse_reads_f_r_separate_cutadapt_info_file.txt -o 1_remove_primers/f_r_separate/DBG_029865_R2_f_r_separate_primers_trimmed.fastq /Users/jessie/Dropbox/jessie/russula_illumina/Russula_BC/DBG_029865_R2.fastq\n",
      "\n",
      "cutadapt -g TCCTCCGCTTATTGATATGC -a CAAAGATTCGATGAYTCAC         -m 200 --info-file 1_remove_primers/f_r_separate/DBG_030462_reverse_reads_f_r_separate_cutadapt_info_file.txt -o 1_remove_primers/f_r_separate/DBG_030181_R2_f_r_separate_primers_trimmed.fastq /Users/jessie/Dropbox/jessie/russula_illumina/Russula_BC/DBG_030181_R2.fastq\n",
      "\n",
      "cutadapt -g TCCTCCGCTTATTGATATGC -a CAAAGATTCGATGAYTCAC         -m 200 --info-file 1_remove_primers/f_r_separate/DBG_030462_reverse_reads_f_r_separate_cutadapt_info_file.txt -o 1_remove_primers/f_r_separate/DBG_030184_R2_f_r_separate_primers_trimmed.fastq /Users/jessie/Dropbox/jessie/russula_illumina/Russula_BC/DBG_030184_R2.fastq\n",
      "\n",
      "cutadapt -g TCCTCCGCTTATTGATATGC -a CAAAGATTCGATGAYTCAC         -m 200 --info-file 1_remove_primers/f_r_separate/DBG_030462_reverse_reads_f_r_separate_cutadapt_info_file.txt -o 1_remove_primers/f_r_separate/DBG_030200_R2_f_r_separate_primers_trimmed.fastq /Users/jessie/Dropbox/jessie/russula_illumina/Russula_BC/DBG_030200_R2.fastq\n",
      "\n",
      "cutadapt -g TCCTCCGCTTATTGATATGC -a CAAAGATTCGATGAYTCAC         -m 200 --info-file 1_remove_primers/f_r_separate/DBG_030462_reverse_reads_f_r_separate_cutadapt_info_file.txt -o 1_remove_primers/f_r_separate/DBG_030203_R2_f_r_separate_primers_trimmed.fastq /Users/jessie/Dropbox/jessie/russula_illumina/Russula_BC/DBG_030203_R2.fastq\n",
      "\n",
      "cutadapt -g TCCTCCGCTTATTGATATGC -a CAAAGATTCGATGAYTCAC         -m 200 --info-file 1_remove_primers/f_r_separate/DBG_030462_reverse_reads_f_r_separate_cutadapt_info_file.txt -o 1_remove_primers/f_r_separate/DBG_030205_R2_f_r_separate_primers_trimmed.fastq /Users/jessie/Dropbox/jessie/russula_illumina/Russula_BC/DBG_030205_R2.fastq\n",
      "\n",
      "cutadapt -g TCCTCCGCTTATTGATATGC -a CAAAGATTCGATGAYTCAC         -m 200 --info-file 1_remove_primers/f_r_separate/DBG_030462_reverse_reads_f_r_separate_cutadapt_info_file.txt -o 1_remove_primers/f_r_separate/DBG_030243_R2_f_r_separate_primers_trimmed.fastq /Users/jessie/Dropbox/jessie/russula_illumina/Russula_BC/DBG_030243_R2.fastq\n",
      "\n",
      "cutadapt -g TCCTCCGCTTATTGATATGC -a CAAAGATTCGATGAYTCAC         -m 200 --info-file 1_remove_primers/f_r_separate/DBG_030462_reverse_reads_f_r_separate_cutadapt_info_file.txt -o 1_remove_primers/f_r_separate/DBG_030258_R2_f_r_separate_primers_trimmed.fastq /Users/jessie/Dropbox/jessie/russula_illumina/Russula_BC/DBG_030258_R2.fastq\n",
      "\n",
      "cutadapt -g TCCTCCGCTTATTGATATGC -a CAAAGATTCGATGAYTCAC         -m 200 --info-file 1_remove_primers/f_r_separate/DBG_030462_reverse_reads_f_r_separate_cutadapt_info_file.txt -o 1_remove_primers/f_r_separate/DBG_030330_R2_f_r_separate_primers_trimmed.fastq /Users/jessie/Dropbox/jessie/russula_illumina/Russula_BC/DBG_030330_R2.fastq\n",
      "\n",
      "cutadapt -g TCCTCCGCTTATTGATATGC -a CAAAGATTCGATGAYTCAC         -m 200 --info-file 1_remove_primers/f_r_separate/DBG_030462_reverse_reads_f_r_separate_cutadapt_info_file.txt -o 1_remove_primers/f_r_separate/DBG_030353_R2_f_r_separate_primers_trimmed.fastq /Users/jessie/Dropbox/jessie/russula_illumina/Russula_BC/DBG_030353_R2.fastq\n",
      "\n",
      "cutadapt -g TCCTCCGCTTATTGATATGC -a CAAAGATTCGATGAYTCAC         -m 200 --info-file 1_remove_primers/f_r_separate/DBG_030462_reverse_reads_f_r_separate_cutadapt_info_file.txt -o 1_remove_primers/f_r_separate/DBG_030385_R2_f_r_separate_primers_trimmed.fastq /Users/jessie/Dropbox/jessie/russula_illumina/Russula_BC/DBG_030385_R2.fastq\n",
      "\n",
      "cutadapt -g TCCTCCGCTTATTGATATGC -a CAAAGATTCGATGAYTCAC         -m 200 --info-file 1_remove_primers/f_r_separate/DBG_030462_reverse_reads_f_r_separate_cutadapt_info_file.txt -o 1_remove_primers/f_r_separate/DBG_030434_R2_f_r_separate_primers_trimmed.fastq /Users/jessie/Dropbox/jessie/russula_illumina/Russula_BC/DBG_030434_R2.fastq\n",
      "\n",
      "cutadapt -g TCCTCCGCTTATTGATATGC -a CAAAGATTCGATGAYTCAC         -m 200 --info-file 1_remove_primers/f_r_separate/DBG_030462_reverse_reads_f_r_separate_cutadapt_info_file.txt -o 1_remove_primers/f_r_separate/DBG_030440_R2_f_r_separate_primers_trimmed.fastq /Users/jessie/Dropbox/jessie/russula_illumina/Russula_BC/DBG_030440_R2.fastq\n",
      "\n",
      "cutadapt -g TCCTCCGCTTATTGATATGC -a CAAAGATTCGATGAYTCAC         -m 200 --info-file 1_remove_primers/f_r_separate/DBG_030462_reverse_reads_f_r_separate_cutadapt_info_file.txt -o 1_remove_primers/f_r_separate/DBG_030462_R2_f_r_separate_primers_trimmed.fastq /Users/jessie/Dropbox/jessie/russula_illumina/Russula_BC/DBG_030462_R2.fastq\n",
      "\n"
     ]
    },
    {
     "name": "stderr",
     "output_type": "stream",
     "text": [
      "\n"
     ]
    }
   ],
   "source": [
    "#Run cutadapt separately on f and r reads to get more information about process\n",
    "\n",
    "#Save stdout to a file along the way - cutadapt prints lots of reporting information here\n",
    "with open(\"1_cutadapt_stdout_primer_removal_forward_reads_f_r_separate.txt\", \"w\") as stdouthandle:\n",
    "    \n",
    "    #Loop over pairs\n",
    "    for i in tqdm(range(len(forward_fastqs))):\n",
    "        \n",
    "        #Grab a specimen's pair of data files (they are ordered)\n",
    "        ffile = forward_fastqs[i]\n",
    "        \n",
    "        #Make up names for output files\n",
    "        fbasename = ffile.split(\"/\")[-1].split(\".\")[0]\n",
    "        foutfastq = \"1_remove_primers/f_r_separate/\"+fbasename+\"_f_r_separate_primers_trimmed.fastq\"        \n",
    "        info1 = foutfastq.split(\"_R\")[0]+\"_forward_reads_f_r_separate_cutadapt_info_file.txt\"\n",
    "\n",
    "        #Compose commands\n",
    "        #Converting primer sequences back to strings\n",
    "        cmd1 = f\"cutadapt -g {str(forward_primer)} -a {str(reverse_primer_complement)} \\\n",
    "                -m 200 --info-file {info1} -o {foutfastq} {ffile}\"\n",
    "\n",
    "        print(cmd1+\"\\n\")\n",
    "        \n",
    "        #Run command\n",
    "        #subprocess.call(cmd1, stdin=None, stdout=stdouthandle, stderr=subprocess.STDOUT, shell=True)        \n",
    "\n",
    "        \n",
    "#Save stdout to a file along the way - cutadapt prints lots of reporting information here\n",
    "with open(\"1_cutadapt_stdout_primer_removal_reverse_reads_f_r_separate.txt\", \"w\") as stdouthandle:\n",
    "    \n",
    "    #Loop over pairs\n",
    "    for i in tqdm(range(len(reverse_fastqs))):\n",
    "        \n",
    "        #Grab a specimen's pair of data files (they are ordered)\n",
    "        rfile = reverse_fastqs[i]\n",
    "        \n",
    "        #Make up names for output files\n",
    "        rbasename = rfile.split(\"/\")[-1].split(\".\")[0]\n",
    "        routfastq = \"1_remove_primers/f_r_separate/\"+rbasename+\"_f_r_separate_primers_trimmed.fastq\"\n",
    "        \n",
    "        info2 = foutfastq.split(\"_R\")[0]+\"_reverse_reads_f_r_separate_cutadapt_info_file.txt\"\n",
    "\n",
    "        #Compose command\n",
    "        #Converting primer sequences back to strings\n",
    "        cmd2 = f\"cutadapt -g {str(reverse_primer)} -a {str(forward_primer_complement)} \\\n",
    "        -m 200 --info-file {info2} -o {routfastq} {rfile}\"\n",
    "        \n",
    "        #Check command before running\n",
    "        print(cmd2+\"\\n\")\n",
    "\n",
    "        #Run command\n",
    "        #subprocess.call(cmd2, stdin=None, stdout=stdouthandle, stderr=subprocess.STDOUT, shell=True)        \n"
   ]
  },
  {
   "cell_type": "code",
   "execution_count": null,
   "metadata": {},
   "outputs": [],
   "source": []
  }
 ],
 "metadata": {
  "kernelspec": {
   "display_name": "Python 3",
   "language": "python",
   "name": "python3"
  },
  "language_info": {
   "codemirror_mode": {
    "name": "ipython",
    "version": 3
   },
   "file_extension": ".py",
   "mimetype": "text/x-python",
   "name": "python",
   "nbconvert_exporter": "python",
   "pygments_lexer": "ipython3",
   "version": "3.8.3"
  }
 },
 "nbformat": 4,
 "nbformat_minor": 2
}
